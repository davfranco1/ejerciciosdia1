





<!DOCTYPE html>
<html
  lang="en"
  
  data-color-mode="auto" data-light-theme="light" data-dark-theme="dark"
  data-a11y-animated-images="system" data-a11y-link-underlines="true"
  
  >



  <head>
    <meta charset="utf-8">
  <link rel="dns-prefetch" href="https://github.githubassets.com">
  <link rel="dns-prefetch" href="https://avatars.githubusercontent.com">
  <link rel="dns-prefetch" href="https://github-cloud.s3.amazonaws.com">
  <link rel="dns-prefetch" href="https://user-images.githubusercontent.com/">
  <link rel="preconnect" href="https://github.githubassets.com" crossorigin>
  <link rel="preconnect" href="https://avatars.githubusercontent.com">

  


  <link crossorigin="anonymous" media="all" rel="stylesheet" href="https://github.githubassets.com/assets/light-3e154969b9f9.css" /><link crossorigin="anonymous" media="all" rel="stylesheet" href="https://github.githubassets.com/assets/dark-9c5b7a476542.css" /><link data-color-theme="dark_dimmed" crossorigin="anonymous" media="all" rel="stylesheet" data-href="https://github.githubassets.com/assets/dark_dimmed-afda8eb0fb33.css" /><link data-color-theme="dark_high_contrast" crossorigin="anonymous" media="all" rel="stylesheet" data-href="https://github.githubassets.com/assets/dark_high_contrast-2494e44ccdc5.css" /><link data-color-theme="dark_colorblind" crossorigin="anonymous" media="all" rel="stylesheet" data-href="https://github.githubassets.com/assets/dark_colorblind-56fff47acadc.css" /><link data-color-theme="light_colorblind" crossorigin="anonymous" media="all" rel="stylesheet" data-href="https://github.githubassets.com/assets/light_colorblind-71cd4cc132ec.css" /><link data-color-theme="light_high_contrast" crossorigin="anonymous" media="all" rel="stylesheet" data-href="https://github.githubassets.com/assets/light_high_contrast-fd5499848985.css" /><link data-color-theme="light_tritanopia" crossorigin="anonymous" media="all" rel="stylesheet" data-href="https://github.githubassets.com/assets/light_tritanopia-31d17ba3e139.css" /><link data-color-theme="dark_tritanopia" crossorigin="anonymous" media="all" rel="stylesheet" data-href="https://github.githubassets.com/assets/dark_tritanopia-68d6b2c79663.css" />
    <link crossorigin="anonymous" media="all" rel="stylesheet" href="https://github.githubassets.com/assets/primer-primitives-4cf0d59ab51a.css" />
    <link crossorigin="anonymous" media="all" rel="stylesheet" href="https://github.githubassets.com/assets/primer-fefb1a332c28.css" />
    <link crossorigin="anonymous" media="all" rel="stylesheet" href="https://github.githubassets.com/assets/global-91591ed63505.css" />
    <link crossorigin="anonymous" media="all" rel="stylesheet" href="https://github.githubassets.com/assets/github-d1e3b63864f7.css" />
  <link crossorigin="anonymous" media="all" rel="stylesheet" href="https://github.githubassets.com/assets/repository-0f7cf89e325a.css" />
<link crossorigin="anonymous" media="all" rel="stylesheet" href="https://github.githubassets.com/assets/code-5fa42525dfce.css" />

  


  <script type="application/json" id="client-env">{"locale":"en","featureFlags":["code_vulnerability_scanning","copilot_floating_button","copilot_beta_features_opt_in","copilot_chat_conversation_intent_knowledge_search_skill","copilot_chat_static_thread_suggestions","copilot_conversational_ux_history_refs","copilot_copy_message","copilot_implicit_context","copilot_site_updates_sept17","copilot_site_updates_sept19","copilot_site_updates_sept23","copilot_smell_icebreaker_ux","enterprise_contact_job_title","experimentation_azure_variant_endpoint","failbot_handle_non_errors","geojson_azure_maps","ghost_pilot_confidence_truncation_25","ghost_pilot_confidence_truncation_40","ghost_pilot_div","ghost_pilot_stream_handling","ghost_pilot_undo_fix","hovercard_accessibility","hovercard_longer_activate_timeout","issues_advanced_search","marketing_pages_search_explore_provider","primer_react_css_modules_ga","remove_child_patch","repository_suggester_elastic_search","sample_network_conn_type","site_metered_billing_update","issues_react_first_time_contribution_banner","jk_navigation_in_list_view","ui_commands_respect_modals"],"login":"davfranco1"}</script>
<script crossorigin="anonymous" defer="defer" type="application/javascript" src="https://github.githubassets.com/assets/wp-runtime-6f0736b7abd4.js"></script>
<script crossorigin="anonymous" defer="defer" type="application/javascript" src="https://github.githubassets.com/assets/vendors-node_modules_dompurify_dist_purify_js-b73fdff77a4e.js"></script>
<script crossorigin="anonymous" defer="defer" type="application/javascript" src="https://github.githubassets.com/assets/vendors-node_modules_oddbird_popover-polyfill_dist_popover_js-56729c905fe2.js"></script>
<script crossorigin="anonymous" defer="defer" type="application/javascript" src="https://github.githubassets.com/assets/vendors-node_modules_github_arianotify-polyfill_ariaNotify-polyfill_js-node_modules_github_mi-247092-b9c7cf3107b7.js"></script>
<script crossorigin="anonymous" defer="defer" type="application/javascript" src="https://github.githubassets.com/assets/ui_packages_failbot_failbot_ts-aabfa4ec15fe.js"></script>
<script crossorigin="anonymous" defer="defer" type="application/javascript" src="https://github.githubassets.com/assets/environment-2f240f7ed1b3.js"></script>
<script crossorigin="anonymous" defer="defer" type="application/javascript" src="https://github.githubassets.com/assets/vendors-node_modules_primer_behaviors_dist_esm_index_mjs-4aa4b0e95669.js"></script>
<script crossorigin="anonymous" defer="defer" type="application/javascript" src="https://github.githubassets.com/assets/vendors-node_modules_github_selector-observer_dist_index_esm_js-f690fd9ae3d5.js"></script>
<script crossorigin="anonymous" defer="defer" type="application/javascript" src="https://github.githubassets.com/assets/vendors-node_modules_github_relative-time-element_dist_index_js-6d3967acd51c.js"></script>
<script crossorigin="anonymous" defer="defer" type="application/javascript" src="https://github.githubassets.com/assets/vendors-node_modules_github_auto-complete-element_dist_index_js-a164c5ea9f62.js"></script>
<script crossorigin="anonymous" defer="defer" type="application/javascript" src="https://github.githubassets.com/assets/vendors-node_modules_github_text-expander-element_dist_index_js-e40ed7658a74.js"></script>
<script crossorigin="anonymous" defer="defer" type="application/javascript" src="https://github.githubassets.com/assets/vendors-node_modules_github_filter-input-element_dist_index_js-node_modules_github_remote-inp-d1a841-8f251a0656e7.js"></script>
<script crossorigin="anonymous" defer="defer" type="application/javascript" src="https://github.githubassets.com/assets/vendors-node_modules_delegated-events_dist_index_js-node_modules_github_catalyst_lib_index_js-f4b251-f7c3b6081b19.js"></script>
<script crossorigin="anonymous" defer="defer" type="application/javascript" src="https://github.githubassets.com/assets/vendors-node_modules_github_mini-throttle_dist_index_js-node_modules_stacktrace-parser_dist_s-6b2a62-6fef0f2ad42a.js"></script>
<script crossorigin="anonymous" defer="defer" type="application/javascript" src="https://github.githubassets.com/assets/vendors-node_modules_github_file-attachment-element_dist_index_js-node_modules_primer_view-co-eb9d54-74622d897749.js"></script>
<script crossorigin="anonymous" defer="defer" type="application/javascript" src="https://github.githubassets.com/assets/github-elements-36d7dcef5a08.js"></script>
<script crossorigin="anonymous" defer="defer" type="application/javascript" src="https://github.githubassets.com/assets/element-registry-f52a50a0449b.js"></script>
<script crossorigin="anonymous" defer="defer" type="application/javascript" src="https://github.githubassets.com/assets/vendors-node_modules_github_catalyst_lib_index_js-node_modules_primer_live-region-element_dis-428401-bb66ac5d7472.js"></script>
<script crossorigin="anonymous" defer="defer" type="application/javascript" src="https://github.githubassets.com/assets/vendors-node_modules_braintree_browser-detection_dist_browser-detection_js-node_modules_githu-bb80ec-634de60bacfa.js"></script>
<script crossorigin="anonymous" defer="defer" type="application/javascript" src="https://github.githubassets.com/assets/vendors-node_modules_lit-html_lit-html_js-ce7225a304c5.js"></script>
<script crossorigin="anonymous" defer="defer" type="application/javascript" src="https://github.githubassets.com/assets/vendors-node_modules_github_hydro-analytics-client_dist_analytics-client_js-node_modules_gith-f3aee1-e6893db9c19e.js"></script>
<script crossorigin="anonymous" defer="defer" type="application/javascript" src="https://github.githubassets.com/assets/vendors-node_modules_github_mini-throttle_dist_index_js-node_modules_morphdom_dist_morphdom-e-7c534c-f8a5485c982a.js"></script>
<script crossorigin="anonymous" defer="defer" type="application/javascript" src="https://github.githubassets.com/assets/vendors-node_modules_github_turbo_dist_turbo_es2017-esm_js-858e043fcf76.js"></script>
<script crossorigin="anonymous" defer="defer" type="application/javascript" src="https://github.githubassets.com/assets/vendors-node_modules_github_remote-form_dist_index_js-node_modules_delegated-events_dist_inde-893f9f-6cf3320416b8.js"></script>
<script crossorigin="anonymous" defer="defer" type="application/javascript" src="https://github.githubassets.com/assets/vendors-node_modules_scroll-anchoring_dist_scroll-anchoring_esm_js-node_modules_stacktrace-pa-a71630-67856ad29bae.js"></script>
<script crossorigin="anonymous" defer="defer" type="application/javascript" src="https://github.githubassets.com/assets/vendors-node_modules_color-convert_index_js-0e07cc183eed.js"></script>
<script crossorigin="anonymous" defer="defer" type="application/javascript" src="https://github.githubassets.com/assets/vendors-node_modules_github_quote-selection_dist_index_js-node_modules_github_session-resume_-9a8cd2-373766bf71f1.js"></script>
<script crossorigin="anonymous" defer="defer" type="application/javascript" src="https://github.githubassets.com/assets/ui_packages_updatable-content_updatable-content_ts-3f4401350bd7.js"></script>
<script crossorigin="anonymous" defer="defer" type="application/javascript" src="https://github.githubassets.com/assets/app_assets_modules_github_behaviors_task-list_ts-app_assets_modules_github_sso_ts-ui_packages-900dde-ab87c1d6c5c8.js"></script>
<script crossorigin="anonymous" defer="defer" type="application/javascript" src="https://github.githubassets.com/assets/app_assets_modules_github_sticky-scroll-into-view_ts-112600808cf9.js"></script>
<script crossorigin="anonymous" defer="defer" type="application/javascript" src="https://github.githubassets.com/assets/app_assets_modules_github_behaviors_ajax-error_ts-app_assets_modules_github_behaviors_include-d0d0a6-6faacedf87fe.js"></script>
<script crossorigin="anonymous" defer="defer" type="application/javascript" src="https://github.githubassets.com/assets/app_assets_modules_github_behaviors_commenting_edit_ts-app_assets_modules_github_behaviors_ht-83c235-aeae6fcdf371.js"></script>
<script crossorigin="anonymous" defer="defer" type="application/javascript" src="https://github.githubassets.com/assets/behaviors-aeaa9d751b57.js"></script>
<script crossorigin="anonymous" defer="defer" type="application/javascript" src="https://github.githubassets.com/assets/vendors-node_modules_delegated-events_dist_index_js-node_modules_github_catalyst_lib_index_js-06ff531-bf7e5a3732fd.js"></script>
<script crossorigin="anonymous" defer="defer" type="application/javascript" src="https://github.githubassets.com/assets/notifications-global-54f34167118d.js"></script>
<script crossorigin="anonymous" defer="defer" type="application/javascript" src="https://github.githubassets.com/assets/vendors-node_modules_github_mini-throttle_dist_index_js-node_modules_github_catalyst_lib_inde-dbbea9-e73b311a14f1.js"></script>
<script crossorigin="anonymous" defer="defer" type="application/javascript" src="https://github.githubassets.com/assets/code-menu-ab2b8d126a2a.js"></script>
  
  <script crossorigin="anonymous" defer="defer" type="application/javascript" src="https://github.githubassets.com/assets/react-lib-7b7b5264f6c1.js"></script>
<script crossorigin="anonymous" defer="defer" type="application/javascript" src="https://github.githubassets.com/assets/vendors-node_modules_github_mini-throttle_dist_index_js-node_modules_primer_react_lib-esm_Fea-39267a-9ffd541aafbc.js"></script>
<script crossorigin="anonymous" defer="defer" type="application/javascript" src="https://github.githubassets.com/assets/vendors-node_modules_primer_react_lib-esm_Button_Button_js-f36ad879d477.js"></script>
<script crossorigin="anonymous" defer="defer" type="application/javascript" src="https://github.githubassets.com/assets/vendors-node_modules_primer_react_lib-esm_TooltipV2_Tooltip_js-e39b44f27fbb.js"></script>
<script crossorigin="anonymous" defer="defer" type="application/javascript" src="https://github.githubassets.com/assets/vendors-node_modules_primer_react_lib-esm_ActionList_index_js-540a2acf621f.js"></script>
<script crossorigin="anonymous" defer="defer" type="application/javascript" src="https://github.githubassets.com/assets/vendors-node_modules_primer_react_lib-esm_AnchoredOverlay_AnchoredOverlay_js-86d89e63ab43.js"></script>
<script crossorigin="anonymous" defer="defer" type="application/javascript" src="https://github.githubassets.com/assets/vendors-node_modules_primer_react_lib-esm_Text_Text_js-node_modules_primer_react_lib-esm_Text-7845da-fcd32c85221a.js"></script>
<script crossorigin="anonymous" defer="defer" type="application/javascript" src="https://github.githubassets.com/assets/vendors-node_modules_primer_react_lib-esm_FormControl_FormControl_js-88cc5f03ee87.js"></script>
<script crossorigin="anonymous" defer="defer" type="application/javascript" src="https://github.githubassets.com/assets/vendors-node_modules_primer_react_lib-esm_ActionMenu_ActionMenu_js-1feceec002ca.js"></script>
<script crossorigin="anonymous" defer="defer" type="application/javascript" src="https://github.githubassets.com/assets/vendors-node_modules_react-router-dom_dist_index_js-c5568c29d405.js"></script>
<script crossorigin="anonymous" defer="defer" type="application/javascript" src="https://github.githubassets.com/assets/vendors-node_modules_primer_react_lib-esm_ConfirmationDialog_ConfirmationDialog_js-node_modul-c2760e-f5f937d74bc9.js"></script>
<script crossorigin="anonymous" defer="defer" type="application/javascript" src="https://github.githubassets.com/assets/vendors-node_modules_primer_react_lib-esm_Link_Link_js-node_modules_primer_react_lib-esm_Page-7c6288-77cbb6f24761.js"></script>
<script crossorigin="anonymous" defer="defer" type="application/javascript" src="https://github.githubassets.com/assets/vendors-node_modules_primer_react_lib-esm_Dialog_js-node_modules_github_hydro-analytics-clien-531545-69a0fdde1ced.js"></script>
<script crossorigin="anonymous" defer="defer" type="application/javascript" src="https://github.githubassets.com/assets/vendors-node_modules_primer_react_lib-esm_Avatar_Avatar_js-node_modules_primer_react_lib-esm_-5bfa75-bd50250e3a88.js"></script>
<script crossorigin="anonymous" defer="defer" type="application/javascript" src="https://github.githubassets.com/assets/vendors-node_modules_primer_react_lib-esm_AvatarStack_AvatarStack_js-node_modules_primer_reac-59e6b6-3a870f31da42.js"></script>
<script crossorigin="anonymous" defer="defer" type="application/javascript" src="https://github.githubassets.com/assets/ui_packages_react-core_create-browser-history_ts-ui_packages_react-core_AppContextProvider_ts-ffb979-ed6ff1fbeca4.js"></script>
<script crossorigin="anonymous" defer="defer" type="application/javascript" src="https://github.githubassets.com/assets/ui_packages_react-core_register-app_ts-ui_packages_react-core_JsonRoute_tsx-8206c4ec69d2.js"></script>
<script crossorigin="anonymous" defer="defer" type="application/javascript" src="https://github.githubassets.com/assets/ui_packages_paths_index_ts-c321fe85576e.js"></script>
<script crossorigin="anonymous" defer="defer" type="application/javascript" src="https://github.githubassets.com/assets/ui_packages_ref-selector_RefSelector_tsx-69cea3cdae62.js"></script>
<script crossorigin="anonymous" defer="defer" type="application/javascript" src="https://github.githubassets.com/assets/ui_packages_commit-attribution_index_ts-ui_packages_commit-checks-status_index_ts-ui_packages-8621a7-c8b4ba7bc5d1.js"></script>
<script crossorigin="anonymous" defer="defer" type="application/javascript" src="https://github.githubassets.com/assets/ui_packages_code-view-shared_hooks_shortcuts_ts-ui_packages_code-view-shared_utilities_web-wo-ad5f08-7abda6218ec0.js"></script>
<script crossorigin="anonymous" defer="defer" type="application/javascript" src="https://github.githubassets.com/assets/ui_packages_copy-to-clipboard_index_ts-ui_packages_react-core_use-feature-flag_ts-ui_packages-9fa6b6-c0a0d43dd3f7.js"></script>
<script crossorigin="anonymous" defer="defer" type="application/javascript" src="https://github.githubassets.com/assets/ui_packages_code-view-shared_hooks_use-canonical-object_ts-ui_packages_code-view-shared_hooks-401957-b399f2761266.js"></script>
<script crossorigin="anonymous" defer="defer" type="application/javascript" src="https://github.githubassets.com/assets/ui_packages_repos-file-tree-view_repos-file-tree-view_ts-ui_packages_feature-request_FeatureR-648c3b-3c97f3fd2f80.js"></script>
<script crossorigin="anonymous" defer="defer" type="application/javascript" src="https://github.githubassets.com/assets/react-code-view-c09acb358095.js"></script>
<link crossorigin="anonymous" media="all" rel="stylesheet" href="https://github.githubassets.com/assets/primer-react-css.8879c83c1311e6328466.module.css" />
<link crossorigin="anonymous" media="all" rel="stylesheet" href="https://github.githubassets.com/assets/react-code-view.cbc84db7f6a2b0bd0a66.module.css" />


  <title>Ejercicios_Dia1_Hackio/numero_falta.ipynb at master · joseluisalmendral/Ejercicios_Dia1_Hackio</title>



  <meta name="route-pattern" content="/:user_id/:repository/blob/*name(/*path)" data-turbo-transient>
  <meta name="route-controller" content="blob" data-turbo-transient>
  <meta name="route-action" content="show" data-turbo-transient>

    
  <meta name="current-catalog-service-hash" content="f3abb0cc802f3d7b95fc8762b94bdcb13bf39634c40c357301c4aa1d67a256fb">


  <meta name="request-id" content="4006:270E67:36A4B88:377B47B:66FC6957" data-turbo-transient="true" /><meta name="html-safe-nonce" content="a9ba0a3afab6fac08b316066b4b2b3ecebf44819b4f6f51b08bc0bd24a72107c" data-turbo-transient="true" /><meta name="visitor-payload" content="eyJyZWZlcnJlciI6bnVsbCwicmVxdWVzdF9pZCI6IjQwMDY6MjcwRTY3OjM2QTRCODg6Mzc3QjQ3Qjo2NkZDNjk1NyIsInZpc2l0b3JfaWQiOiI3NzY2NTA5MjY2MjM2MzkxMjM3IiwicmVnaW9uX2VkZ2UiOiJmcmEiLCJyZWdpb25fcmVuZGVyIjoiaWFkIn0=" data-turbo-transient="true" /><meta name="visitor-hmac" content="35ce040ad3b11aafbd82eac203e99a1f2b2df1f68c10fb990da54c685d14f93a" data-turbo-transient="true" />


    <meta name="hovercard-subject-tag" content="repository:865958249" data-turbo-transient>


  <meta name="github-keyboard-shortcuts" content="repository,source-code,file-tree,copilot" data-turbo-transient="true" />
  

  <meta name="selected-link" value="repo_source" data-turbo-transient>
  <link rel="assets" href="https://github.githubassets.com/">

    <meta name="google-site-verification" content="Apib7-x98H0j5cPqHWwSMm6dNU4GmODRoqxLiDzdx9I">

<meta name="octolytics-url" content="https://collector.github.com/github/collect" /><meta name="octolytics-actor-id" content="178837921" /><meta name="octolytics-actor-login" content="davfranco1" /><meta name="octolytics-actor-hash" content="3460b01da594456614b4987207dc97559fb662f53c7ef0c811b86cf47690ad76" />

  <meta name="analytics-location" content="/&lt;user-name&gt;/&lt;repo-name&gt;/blob/show" data-turbo-transient="true" />

  




    <meta name="user-login" content="davfranco1">

  <link rel="sudo-modal" href="/sessions/sudo_modal">

    <meta name="viewport" content="width=device-width">

    

      <meta name="description" content="Contribute to joseluisalmendral/Ejercicios_Dia1_Hackio development by creating an account on GitHub.">

      <link rel="search" type="application/opensearchdescription+xml" href="/opensearch.xml" title="GitHub">

    <link rel="fluid-icon" href="https://github.com/fluidicon.png" title="GitHub">
    <meta property="fb:app_id" content="1401488693436528">
    <meta name="apple-itunes-app" content="app-id=1477376905, app-argument=https://github.com/joseluisalmendral/Ejercicios_Dia1_Hackio/blob/master/numero_falta.ipynb" />

      <meta name="twitter:image" content="https://opengraph.githubassets.com/4e2f2ff1d19b6f307c6d6766080745a097ac7c0dc4165449b0f246d07780e46a/joseluisalmendral/Ejercicios_Dia1_Hackio" /><meta name="twitter:site" content="@github" /><meta name="twitter:card" content="summary_large_image" /><meta name="twitter:title" content="Ejercicios_Dia1_Hackio/numero_falta.ipynb at master · joseluisalmendral/Ejercicios_Dia1_Hackio" /><meta name="twitter:description" content="Contribute to joseluisalmendral/Ejercicios_Dia1_Hackio development by creating an account on GitHub." />
  <meta property="og:image" content="https://opengraph.githubassets.com/4e2f2ff1d19b6f307c6d6766080745a097ac7c0dc4165449b0f246d07780e46a/joseluisalmendral/Ejercicios_Dia1_Hackio" /><meta property="og:image:alt" content="Contribute to joseluisalmendral/Ejercicios_Dia1_Hackio development by creating an account on GitHub." /><meta property="og:image:width" content="1200" /><meta property="og:image:height" content="600" /><meta property="og:site_name" content="GitHub" /><meta property="og:type" content="object" /><meta property="og:title" content="Ejercicios_Dia1_Hackio/numero_falta.ipynb at master · joseluisalmendral/Ejercicios_Dia1_Hackio" /><meta property="og:url" content="https://github.com/joseluisalmendral/Ejercicios_Dia1_Hackio/blob/master/numero_falta.ipynb" /><meta property="og:description" content="Contribute to joseluisalmendral/Ejercicios_Dia1_Hackio development by creating an account on GitHub." />
  


      <link rel="shared-web-socket" href="wss://alive.github.com/_sockets/u/178837921/ws?session=eyJ2IjoiVjMiLCJ1IjoxNzg4Mzc5MjEsInMiOjE0NTMwODI5MDcsImMiOjQyNzk4Njc1MTMsInQiOjE3Mjc4MTgwNzN9--3f437b7e074ba1c658e7ce9459f8cc6afe359c2cd93a22a98452c24cda0f2321" data-refresh-url="/_alive" data-session-id="4ff3391fa3bc6c5ef7f1a501e43d0a30aeecb9dd91846bf1cb0ac6e5492da70a">
      <link rel="shared-web-socket-src" href="/assets-cdn/worker/socket-worker-1a9b1a7a6108.js">


      <meta name="hostname" content="github.com">


      <meta name="keyboard-shortcuts-preference" content="all">
      <meta name="hovercards-preference" content="true">

        <meta name="expected-hostname" content="github.com">


  <meta http-equiv="x-pjax-version" content="8e18361afc5ffae12392e300c7afdf58eae5a7152fbc5be7c1fd5482f0c31e63" data-turbo-track="reload">
  <meta http-equiv="x-pjax-csp-version" content="0dce51c2e7a33ec0a6fef31a50be00012f72c84aa83f30714a38ae191c3597fd" data-turbo-track="reload">
  <meta http-equiv="x-pjax-css-version" content="f331582217b58aae9500e761176f44b855e8a1d242daa5119ea0f70ddd53bc3c" data-turbo-track="reload">
  <meta http-equiv="x-pjax-js-version" content="248141d8e836925c98286d553db05a6535b66899f2913821cf7cc408f2c63bae" data-turbo-track="reload">

    <meta name="turbo-cache-control" content="no-preview" data-turbo-transient="">

      <meta name="turbo-cache-control" content="no-cache" data-turbo-transient>
    <meta data-hydrostats="publish">
  <meta name="go-import" content="github.com/joseluisalmendral/Ejercicios_Dia1_Hackio git https://github.com/joseluisalmendral/Ejercicios_Dia1_Hackio.git">

  <meta name="octolytics-dimension-user_id" content="174346796" /><meta name="octolytics-dimension-user_login" content="joseluisalmendral" /><meta name="octolytics-dimension-repository_id" content="865958249" /><meta name="octolytics-dimension-repository_nwo" content="joseluisalmendral/Ejercicios_Dia1_Hackio" /><meta name="octolytics-dimension-repository_public" content="true" /><meta name="octolytics-dimension-repository_is_fork" content="false" /><meta name="octolytics-dimension-repository_network_root_id" content="865958249" /><meta name="octolytics-dimension-repository_network_root_nwo" content="joseluisalmendral/Ejercicios_Dia1_Hackio" />



    

    <meta name="turbo-body-classes" content="logged-in env-production page-responsive">


  <meta name="browser-stats-url" content="https://api.github.com/_private/browser/stats">

  <meta name="browser-errors-url" content="https://api.github.com/_private/browser/errors">

  <link rel="mask-icon" href="https://github.githubassets.com/assets/pinned-octocat-093da3e6fa40.svg" color="#000000">
  <link rel="alternate icon" class="js-site-favicon" type="image/png" href="https://github.githubassets.com/favicons/favicon.png">
  <link rel="icon" class="js-site-favicon" type="image/svg+xml" href="https://github.githubassets.com/favicons/favicon.svg">

<meta name="theme-color" content="#1e2327">
<meta name="color-scheme" content="light dark" />

  <link rel="apple-touch-icon" href="https://github.githubassets.com/assets/apple-touch-icon-92bd46d04241.png">
  <link rel="apple-touch-icon" sizes="180x180" href="https://github.githubassets.com/assets/apple-touch-icon-180x180-a80b8e11abe2.png">
  <meta name="apple-mobile-web-app-title" content="GitHub">

  <link rel="manifest" href="/manifest.json" crossOrigin="use-credentials">

  </head>

  <body class="logged-in env-production page-responsive" style="word-wrap: break-word;">
    <div data-turbo-body class="logged-in env-production page-responsive" style="word-wrap: break-word;">
      


    <div class="position-relative js-header-wrapper ">
      <a href="#start-of-content" data-skip-target-assigned="false" class="p-3 color-bg-accent-emphasis color-fg-on-emphasis show-on-focus js-skip-to-content">Skip to content</a>

      <span data-view-component="true" class="progress-pjax-loader Progress position-fixed width-full">
    <span style="width: 0%;" data-view-component="true" class="Progress-item progress-pjax-loader-bar left-0 top-0 color-bg-accent-emphasis"></span>
</span>      
      
      <script crossorigin="anonymous" defer="defer" type="application/javascript" src="https://github.githubassets.com/assets/vendors-node_modules_primer_react_lib-esm_KeybindingHint_KeybindingHint_js-node_modules_githu-3fe5e5-779b0a7957e4.js"></script>
<script crossorigin="anonymous" defer="defer" type="application/javascript" src="https://github.githubassets.com/assets/vendors-node_modules_primer_react_lib-esm_Dialog_Dialog_js-node_modules_primer_react_lib-esm_-34d71e-a36ca1cac968.js"></script>
<script crossorigin="anonymous" defer="defer" type="application/javascript" src="https://github.githubassets.com/assets/keyboard-shortcuts-dialog-77e6709afe35.js"></script>

<react-partial
  partial-name="keyboard-shortcuts-dialog"
  data-ssr="false"
  datta-attempted-ssr="false"
>
  
  <script type="application/json" data-target="react-partial.embeddedData">{"props":{"docsUrl":"https://docs.github.com/get-started/accessibility/keyboard-shortcuts"}}</script>
  <div data-target="react-partial.reactRoot"></div>
</react-partial>




      

          

                <header class="AppHeader" role="banner">
  <h2 class="sr-only">Navigation Menu</h2>

    

    <div class="AppHeader-globalBar pb-2 js-global-bar">
      <div class="AppHeader-globalBar-start">
          <deferred-side-panel data-url="/_side-panels/global">
  <include-fragment data-target="deferred-side-panel.fragment">
      <button aria-label="Open global navigation menu" data-action="click:deferred-side-panel#loadPanel click:deferred-side-panel#panelOpened" data-show-dialog-id="dialog-54e809e6-467f-470b-a194-a4d5ad6aebff" id="dialog-show-dialog-54e809e6-467f-470b-a194-a4d5ad6aebff" type="button" data-view-component="true" class="Button Button--iconOnly Button--secondary Button--medium AppHeader-button color-bg-transparent p-0 color-fg-muted">  <svg aria-hidden="true" height="16" viewBox="0 0 16 16" version="1.1" width="16" data-view-component="true" class="octicon octicon-three-bars Button-visual">
    <path d="M1 2.75A.75.75 0 0 1 1.75 2h12.5a.75.75 0 0 1 0 1.5H1.75A.75.75 0 0 1 1 2.75Zm0 5A.75.75 0 0 1 1.75 7h12.5a.75.75 0 0 1 0 1.5H1.75A.75.75 0 0 1 1 7.75ZM1.75 12h12.5a.75.75 0 0 1 0 1.5H1.75a.75.75 0 0 1 0-1.5Z"></path>
</svg>
</button>

<dialog-helper>
  <dialog data-target="deferred-side-panel.panel" id="dialog-54e809e6-467f-470b-a194-a4d5ad6aebff" aria-modal="true" aria-labelledby="dialog-54e809e6-467f-470b-a194-a4d5ad6aebff-title" aria-describedby="dialog-54e809e6-467f-470b-a194-a4d5ad6aebff-description" data-view-component="true" class="Overlay Overlay-whenNarrow Overlay--size-small-portrait Overlay--motion-scaleFade Overlay--placement-left SidePanel">
    <div styles="flex-direction: row;" data-view-component="true" class="Overlay-header">
  <div class="Overlay-headerContentWrap">
    <div class="Overlay-titleWrap">
      <h1 class="Overlay-title sr-only" id="dialog-54e809e6-467f-470b-a194-a4d5ad6aebff-title">
        Global navigation
      </h1>
            <div data-view-component="true" class="d-flex">
      <div data-view-component="true" class="AppHeader-logo position-relative">
        <svg aria-hidden="true" height="24" viewBox="0 0 24 24" version="1.1" width="24" data-view-component="true" class="octicon octicon-mark-github">
    <path d="M12.5.75C6.146.75 1 5.896 1 12.25c0 5.089 3.292 9.387 7.863 10.91.575.101.79-.244.79-.546 0-.273-.014-1.178-.014-2.142-2.889.532-3.636-.704-3.866-1.35-.13-.331-.69-1.352-1.18-1.625-.402-.216-.977-.748-.014-.762.906-.014 1.553.834 1.769 1.179 1.035 1.74 2.688 1.25 3.349.948.1-.747.402-1.25.733-1.538-2.559-.287-5.232-1.279-5.232-5.678 0-1.25.445-2.285 1.178-3.09-.115-.288-.517-1.467.115-3.048 0 0 .963-.302 3.163 1.179.92-.259 1.897-.388 2.875-.388.977 0 1.955.13 2.875.388 2.2-1.495 3.162-1.179 3.162-1.179.633 1.581.23 2.76.115 3.048.733.805 1.179 1.825 1.179 3.09 0 4.413-2.688 5.39-5.247 5.678.417.36.776 1.05.776 2.128 0 1.538-.014 2.774-.014 3.162 0 .302.216.662.79.547C20.709 21.637 24 17.324 24 12.25 24 5.896 18.854.75 12.5.75Z"></path>
</svg>
</div></div>
    </div>
    <div class="Overlay-actionWrap">
      <button data-close-dialog-id="dialog-54e809e6-467f-470b-a194-a4d5ad6aebff" aria-label="Close" type="button" data-view-component="true" class="close-button Overlay-closeButton"><svg aria-hidden="true" height="16" viewBox="0 0 16 16" version="1.1" width="16" data-view-component="true" class="octicon octicon-x">
    <path d="M3.72 3.72a.75.75 0 0 1 1.06 0L8 6.94l3.22-3.22a.749.749 0 0 1 1.275.326.749.749 0 0 1-.215.734L9.06 8l3.22 3.22a.749.749 0 0 1-.326 1.275.749.749 0 0 1-.734-.215L8 9.06l-3.22 3.22a.751.751 0 0 1-1.042-.018.751.751 0 0 1-.018-1.042L6.94 8 3.72 4.78a.75.75 0 0 1 0-1.06Z"></path>
</svg></button>
    </div>
  </div>
  
</div>
      <scrollable-region data-labelled-by="dialog-54e809e6-467f-470b-a194-a4d5ad6aebff-title">
        <div data-view-component="true" class="Overlay-body d-flex flex-column px-2">    <div data-view-component="true" class="d-flex flex-column mb-3">
        <nav aria-label="Site navigation" data-view-component="true" class="ActionList">
  
  <nav-list>
    <ul data-target="nav-list.topLevelList" data-view-component="true" class="ActionListWrap">
        
          
<li data-item-id="" data-targets="nav-list.items" data-view-component="true" class="ActionListItem">
    
    
    <a data-hotkey="g d" data-analytics-event="{&quot;category&quot;:&quot;Global navigation&quot;,&quot;action&quot;:&quot;HOME&quot;,&quot;label&quot;:null}" id="item-7c07ead0-0d8e-42e4-8ba7-0a8ac79c3e31" href="/dashboard" data-view-component="true" class="ActionListContent ActionListContent--visual16">
        <span class="ActionListItem-visual ActionListItem-visual--leading">
          <svg aria-hidden="true" height="16" viewBox="0 0 16 16" version="1.1" width="16" data-view-component="true" class="octicon octicon-home">
    <path d="M6.906.664a1.749 1.749 0 0 1 2.187 0l5.25 4.2c.415.332.657.835.657 1.367v7.019A1.75 1.75 0 0 1 13.25 15h-3.5a.75.75 0 0 1-.75-.75V9H7v5.25a.75.75 0 0 1-.75.75h-3.5A1.75 1.75 0 0 1 1 13.25V6.23c0-.531.242-1.034.657-1.366l5.25-4.2Zm1.25 1.171a.25.25 0 0 0-.312 0l-5.25 4.2a.25.25 0 0 0-.094.196v7.019c0 .138.112.25.25.25H5.5V8.25a.75.75 0 0 1 .75-.75h3.5a.75.75 0 0 1 .75.75v5.25h2.75a.25.25 0 0 0 .25-.25V6.23a.25.25 0 0 0-.094-.195Z"></path>
</svg>
        </span>
      
        <span data-view-component="true" class="ActionListItem-label">
          Home
</span>      
</a>
  
</li>

        
          
<li data-item-id="" data-targets="nav-list.items" data-view-component="true" class="ActionListItem">
    
    
    <a data-hotkey="g i" data-analytics-event="{&quot;category&quot;:&quot;Global navigation&quot;,&quot;action&quot;:&quot;ISSUES&quot;,&quot;label&quot;:null}" id="item-38d9a9ac-ac5b-41e7-aaa2-21ab5c8d6f38" href="/issues" data-view-component="true" class="ActionListContent ActionListContent--visual16">
        <span class="ActionListItem-visual ActionListItem-visual--leading">
          <svg aria-hidden="true" height="16" viewBox="0 0 16 16" version="1.1" width="16" data-view-component="true" class="octicon octicon-issue-opened">
    <path d="M8 9.5a1.5 1.5 0 1 0 0-3 1.5 1.5 0 0 0 0 3Z"></path><path d="M8 0a8 8 0 1 1 0 16A8 8 0 0 1 8 0ZM1.5 8a6.5 6.5 0 1 0 13 0 6.5 6.5 0 0 0-13 0Z"></path>
</svg>
        </span>
      
        <span data-view-component="true" class="ActionListItem-label">
          Issues
</span>      
</a>
  
</li>

        
          
<li data-item-id="" data-targets="nav-list.items" data-view-component="true" class="ActionListItem">
    
    
    <a data-hotkey="g p" data-analytics-event="{&quot;category&quot;:&quot;Global navigation&quot;,&quot;action&quot;:&quot;PULL_REQUESTS&quot;,&quot;label&quot;:null}" id="item-0e864d41-9f18-40e6-80c6-c0a91109f7e2" href="/pulls" data-view-component="true" class="ActionListContent ActionListContent--visual16">
        <span class="ActionListItem-visual ActionListItem-visual--leading">
          <svg aria-hidden="true" height="16" viewBox="0 0 16 16" version="1.1" width="16" data-view-component="true" class="octicon octicon-git-pull-request">
    <path d="M1.5 3.25a2.25 2.25 0 1 1 3 2.122v5.256a2.251 2.251 0 1 1-1.5 0V5.372A2.25 2.25 0 0 1 1.5 3.25Zm5.677-.177L9.573.677A.25.25 0 0 1 10 .854V2.5h1A2.5 2.5 0 0 1 13.5 5v5.628a2.251 2.251 0 1 1-1.5 0V5a1 1 0 0 0-1-1h-1v1.646a.25.25 0 0 1-.427.177L7.177 3.427a.25.25 0 0 1 0-.354ZM3.75 2.5a.75.75 0 1 0 0 1.5.75.75 0 0 0 0-1.5Zm0 9.5a.75.75 0 1 0 0 1.5.75.75 0 0 0 0-1.5Zm8.25.75a.75.75 0 1 0 1.5 0 .75.75 0 0 0-1.5 0Z"></path>
</svg>
        </span>
      
        <span data-view-component="true" class="ActionListItem-label">
          Pull requests
</span>      
</a>
  
</li>

        
          
<li data-item-id="" data-targets="nav-list.items" data-item-id="projects" data-view-component="true" class="ActionListItem">
    
    
    <a data-analytics-event="{&quot;category&quot;:&quot;Global navigation&quot;,&quot;action&quot;:&quot;PROJECTS&quot;,&quot;label&quot;:null}" id="item-254749e3-7349-4772-b859-0e8731266a81" href="/projects" data-view-component="true" class="ActionListContent ActionListContent--visual16">
        <span class="ActionListItem-visual ActionListItem-visual--leading">
          <svg aria-hidden="true" height="16" viewBox="0 0 16 16" version="1.1" width="16" data-view-component="true" class="octicon octicon-table">
    <path d="M0 1.75C0 .784.784 0 1.75 0h12.5C15.216 0 16 .784 16 1.75v12.5A1.75 1.75 0 0 1 14.25 16H1.75A1.75 1.75 0 0 1 0 14.25ZM6.5 6.5v8h7.75a.25.25 0 0 0 .25-.25V6.5Zm8-1.5V1.75a.25.25 0 0 0-.25-.25H6.5V5Zm-13 1.5v7.75c0 .138.112.25.25.25H5v-8ZM5 5V1.5H1.75a.25.25 0 0 0-.25.25V5Z"></path>
</svg>
        </span>
      
        <span data-view-component="true" class="ActionListItem-label">
          Projects
</span>      
</a>
  
</li>

        
          
<li data-item-id="" data-targets="nav-list.items" data-view-component="true" class="ActionListItem">
    
    
    <a data-analytics-event="{&quot;category&quot;:&quot;Global navigation&quot;,&quot;action&quot;:&quot;DISCUSSIONS&quot;,&quot;label&quot;:null}" id="item-2c27654f-4b41-4c13-b62c-e2fe0176d0c2" href="/discussions" data-view-component="true" class="ActionListContent ActionListContent--visual16">
        <span class="ActionListItem-visual ActionListItem-visual--leading">
          <svg aria-hidden="true" height="16" viewBox="0 0 16 16" version="1.1" width="16" data-view-component="true" class="octicon octicon-comment-discussion">
    <path d="M1.75 1h8.5c.966 0 1.75.784 1.75 1.75v5.5A1.75 1.75 0 0 1 10.25 10H7.061l-2.574 2.573A1.458 1.458 0 0 1 2 11.543V10h-.25A1.75 1.75 0 0 1 0 8.25v-5.5C0 1.784.784 1 1.75 1ZM1.5 2.75v5.5c0 .138.112.25.25.25h1a.75.75 0 0 1 .75.75v2.19l2.72-2.72a.749.749 0 0 1 .53-.22h3.5a.25.25 0 0 0 .25-.25v-5.5a.25.25 0 0 0-.25-.25h-8.5a.25.25 0 0 0-.25.25Zm13 2a.25.25 0 0 0-.25-.25h-.5a.75.75 0 0 1 0-1.5h.5c.966 0 1.75.784 1.75 1.75v5.5A1.75 1.75 0 0 1 14.25 12H14v1.543a1.458 1.458 0 0 1-2.487 1.03L9.22 12.28a.749.749 0 0 1 .326-1.275.749.749 0 0 1 .734.215l2.22 2.22v-2.19a.75.75 0 0 1 .75-.75h1a.25.25 0 0 0 .25-.25Z"></path>
</svg>
        </span>
      
        <span data-view-component="true" class="ActionListItem-label">
          Discussions
</span>      
</a>
  
</li>

        
          
<li data-item-id="" data-targets="nav-list.items" data-view-component="true" class="ActionListItem">
    
    
    <a data-analytics-event="{&quot;category&quot;:&quot;Global navigation&quot;,&quot;action&quot;:&quot;CODESPACES&quot;,&quot;label&quot;:null}" id="item-94de9a6d-2323-4ba9-a6f2-8538b87a264a" href="https://github.com/codespaces" data-view-component="true" class="ActionListContent ActionListContent--visual16">
        <span class="ActionListItem-visual ActionListItem-visual--leading">
          <svg aria-hidden="true" height="16" viewBox="0 0 16 16" version="1.1" width="16" data-view-component="true" class="octicon octicon-codespaces">
    <path d="M0 11.25c0-.966.784-1.75 1.75-1.75h12.5c.966 0 1.75.784 1.75 1.75v3A1.75 1.75 0 0 1 14.25 16H1.75A1.75 1.75 0 0 1 0 14.25Zm2-9.5C2 .784 2.784 0 3.75 0h8.5C13.216 0 14 .784 14 1.75v5a1.75 1.75 0 0 1-1.75 1.75h-8.5A1.75 1.75 0 0 1 2 6.75Zm1.75-.25a.25.25 0 0 0-.25.25v5c0 .138.112.25.25.25h8.5a.25.25 0 0 0 .25-.25v-5a.25.25 0 0 0-.25-.25Zm-2 9.5a.25.25 0 0 0-.25.25v3c0 .138.112.25.25.25h12.5a.25.25 0 0 0 .25-.25v-3a.25.25 0 0 0-.25-.25Z"></path><path d="M7 12.75a.75.75 0 0 1 .75-.75h4.5a.75.75 0 0 1 0 1.5h-4.5a.75.75 0 0 1-.75-.75Zm-4 0a.75.75 0 0 1 .75-.75h.5a.75.75 0 0 1 0 1.5h-.5a.75.75 0 0 1-.75-.75Z"></path>
</svg>
        </span>
      
        <span data-view-component="true" class="ActionListItem-label">
          Codespaces
</span>      
</a>
  
</li>

        
          <li role="presentation" aria-hidden="true" data-view-component="true" class="ActionList-sectionDivider"></li>
        
          
<li data-item-id="" data-targets="nav-list.items" data-view-component="true" class="ActionListItem">
    
    
    <a data-analytics-event="{&quot;category&quot;:&quot;Global navigation&quot;,&quot;action&quot;:&quot;EXPLORE&quot;,&quot;label&quot;:null}" id="item-64fa8323-ed95-469d-82b8-d7d7f56c6dba" href="/explore" data-view-component="true" class="ActionListContent ActionListContent--visual16">
        <span class="ActionListItem-visual ActionListItem-visual--leading">
          <svg aria-hidden="true" height="16" viewBox="0 0 16 16" version="1.1" width="16" data-view-component="true" class="octicon octicon-telescope">
    <path d="M14.184 1.143v-.001l1.422 2.464a1.75 1.75 0 0 1-.757 2.451L3.104 11.713a1.75 1.75 0 0 1-2.275-.702l-.447-.775a1.75 1.75 0 0 1 .53-2.32L11.682.573a1.748 1.748 0 0 1 2.502.57Zm-4.709 9.32h-.001l2.644 3.863a.75.75 0 1 1-1.238.848l-1.881-2.75v2.826a.75.75 0 0 1-1.5 0v-2.826l-1.881 2.75a.75.75 0 1 1-1.238-.848l2.049-2.992a.746.746 0 0 1 .293-.253l1.809-.87a.749.749 0 0 1 .944.252ZM9.436 3.92h-.001l-4.97 3.39.942 1.63 5.42-2.61Zm3.091-2.108h.001l-1.85 1.26 1.505 2.605 2.016-.97a.247.247 0 0 0 .13-.151.247.247 0 0 0-.022-.199l-1.422-2.464a.253.253 0 0 0-.161-.119.254.254 0 0 0-.197.038ZM1.756 9.157a.25.25 0 0 0-.075.33l.447.775a.25.25 0 0 0 .325.1l1.598-.769-.83-1.436-1.465 1Z"></path>
</svg>
        </span>
      
        <span data-view-component="true" class="ActionListItem-label">
          Explore
</span>      
</a>
  
</li>

        
          
<li data-item-id="" data-targets="nav-list.items" data-view-component="true" class="ActionListItem">
    
    
    <a data-analytics-event="{&quot;category&quot;:&quot;Global navigation&quot;,&quot;action&quot;:&quot;MARKETPLACE&quot;,&quot;label&quot;:null}" id="item-2ca65e5f-d211-4175-a2f3-ea5ecceedf42" href="/marketplace" data-view-component="true" class="ActionListContent ActionListContent--visual16">
        <span class="ActionListItem-visual ActionListItem-visual--leading">
          <svg aria-hidden="true" height="16" viewBox="0 0 16 16" version="1.1" width="16" data-view-component="true" class="octicon octicon-gift">
    <path d="M2 2.75A2.75 2.75 0 0 1 4.75 0c.983 0 1.873.42 2.57 1.232.268.318.497.668.68 1.042.183-.375.411-.725.68-1.044C9.376.42 10.266 0 11.25 0a2.75 2.75 0 0 1 2.45 4h.55c.966 0 1.75.784 1.75 1.75v2c0 .698-.409 1.301-1 1.582v4.918A1.75 1.75 0 0 1 13.25 16H2.75A1.75 1.75 0 0 1 1 14.25V9.332C.409 9.05 0 8.448 0 7.75v-2C0 4.784.784 4 1.75 4h.55c-.192-.375-.3-.8-.3-1.25ZM7.25 9.5H2.5v4.75c0 .138.112.25.25.25h4.5Zm1.5 0v5h4.5a.25.25 0 0 0 .25-.25V9.5Zm0-4V8h5.5a.25.25 0 0 0 .25-.25v-2a.25.25 0 0 0-.25-.25Zm-7 0a.25.25 0 0 0-.25.25v2c0 .138.112.25.25.25h5.5V5.5h-5.5Zm3-4a1.25 1.25 0 0 0 0 2.5h2.309c-.233-.818-.542-1.401-.878-1.793-.43-.502-.915-.707-1.431-.707ZM8.941 4h2.309a1.25 1.25 0 0 0 0-2.5c-.516 0-1 .205-1.43.707-.337.392-.646.975-.879 1.793Z"></path>
</svg>
        </span>
      
        <span data-view-component="true" class="ActionListItem-label">
          Marketplace
</span>      
</a>
  
</li>

</ul>  </nav-list>
</nav>

        <div data-view-component="true" class="my-3 d-flex flex-justify-center height-full">
          <span data-view-component="true">
  <svg style="box-sizing: content-box; color: var(--color-icon-primary);" width="16" height="16" viewBox="0 0 16 16" fill="none" aria-hidden="true" data-view-component="true" class="anim-rotate">
    <circle cx="8" cy="8" r="7" stroke="currentColor" stroke-opacity="0.25" stroke-width="2" vector-effect="non-scaling-stroke" fill="none" />
    <path d="M15 8a7.002 7.002 0 00-7-7" stroke="currentColor" stroke-width="2" stroke-linecap="round" vector-effect="non-scaling-stroke" />
</svg>    <span class="sr-only">Loading</span>
</span>
</div>
</div>
      <div data-view-component="true" class="flex-1"></div>


      <div data-view-component="true" class="px-2">      <p class="color-fg-subtle text-small text-light">&copy; 2024 GitHub, Inc.</p>

      <div data-view-component="true" class="d-flex flex-wrap text-small text-light">
          <a target="_blank" href="https://github.com/about" data-view-component="true" class="Link mr-2">About</a>
          <a target="_blank" href="https://github.blog" data-view-component="true" class="Link mr-2">Blog</a>
          <a target="_blank" href="https://docs.github.com/site-policy/github-terms/github-terms-of-service" data-view-component="true" class="Link mr-2">Terms</a>
          <a target="_blank" href="https://docs.github.com/site-policy/privacy-policies/github-privacy-statement" data-view-component="true" class="Link mr-2">Privacy</a>
          <a target="_blank" href="https://github.com/security" data-view-component="true" class="Link mr-2">Security</a>
          <a target="_blank" href="https://www.githubstatus.com/" data-view-component="true" class="Link mr-3">Status</a>

</div></div>
</div>
      </scrollable-region>
      
</dialog></dialog-helper>

  </include-fragment>
</deferred-side-panel>

        <a
          class="AppHeader-logo ml-2"
          href="https://github.com/"
          data-hotkey="g d"
          aria-label="Homepage "
          data-turbo="false"
          data-analytics-event="{&quot;category&quot;:&quot;Header&quot;,&quot;action&quot;:&quot;go to dashboard&quot;,&quot;label&quot;:&quot;icon:logo&quot;}"
        >
          <svg height="32" aria-hidden="true" viewBox="0 0 24 24" version="1.1" width="32" data-view-component="true" class="octicon octicon-mark-github v-align-middle color-fg-default">
    <path d="M12.5.75C6.146.75 1 5.896 1 12.25c0 5.089 3.292 9.387 7.863 10.91.575.101.79-.244.79-.546 0-.273-.014-1.178-.014-2.142-2.889.532-3.636-.704-3.866-1.35-.13-.331-.69-1.352-1.18-1.625-.402-.216-.977-.748-.014-.762.906-.014 1.553.834 1.769 1.179 1.035 1.74 2.688 1.25 3.349.948.1-.747.402-1.25.733-1.538-2.559-.287-5.232-1.279-5.232-5.678 0-1.25.445-2.285 1.178-3.09-.115-.288-.517-1.467.115-3.048 0 0 .963-.302 3.163 1.179.92-.259 1.897-.388 2.875-.388.977 0 1.955.13 2.875.388 2.2-1.495 3.162-1.179 3.162-1.179.633 1.581.23 2.76.115 3.048.733.805 1.179 1.825 1.179 3.09 0 4.413-2.688 5.39-5.247 5.678.417.36.776 1.05.776 2.128 0 1.538-.014 2.774-.014 3.162 0 .302.216.662.79.547C20.709 21.637 24 17.324 24 12.25 24 5.896 18.854.75 12.5.75Z"></path>
</svg>
        </a>

          <div class="AppHeader-context" >
  <div class="AppHeader-context-compact">
      <button aria-expanded="false" aria-haspopup="dialog" aria-label="Page context: joseluisalmendral / Ejercicios_Dia1_Hackio" id="dialog-show-context-region-dialog" data-show-dialog-id="context-region-dialog" type="button" data-view-component="true" class="AppHeader-context-compact-trigger Truncate Button--secondary Button--medium Button box-shadow-none">  <span class="Button-content">
    <span class="Button-label"><span class="AppHeader-context-compact-lead">
                <span class="AppHeader-context-compact-parentItem">joseluisalmendral</span>
                <span class="no-wrap">&nbsp;/</span>

            </span>

            <strong class="AppHeader-context-compact-mainItem d-flex flex-items-center Truncate" >
  <span class="Truncate-text ">Ejercicios_Dia1_Hackio</span>

</strong></span>
  </span>
</button>

<dialog-helper>
  <dialog id="context-region-dialog" aria-modal="true" aria-labelledby="context-region-dialog-title" aria-describedby="context-region-dialog-description" data-view-component="true" class="Overlay Overlay-whenNarrow Overlay--size-medium Overlay--motion-scaleFade">
    <div data-view-component="true" class="Overlay-header">
  <div class="Overlay-headerContentWrap">
    <div class="Overlay-titleWrap">
      <h1 class="Overlay-title " id="context-region-dialog-title">
        Navigate back to
      </h1>
        
    </div>
    <div class="Overlay-actionWrap">
      <button data-close-dialog-id="context-region-dialog" aria-label="Close" type="button" data-view-component="true" class="close-button Overlay-closeButton"><svg aria-hidden="true" height="16" viewBox="0 0 16 16" version="1.1" width="16" data-view-component="true" class="octicon octicon-x">
    <path d="M3.72 3.72a.75.75 0 0 1 1.06 0L8 6.94l3.22-3.22a.749.749 0 0 1 1.275.326.749.749 0 0 1-.215.734L9.06 8l3.22 3.22a.749.749 0 0 1-.326 1.275.749.749 0 0 1-.734-.215L8 9.06l-3.22 3.22a.751.751 0 0 1-1.042-.018.751.751 0 0 1-.018-1.042L6.94 8 3.72 4.78a.75.75 0 0 1 0-1.06Z"></path>
</svg></button>
    </div>
  </div>
  
</div>
      <scrollable-region data-labelled-by="context-region-dialog-title">
        <div data-view-component="true" class="Overlay-body">          <ul role="list" class="list-style-none" >
    <li>
      <a data-analytics-event="{&quot;category&quot;:&quot;SiteHeaderComponent&quot;,&quot;action&quot;:&quot;context_region_crumb&quot;,&quot;label&quot;:&quot;joseluisalmendral&quot;,&quot;screen_size&quot;:&quot;compact&quot;}" href="/joseluisalmendral" data-view-component="true" class="Link--primary Truncate d-flex flex-items-center py-1">
        <span class="AppHeader-context-item-label Truncate-text ">
            <svg aria-hidden="true" height="12" viewBox="0 0 16 16" version="1.1" width="12" data-view-component="true" class="octicon octicon-person mr-1">
    <path d="M10.561 8.073a6.005 6.005 0 0 1 3.432 5.142.75.75 0 1 1-1.498.07 4.5 4.5 0 0 0-8.99 0 .75.75 0 0 1-1.498-.07 6.004 6.004 0 0 1 3.431-5.142 3.999 3.999 0 1 1 5.123 0ZM10.5 5a2.5 2.5 0 1 0-5 0 2.5 2.5 0 0 0 5 0Z"></path>
</svg>

          joseluisalmendral
        </span>

</a>
    </li>
    <li>
      <a data-analytics-event="{&quot;category&quot;:&quot;SiteHeaderComponent&quot;,&quot;action&quot;:&quot;context_region_crumb&quot;,&quot;label&quot;:&quot;Ejercicios_Dia1_Hackio&quot;,&quot;screen_size&quot;:&quot;compact&quot;}" href="/joseluisalmendral/Ejercicios_Dia1_Hackio" data-view-component="true" class="Link--primary Truncate d-flex flex-items-center py-1">
        <span class="AppHeader-context-item-label Truncate-text ">
            <svg aria-hidden="true" height="12" viewBox="0 0 16 16" version="1.1" width="12" data-view-component="true" class="octicon octicon-repo mr-1">
    <path d="M2 2.5A2.5 2.5 0 0 1 4.5 0h8.75a.75.75 0 0 1 .75.75v12.5a.75.75 0 0 1-.75.75h-2.5a.75.75 0 0 1 0-1.5h1.75v-2h-8a1 1 0 0 0-.714 1.7.75.75 0 1 1-1.072 1.05A2.495 2.495 0 0 1 2 11.5Zm10.5-1h-8a1 1 0 0 0-1 1v6.708A2.486 2.486 0 0 1 4.5 9h8ZM5 12.25a.25.25 0 0 1 .25-.25h3.5a.25.25 0 0 1 .25.25v3.25a.25.25 0 0 1-.4.2l-1.45-1.087a.249.249 0 0 0-.3 0L5.4 15.7a.25.25 0 0 1-.4-.2Z"></path>
</svg>

          Ejercicios_Dia1_Hackio
        </span>

</a>
    </li>
</ul>

</div>
      </scrollable-region>
      
</dialog></dialog-helper>
  </div>

  <div class="AppHeader-context-full">
    <nav role="navigation" aria-label="Page context">
      <ul role="list" class="list-style-none" >
    <li>
      <a data-analytics-event="{&quot;category&quot;:&quot;SiteHeaderComponent&quot;,&quot;action&quot;:&quot;context_region_crumb&quot;,&quot;label&quot;:&quot;joseluisalmendral&quot;,&quot;screen_size&quot;:&quot;full&quot;}" data-hovercard-type="user" data-hovercard-url="/users/joseluisalmendral/hovercard" data-octo-click="hovercard-link-click" data-octo-dimensions="link_type:self" href="/joseluisalmendral" data-view-component="true" class="AppHeader-context-item">
        <span class="AppHeader-context-item-label  ">

          joseluisalmendral
        </span>

</a>
        <span class="AppHeader-context-item-separator">/</span>
    </li>
    <li>
      <a data-analytics-event="{&quot;category&quot;:&quot;SiteHeaderComponent&quot;,&quot;action&quot;:&quot;context_region_crumb&quot;,&quot;label&quot;:&quot;Ejercicios_Dia1_Hackio&quot;,&quot;screen_size&quot;:&quot;full&quot;}" href="/joseluisalmendral/Ejercicios_Dia1_Hackio" data-view-component="true" class="AppHeader-context-item">
        <span class="AppHeader-context-item-label  ">

          Ejercicios_Dia1_Hackio
        </span>

</a>
    </li>
</ul>

    </nav>
  </div>
</div>

      </div>
      <div class="AppHeader-globalBar-end">
          <div class="AppHeader-search" >
              


<qbsearch-input class="search-input" data-scope="repo:joseluisalmendral/Ejercicios_Dia1_Hackio" data-custom-scopes-path="/search/custom_scopes" data-delete-custom-scopes-csrf="sF0dy2VulYd0u4w934MdKRgeUy4jAGSUKcX6FMhlOl56zwyFI3EAqztRfIVHsSLWqolC8gDpgFSBScbsp5qnhQ" data-max-custom-scopes="10" data-header-redesign-enabled="true" data-initial-value="" data-blackbird-suggestions-path="/search/suggestions" data-jump-to-suggestions-path="/_graphql/GetSuggestedNavigationDestinations" data-current-repository="joseluisalmendral/Ejercicios_Dia1_Hackio" data-current-org="" data-current-owner="joseluisalmendral" data-logged-in="true" data-copilot-chat-enabled="false" data-nl-search-enabled="false">
  <div
    class="search-input-container search-with-dialog position-relative d-flex flex-row flex-items-center height-auto color-bg-transparent border-0 color-fg-subtle mx-0"
    data-action="click:qbsearch-input#searchInputContainerClicked"
  >
      
            <button type="button" data-action="click:qbsearch-input#handleExpand" class="AppHeader-button AppHeader-search-whenNarrow" aria-label="Search or jump to…" aria-expanded="false" aria-haspopup="dialog">
            <svg aria-hidden="true" height="16" viewBox="0 0 16 16" version="1.1" width="16" data-view-component="true" class="octicon octicon-search">
    <path d="M10.68 11.74a6 6 0 0 1-7.922-8.982 6 6 0 0 1 8.982 7.922l3.04 3.04a.749.749 0 0 1-.326 1.275.749.749 0 0 1-.734-.215ZM11.5 7a4.499 4.499 0 1 0-8.997 0A4.499 4.499 0 0 0 11.5 7Z"></path>
</svg>
          </button>


<div class="AppHeader-search-whenRegular">
  <div class="AppHeader-search-wrap AppHeader-search-wrap--hasTrailing">
    <div class="AppHeader-search-control">
      <label
        for="AppHeader-searchInput"
        aria-label="Search or jump to…"
        class="AppHeader-search-visual--leading"
      >
        <svg aria-hidden="true" height="16" viewBox="0 0 16 16" version="1.1" width="16" data-view-component="true" class="octicon octicon-search">
    <path d="M10.68 11.74a6 6 0 0 1-7.922-8.982 6 6 0 0 1 8.982 7.922l3.04 3.04a.749.749 0 0 1-.326 1.275.749.749 0 0 1-.734-.215ZM11.5 7a4.499 4.499 0 1 0-8.997 0A4.499 4.499 0 0 0 11.5 7Z"></path>
</svg>
      </label>

                <button
            type="button"
            data-target="qbsearch-input.inputButton"
            data-action="click:qbsearch-input#handleExpand"
            class="AppHeader-searchButton form-control input-contrast text-left color-fg-subtle no-wrap"
            data-hotkey="s,/"
            data-analytics-event="{&quot;location&quot;:&quot;navbar&quot;,&quot;action&quot;:&quot;searchbar&quot;,&quot;context&quot;:&quot;global&quot;,&quot;tag&quot;:&quot;input&quot;,&quot;label&quot;:&quot;searchbar_input_global_navbar&quot;}"
            aria-describedby="search-error-message-flash"
          >
            <div class="overflow-hidden">
              <span id="qb-input-query" data-target="qbsearch-input.inputButtonText">
                  Type <kbd class="AppHeader-search-kbd">/</kbd> to search
              </span>
            </div>
          </button>

    </div>


  </div>
</div>

    <input type="hidden" name="type" class="js-site-search-type-field">

    
<div class="Overlay--hidden " data-modal-dialog-overlay>
  <modal-dialog data-action="close:qbsearch-input#handleClose cancel:qbsearch-input#handleClose" data-target="qbsearch-input.searchSuggestionsDialog" role="dialog" id="search-suggestions-dialog" aria-modal="true" aria-labelledby="search-suggestions-dialog-header" data-view-component="true" class="Overlay Overlay--width-medium Overlay--height-auto">
      <h1 id="search-suggestions-dialog-header" class="sr-only">Search code, repositories, users, issues, pull requests...</h1>
    <div class="Overlay-body Overlay-body--paddingNone">
      
          <div data-view-component="true">        <div class="search-suggestions position-absolute width-full color-shadow-large border color-fg-default color-bg-default overflow-hidden d-flex flex-column query-builder-container"
          style="border-radius: 12px;"
          data-target="qbsearch-input.queryBuilderContainer"
          hidden
        >
          <!-- '"` --><!-- </textarea></xmp> --></option></form><form id="query-builder-test-form" action="" accept-charset="UTF-8" method="get">
  <query-builder data-target="qbsearch-input.queryBuilder" id="query-builder-query-builder-test" data-filter-key=":" data-view-component="true" class="QueryBuilder search-query-builder">
    <div class="FormControl FormControl--fullWidth">
      <label id="query-builder-test-label" for="query-builder-test" class="FormControl-label sr-only">
        Search
      </label>
      <div
        class="QueryBuilder-StyledInput width-fit "
        data-target="query-builder.styledInput"
      >
          <span id="query-builder-test-leadingvisual-wrap" class="FormControl-input-leadingVisualWrap QueryBuilder-leadingVisualWrap">
            <svg aria-hidden="true" height="16" viewBox="0 0 16 16" version="1.1" width="16" data-view-component="true" class="octicon octicon-search FormControl-input-leadingVisual">
    <path d="M10.68 11.74a6 6 0 0 1-7.922-8.982 6 6 0 0 1 8.982 7.922l3.04 3.04a.749.749 0 0 1-.326 1.275.749.749 0 0 1-.734-.215ZM11.5 7a4.499 4.499 0 1 0-8.997 0A4.499 4.499 0 0 0 11.5 7Z"></path>
</svg>
          </span>
        <div data-target="query-builder.styledInputContainer" class="QueryBuilder-StyledInputContainer">
          <div
            aria-hidden="true"
            class="QueryBuilder-StyledInputContent"
            data-target="query-builder.styledInputContent"
          ></div>
          <div class="QueryBuilder-InputWrapper">
            <div aria-hidden="true" class="QueryBuilder-Sizer" data-target="query-builder.sizer"></div>
            <input id="query-builder-test" name="query-builder-test" value="" autocomplete="off" type="text" role="combobox" spellcheck="false" aria-expanded="false" aria-describedby="validation-50b81d03-5e8f-4e33-a5ee-ada2b791a0d8" data-target="query-builder.input" data-action="
          input:query-builder#inputChange
          blur:query-builder#inputBlur
          keydown:query-builder#inputKeydown
          focus:query-builder#inputFocus
        " data-view-component="true" class="FormControl-input QueryBuilder-Input FormControl-medium" />
          </div>
        </div>
          <span class="sr-only" id="query-builder-test-clear">Clear</span>
          <button role="button" id="query-builder-test-clear-button" aria-labelledby="query-builder-test-clear query-builder-test-label" data-target="query-builder.clearButton" data-action="
                click:query-builder#clear
                focus:query-builder#clearButtonFocus
                blur:query-builder#clearButtonBlur
              " variant="small" hidden="hidden" type="button" data-view-component="true" class="Button Button--iconOnly Button--invisible Button--medium mr-1 px-2 py-0 d-flex flex-items-center rounded-1 color-fg-muted">  <svg aria-hidden="true" height="16" viewBox="0 0 16 16" version="1.1" width="16" data-view-component="true" class="octicon octicon-x-circle-fill Button-visual">
    <path d="M2.343 13.657A8 8 0 1 1 13.658 2.343 8 8 0 0 1 2.343 13.657ZM6.03 4.97a.751.751 0 0 0-1.042.018.751.751 0 0 0-.018 1.042L6.94 8 4.97 9.97a.749.749 0 0 0 .326 1.275.749.749 0 0 0 .734-.215L8 9.06l1.97 1.97a.749.749 0 0 0 1.275-.326.749.749 0 0 0-.215-.734L9.06 8l1.97-1.97a.749.749 0 0 0-.326-1.275.749.749 0 0 0-.734.215L8 6.94Z"></path>
</svg>
</button>

      </div>
      <template id="search-icon">
  <svg aria-hidden="true" height="16" viewBox="0 0 16 16" version="1.1" width="16" data-view-component="true" class="octicon octicon-search">
    <path d="M10.68 11.74a6 6 0 0 1-7.922-8.982 6 6 0 0 1 8.982 7.922l3.04 3.04a.749.749 0 0 1-.326 1.275.749.749 0 0 1-.734-.215ZM11.5 7a4.499 4.499 0 1 0-8.997 0A4.499 4.499 0 0 0 11.5 7Z"></path>
</svg>
</template>

<template id="code-icon">
  <svg aria-hidden="true" height="16" viewBox="0 0 16 16" version="1.1" width="16" data-view-component="true" class="octicon octicon-code">
    <path d="m11.28 3.22 4.25 4.25a.75.75 0 0 1 0 1.06l-4.25 4.25a.749.749 0 0 1-1.275-.326.749.749 0 0 1 .215-.734L13.94 8l-3.72-3.72a.749.749 0 0 1 .326-1.275.749.749 0 0 1 .734.215Zm-6.56 0a.751.751 0 0 1 1.042.018.751.751 0 0 1 .018 1.042L2.06 8l3.72 3.72a.749.749 0 0 1-.326 1.275.749.749 0 0 1-.734-.215L.47 8.53a.75.75 0 0 1 0-1.06Z"></path>
</svg>
</template>

<template id="file-code-icon">
  <svg aria-hidden="true" height="16" viewBox="0 0 16 16" version="1.1" width="16" data-view-component="true" class="octicon octicon-file-code">
    <path d="M4 1.75C4 .784 4.784 0 5.75 0h5.586c.464 0 .909.184 1.237.513l2.914 2.914c.329.328.513.773.513 1.237v8.586A1.75 1.75 0 0 1 14.25 15h-9a.75.75 0 0 1 0-1.5h9a.25.25 0 0 0 .25-.25V6h-2.75A1.75 1.75 0 0 1 10 4.25V1.5H5.75a.25.25 0 0 0-.25.25v2.5a.75.75 0 0 1-1.5 0Zm1.72 4.97a.75.75 0 0 1 1.06 0l2 2a.75.75 0 0 1 0 1.06l-2 2a.749.749 0 0 1-1.275-.326.749.749 0 0 1 .215-.734l1.47-1.47-1.47-1.47a.75.75 0 0 1 0-1.06ZM3.28 7.78 1.81 9.25l1.47 1.47a.751.751 0 0 1-.018 1.042.751.751 0 0 1-1.042.018l-2-2a.75.75 0 0 1 0-1.06l2-2a.751.751 0 0 1 1.042.018.751.751 0 0 1 .018 1.042Zm8.22-6.218V4.25c0 .138.112.25.25.25h2.688l-.011-.013-2.914-2.914-.013-.011Z"></path>
</svg>
</template>

<template id="history-icon">
  <svg aria-hidden="true" height="16" viewBox="0 0 16 16" version="1.1" width="16" data-view-component="true" class="octicon octicon-history">
    <path d="m.427 1.927 1.215 1.215a8.002 8.002 0 1 1-1.6 5.685.75.75 0 1 1 1.493-.154 6.5 6.5 0 1 0 1.18-4.458l1.358 1.358A.25.25 0 0 1 3.896 6H.25A.25.25 0 0 1 0 5.75V2.104a.25.25 0 0 1 .427-.177ZM7.75 4a.75.75 0 0 1 .75.75v2.992l2.028.812a.75.75 0 0 1-.557 1.392l-2.5-1A.751.751 0 0 1 7 8.25v-3.5A.75.75 0 0 1 7.75 4Z"></path>
</svg>
</template>

<template id="repo-icon">
  <svg aria-hidden="true" height="16" viewBox="0 0 16 16" version="1.1" width="16" data-view-component="true" class="octicon octicon-repo">
    <path d="M2 2.5A2.5 2.5 0 0 1 4.5 0h8.75a.75.75 0 0 1 .75.75v12.5a.75.75 0 0 1-.75.75h-2.5a.75.75 0 0 1 0-1.5h1.75v-2h-8a1 1 0 0 0-.714 1.7.75.75 0 1 1-1.072 1.05A2.495 2.495 0 0 1 2 11.5Zm10.5-1h-8a1 1 0 0 0-1 1v6.708A2.486 2.486 0 0 1 4.5 9h8ZM5 12.25a.25.25 0 0 1 .25-.25h3.5a.25.25 0 0 1 .25.25v3.25a.25.25 0 0 1-.4.2l-1.45-1.087a.249.249 0 0 0-.3 0L5.4 15.7a.25.25 0 0 1-.4-.2Z"></path>
</svg>
</template>

<template id="bookmark-icon">
  <svg aria-hidden="true" height="16" viewBox="0 0 16 16" version="1.1" width="16" data-view-component="true" class="octicon octicon-bookmark">
    <path d="M3 2.75C3 1.784 3.784 1 4.75 1h6.5c.966 0 1.75.784 1.75 1.75v11.5a.75.75 0 0 1-1.227.579L8 11.722l-3.773 3.107A.751.751 0 0 1 3 14.25Zm1.75-.25a.25.25 0 0 0-.25.25v9.91l3.023-2.489a.75.75 0 0 1 .954 0l3.023 2.49V2.75a.25.25 0 0 0-.25-.25Z"></path>
</svg>
</template>

<template id="plus-circle-icon">
  <svg aria-hidden="true" height="16" viewBox="0 0 16 16" version="1.1" width="16" data-view-component="true" class="octicon octicon-plus-circle">
    <path d="M8 0a8 8 0 1 1 0 16A8 8 0 0 1 8 0ZM1.5 8a6.5 6.5 0 1 0 13 0 6.5 6.5 0 0 0-13 0Zm7.25-3.25v2.5h2.5a.75.75 0 0 1 0 1.5h-2.5v2.5a.75.75 0 0 1-1.5 0v-2.5h-2.5a.75.75 0 0 1 0-1.5h2.5v-2.5a.75.75 0 0 1 1.5 0Z"></path>
</svg>
</template>

<template id="circle-icon">
  <svg aria-hidden="true" height="16" viewBox="0 0 16 16" version="1.1" width="16" data-view-component="true" class="octicon octicon-dot-fill">
    <path d="M8 4a4 4 0 1 1 0 8 4 4 0 0 1 0-8Z"></path>
</svg>
</template>

<template id="trash-icon">
  <svg aria-hidden="true" height="16" viewBox="0 0 16 16" version="1.1" width="16" data-view-component="true" class="octicon octicon-trash">
    <path d="M11 1.75V3h2.25a.75.75 0 0 1 0 1.5H2.75a.75.75 0 0 1 0-1.5H5V1.75C5 .784 5.784 0 6.75 0h2.5C10.216 0 11 .784 11 1.75ZM4.496 6.675l.66 6.6a.25.25 0 0 0 .249.225h5.19a.25.25 0 0 0 .249-.225l.66-6.6a.75.75 0 0 1 1.492.149l-.66 6.6A1.748 1.748 0 0 1 10.595 15h-5.19a1.75 1.75 0 0 1-1.741-1.575l-.66-6.6a.75.75 0 1 1 1.492-.15ZM6.5 1.75V3h3V1.75a.25.25 0 0 0-.25-.25h-2.5a.25.25 0 0 0-.25.25Z"></path>
</svg>
</template>

<template id="team-icon">
  <svg aria-hidden="true" height="16" viewBox="0 0 16 16" version="1.1" width="16" data-view-component="true" class="octicon octicon-people">
    <path d="M2 5.5a3.5 3.5 0 1 1 5.898 2.549 5.508 5.508 0 0 1 3.034 4.084.75.75 0 1 1-1.482.235 4 4 0 0 0-7.9 0 .75.75 0 0 1-1.482-.236A5.507 5.507 0 0 1 3.102 8.05 3.493 3.493 0 0 1 2 5.5ZM11 4a3.001 3.001 0 0 1 2.22 5.018 5.01 5.01 0 0 1 2.56 3.012.749.749 0 0 1-.885.954.752.752 0 0 1-.549-.514 3.507 3.507 0 0 0-2.522-2.372.75.75 0 0 1-.574-.73v-.352a.75.75 0 0 1 .416-.672A1.5 1.5 0 0 0 11 5.5.75.75 0 0 1 11 4Zm-5.5-.5a2 2 0 1 0-.001 3.999A2 2 0 0 0 5.5 3.5Z"></path>
</svg>
</template>

<template id="project-icon">
  <svg aria-hidden="true" height="16" viewBox="0 0 16 16" version="1.1" width="16" data-view-component="true" class="octicon octicon-project">
    <path d="M1.75 0h12.5C15.216 0 16 .784 16 1.75v12.5A1.75 1.75 0 0 1 14.25 16H1.75A1.75 1.75 0 0 1 0 14.25V1.75C0 .784.784 0 1.75 0ZM1.5 1.75v12.5c0 .138.112.25.25.25h12.5a.25.25 0 0 0 .25-.25V1.75a.25.25 0 0 0-.25-.25H1.75a.25.25 0 0 0-.25.25ZM11.75 3a.75.75 0 0 1 .75.75v7.5a.75.75 0 0 1-1.5 0v-7.5a.75.75 0 0 1 .75-.75Zm-8.25.75a.75.75 0 0 1 1.5 0v5.5a.75.75 0 0 1-1.5 0ZM8 3a.75.75 0 0 1 .75.75v3.5a.75.75 0 0 1-1.5 0v-3.5A.75.75 0 0 1 8 3Z"></path>
</svg>
</template>

<template id="pencil-icon">
  <svg aria-hidden="true" height="16" viewBox="0 0 16 16" version="1.1" width="16" data-view-component="true" class="octicon octicon-pencil">
    <path d="M11.013 1.427a1.75 1.75 0 0 1 2.474 0l1.086 1.086a1.75 1.75 0 0 1 0 2.474l-8.61 8.61c-.21.21-.47.364-.756.445l-3.251.93a.75.75 0 0 1-.927-.928l.929-3.25c.081-.286.235-.547.445-.758l8.61-8.61Zm.176 4.823L9.75 4.81l-6.286 6.287a.253.253 0 0 0-.064.108l-.558 1.953 1.953-.558a.253.253 0 0 0 .108-.064Zm1.238-3.763a.25.25 0 0 0-.354 0L10.811 3.75l1.439 1.44 1.263-1.263a.25.25 0 0 0 0-.354Z"></path>
</svg>
</template>

<template id="copilot-icon">
  <svg aria-hidden="true" height="16" viewBox="0 0 16 16" version="1.1" width="16" data-view-component="true" class="octicon octicon-copilot">
    <path d="M7.998 15.035c-4.562 0-7.873-2.914-7.998-3.749V9.338c.085-.628.677-1.686 1.588-2.065.013-.07.024-.143.036-.218.029-.183.06-.384.126-.612-.201-.508-.254-1.084-.254-1.656 0-.87.128-1.769.693-2.484.579-.733 1.494-1.124 2.724-1.261 1.206-.134 2.262.034 2.944.765.05.053.096.108.139.165.044-.057.094-.112.143-.165.682-.731 1.738-.899 2.944-.765 1.23.137 2.145.528 2.724 1.261.566.715.693 1.614.693 2.484 0 .572-.053 1.148-.254 1.656.066.228.098.429.126.612.012.076.024.148.037.218.924.385 1.522 1.471 1.591 2.095v1.872c0 .766-3.351 3.795-8.002 3.795Zm0-1.485c2.28 0 4.584-1.11 5.002-1.433V7.862l-.023-.116c-.49.21-1.075.291-1.727.291-1.146 0-2.059-.327-2.71-.991A3.222 3.222 0 0 1 8 6.303a3.24 3.24 0 0 1-.544.743c-.65.664-1.563.991-2.71.991-.652 0-1.236-.081-1.727-.291l-.023.116v4.255c.419.323 2.722 1.433 5.002 1.433ZM6.762 2.83c-.193-.206-.637-.413-1.682-.297-1.019.113-1.479.404-1.713.7-.247.312-.369.789-.369 1.554 0 .793.129 1.171.308 1.371.162.181.519.379 1.442.379.853 0 1.339-.235 1.638-.54.315-.322.527-.827.617-1.553.117-.935-.037-1.395-.241-1.614Zm4.155-.297c-1.044-.116-1.488.091-1.681.297-.204.219-.359.679-.242 1.614.091.726.303 1.231.618 1.553.299.305.784.54 1.638.54.922 0 1.28-.198 1.442-.379.179-.2.308-.578.308-1.371 0-.765-.123-1.242-.37-1.554-.233-.296-.693-.587-1.713-.7Z"></path><path d="M6.25 9.037a.75.75 0 0 1 .75.75v1.501a.75.75 0 0 1-1.5 0V9.787a.75.75 0 0 1 .75-.75Zm4.25.75v1.501a.75.75 0 0 1-1.5 0V9.787a.75.75 0 0 1 1.5 0Z"></path>
</svg>
</template>

<template id="copilot-error-icon">
  <svg aria-hidden="true" height="16" viewBox="0 0 16 16" version="1.1" width="16" data-view-component="true" class="octicon octicon-copilot-error">
    <path d="M16 11.24c0 .112-.072.274-.21.467L13 9.688V7.862l-.023-.116c-.49.21-1.075.291-1.727.291-.198 0-.388-.009-.571-.029L6.833 5.226a4.01 4.01 0 0 0 .17-.782c.117-.935-.037-1.395-.241-1.614-.193-.206-.637-.413-1.682-.297-.683.076-1.115.231-1.395.415l-1.257-.91c.579-.564 1.413-.877 2.485-.996 1.206-.134 2.262.034 2.944.765.05.053.096.108.139.165.044-.057.094-.112.143-.165.682-.731 1.738-.899 2.944-.765 1.23.137 2.145.528 2.724 1.261.566.715.693 1.614.693 2.484 0 .572-.053 1.148-.254 1.656.066.228.098.429.126.612.012.076.024.148.037.218.924.385 1.522 1.471 1.591 2.095Zm-5.083-8.707c-1.044-.116-1.488.091-1.681.297-.204.219-.359.679-.242 1.614.091.726.303 1.231.618 1.553.299.305.784.54 1.638.54.922 0 1.28-.198 1.442-.379.179-.2.308-.578.308-1.371 0-.765-.123-1.242-.37-1.554-.233-.296-.693-.587-1.713-.7Zm2.511 11.074c-1.393.776-3.272 1.428-5.43 1.428-4.562 0-7.873-2.914-7.998-3.749V9.338c.085-.628.677-1.686 1.588-2.065.013-.07.024-.143.036-.218.029-.183.06-.384.126-.612-.18-.455-.241-.963-.252-1.475L.31 4.107A.747.747 0 0 1 0 3.509V3.49a.748.748 0 0 1 .625-.73c.156-.026.306.047.435.139l14.667 10.578a.592.592 0 0 1 .227.264.752.752 0 0 1 .046.249v.022a.75.75 0 0 1-1.19.596Zm-1.367-.991L5.635 7.964a5.128 5.128 0 0 1-.889.073c-.652 0-1.236-.081-1.727-.291l-.023.116v4.255c.419.323 2.722 1.433 5.002 1.433 1.539 0 3.089-.505 4.063-.934Z"></path>
</svg>
</template>

<template id="workflow-icon">
  <svg aria-hidden="true" height="16" viewBox="0 0 16 16" version="1.1" width="16" data-view-component="true" class="octicon octicon-workflow">
    <path d="M0 1.75C0 .784.784 0 1.75 0h3.5C6.216 0 7 .784 7 1.75v3.5A1.75 1.75 0 0 1 5.25 7H4v4a1 1 0 0 0 1 1h4v-1.25C9 9.784 9.784 9 10.75 9h3.5c.966 0 1.75.784 1.75 1.75v3.5A1.75 1.75 0 0 1 14.25 16h-3.5A1.75 1.75 0 0 1 9 14.25v-.75H5A2.5 2.5 0 0 1 2.5 11V7h-.75A1.75 1.75 0 0 1 0 5.25Zm1.75-.25a.25.25 0 0 0-.25.25v3.5c0 .138.112.25.25.25h3.5a.25.25 0 0 0 .25-.25v-3.5a.25.25 0 0 0-.25-.25Zm9 9a.25.25 0 0 0-.25.25v3.5c0 .138.112.25.25.25h3.5a.25.25 0 0 0 .25-.25v-3.5a.25.25 0 0 0-.25-.25Z"></path>
</svg>
</template>

<template id="book-icon">
  <svg aria-hidden="true" height="16" viewBox="0 0 16 16" version="1.1" width="16" data-view-component="true" class="octicon octicon-book">
    <path d="M0 1.75A.75.75 0 0 1 .75 1h4.253c1.227 0 2.317.59 3 1.501A3.743 3.743 0 0 1 11.006 1h4.245a.75.75 0 0 1 .75.75v10.5a.75.75 0 0 1-.75.75h-4.507a2.25 2.25 0 0 0-1.591.659l-.622.621a.75.75 0 0 1-1.06 0l-.622-.621A2.25 2.25 0 0 0 5.258 13H.75a.75.75 0 0 1-.75-.75Zm7.251 10.324.004-5.073-.002-2.253A2.25 2.25 0 0 0 5.003 2.5H1.5v9h3.757a3.75 3.75 0 0 1 1.994.574ZM8.755 4.75l-.004 7.322a3.752 3.752 0 0 1 1.992-.572H14.5v-9h-3.495a2.25 2.25 0 0 0-2.25 2.25Z"></path>
</svg>
</template>

<template id="code-review-icon">
  <svg aria-hidden="true" height="16" viewBox="0 0 16 16" version="1.1" width="16" data-view-component="true" class="octicon octicon-code-review">
    <path d="M1.75 1h12.5c.966 0 1.75.784 1.75 1.75v8.5A1.75 1.75 0 0 1 14.25 13H8.061l-2.574 2.573A1.458 1.458 0 0 1 3 14.543V13H1.75A1.75 1.75 0 0 1 0 11.25v-8.5C0 1.784.784 1 1.75 1ZM1.5 2.75v8.5c0 .138.112.25.25.25h2a.75.75 0 0 1 .75.75v2.19l2.72-2.72a.749.749 0 0 1 .53-.22h6.5a.25.25 0 0 0 .25-.25v-8.5a.25.25 0 0 0-.25-.25H1.75a.25.25 0 0 0-.25.25Zm5.28 1.72a.75.75 0 0 1 0 1.06L5.31 7l1.47 1.47a.751.751 0 0 1-.018 1.042.751.751 0 0 1-1.042.018l-2-2a.75.75 0 0 1 0-1.06l2-2a.75.75 0 0 1 1.06 0Zm2.44 0a.75.75 0 0 1 1.06 0l2 2a.75.75 0 0 1 0 1.06l-2 2a.751.751 0 0 1-1.042-.018.751.751 0 0 1-.018-1.042L10.69 7 9.22 5.53a.75.75 0 0 1 0-1.06Z"></path>
</svg>
</template>

<template id="codespaces-icon">
  <svg aria-hidden="true" height="16" viewBox="0 0 16 16" version="1.1" width="16" data-view-component="true" class="octicon octicon-codespaces">
    <path d="M0 11.25c0-.966.784-1.75 1.75-1.75h12.5c.966 0 1.75.784 1.75 1.75v3A1.75 1.75 0 0 1 14.25 16H1.75A1.75 1.75 0 0 1 0 14.25Zm2-9.5C2 .784 2.784 0 3.75 0h8.5C13.216 0 14 .784 14 1.75v5a1.75 1.75 0 0 1-1.75 1.75h-8.5A1.75 1.75 0 0 1 2 6.75Zm1.75-.25a.25.25 0 0 0-.25.25v5c0 .138.112.25.25.25h8.5a.25.25 0 0 0 .25-.25v-5a.25.25 0 0 0-.25-.25Zm-2 9.5a.25.25 0 0 0-.25.25v3c0 .138.112.25.25.25h12.5a.25.25 0 0 0 .25-.25v-3a.25.25 0 0 0-.25-.25Z"></path><path d="M7 12.75a.75.75 0 0 1 .75-.75h4.5a.75.75 0 0 1 0 1.5h-4.5a.75.75 0 0 1-.75-.75Zm-4 0a.75.75 0 0 1 .75-.75h.5a.75.75 0 0 1 0 1.5h-.5a.75.75 0 0 1-.75-.75Z"></path>
</svg>
</template>

<template id="comment-icon">
  <svg aria-hidden="true" height="16" viewBox="0 0 16 16" version="1.1" width="16" data-view-component="true" class="octicon octicon-comment">
    <path d="M1 2.75C1 1.784 1.784 1 2.75 1h10.5c.966 0 1.75.784 1.75 1.75v7.5A1.75 1.75 0 0 1 13.25 12H9.06l-2.573 2.573A1.458 1.458 0 0 1 4 13.543V12H2.75A1.75 1.75 0 0 1 1 10.25Zm1.75-.25a.25.25 0 0 0-.25.25v7.5c0 .138.112.25.25.25h2a.75.75 0 0 1 .75.75v2.19l2.72-2.72a.749.749 0 0 1 .53-.22h4.5a.25.25 0 0 0 .25-.25v-7.5a.25.25 0 0 0-.25-.25Z"></path>
</svg>
</template>

<template id="comment-discussion-icon">
  <svg aria-hidden="true" height="16" viewBox="0 0 16 16" version="1.1" width="16" data-view-component="true" class="octicon octicon-comment-discussion">
    <path d="M1.75 1h8.5c.966 0 1.75.784 1.75 1.75v5.5A1.75 1.75 0 0 1 10.25 10H7.061l-2.574 2.573A1.458 1.458 0 0 1 2 11.543V10h-.25A1.75 1.75 0 0 1 0 8.25v-5.5C0 1.784.784 1 1.75 1ZM1.5 2.75v5.5c0 .138.112.25.25.25h1a.75.75 0 0 1 .75.75v2.19l2.72-2.72a.749.749 0 0 1 .53-.22h3.5a.25.25 0 0 0 .25-.25v-5.5a.25.25 0 0 0-.25-.25h-8.5a.25.25 0 0 0-.25.25Zm13 2a.25.25 0 0 0-.25-.25h-.5a.75.75 0 0 1 0-1.5h.5c.966 0 1.75.784 1.75 1.75v5.5A1.75 1.75 0 0 1 14.25 12H14v1.543a1.458 1.458 0 0 1-2.487 1.03L9.22 12.28a.749.749 0 0 1 .326-1.275.749.749 0 0 1 .734.215l2.22 2.22v-2.19a.75.75 0 0 1 .75-.75h1a.25.25 0 0 0 .25-.25Z"></path>
</svg>
</template>

<template id="organization-icon">
  <svg aria-hidden="true" height="16" viewBox="0 0 16 16" version="1.1" width="16" data-view-component="true" class="octicon octicon-organization">
    <path d="M1.75 16A1.75 1.75 0 0 1 0 14.25V1.75C0 .784.784 0 1.75 0h8.5C11.216 0 12 .784 12 1.75v12.5c0 .085-.006.168-.018.25h2.268a.25.25 0 0 0 .25-.25V8.285a.25.25 0 0 0-.111-.208l-1.055-.703a.749.749 0 1 1 .832-1.248l1.055.703c.487.325.779.871.779 1.456v5.965A1.75 1.75 0 0 1 14.25 16h-3.5a.766.766 0 0 1-.197-.026c-.099.017-.2.026-.303.026h-3a.75.75 0 0 1-.75-.75V14h-1v1.25a.75.75 0 0 1-.75.75Zm-.25-1.75c0 .138.112.25.25.25H4v-1.25a.75.75 0 0 1 .75-.75h2.5a.75.75 0 0 1 .75.75v1.25h2.25a.25.25 0 0 0 .25-.25V1.75a.25.25 0 0 0-.25-.25h-8.5a.25.25 0 0 0-.25.25ZM3.75 6h.5a.75.75 0 0 1 0 1.5h-.5a.75.75 0 0 1 0-1.5ZM3 3.75A.75.75 0 0 1 3.75 3h.5a.75.75 0 0 1 0 1.5h-.5A.75.75 0 0 1 3 3.75Zm4 3A.75.75 0 0 1 7.75 6h.5a.75.75 0 0 1 0 1.5h-.5A.75.75 0 0 1 7 6.75ZM7.75 3h.5a.75.75 0 0 1 0 1.5h-.5a.75.75 0 0 1 0-1.5ZM3 9.75A.75.75 0 0 1 3.75 9h.5a.75.75 0 0 1 0 1.5h-.5A.75.75 0 0 1 3 9.75ZM7.75 9h.5a.75.75 0 0 1 0 1.5h-.5a.75.75 0 0 1 0-1.5Z"></path>
</svg>
</template>

<template id="rocket-icon">
  <svg aria-hidden="true" height="16" viewBox="0 0 16 16" version="1.1" width="16" data-view-component="true" class="octicon octicon-rocket">
    <path d="M14.064 0h.186C15.216 0 16 .784 16 1.75v.186a8.752 8.752 0 0 1-2.564 6.186l-.458.459c-.314.314-.641.616-.979.904v3.207c0 .608-.315 1.172-.833 1.49l-2.774 1.707a.749.749 0 0 1-1.11-.418l-.954-3.102a1.214 1.214 0 0 1-.145-.125L3.754 9.816a1.218 1.218 0 0 1-.124-.145L.528 8.717a.749.749 0 0 1-.418-1.11l1.71-2.774A1.748 1.748 0 0 1 3.31 4h3.204c.288-.338.59-.665.904-.979l.459-.458A8.749 8.749 0 0 1 14.064 0ZM8.938 3.623h-.002l-.458.458c-.76.76-1.437 1.598-2.02 2.5l-1.5 2.317 2.143 2.143 2.317-1.5c.902-.583 1.74-1.26 2.499-2.02l.459-.458a7.25 7.25 0 0 0 2.123-5.127V1.75a.25.25 0 0 0-.25-.25h-.186a7.249 7.249 0 0 0-5.125 2.123ZM3.56 14.56c-.732.732-2.334 1.045-3.005 1.148a.234.234 0 0 1-.201-.064.234.234 0 0 1-.064-.201c.103-.671.416-2.273 1.15-3.003a1.502 1.502 0 1 1 2.12 2.12Zm6.94-3.935c-.088.06-.177.118-.266.175l-2.35 1.521.548 1.783 1.949-1.2a.25.25 0 0 0 .119-.213ZM3.678 8.116 5.2 5.766c.058-.09.117-.178.176-.266H3.309a.25.25 0 0 0-.213.119l-1.2 1.95ZM12 5a1 1 0 1 1-2 0 1 1 0 0 1 2 0Z"></path>
</svg>
</template>

<template id="shield-check-icon">
  <svg aria-hidden="true" height="16" viewBox="0 0 16 16" version="1.1" width="16" data-view-component="true" class="octicon octicon-shield-check">
    <path d="m8.533.133 5.25 1.68A1.75 1.75 0 0 1 15 3.48V7c0 1.566-.32 3.182-1.303 4.682-.983 1.498-2.585 2.813-5.032 3.855a1.697 1.697 0 0 1-1.33 0c-2.447-1.042-4.049-2.357-5.032-3.855C1.32 10.182 1 8.566 1 7V3.48a1.75 1.75 0 0 1 1.217-1.667l5.25-1.68a1.748 1.748 0 0 1 1.066 0Zm-.61 1.429.001.001-5.25 1.68a.251.251 0 0 0-.174.237V7c0 1.36.275 2.666 1.057 3.859.784 1.194 2.121 2.342 4.366 3.298a.196.196 0 0 0 .154 0c2.245-.957 3.582-2.103 4.366-3.297C13.225 9.666 13.5 8.358 13.5 7V3.48a.25.25 0 0 0-.174-.238l-5.25-1.68a.25.25 0 0 0-.153 0ZM11.28 6.28l-3.5 3.5a.75.75 0 0 1-1.06 0l-1.5-1.5a.749.749 0 0 1 .326-1.275.749.749 0 0 1 .734.215l.97.97 2.97-2.97a.751.751 0 0 1 1.042.018.751.751 0 0 1 .018 1.042Z"></path>
</svg>
</template>

<template id="heart-icon">
  <svg aria-hidden="true" height="16" viewBox="0 0 16 16" version="1.1" width="16" data-view-component="true" class="octicon octicon-heart">
    <path d="m8 14.25.345.666a.75.75 0 0 1-.69 0l-.008-.004-.018-.01a7.152 7.152 0 0 1-.31-.17 22.055 22.055 0 0 1-3.434-2.414C2.045 10.731 0 8.35 0 5.5 0 2.836 2.086 1 4.25 1 5.797 1 7.153 1.802 8 3.02 8.847 1.802 10.203 1 11.75 1 13.914 1 16 2.836 16 5.5c0 2.85-2.045 5.231-3.885 6.818a22.066 22.066 0 0 1-3.744 2.584l-.018.01-.006.003h-.002ZM4.25 2.5c-1.336 0-2.75 1.164-2.75 3 0 2.15 1.58 4.144 3.365 5.682A20.58 20.58 0 0 0 8 13.393a20.58 20.58 0 0 0 3.135-2.211C12.92 9.644 14.5 7.65 14.5 5.5c0-1.836-1.414-3-2.75-3-1.373 0-2.609.986-3.029 2.456a.749.749 0 0 1-1.442 0C6.859 3.486 5.623 2.5 4.25 2.5Z"></path>
</svg>
</template>

<template id="server-icon">
  <svg aria-hidden="true" height="16" viewBox="0 0 16 16" version="1.1" width="16" data-view-component="true" class="octicon octicon-server">
    <path d="M1.75 1h12.5c.966 0 1.75.784 1.75 1.75v4c0 .372-.116.717-.314 1 .198.283.314.628.314 1v4a1.75 1.75 0 0 1-1.75 1.75H1.75A1.75 1.75 0 0 1 0 12.75v-4c0-.358.109-.707.314-1a1.739 1.739 0 0 1-.314-1v-4C0 1.784.784 1 1.75 1ZM1.5 2.75v4c0 .138.112.25.25.25h12.5a.25.25 0 0 0 .25-.25v-4a.25.25 0 0 0-.25-.25H1.75a.25.25 0 0 0-.25.25Zm.25 5.75a.25.25 0 0 0-.25.25v4c0 .138.112.25.25.25h12.5a.25.25 0 0 0 .25-.25v-4a.25.25 0 0 0-.25-.25ZM7 4.75A.75.75 0 0 1 7.75 4h4.5a.75.75 0 0 1 0 1.5h-4.5A.75.75 0 0 1 7 4.75ZM7.75 10h4.5a.75.75 0 0 1 0 1.5h-4.5a.75.75 0 0 1 0-1.5ZM3 4.75A.75.75 0 0 1 3.75 4h.5a.75.75 0 0 1 0 1.5h-.5A.75.75 0 0 1 3 4.75ZM3.75 10h.5a.75.75 0 0 1 0 1.5h-.5a.75.75 0 0 1 0-1.5Z"></path>
</svg>
</template>

<template id="globe-icon">
  <svg aria-hidden="true" height="16" viewBox="0 0 16 16" version="1.1" width="16" data-view-component="true" class="octicon octicon-globe">
    <path d="M8 0a8 8 0 1 1 0 16A8 8 0 0 1 8 0ZM5.78 8.75a9.64 9.64 0 0 0 1.363 4.177c.255.426.542.832.857 1.215.245-.296.551-.705.857-1.215A9.64 9.64 0 0 0 10.22 8.75Zm4.44-1.5a9.64 9.64 0 0 0-1.363-4.177c-.307-.51-.612-.919-.857-1.215a9.927 9.927 0 0 0-.857 1.215A9.64 9.64 0 0 0 5.78 7.25Zm-5.944 1.5H1.543a6.507 6.507 0 0 0 4.666 5.5c-.123-.181-.24-.365-.352-.552-.715-1.192-1.437-2.874-1.581-4.948Zm-2.733-1.5h2.733c.144-2.074.866-3.756 1.58-4.948.12-.197.237-.381.353-.552a6.507 6.507 0 0 0-4.666 5.5Zm10.181 1.5c-.144 2.074-.866 3.756-1.58 4.948-.12.197-.237.381-.353.552a6.507 6.507 0 0 0 4.666-5.5Zm2.733-1.5a6.507 6.507 0 0 0-4.666-5.5c.123.181.24.365.353.552.714 1.192 1.436 2.874 1.58 4.948Z"></path>
</svg>
</template>

<template id="issue-opened-icon">
  <svg aria-hidden="true" height="16" viewBox="0 0 16 16" version="1.1" width="16" data-view-component="true" class="octicon octicon-issue-opened">
    <path d="M8 9.5a1.5 1.5 0 1 0 0-3 1.5 1.5 0 0 0 0 3Z"></path><path d="M8 0a8 8 0 1 1 0 16A8 8 0 0 1 8 0ZM1.5 8a6.5 6.5 0 1 0 13 0 6.5 6.5 0 0 0-13 0Z"></path>
</svg>
</template>

<template id="device-mobile-icon">
  <svg aria-hidden="true" height="16" viewBox="0 0 16 16" version="1.1" width="16" data-view-component="true" class="octicon octicon-device-mobile">
    <path d="M3.75 0h8.5C13.216 0 14 .784 14 1.75v12.5A1.75 1.75 0 0 1 12.25 16h-8.5A1.75 1.75 0 0 1 2 14.25V1.75C2 .784 2.784 0 3.75 0ZM3.5 1.75v12.5c0 .138.112.25.25.25h8.5a.25.25 0 0 0 .25-.25V1.75a.25.25 0 0 0-.25-.25h-8.5a.25.25 0 0 0-.25.25ZM8 13a1 1 0 1 1 0-2 1 1 0 0 1 0 2Z"></path>
</svg>
</template>

<template id="package-icon">
  <svg aria-hidden="true" height="16" viewBox="0 0 16 16" version="1.1" width="16" data-view-component="true" class="octicon octicon-package">
    <path d="m8.878.392 5.25 3.045c.54.314.872.89.872 1.514v6.098a1.75 1.75 0 0 1-.872 1.514l-5.25 3.045a1.75 1.75 0 0 1-1.756 0l-5.25-3.045A1.75 1.75 0 0 1 1 11.049V4.951c0-.624.332-1.201.872-1.514L7.122.392a1.75 1.75 0 0 1 1.756 0ZM7.875 1.69l-4.63 2.685L8 7.133l4.755-2.758-4.63-2.685a.248.248 0 0 0-.25 0ZM2.5 5.677v5.372c0 .09.047.171.125.216l4.625 2.683V8.432Zm6.25 8.271 4.625-2.683a.25.25 0 0 0 .125-.216V5.677L8.75 8.432Z"></path>
</svg>
</template>

<template id="credit-card-icon">
  <svg aria-hidden="true" height="16" viewBox="0 0 16 16" version="1.1" width="16" data-view-component="true" class="octicon octicon-credit-card">
    <path d="M10.75 9a.75.75 0 0 0 0 1.5h1.5a.75.75 0 0 0 0-1.5h-1.5Z"></path><path d="M0 3.75C0 2.784.784 2 1.75 2h12.5c.966 0 1.75.784 1.75 1.75v8.5A1.75 1.75 0 0 1 14.25 14H1.75A1.75 1.75 0 0 1 0 12.25ZM14.5 6.5h-13v5.75c0 .138.112.25.25.25h12.5a.25.25 0 0 0 .25-.25Zm0-2.75a.25.25 0 0 0-.25-.25H1.75a.25.25 0 0 0-.25.25V5h13Z"></path>
</svg>
</template>

<template id="play-icon">
  <svg aria-hidden="true" height="16" viewBox="0 0 16 16" version="1.1" width="16" data-view-component="true" class="octicon octicon-play">
    <path d="M8 0a8 8 0 1 1 0 16A8 8 0 0 1 8 0ZM1.5 8a6.5 6.5 0 1 0 13 0 6.5 6.5 0 0 0-13 0Zm4.879-2.773 4.264 2.559a.25.25 0 0 1 0 .428l-4.264 2.559A.25.25 0 0 1 6 10.559V5.442a.25.25 0 0 1 .379-.215Z"></path>
</svg>
</template>

<template id="gift-icon">
  <svg aria-hidden="true" height="16" viewBox="0 0 16 16" version="1.1" width="16" data-view-component="true" class="octicon octicon-gift">
    <path d="M2 2.75A2.75 2.75 0 0 1 4.75 0c.983 0 1.873.42 2.57 1.232.268.318.497.668.68 1.042.183-.375.411-.725.68-1.044C9.376.42 10.266 0 11.25 0a2.75 2.75 0 0 1 2.45 4h.55c.966 0 1.75.784 1.75 1.75v2c0 .698-.409 1.301-1 1.582v4.918A1.75 1.75 0 0 1 13.25 16H2.75A1.75 1.75 0 0 1 1 14.25V9.332C.409 9.05 0 8.448 0 7.75v-2C0 4.784.784 4 1.75 4h.55c-.192-.375-.3-.8-.3-1.25ZM7.25 9.5H2.5v4.75c0 .138.112.25.25.25h4.5Zm1.5 0v5h4.5a.25.25 0 0 0 .25-.25V9.5Zm0-4V8h5.5a.25.25 0 0 0 .25-.25v-2a.25.25 0 0 0-.25-.25Zm-7 0a.25.25 0 0 0-.25.25v2c0 .138.112.25.25.25h5.5V5.5h-5.5Zm3-4a1.25 1.25 0 0 0 0 2.5h2.309c-.233-.818-.542-1.401-.878-1.793-.43-.502-.915-.707-1.431-.707ZM8.941 4h2.309a1.25 1.25 0 0 0 0-2.5c-.516 0-1 .205-1.43.707-.337.392-.646.975-.879 1.793Z"></path>
</svg>
</template>

<template id="code-square-icon">
  <svg aria-hidden="true" height="16" viewBox="0 0 16 16" version="1.1" width="16" data-view-component="true" class="octicon octicon-code-square">
    <path d="M0 1.75C0 .784.784 0 1.75 0h12.5C15.216 0 16 .784 16 1.75v12.5A1.75 1.75 0 0 1 14.25 16H1.75A1.75 1.75 0 0 1 0 14.25Zm1.75-.25a.25.25 0 0 0-.25.25v12.5c0 .138.112.25.25.25h12.5a.25.25 0 0 0 .25-.25V1.75a.25.25 0 0 0-.25-.25Zm7.47 3.97a.75.75 0 0 1 1.06 0l2 2a.75.75 0 0 1 0 1.06l-2 2a.749.749 0 0 1-1.275-.326.749.749 0 0 1 .215-.734L10.69 8 9.22 6.53a.75.75 0 0 1 0-1.06ZM6.78 6.53 5.31 8l1.47 1.47a.749.749 0 0 1-.326 1.275.749.749 0 0 1-.734-.215l-2-2a.75.75 0 0 1 0-1.06l2-2a.751.751 0 0 1 1.042.018.751.751 0 0 1 .018 1.042Z"></path>
</svg>
</template>

<template id="device-desktop-icon">
  <svg aria-hidden="true" height="16" viewBox="0 0 16 16" version="1.1" width="16" data-view-component="true" class="octicon octicon-device-desktop">
    <path d="M14.25 1c.966 0 1.75.784 1.75 1.75v7.5A1.75 1.75 0 0 1 14.25 12h-3.727c.099 1.041.52 1.872 1.292 2.757A.752.752 0 0 1 11.25 16h-6.5a.75.75 0 0 1-.565-1.243c.772-.885 1.192-1.716 1.292-2.757H1.75A1.75 1.75 0 0 1 0 10.25v-7.5C0 1.784.784 1 1.75 1ZM1.75 2.5a.25.25 0 0 0-.25.25v7.5c0 .138.112.25.25.25h12.5a.25.25 0 0 0 .25-.25v-7.5a.25.25 0 0 0-.25-.25ZM9.018 12H6.982a5.72 5.72 0 0 1-.765 2.5h3.566a5.72 5.72 0 0 1-.765-2.5Z"></path>
</svg>
</template>

        <div class="position-relative">
                <ul
                  role="listbox"
                  class="ActionListWrap QueryBuilder-ListWrap"
                  aria-label="Suggestions"
                  data-action="
                    combobox-commit:query-builder#comboboxCommit
                    mousedown:query-builder#resultsMousedown
                  "
                  data-target="query-builder.resultsList"
                  data-persist-list=false
                  id="query-builder-test-results"
                ></ul>
        </div>
      <div class="FormControl-inlineValidation" id="validation-50b81d03-5e8f-4e33-a5ee-ada2b791a0d8" hidden="hidden">
        <span class="FormControl-inlineValidation--visual">
          <svg aria-hidden="true" height="12" viewBox="0 0 12 12" version="1.1" width="12" data-view-component="true" class="octicon octicon-alert-fill">
    <path d="M4.855.708c.5-.896 1.79-.896 2.29 0l4.675 8.351a1.312 1.312 0 0 1-1.146 1.954H1.33A1.313 1.313 0 0 1 .183 9.058ZM7 7V3H5v4Zm-1 3a1 1 0 1 0 0-2 1 1 0 0 0 0 2Z"></path>
</svg>
        </span>
        <span></span>
</div>    </div>
    <div data-target="query-builder.screenReaderFeedback" aria-live="polite" aria-atomic="true" class="sr-only"></div>
</query-builder></form>
          <div class="d-flex flex-row color-fg-muted px-3 text-small color-bg-default search-feedback-prompt">
            <a target="_blank" href="https://docs.github.com/search-github/github-code-search/understanding-github-code-search-syntax" data-view-component="true" class="Link color-fg-accent text-normal ml-2">
              Search syntax tips
</a>            <div class="d-flex flex-1"></div>
              <button data-action="click:qbsearch-input#showFeedbackDialog" type="button" data-view-component="true" class="Button--link Button--medium Button color-fg-accent text-normal ml-2">  <span class="Button-content">
    <span class="Button-label">Give feedback</span>
  </span>
</button>
          </div>
        </div>
</div>

    </div>
</modal-dialog></div>
  </div>
  <div data-action="click:qbsearch-input#retract" class="dark-backdrop position-fixed" hidden data-target="qbsearch-input.darkBackdrop"></div>
  <div class="color-fg-default">
    
<dialog-helper>
  <dialog data-target="qbsearch-input.feedbackDialog" data-action="close:qbsearch-input#handleDialogClose cancel:qbsearch-input#handleDialogClose" id="feedback-dialog" aria-modal="true" aria-labelledby="feedback-dialog-title" aria-describedby="feedback-dialog-description" data-view-component="true" class="Overlay Overlay-whenNarrow Overlay--size-medium Overlay--motion-scaleFade">
    <div data-view-component="true" class="Overlay-header">
  <div class="Overlay-headerContentWrap">
    <div class="Overlay-titleWrap">
      <h1 class="Overlay-title " id="feedback-dialog-title">
        Provide feedback
      </h1>
        
    </div>
    <div class="Overlay-actionWrap">
      <button data-close-dialog-id="feedback-dialog" aria-label="Close" type="button" data-view-component="true" class="close-button Overlay-closeButton"><svg aria-hidden="true" height="16" viewBox="0 0 16 16" version="1.1" width="16" data-view-component="true" class="octicon octicon-x">
    <path d="M3.72 3.72a.75.75 0 0 1 1.06 0L8 6.94l3.22-3.22a.749.749 0 0 1 1.275.326.749.749 0 0 1-.215.734L9.06 8l3.22 3.22a.749.749 0 0 1-.326 1.275.749.749 0 0 1-.734-.215L8 9.06l-3.22 3.22a.751.751 0 0 1-1.042-.018.751.751 0 0 1-.018-1.042L6.94 8 3.72 4.78a.75.75 0 0 1 0-1.06Z"></path>
</svg></button>
    </div>
  </div>
  
</div>
      <scrollable-region data-labelled-by="feedback-dialog-title">
        <div data-view-component="true" class="Overlay-body">        <!-- '"` --><!-- </textarea></xmp> --></option></form><form id="code-search-feedback-form" data-turbo="false" action="/search/feedback" accept-charset="UTF-8" method="post"><input type="hidden" name="authenticity_token" value="MZa45d1JrzwqcaFjFy-cATR4MeONfubqeQv18BqPSTjPIv5X5uXcMtJqymaGlGYWy11gN_FN_eUx2rJtR_K1Mg" />
          <p>We read every piece of feedback, and take your input very seriously.</p>
          <textarea name="feedback" class="form-control width-full mb-2" style="height: 120px" id="feedback"></textarea>
          <input name="include_email" id="include_email" aria-label="Include my email address so I can be contacted" class="form-control mr-2" type="checkbox">
          <label for="include_email" style="font-weight: normal">Include my email address so I can be contacted</label>
</form></div>
      </scrollable-region>
      <div data-view-component="true" class="Overlay-footer Overlay-footer--alignEnd">          <button data-close-dialog-id="feedback-dialog" type="button" data-view-component="true" class="btn">    Cancel
</button>
          <button form="code-search-feedback-form" data-action="click:qbsearch-input#submitFeedback" type="submit" data-view-component="true" class="btn-primary btn">    Submit feedback
</button>
</div>
</dialog></dialog-helper>

    <custom-scopes data-target="qbsearch-input.customScopesManager">
    
<dialog-helper>
  <dialog data-target="custom-scopes.customScopesModalDialog" data-action="close:qbsearch-input#handleDialogClose cancel:qbsearch-input#handleDialogClose" id="custom-scopes-dialog" aria-modal="true" aria-labelledby="custom-scopes-dialog-title" aria-describedby="custom-scopes-dialog-description" data-view-component="true" class="Overlay Overlay-whenNarrow Overlay--size-medium Overlay--motion-scaleFade">
    <div data-view-component="true" class="Overlay-header Overlay-header--divided">
  <div class="Overlay-headerContentWrap">
    <div class="Overlay-titleWrap">
      <h1 class="Overlay-title " id="custom-scopes-dialog-title">
        Saved searches
      </h1>
        <h2 id="custom-scopes-dialog-description" class="Overlay-description">Use saved searches to filter your results more quickly</h2>
    </div>
    <div class="Overlay-actionWrap">
      <button data-close-dialog-id="custom-scopes-dialog" aria-label="Close" type="button" data-view-component="true" class="close-button Overlay-closeButton"><svg aria-hidden="true" height="16" viewBox="0 0 16 16" version="1.1" width="16" data-view-component="true" class="octicon octicon-x">
    <path d="M3.72 3.72a.75.75 0 0 1 1.06 0L8 6.94l3.22-3.22a.749.749 0 0 1 1.275.326.749.749 0 0 1-.215.734L9.06 8l3.22 3.22a.749.749 0 0 1-.326 1.275.749.749 0 0 1-.734-.215L8 9.06l-3.22 3.22a.751.751 0 0 1-1.042-.018.751.751 0 0 1-.018-1.042L6.94 8 3.72 4.78a.75.75 0 0 1 0-1.06Z"></path>
</svg></button>
    </div>
  </div>
  
</div>
      <scrollable-region data-labelled-by="custom-scopes-dialog-title">
        <div data-view-component="true" class="Overlay-body">        <div data-target="custom-scopes.customScopesModalDialogFlash"></div>

        <div hidden class="create-custom-scope-form" data-target="custom-scopes.createCustomScopeForm">
        <!-- '"` --><!-- </textarea></xmp> --></option></form><form id="custom-scopes-dialog-form" data-turbo="false" action="/search/custom_scopes" accept-charset="UTF-8" method="post"><input type="hidden" name="authenticity_token" value="B-hQVWvPUotKniGMmg-Vqzp7OitL14VbHteJolNuAYp23EiU8kMGgVkxVFD27-l0BYP1bPDvDdEnmaGYN6_0gg" />
          <div data-target="custom-scopes.customScopesModalDialogFlash"></div>

          <input type="hidden" id="custom_scope_id" name="custom_scope_id" data-target="custom-scopes.customScopesIdField">

          <div class="form-group">
            <label for="custom_scope_name">Name</label>
            <auto-check src="/search/custom_scopes/check_name" required>
              <input
                type="text"
                name="custom_scope_name"
                id="custom_scope_name"
                data-target="custom-scopes.customScopesNameField"
                class="form-control"
                autocomplete="off"
                placeholder="github-ruby"
                required
                maxlength="50">
              <input type="hidden" value="RFQNv1siXNA8sF1CXG3qNE9wsXmaTxgtqi5T-g7sQBBnW3qUfzG7sahDv82W7YZzypg5TAicXAInjDrGWoX-TA" data-csrf="true" />
            </auto-check>
          </div>

          <div class="form-group">
            <label for="custom_scope_query">Query</label>
            <input
              type="text"
              name="custom_scope_query"
              id="custom_scope_query"
              data-target="custom-scopes.customScopesQueryField"
              class="form-control"
              autocomplete="off"
              placeholder="(repo:mona/a OR repo:mona/b) AND lang:python"
              required
              maxlength="500">
          </div>

          <p class="text-small color-fg-muted">
            To see all available qualifiers, see our <a class="Link--inTextBlock" href="https://docs.github.com/search-github/github-code-search/understanding-github-code-search-syntax">documentation</a>.
          </p>
</form>        </div>

        <div data-target="custom-scopes.manageCustomScopesForm">
          <div data-target="custom-scopes.list"></div>
        </div>

</div>
      </scrollable-region>
      <div data-view-component="true" class="Overlay-footer Overlay-footer--alignEnd Overlay-footer--divided">          <button data-action="click:custom-scopes#customScopesCancel" type="button" data-view-component="true" class="btn">    Cancel
</button>
          <button form="custom-scopes-dialog-form" data-action="click:custom-scopes#customScopesSubmit" data-target="custom-scopes.customScopesSubmitButton" type="submit" data-view-component="true" class="btn-primary btn">    Create saved search
</button>
</div>
</dialog></dialog-helper>
    </custom-scopes>
  </div>
</qbsearch-input>    <input type="hidden" value="KMuajhrlVxlHZkd8q52ZaSXAvCX7Wwgj2bcc7mzOLclzzAokO_ECD92kMJSeGhVLKwCf3UOzxeZ2ZsRGkKKOiA" data-csrf="true" class="js-data-jump-to-suggestions-path-csrf" />

          </div>

        <div class="AppHeader-actions position-relative">
             <react-partial-anchor>
      <button id="global-create-menu-anchor" aria-label="Create something new" data-target="react-partial-anchor.anchor" type="button" disabled="disabled" data-view-component="true" class="AppHeader-button global-create-button cursor-wait Button--secondary Button--medium Button width-auto color-fg-muted">  <span class="Button-content">
      <span class="Button-visual Button-leadingVisual">
        <svg aria-hidden="true" height="16" viewBox="0 0 16 16" version="1.1" width="16" data-view-component="true" class="octicon octicon-plus">
    <path d="M7.75 2a.75.75 0 0 1 .75.75V7h4.25a.75.75 0 0 1 0 1.5H8.5v4.25a.75.75 0 0 1-1.5 0V8.5H2.75a.75.75 0 0 1 0-1.5H7V2.75A.75.75 0 0 1 7.75 2Z"></path>
</svg>
      </span>
    <span class="Button-label"><svg aria-hidden="true" height="16" viewBox="0 0 16 16" version="1.1" width="16" data-view-component="true" class="octicon octicon-triangle-down">
    <path d="m4.427 7.427 3.396 3.396a.25.25 0 0 0 .354 0l3.396-3.396A.25.25 0 0 0 11.396 7H4.604a.25.25 0 0 0-.177.427Z"></path>
</svg></span>
  </span>
</button><tool-tip id="tooltip-edd40276-ab76-4243-897c-c2c7e9a31996" for="global-create-menu-anchor" popover="manual" data-direction="s" data-type="description" data-view-component="true" class="sr-only position-absolute">Create new...</tool-tip>

      <template data-target="react-partial-anchor.template">
        <script crossorigin="anonymous" defer="defer" type="application/javascript" src="https://github.githubassets.com/assets/vendors-node_modules_primer_react_lib-esm_Link_Link_js-node_modules_primer_react_lib-esm_Spin-5d19c4-27a4a16803c5.js"></script>
<script crossorigin="anonymous" defer="defer" type="application/javascript" src="https://github.githubassets.com/assets/ui_packages_react-core_register-partial_ts-ui_packages_global-create-menu_GlobalCreateMenu_tsx-3ccd46b5f439.js"></script>
<script crossorigin="anonymous" defer="defer" type="application/javascript" src="https://github.githubassets.com/assets/global-create-menu-ae41230f8ade.js"></script>

<react-partial
  partial-name="global-create-menu"
  data-ssr="false"
  datta-attempted-ssr="false"
>
  
  <script type="application/json" data-target="react-partial.embeddedData">{"props":{"createRepo":true,"importRepo":true,"codespaces":true,"gist":true,"createOrg":true,"createProject":false,"createProjectUrl":"/davfranco1?tab=projects","createLegacyProject":false,"createIssue":false,"org":null,"owner":"joseluisalmendral","repo":"Ejercicios_Dia1_Hackio"}}</script>
  <div data-target="react-partial.reactRoot"></div>
</react-partial>

      </template>
    </react-partial-anchor>


          <a href="/issues" data-analytics-event="{&quot;category&quot;:&quot;Global navigation&quot;,&quot;action&quot;:&quot;ISSUES_HEADER&quot;,&quot;label&quot;:null}" id="icon-button-0125f421-b815-4604-a0f7-782341e87610" aria-labelledby="tooltip-7682d8a5-7e80-4730-b745-8ca2c24ee712" data-view-component="true" class="Button Button--iconOnly Button--secondary Button--medium AppHeader-button color-fg-muted">  <svg aria-hidden="true" height="16" viewBox="0 0 16 16" version="1.1" width="16" data-view-component="true" class="octicon octicon-issue-opened Button-visual">
    <path d="M8 9.5a1.5 1.5 0 1 0 0-3 1.5 1.5 0 0 0 0 3Z"></path><path d="M8 0a8 8 0 1 1 0 16A8 8 0 0 1 8 0ZM1.5 8a6.5 6.5 0 1 0 13 0 6.5 6.5 0 0 0-13 0Z"></path>
</svg>
</a><tool-tip id="tooltip-7682d8a5-7e80-4730-b745-8ca2c24ee712" for="icon-button-0125f421-b815-4604-a0f7-782341e87610" popover="manual" data-direction="s" data-type="label" data-view-component="true" class="sr-only position-absolute">Issues</tool-tip>

          <a href="/pulls" data-analytics-event="{&quot;category&quot;:&quot;Global navigation&quot;,&quot;action&quot;:&quot;PULL_REQUESTS_HEADER&quot;,&quot;label&quot;:null}" id="icon-button-aaf983eb-012a-42a4-b623-b23bd6a5aa74" aria-labelledby="tooltip-2ac61b1b-eb0a-4ff5-bc65-b0a1e99f7a31" data-view-component="true" class="Button Button--iconOnly Button--secondary Button--medium AppHeader-button color-fg-muted">  <svg aria-hidden="true" height="16" viewBox="0 0 16 16" version="1.1" width="16" data-view-component="true" class="octicon octicon-git-pull-request Button-visual">
    <path d="M1.5 3.25a2.25 2.25 0 1 1 3 2.122v5.256a2.251 2.251 0 1 1-1.5 0V5.372A2.25 2.25 0 0 1 1.5 3.25Zm5.677-.177L9.573.677A.25.25 0 0 1 10 .854V2.5h1A2.5 2.5 0 0 1 13.5 5v5.628a2.251 2.251 0 1 1-1.5 0V5a1 1 0 0 0-1-1h-1v1.646a.25.25 0 0 1-.427.177L7.177 3.427a.25.25 0 0 1 0-.354ZM3.75 2.5a.75.75 0 1 0 0 1.5.75.75 0 0 0 0-1.5Zm0 9.5a.75.75 0 1 0 0 1.5.75.75 0 0 0 0-1.5Zm8.25.75a.75.75 0 1 0 1.5 0 .75.75 0 0 0-1.5 0Z"></path>
</svg>
</a><tool-tip id="tooltip-2ac61b1b-eb0a-4ff5-bc65-b0a1e99f7a31" for="icon-button-aaf983eb-012a-42a4-b623-b23bd6a5aa74" popover="manual" data-direction="s" data-type="label" data-view-component="true" class="sr-only position-absolute">Pull requests</tool-tip>

        </div>

        <notification-indicator data-channel="eyJjIjoibm90aWZpY2F0aW9uLWNoYW5nZWQ6MTc4ODM3OTIxIiwidCI6MTcyNzgxODA3M30=--0439ea2b572745017fa81abb3e51c4017c6c4a29baf9612331dcda83484ef6f7" data-indicator-mode="none" data-tooltip-global="You have unread notifications" data-tooltip-unavailable="Notifications are unavailable at the moment." data-tooltip-none="You have no unread notifications" data-header-redesign-enabled="true" data-fetch-indicator-src="/notifications/indicator" data-fetch-indicator-enabled="true" data-view-component="true" class="js-socket-channel">
    <a id="AppHeader-notifications-button" href="/notifications" aria-labelledby="notification-indicator-tooltip" data-hotkey="g n" data-target="notification-indicator.link" data-analytics-event="{&quot;category&quot;:&quot;Global navigation&quot;,&quot;action&quot;:&quot;NOTIFICATIONS_HEADER&quot;,&quot;label&quot;:null}" data-view-component="true" class="Button Button--iconOnly Button--secondary Button--medium AppHeader-button  color-fg-muted">  <svg aria-hidden="true" height="16" viewBox="0 0 16 16" version="1.1" width="16" data-view-component="true" class="octicon octicon-inbox Button-visual">
    <path d="M2.8 2.06A1.75 1.75 0 0 1 4.41 1h7.18c.7 0 1.333.417 1.61 1.06l2.74 6.395c.04.093.06.194.06.295v4.5A1.75 1.75 0 0 1 14.25 15H1.75A1.75 1.75 0 0 1 0 13.25v-4.5c0-.101.02-.202.06-.295Zm1.61.44a.25.25 0 0 0-.23.152L1.887 8H4.75a.75.75 0 0 1 .6.3L6.625 10h2.75l1.275-1.7a.75.75 0 0 1 .6-.3h2.863L11.82 2.652a.25.25 0 0 0-.23-.152Zm10.09 7h-2.875l-1.275 1.7a.75.75 0 0 1-.6.3h-3.5a.75.75 0 0 1-.6-.3L4.375 9.5H1.5v3.75c0 .138.112.25.25.25h12.5a.25.25 0 0 0 .25-.25Z"></path>
</svg>
</a>

    <tool-tip id="notification-indicator-tooltip" data-target="notification-indicator.tooltip" for="AppHeader-notifications-button" popover="manual" data-direction="s" data-type="label" data-view-component="true" class="sr-only position-absolute">Notifications</tool-tip>
</notification-indicator>

        

        <div class="AppHeader-user">
          <deferred-side-panel data-url="/_side-panels/user?repository_id=865958249">
  <include-fragment data-target="deferred-side-panel.fragment">
    <react-partial-anchor
  
>
  <button data-target="react-partial-anchor.anchor" data-login="davfranco1" aria-label="Open user navigation menu" type="button" data-view-component="true" class="cursor-wait Button--invisible Button--medium Button Button--invisible-noVisuals color-bg-transparent p-0">  <span class="Button-content">
    <span class="Button-label"><img src="https://avatars.githubusercontent.com/u/178837921?v=4" alt="" size="32" height="32" width="32" data-view-component="true" class="avatar circle" /></span>
  </span>
</button>
  <template data-target="react-partial-anchor.template">
    <script crossorigin="anonymous" defer="defer" type="application/javascript" src="https://github.githubassets.com/assets/global-user-nav-drawer-e429340f23c4.js"></script>
<link crossorigin="anonymous" media="all" rel="stylesheet" href="https://github.githubassets.com/assets/global-user-nav-drawer.830d6c10c9fea7fc134e.module.css" />

<react-partial
  partial-name="global-user-nav-drawer"
  data-ssr="false"
  datta-attempted-ssr="false"
>
  
  <script type="application/json" data-target="react-partial.embeddedData">{"props":{"owner":{"login":"davfranco1","name":null,"avatarUrl":"https://avatars.githubusercontent.com/u/178837921?v=4"},"drawerId":"global-user-nav-drawer","lazyLoadItemDataFetchUrl":"/_side-panels/user.json","canAddAccount":true,"addAccountPath":"/login?add_account=1\u0026return_to=https%3A%2F%2Fgithub.com%2Fjoseluisalmendral%2FEjercicios_Dia1_Hackio%2Fblob%2Fmaster%2Fnumero_falta.ipynb","switchAccountPath":"/switch_account","loginAccountPath":"/login?add_account=1","projectsPath":"/davfranco1?tab=projects","gistsUrl":"https://gist.github.com/mine","docsUrl":"https://docs.github.com","yourEnterpriseUrl":null,"enterpriseSettingsUrl":null,"supportUrl":"https://support.github.com","showAccountSwitcher":true,"showEnterprises":true,"showEnterprise":false,"showGists":true,"showSponsors":true,"showFeaturesPreviews":true,"showEnterpriseSettings":false,"createMenuProps":{"createRepo":true,"importRepo":true,"codespaces":true,"gist":true,"createOrg":true,"createProject":false,"createProjectUrl":"/davfranco1?tab=projects","createLegacyProject":false,"createIssue":false,"org":null,"owner":"joseluisalmendral","repo":"Ejercicios_Dia1_Hackio"}}}</script>
  <div data-target="react-partial.reactRoot"></div>
</react-partial>

  </template>
</react-partial-anchor>

  </include-fragment>
</deferred-side-panel>
        </div>

        <div class="position-absolute mt-2">
            
<site-header-logged-in-user-menu>

</site-header-logged-in-user-menu>

        </div>
      </div>
    </div>


      <div class="AppHeader-localBar" >
        <nav data-pjax="#js-repo-pjax-container" aria-label="Repository" data-view-component="true" class="js-repo-nav js-sidenav-container-pjax js-responsive-underlinenav overflow-hidden UnderlineNav">

  <ul data-view-component="true" class="UnderlineNav-body list-style-none">
      <li data-view-component="true" class="d-inline-flex">
  <a id="code-tab" href="/joseluisalmendral/Ejercicios_Dia1_Hackio" data-tab-item="i0code-tab" data-selected-links="repo_source repo_downloads repo_commits repo_releases repo_tags repo_branches repo_packages repo_deployments repo_attestations /joseluisalmendral/Ejercicios_Dia1_Hackio" data-pjax="#repo-content-pjax-container" data-turbo-frame="repo-content-turbo-frame" data-hotkey="g c" data-analytics-event="{&quot;category&quot;:&quot;Underline navbar&quot;,&quot;action&quot;:&quot;Click tab&quot;,&quot;label&quot;:&quot;Code&quot;,&quot;target&quot;:&quot;UNDERLINE_NAV.TAB&quot;}" data-view-component="true" class="UnderlineNav-item no-wrap js-responsive-underlinenav-item js-selected-navigation-item">
    
              <svg aria-hidden="true" height="16" viewBox="0 0 16 16" version="1.1" width="16" data-view-component="true" class="octicon octicon-code UnderlineNav-octicon d-none d-sm-inline">
    <path d="m11.28 3.22 4.25 4.25a.75.75 0 0 1 0 1.06l-4.25 4.25a.749.749 0 0 1-1.275-.326.749.749 0 0 1 .215-.734L13.94 8l-3.72-3.72a.749.749 0 0 1 .326-1.275.749.749 0 0 1 .734.215Zm-6.56 0a.751.751 0 0 1 1.042.018.751.751 0 0 1 .018 1.042L2.06 8l3.72 3.72a.749.749 0 0 1-.326 1.275.749.749 0 0 1-.734-.215L.47 8.53a.75.75 0 0 1 0-1.06Z"></path>
</svg>
        <span data-content="Code">Code</span>
          <span id="code-repo-tab-count" data-pjax-replace="" data-turbo-replace="" title="Not available" data-view-component="true" class="Counter"></span>


    
</a></li>
      <li data-view-component="true" class="d-inline-flex">
  <a id="issues-tab" href="/joseluisalmendral/Ejercicios_Dia1_Hackio/issues" data-tab-item="i1issues-tab" data-selected-links="repo_issues repo_labels repo_milestones /joseluisalmendral/Ejercicios_Dia1_Hackio/issues" data-pjax="#repo-content-pjax-container" data-turbo-frame="repo-content-turbo-frame" data-hotkey="g i" data-analytics-event="{&quot;category&quot;:&quot;Underline navbar&quot;,&quot;action&quot;:&quot;Click tab&quot;,&quot;label&quot;:&quot;Issues&quot;,&quot;target&quot;:&quot;UNDERLINE_NAV.TAB&quot;}" data-view-component="true" class="UnderlineNav-item no-wrap js-responsive-underlinenav-item js-selected-navigation-item">
    
              <svg aria-hidden="true" height="16" viewBox="0 0 16 16" version="1.1" width="16" data-view-component="true" class="octicon octicon-issue-opened UnderlineNav-octicon d-none d-sm-inline">
    <path d="M8 9.5a1.5 1.5 0 1 0 0-3 1.5 1.5 0 0 0 0 3Z"></path><path d="M8 0a8 8 0 1 1 0 16A8 8 0 0 1 8 0ZM1.5 8a6.5 6.5 0 1 0 13 0 6.5 6.5 0 0 0-13 0Z"></path>
</svg>
        <span data-content="Issues">Issues</span>
          <span id="issues-repo-tab-count" data-pjax-replace="" data-turbo-replace="" title="0" hidden="hidden" data-view-component="true" class="Counter">0</span>


    
</a></li>
      <li data-view-component="true" class="d-inline-flex">
  <a id="pull-requests-tab" href="/joseluisalmendral/Ejercicios_Dia1_Hackio/pulls" data-tab-item="i2pull-requests-tab" data-selected-links="repo_pulls checks /joseluisalmendral/Ejercicios_Dia1_Hackio/pulls" data-pjax="#repo-content-pjax-container" data-turbo-frame="repo-content-turbo-frame" data-hotkey="g p" data-analytics-event="{&quot;category&quot;:&quot;Underline navbar&quot;,&quot;action&quot;:&quot;Click tab&quot;,&quot;label&quot;:&quot;Pull requests&quot;,&quot;target&quot;:&quot;UNDERLINE_NAV.TAB&quot;}" data-view-component="true" class="UnderlineNav-item no-wrap js-responsive-underlinenav-item js-selected-navigation-item">
    
              <svg aria-hidden="true" height="16" viewBox="0 0 16 16" version="1.1" width="16" data-view-component="true" class="octicon octicon-git-pull-request UnderlineNav-octicon d-none d-sm-inline">
    <path d="M1.5 3.25a2.25 2.25 0 1 1 3 2.122v5.256a2.251 2.251 0 1 1-1.5 0V5.372A2.25 2.25 0 0 1 1.5 3.25Zm5.677-.177L9.573.677A.25.25 0 0 1 10 .854V2.5h1A2.5 2.5 0 0 1 13.5 5v5.628a2.251 2.251 0 1 1-1.5 0V5a1 1 0 0 0-1-1h-1v1.646a.25.25 0 0 1-.427.177L7.177 3.427a.25.25 0 0 1 0-.354ZM3.75 2.5a.75.75 0 1 0 0 1.5.75.75 0 0 0 0-1.5Zm0 9.5a.75.75 0 1 0 0 1.5.75.75 0 0 0 0-1.5Zm8.25.75a.75.75 0 1 0 1.5 0 .75.75 0 0 0-1.5 0Z"></path>
</svg>
        <span data-content="Pull requests">Pull requests</span>
          <span id="pull-requests-repo-tab-count" data-pjax-replace="" data-turbo-replace="" title="0" hidden="hidden" data-view-component="true" class="Counter">0</span>


    
</a></li>
      <li data-view-component="true" class="d-inline-flex">
  <a id="actions-tab" href="/joseluisalmendral/Ejercicios_Dia1_Hackio/actions" data-tab-item="i3actions-tab" data-selected-links="repo_actions /joseluisalmendral/Ejercicios_Dia1_Hackio/actions" data-pjax="#repo-content-pjax-container" data-turbo-frame="repo-content-turbo-frame" data-hotkey="g a" data-analytics-event="{&quot;category&quot;:&quot;Underline navbar&quot;,&quot;action&quot;:&quot;Click tab&quot;,&quot;label&quot;:&quot;Actions&quot;,&quot;target&quot;:&quot;UNDERLINE_NAV.TAB&quot;}" data-view-component="true" class="UnderlineNav-item no-wrap js-responsive-underlinenav-item js-selected-navigation-item">
    
              <svg aria-hidden="true" height="16" viewBox="0 0 16 16" version="1.1" width="16" data-view-component="true" class="octicon octicon-play UnderlineNav-octicon d-none d-sm-inline">
    <path d="M8 0a8 8 0 1 1 0 16A8 8 0 0 1 8 0ZM1.5 8a6.5 6.5 0 1 0 13 0 6.5 6.5 0 0 0-13 0Zm4.879-2.773 4.264 2.559a.25.25 0 0 1 0 .428l-4.264 2.559A.25.25 0 0 1 6 10.559V5.442a.25.25 0 0 1 .379-.215Z"></path>
</svg>
        <span data-content="Actions">Actions</span>
          <span id="actions-repo-tab-count" data-pjax-replace="" data-turbo-replace="" title="Not available" data-view-component="true" class="Counter"></span>


    
</a></li>
      <li data-view-component="true" class="d-inline-flex">
  <a id="projects-tab" href="/joseluisalmendral/Ejercicios_Dia1_Hackio/projects" data-tab-item="i4projects-tab" data-selected-links="repo_projects new_repo_project repo_project /joseluisalmendral/Ejercicios_Dia1_Hackio/projects" data-pjax="#repo-content-pjax-container" data-turbo-frame="repo-content-turbo-frame" data-hotkey="g b" data-analytics-event="{&quot;category&quot;:&quot;Underline navbar&quot;,&quot;action&quot;:&quot;Click tab&quot;,&quot;label&quot;:&quot;Projects&quot;,&quot;target&quot;:&quot;UNDERLINE_NAV.TAB&quot;}" data-view-component="true" class="UnderlineNav-item no-wrap js-responsive-underlinenav-item js-selected-navigation-item">
    
              <svg aria-hidden="true" height="16" viewBox="0 0 16 16" version="1.1" width="16" data-view-component="true" class="octicon octicon-table UnderlineNav-octicon d-none d-sm-inline">
    <path d="M0 1.75C0 .784.784 0 1.75 0h12.5C15.216 0 16 .784 16 1.75v12.5A1.75 1.75 0 0 1 14.25 16H1.75A1.75 1.75 0 0 1 0 14.25ZM6.5 6.5v8h7.75a.25.25 0 0 0 .25-.25V6.5Zm8-1.5V1.75a.25.25 0 0 0-.25-.25H6.5V5Zm-13 1.5v7.75c0 .138.112.25.25.25H5v-8ZM5 5V1.5H1.75a.25.25 0 0 0-.25.25V5Z"></path>
</svg>
        <span data-content="Projects">Projects</span>
          <span id="projects-repo-tab-count" data-pjax-replace="" data-turbo-replace="" title="0" hidden="hidden" data-view-component="true" class="Counter">0</span>


    
</a></li>
      <li data-view-component="true" class="d-inline-flex">
  <a id="security-tab" href="/joseluisalmendral/Ejercicios_Dia1_Hackio/security" data-tab-item="i5security-tab" data-selected-links="security overview alerts policy token_scanning code_scanning /joseluisalmendral/Ejercicios_Dia1_Hackio/security" data-pjax="#repo-content-pjax-container" data-turbo-frame="repo-content-turbo-frame" data-hotkey="g s" data-analytics-event="{&quot;category&quot;:&quot;Underline navbar&quot;,&quot;action&quot;:&quot;Click tab&quot;,&quot;label&quot;:&quot;Security&quot;,&quot;target&quot;:&quot;UNDERLINE_NAV.TAB&quot;}" data-view-component="true" class="UnderlineNav-item no-wrap js-responsive-underlinenav-item js-selected-navigation-item">
    
              <svg aria-hidden="true" height="16" viewBox="0 0 16 16" version="1.1" width="16" data-view-component="true" class="octicon octicon-shield UnderlineNav-octicon d-none d-sm-inline">
    <path d="M7.467.133a1.748 1.748 0 0 1 1.066 0l5.25 1.68A1.75 1.75 0 0 1 15 3.48V7c0 1.566-.32 3.182-1.303 4.682-.983 1.498-2.585 2.813-5.032 3.855a1.697 1.697 0 0 1-1.33 0c-2.447-1.042-4.049-2.357-5.032-3.855C1.32 10.182 1 8.566 1 7V3.48a1.75 1.75 0 0 1 1.217-1.667Zm.61 1.429a.25.25 0 0 0-.153 0l-5.25 1.68a.25.25 0 0 0-.174.238V7c0 1.358.275 2.666 1.057 3.86.784 1.194 2.121 2.34 4.366 3.297a.196.196 0 0 0 .154 0c2.245-.956 3.582-2.104 4.366-3.298C13.225 9.666 13.5 8.36 13.5 7V3.48a.251.251 0 0 0-.174-.237l-5.25-1.68ZM8.75 4.75v3a.75.75 0 0 1-1.5 0v-3a.75.75 0 0 1 1.5 0ZM9 10.5a1 1 0 1 1-2 0 1 1 0 0 1 2 0Z"></path>
</svg>
        <span data-content="Security">Security</span>
          <include-fragment src="/joseluisalmendral/Ejercicios_Dia1_Hackio/security/overall-count" accept="text/fragment+html"></include-fragment>

    
</a></li>
      <li data-view-component="true" class="d-inline-flex">
  <a id="insights-tab" href="/joseluisalmendral/Ejercicios_Dia1_Hackio/pulse" data-tab-item="i6insights-tab" data-selected-links="repo_graphs repo_contributors dependency_graph dependabot_updates pulse people community /joseluisalmendral/Ejercicios_Dia1_Hackio/pulse" data-pjax="#repo-content-pjax-container" data-turbo-frame="repo-content-turbo-frame" data-analytics-event="{&quot;category&quot;:&quot;Underline navbar&quot;,&quot;action&quot;:&quot;Click tab&quot;,&quot;label&quot;:&quot;Insights&quot;,&quot;target&quot;:&quot;UNDERLINE_NAV.TAB&quot;}" data-view-component="true" class="UnderlineNav-item no-wrap js-responsive-underlinenav-item js-selected-navigation-item">
    
              <svg aria-hidden="true" height="16" viewBox="0 0 16 16" version="1.1" width="16" data-view-component="true" class="octicon octicon-graph UnderlineNav-octicon d-none d-sm-inline">
    <path d="M1.5 1.75V13.5h13.75a.75.75 0 0 1 0 1.5H.75a.75.75 0 0 1-.75-.75V1.75a.75.75 0 0 1 1.5 0Zm14.28 2.53-5.25 5.25a.75.75 0 0 1-1.06 0L7 7.06 4.28 9.78a.751.751 0 0 1-1.042-.018.751.751 0 0 1-.018-1.042l3.25-3.25a.75.75 0 0 1 1.06 0L10 7.94l4.72-4.72a.751.751 0 0 1 1.042.018.751.751 0 0 1 .018 1.042Z"></path>
</svg>
        <span data-content="Insights">Insights</span>
          <span id="insights-repo-tab-count" data-pjax-replace="" data-turbo-replace="" title="Not available" data-view-component="true" class="Counter"></span>


    
</a></li>
</ul>
    <div style="visibility:hidden;" data-view-component="true" class="UnderlineNav-actions js-responsive-underlinenav-overflow position-absolute pr-3 pr-md-4 pr-lg-5 right-0">      <action-menu data-select-variant="none" data-view-component="true">
  <focus-group direction="vertical" mnemonics retain>
    <button id="action-menu-05146ebf-21ef-4426-b323-a307084f6f0b-button" popovertarget="action-menu-05146ebf-21ef-4426-b323-a307084f6f0b-overlay" aria-controls="action-menu-05146ebf-21ef-4426-b323-a307084f6f0b-list" aria-haspopup="true" aria-labelledby="tooltip-0e022ed0-f4e9-4143-9c8f-f5c436bacc0b" type="button" data-view-component="true" class="Button Button--iconOnly Button--secondary Button--medium UnderlineNav-item">  <svg aria-hidden="true" height="16" viewBox="0 0 16 16" version="1.1" width="16" data-view-component="true" class="octicon octicon-kebab-horizontal Button-visual">
    <path d="M8 9a1.5 1.5 0 1 0 0-3 1.5 1.5 0 0 0 0 3ZM1.5 9a1.5 1.5 0 1 0 0-3 1.5 1.5 0 0 0 0 3Zm13 0a1.5 1.5 0 1 0 0-3 1.5 1.5 0 0 0 0 3Z"></path>
</svg>
</button><tool-tip id="tooltip-0e022ed0-f4e9-4143-9c8f-f5c436bacc0b" for="action-menu-05146ebf-21ef-4426-b323-a307084f6f0b-button" popover="manual" data-direction="s" data-type="label" data-view-component="true" class="sr-only position-absolute">Additional navigation options</tool-tip>


<anchored-position id="action-menu-05146ebf-21ef-4426-b323-a307084f6f0b-overlay" anchor="action-menu-05146ebf-21ef-4426-b323-a307084f6f0b-button" align="start" side="outside-bottom" anchor-offset="normal" popover="auto" data-view-component="true">
  <div data-view-component="true" class="Overlay Overlay--size-auto">
    
      <div data-view-component="true" class="Overlay-body Overlay-body--paddingNone">          <action-list>
  <div data-view-component="true">
    <ul aria-labelledby="action-menu-05146ebf-21ef-4426-b323-a307084f6f0b-button" id="action-menu-05146ebf-21ef-4426-b323-a307084f6f0b-list" role="menu" data-view-component="true" class="ActionListWrap--inset ActionListWrap">
        <li hidden="hidden" data-menu-item="i0code-tab" data-targets="action-list.items" role="none" data-view-component="true" class="ActionListItem">
    
    
    <a tabindex="-1" id="item-8a249c4e-32d7-4fd9-8fbf-0faec88256b3" href="/joseluisalmendral/Ejercicios_Dia1_Hackio" role="menuitem" data-view-component="true" class="ActionListContent ActionListContent--visual16">
        <span class="ActionListItem-visual ActionListItem-visual--leading">
          <svg aria-hidden="true" height="16" viewBox="0 0 16 16" version="1.1" width="16" data-view-component="true" class="octicon octicon-code">
    <path d="m11.28 3.22 4.25 4.25a.75.75 0 0 1 0 1.06l-4.25 4.25a.749.749 0 0 1-1.275-.326.749.749 0 0 1 .215-.734L13.94 8l-3.72-3.72a.749.749 0 0 1 .326-1.275.749.749 0 0 1 .734.215Zm-6.56 0a.751.751 0 0 1 1.042.018.751.751 0 0 1 .018 1.042L2.06 8l3.72 3.72a.749.749 0 0 1-.326 1.275.749.749 0 0 1-.734-.215L.47 8.53a.75.75 0 0 1 0-1.06Z"></path>
</svg>
        </span>
      
        <span data-view-component="true" class="ActionListItem-label">
          Code
</span>      
</a>
  
</li>
        <li hidden="hidden" data-menu-item="i1issues-tab" data-targets="action-list.items" role="none" data-view-component="true" class="ActionListItem">
    
    
    <a tabindex="-1" id="item-fa01d7a2-0cca-4377-8058-8f9ef7282859" href="/joseluisalmendral/Ejercicios_Dia1_Hackio/issues" role="menuitem" data-view-component="true" class="ActionListContent ActionListContent--visual16">
        <span class="ActionListItem-visual ActionListItem-visual--leading">
          <svg aria-hidden="true" height="16" viewBox="0 0 16 16" version="1.1" width="16" data-view-component="true" class="octicon octicon-issue-opened">
    <path d="M8 9.5a1.5 1.5 0 1 0 0-3 1.5 1.5 0 0 0 0 3Z"></path><path d="M8 0a8 8 0 1 1 0 16A8 8 0 0 1 8 0ZM1.5 8a6.5 6.5 0 1 0 13 0 6.5 6.5 0 0 0-13 0Z"></path>
</svg>
        </span>
      
        <span data-view-component="true" class="ActionListItem-label">
          Issues
</span>      
</a>
  
</li>
        <li hidden="hidden" data-menu-item="i2pull-requests-tab" data-targets="action-list.items" role="none" data-view-component="true" class="ActionListItem">
    
    
    <a tabindex="-1" id="item-e1a7ab89-f658-4e16-9bf7-520d55ed16e9" href="/joseluisalmendral/Ejercicios_Dia1_Hackio/pulls" role="menuitem" data-view-component="true" class="ActionListContent ActionListContent--visual16">
        <span class="ActionListItem-visual ActionListItem-visual--leading">
          <svg aria-hidden="true" height="16" viewBox="0 0 16 16" version="1.1" width="16" data-view-component="true" class="octicon octicon-git-pull-request">
    <path d="M1.5 3.25a2.25 2.25 0 1 1 3 2.122v5.256a2.251 2.251 0 1 1-1.5 0V5.372A2.25 2.25 0 0 1 1.5 3.25Zm5.677-.177L9.573.677A.25.25 0 0 1 10 .854V2.5h1A2.5 2.5 0 0 1 13.5 5v5.628a2.251 2.251 0 1 1-1.5 0V5a1 1 0 0 0-1-1h-1v1.646a.25.25 0 0 1-.427.177L7.177 3.427a.25.25 0 0 1 0-.354ZM3.75 2.5a.75.75 0 1 0 0 1.5.75.75 0 0 0 0-1.5Zm0 9.5a.75.75 0 1 0 0 1.5.75.75 0 0 0 0-1.5Zm8.25.75a.75.75 0 1 0 1.5 0 .75.75 0 0 0-1.5 0Z"></path>
</svg>
        </span>
      
        <span data-view-component="true" class="ActionListItem-label">
          Pull requests
</span>      
</a>
  
</li>
        <li hidden="hidden" data-menu-item="i3actions-tab" data-targets="action-list.items" role="none" data-view-component="true" class="ActionListItem">
    
    
    <a tabindex="-1" id="item-17aef573-5047-46a7-b2cf-39d2082b1a13" href="/joseluisalmendral/Ejercicios_Dia1_Hackio/actions" role="menuitem" data-view-component="true" class="ActionListContent ActionListContent--visual16">
        <span class="ActionListItem-visual ActionListItem-visual--leading">
          <svg aria-hidden="true" height="16" viewBox="0 0 16 16" version="1.1" width="16" data-view-component="true" class="octicon octicon-play">
    <path d="M8 0a8 8 0 1 1 0 16A8 8 0 0 1 8 0ZM1.5 8a6.5 6.5 0 1 0 13 0 6.5 6.5 0 0 0-13 0Zm4.879-2.773 4.264 2.559a.25.25 0 0 1 0 .428l-4.264 2.559A.25.25 0 0 1 6 10.559V5.442a.25.25 0 0 1 .379-.215Z"></path>
</svg>
        </span>
      
        <span data-view-component="true" class="ActionListItem-label">
          Actions
</span>      
</a>
  
</li>
        <li hidden="hidden" data-menu-item="i4projects-tab" data-targets="action-list.items" role="none" data-view-component="true" class="ActionListItem">
    
    
    <a tabindex="-1" id="item-31e2882e-3661-4d17-9130-af35339efd06" href="/joseluisalmendral/Ejercicios_Dia1_Hackio/projects" role="menuitem" data-view-component="true" class="ActionListContent ActionListContent--visual16">
        <span class="ActionListItem-visual ActionListItem-visual--leading">
          <svg aria-hidden="true" height="16" viewBox="0 0 16 16" version="1.1" width="16" data-view-component="true" class="octicon octicon-table">
    <path d="M0 1.75C0 .784.784 0 1.75 0h12.5C15.216 0 16 .784 16 1.75v12.5A1.75 1.75 0 0 1 14.25 16H1.75A1.75 1.75 0 0 1 0 14.25ZM6.5 6.5v8h7.75a.25.25 0 0 0 .25-.25V6.5Zm8-1.5V1.75a.25.25 0 0 0-.25-.25H6.5V5Zm-13 1.5v7.75c0 .138.112.25.25.25H5v-8ZM5 5V1.5H1.75a.25.25 0 0 0-.25.25V5Z"></path>
</svg>
        </span>
      
        <span data-view-component="true" class="ActionListItem-label">
          Projects
</span>      
</a>
  
</li>
        <li hidden="hidden" data-menu-item="i5security-tab" data-targets="action-list.items" role="none" data-view-component="true" class="ActionListItem">
    
    
    <a tabindex="-1" id="item-6a398342-924c-4c2c-860d-52118a1161b8" href="/joseluisalmendral/Ejercicios_Dia1_Hackio/security" role="menuitem" data-view-component="true" class="ActionListContent ActionListContent--visual16">
        <span class="ActionListItem-visual ActionListItem-visual--leading">
          <svg aria-hidden="true" height="16" viewBox="0 0 16 16" version="1.1" width="16" data-view-component="true" class="octicon octicon-shield">
    <path d="M7.467.133a1.748 1.748 0 0 1 1.066 0l5.25 1.68A1.75 1.75 0 0 1 15 3.48V7c0 1.566-.32 3.182-1.303 4.682-.983 1.498-2.585 2.813-5.032 3.855a1.697 1.697 0 0 1-1.33 0c-2.447-1.042-4.049-2.357-5.032-3.855C1.32 10.182 1 8.566 1 7V3.48a1.75 1.75 0 0 1 1.217-1.667Zm.61 1.429a.25.25 0 0 0-.153 0l-5.25 1.68a.25.25 0 0 0-.174.238V7c0 1.358.275 2.666 1.057 3.86.784 1.194 2.121 2.34 4.366 3.297a.196.196 0 0 0 .154 0c2.245-.956 3.582-2.104 4.366-3.298C13.225 9.666 13.5 8.36 13.5 7V3.48a.251.251 0 0 0-.174-.237l-5.25-1.68ZM8.75 4.75v3a.75.75 0 0 1-1.5 0v-3a.75.75 0 0 1 1.5 0ZM9 10.5a1 1 0 1 1-2 0 1 1 0 0 1 2 0Z"></path>
</svg>
        </span>
      
        <span data-view-component="true" class="ActionListItem-label">
          Security
</span>      
</a>
  
</li>
        <li hidden="hidden" data-menu-item="i6insights-tab" data-targets="action-list.items" role="none" data-view-component="true" class="ActionListItem">
    
    
    <a tabindex="-1" id="item-244bfbc5-8744-4198-b15e-6bc9f836c08a" href="/joseluisalmendral/Ejercicios_Dia1_Hackio/pulse" role="menuitem" data-view-component="true" class="ActionListContent ActionListContent--visual16">
        <span class="ActionListItem-visual ActionListItem-visual--leading">
          <svg aria-hidden="true" height="16" viewBox="0 0 16 16" version="1.1" width="16" data-view-component="true" class="octicon octicon-graph">
    <path d="M1.5 1.75V13.5h13.75a.75.75 0 0 1 0 1.5H.75a.75.75 0 0 1-.75-.75V1.75a.75.75 0 0 1 1.5 0Zm14.28 2.53-5.25 5.25a.75.75 0 0 1-1.06 0L7 7.06 4.28 9.78a.751.751 0 0 1-1.042-.018.751.751 0 0 1-.018-1.042l3.25-3.25a.75.75 0 0 1 1.06 0L10 7.94l4.72-4.72a.751.751 0 0 1 1.042.018.751.751 0 0 1 .018 1.042Z"></path>
</svg>
        </span>
      
        <span data-view-component="true" class="ActionListItem-label">
          Insights
</span>      
</a>
  
</li>
</ul>    
</div></action-list>


</div>
      
</div></anchored-position>  </focus-group>
</action-menu></div>
</nav>
      </div>
</header>


      <div hidden="hidden" data-view-component="true" class="js-stale-session-flash stale-session-flash flash flash-warn flash-full">
  
        <svg aria-hidden="true" height="16" viewBox="0 0 16 16" version="1.1" width="16" data-view-component="true" class="octicon octicon-alert">
    <path d="M6.457 1.047c.659-1.234 2.427-1.234 3.086 0l6.082 11.378A1.75 1.75 0 0 1 14.082 15H1.918a1.75 1.75 0 0 1-1.543-2.575Zm1.763.707a.25.25 0 0 0-.44 0L1.698 13.132a.25.25 0 0 0 .22.368h12.164a.25.25 0 0 0 .22-.368Zm.53 3.996v2.5a.75.75 0 0 1-1.5 0v-2.5a.75.75 0 0 1 1.5 0ZM9 11a1 1 0 1 1-2 0 1 1 0 0 1 2 0Z"></path>
</svg>
        <span class="js-stale-session-flash-signed-in" hidden>You signed in with another tab or window. <a class="Link--inTextBlock" href="">Reload</a> to refresh your session.</span>
        <span class="js-stale-session-flash-signed-out" hidden>You signed out in another tab or window. <a class="Link--inTextBlock" href="">Reload</a> to refresh your session.</span>
        <span class="js-stale-session-flash-switched" hidden>You switched accounts on another tab or window. <a class="Link--inTextBlock" href="">Reload</a> to refresh your session.</span>

    <button id="icon-button-50348ed5-715c-4ca4-a4f1-6c81efe9875c" aria-labelledby="tooltip-e09d69ed-a516-417c-8304-9563c2fd65a1" type="button" data-view-component="true" class="Button Button--iconOnly Button--invisible Button--medium flash-close js-flash-close">  <svg aria-hidden="true" height="16" viewBox="0 0 16 16" version="1.1" width="16" data-view-component="true" class="octicon octicon-x Button-visual">
    <path d="M3.72 3.72a.75.75 0 0 1 1.06 0L8 6.94l3.22-3.22a.749.749 0 0 1 1.275.326.749.749 0 0 1-.215.734L9.06 8l3.22 3.22a.749.749 0 0 1-.326 1.275.749.749 0 0 1-.734-.215L8 9.06l-3.22 3.22a.751.751 0 0 1-1.042-.018.751.751 0 0 1-.018-1.042L6.94 8 3.72 4.78a.75.75 0 0 1 0-1.06Z"></path>
</svg>
</button><tool-tip id="tooltip-e09d69ed-a516-417c-8304-9563c2fd65a1" for="icon-button-50348ed5-715c-4ca4-a4f1-6c81efe9875c" popover="manual" data-direction="s" data-type="label" data-view-component="true" class="sr-only position-absolute">Dismiss alert</tool-tip>


  
</div>
          
    </div>

  <div id="start-of-content" class="show-on-focus"></div>








    <div id="js-flash-container" class="flash-container" data-turbo-replace>




  <template class="js-flash-template">
    
<div class="flash flash-full   {{ className }}">
  <div >
    <button autofocus class="flash-close js-flash-close" type="button" aria-label="Dismiss this message">
      <svg aria-hidden="true" height="16" viewBox="0 0 16 16" version="1.1" width="16" data-view-component="true" class="octicon octicon-x">
    <path d="M3.72 3.72a.75.75 0 0 1 1.06 0L8 6.94l3.22-3.22a.749.749 0 0 1 1.275.326.749.749 0 0 1-.215.734L9.06 8l3.22 3.22a.749.749 0 0 1-.326 1.275.749.749 0 0 1-.734-.215L8 9.06l-3.22 3.22a.751.751 0 0 1-1.042-.018.751.751 0 0 1-.018-1.042L6.94 8 3.72 4.78a.75.75 0 0 1 0-1.06Z"></path>
</svg>
    </button>
    <div aria-atomic="true" role="alert" class="js-flash-alert">
      
      <div>{{ message }}</div>

    </div>
  </div>
</div>
  </template>
</div>


    
    <notification-shelf-watcher data-base-url="https://github.com/notifications/beta/shelf" data-view-component="true" class="js-socket-channel"></notification-shelf-watcher>
  <div hidden data-initial data-target="notification-shelf-watcher.placeholder"></div>






  <div
    class="application-main "
    data-commit-hovercards-enabled
    data-discussion-hovercards-enabled
    data-issue-and-pr-hovercards-enabled
  >
        <div itemscope itemtype="http://schema.org/SoftwareSourceCode" class="">
    <main id="js-repo-pjax-container" >
      
      






    
  <div id="repository-container-header" data-turbo-replace hidden ></div>




<turbo-frame id="repo-content-turbo-frame" target="_top" data-turbo-action="advance" class="">
    <div id="repo-content-pjax-container" class="repository-content " >
      <a href="https://github.dev/" class="d-none js-github-dev-shortcut" data-hotkey=".,Mod+Alt+.">Open in github.dev</a>
  <a href="https://github.dev/" class="d-none js-github-dev-new-tab-shortcut" data-hotkey="Shift+.,Shift+&gt;,&gt;" target="_blank" rel="noopener noreferrer">Open in a new github.dev tab</a>
    <a class="d-none" data-hotkey=",,Mod+Alt+," target="_blank" href="/codespaces/new/joseluisalmendral/Ejercicios_Dia1_Hackio/tree/master?resume=1">Open in codespace</a>




    
      
    








<react-app
  app-name="react-code-view"
  initial-path="/joseluisalmendral/Ejercicios_Dia1_Hackio/blob/master/numero_falta.ipynb"
  style="display: block; min-height: calc(100vh - 64px)" 
  datta-attempted-ssr="true"
  data-ssr="true"
  data-lazy="false"
  data-alternate="false"
>
  
  <script type="application/json" data-target="react-app.embeddedData">{"payload":{"allShortcutsEnabled":true,"fileTree":{"":{"items":[{"name":"README.md","path":"README.md","contentType":"file"},{"name":"conversion_numeros_palabras.ipynb","path":"conversion_numeros_palabras.ipynb","contentType":"file"},{"name":"ejercicio2.ipynb","path":"ejercicio2.ipynb","contentType":"file"},{"name":"ejercicio3.ipynb","path":"ejercicio3.ipynb","contentType":"file"},{"name":"llenar_mochila.ipynb","path":"llenar_mochila.ipynb","contentType":"file"},{"name":"n_romanos.ipynb","path":"n_romanos.ipynb","contentType":"file"},{"name":"numero_falta.ipynb","path":"numero_falta.ipynb","contentType":"file"},{"name":"sublista.ipynb","path":"sublista.ipynb","contentType":"file"}],"totalCount":8}},"fileTreeProcessingTime":2.114511,"foldersToFetch":[],"repo":{"id":865958249,"defaultBranch":"master","name":"Ejercicios_Dia1_Hackio","ownerLogin":"joseluisalmendral","currentUserCanPush":false,"isFork":false,"isEmpty":false,"createdAt":"2024-10-01T14:08:34.000+02:00","ownerAvatar":"https://avatars.githubusercontent.com/u/174346796?v=4","public":true,"private":false,"isOrgOwned":false},"codeLineWrapEnabled":false,"symbolsExpanded":false,"treeExpanded":true,"refInfo":{"name":"master","listCacheKey":"v0:1727784639.0","canEdit":true,"refType":"branch","currentOid":"a603f7e9a391c7358b7a93fc9fed5a009bd902af"},"path":"numero_falta.ipynb","currentUser":{"id":178837921,"login":"davfranco1","userEmail":"david@francoonline.net"},"blob":{"rawLines":["{"," \"cells\": [","  {","   \"attachments\": {","    \"image.png\": {","     \"image/png\": \"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\"","    }","   },","   \"cell_type\": \"markdown\",","   \"metadata\": {},","   \"source\": [","    \"Encontrar el número que falta en una secuencia:  Crea una función que reciba una lista de n-1 números únicos que representan una secuencia de números consecutivos entre 1 y n, donde falta un número, y encuentre el número faltante. El objetivo es identificar el número que falta para completar la secuencia. Las reglas son:\\n\",","    \"- La secuencia contiene números consecutivos entre 1 y n, con exactamente un número faltante.\\n\",","    \"- La lista contiene n-1 números únicos.\\n\",","    \"- La función debe devolver el número faltante.\\n\",","    \"- La función debe ser capaz de manejar tanto secuencias ascendentes como descendentes, siempre que contengan números consecutivos.\\n\",","    \"- El valor de n es el número más alto esperado en la secuencia.\\n\",","    \"![image.png](attachment:image.png)\"","   ]","  },","  {","   \"cell_type\": \"code\",","   \"execution_count\": 1,","   \"metadata\": {},","   \"outputs\": [","    {","     \"name\": \"stdout\",","     \"output_type\": \"stream\",","     \"text\": [","      \"1103\\n\"","     ]","    }","   ],","   \"source\": [","    \"def findMissingNumbers(n):\\n\",","    \"    numbers = sorted(list(set(n)))\\n\",","    \"    output = []\\n\",","    \"    \\\"\\\"\\\"Función que identifica números faltantes en una lista\\n\",","    \"\\n\",","    \"    Returns:\\n\",","    \"        Número máximo que falta\\n\",","    \"    \\\"\\\"\\\"\\n\",","    \"    for i in range(numbers[0], n[-1]):\\n\",","    \"        if i not in numbers:\\n\",","    \"            output.append(i)\\n\",","    \"    return max(output)\\n\",","    \"\\n\",","    \"listOfNumbers = [1101,1102,1104]\\n\",","    \"print(findMissingNumbers(listOfNumbers))\"","   ]","  }"," ],"," \"metadata\": {","  \"kernelspec\": {","   \"display_name\": \"Python 3\",","   \"language\": \"python\",","   \"name\": \"python3\"","  },","  \"language_info\": {","   \"codemirror_mode\": {","    \"name\": \"ipython\",","    \"version\": 3","   },","   \"file_extension\": \".py\",","   \"mimetype\": \"text/x-python\",","   \"name\": \"python\",","   \"nbconvert_exporter\": \"python\",","   \"pygments_lexer\": \"ipython3\",","   \"version\": \"3.12.4\"","  }"," },"," \"nbformat\": 4,"," \"nbformat_minor\": 2","}"],"stylingDirectives":null,"colorizedLines":null,"csv":null,"csvError":null,"dependabotInfo":{"showConfigurationBanner":false,"configFilePath":null,"networkDependabotPath":"/joseluisalmendral/Ejercicios_Dia1_Hackio/network/updates","dismissConfigurationNoticePath":"/settings/dismiss-notice/dependabot_configuration_notice","configurationNoticeDismissed":false},"displayName":"numero_falta.ipynb","displayUrl":"https://notebooks.githubusercontent.com/view/ipynb?browser=safari\u0026bypass_fastly=true\u0026color_mode=auto\u0026commit=a603f7e9a391c7358b7a93fc9fed5a009bd902af\u0026device=unknown_device\u0026docs_host=https%3A%2F%2Fdocs.github.com\u0026enc_url=68747470733a2f2f7261772e67697468756275736572636f6e74656e742e636f6d2f6a6f73656c756973616c6d656e6472616c2f456a6572636963696f735f446961315f4861636b696f2f613630336637653961333931633733353862376139336663396665643561303039626439303261662f6e756d65726f5f66616c74612e6970796e62\u0026logged_in=true\u0026nwo=joseluisalmendral%2FEjercicios_Dia1_Hackio\u0026path=numero_falta.ipynb\u0026platform=mac\u0026repository_id=865958249\u0026repository_type=Repository\u0026version=17","headerInfo":{"blobSize":"104 KB","deleteTooltip":"Fork this repository and delete the file","editTooltip":"Fork this repository and edit the file","ghDesktopPath":"https://desktop.github.com","isGitLfs":false,"onBranch":true,"shortPath":"9790a35","siteNavLoginPath":"/login?return_to=https%3A%2F%2Fgithub.com%2Fjoseluisalmendral%2FEjercicios_Dia1_Hackio%2Fblob%2Fmaster%2Fnumero_falta.ipynb","isCSV":false,"isRichtext":false,"toc":null,"lineInfo":{"truncatedLoc":"74","truncatedSloc":"74"},"mode":"file"},"image":false,"isCodeownersFile":null,"isPlain":false,"isValidLegacyIssueTemplate":false,"issueTemplate":null,"discussionTemplate":null,"language":"Jupyter Notebook","languageID":185,"large":false,"planSupportInfo":{"repoIsFork":null,"repoOwnedByCurrentUser":null,"requestFullPath":"/joseluisalmendral/Ejercicios_Dia1_Hackio/blob/master/numero_falta.ipynb","showFreeOrgGatedFeatureMessage":null,"showPlanSupportBanner":null,"upgradeDataAttributes":null,"upgradePath":null},"publishBannersInfo":{"dismissActionNoticePath":"/settings/dismiss-notice/publish_action_from_dockerfile","releasePath":"/joseluisalmendral/Ejercicios_Dia1_Hackio/releases/new?marketplace=true","showPublishActionBanner":false},"rawBlobUrl":"https://github.com/joseluisalmendral/Ejercicios_Dia1_Hackio/raw/refs/heads/master/numero_falta.ipynb","renderImageOrRaw":false,"richText":null,"renderedFileInfo":{"identityUUID":"993a83ea-279d-48e1-b65a-ffb228b0c929","renderFileType":"ipynb","size":106689},"shortPath":null,"symbolsEnabled":true,"tabSize":8,"topBannersInfo":{"overridingGlobalFundingFile":false,"globalPreferredFundingPath":null,"showInvalidCitationWarning":false,"citationHelpUrl":"https://docs.github.com/github/creating-cloning-and-archiving-repositories/creating-a-repository-on-github/about-citation-files","actionsOnboardingTip":null},"truncated":false,"viewable":true,"workflowRedirectUrl":null,"symbols":{"timed_out":false,"not_analyzed":true,"symbols":[]}},"copilotInfo":{"documentationUrl":"https://docs.github.com/copilot/overview-of-github-copilot/about-github-copilot-for-individuals","notices":{"codeViewPopover":{"dismissed":false,"dismissPath":"/settings/dismiss-notice/code_view_copilot_popover"}},"userAccess":{"hasSubscriptionEnded":false,"orgHasCFBAccess":false,"userHasCFIAccess":false,"userHasOrgs":false,"userIsOrgAdmin":false,"userIsOrgMember":false,"business":null,"featureRequestInfo":null}},"copilotAccessAllowed":false,"csrf_tokens":{"/joseluisalmendral/Ejercicios_Dia1_Hackio/branches":{"post":"p2P29j5tvi99ew58hh32GYpo6R6UnDOXSKfTKn1K6K-lfZD4OmCeLzCAwfof5i5u98-bRl92e9IaFkVrbcGeoA"},"/repos/preferences":{"post":"Jvj_mWzcdVJDj6qT18R6MF7Kcwh027RsMVK6B5gInNKODasrHLSQx3k0fWVWbcADhJ610cWMpudICXVEgufDKA"}}},"title":"Ejercicios_Dia1_Hackio/numero_falta.ipynb at master · joseluisalmendral/Ejercicios_Dia1_Hackio","appPayload":{"helpUrl":"https://docs.github.com","findFileWorkerPath":"/assets-cdn/worker/find-file-worker-1583894afd38.js","findInFileWorkerPath":"/assets-cdn/worker/find-in-file-worker-03b87d52cf57.js","githubDevUrl":"https://github.dev/","enabled_features":{"code_nav_ui_events":false,"overview_shared_code_dropdown_button":false,"react_blob_overlay":false,"copilot_conversational_ux_embedding_update":false,"copilot_smell_icebreaker_ux":true,"copilot_workspace":false,"accessible_code_button":false}}}</script>
  <div data-target="react-app.reactRoot"><style data-styled="true" data-styled-version="5.3.11">.hOfjFo{padding:0;}/*!sc*/
.oDGAe{max-width:100%;margin-left:auto;margin-right:auto;display:-webkit-box;display:-webkit-flex;display:-ms-flexbox;display:flex;-webkit-flex-wrap:wrap;-ms-flex-wrap:wrap;flex-wrap:wrap;}/*!sc*/
.kowOcT{display:-webkit-box;display:-webkit-flex;display:-ms-flexbox;display:flex;-webkit-flex:1 1 100%;-ms-flex:1 1 100%;flex:1 1 100%;-webkit-flex-wrap:wrap;-ms-flex-wrap:wrap;flex-wrap:wrap;max-width:100%;}/*!sc*/
.gISSDQ{width:100%;}/*!sc*/
@media screen and (min-width:544px){.gISSDQ{width:100%;}}/*!sc*/
@media screen and (min-width:768px){.gISSDQ{width:auto;}}/*!sc*/
.bQRaNO{display:-webkit-box;display:-webkit-flex;display:-ms-flexbox;display:flex;-webkit-order:1;-ms-flex-order:1;order:1;width:100%;margin-left:0;margin-right:0;-webkit-flex-direction:column;-ms-flex-direction:column;flex-direction:column;margin-bottom:0;min-width:0;}/*!sc*/
@media screen and (min-width:544px){.bQRaNO{-webkit-flex-direction:column;-ms-flex-direction:column;flex-direction:column;}}/*!sc*/
@media screen and (min-width:768px){.bQRaNO{width:auto;margin-top:0 !important;margin-bottom:0 !important;position:-webkit-sticky;position:sticky;top:0px;max-height:100vh !important;-webkit-flex-direction:row;-ms-flex-direction:row;flex-direction:row;margin-right:0;height:100vh;}}/*!sc*/
@media print,screen and (max-width:1011px) and (min-width:768px){.bQRaNO{display:none;}}/*!sc*/
.hPvFuC{margin-left:0;margin-right:0;display:none;margin-top:0;}/*!sc*/
@media screen and (min-width:768px){.hPvFuC{margin-left:0 !important;margin-right:0 !important;}}/*!sc*/
.fFSoPl{--pane-min-width:256px;--pane-max-width-diff:511px;--pane-max-width:calc(100vw - var(--pane-max-width-diff));width:100%;padding:0;}/*!sc*/
@media screen and (min-width:544px){}/*!sc*/
@media screen and (min-width:768px){.fFSoPl{width:clamp(var(--pane-min-width),var(--pane-width),var(--pane-max-width));overflow:auto;}}/*!sc*/
@media screen and (min-width:1280px){.fFSoPl{--pane-max-width-diff:959px;}}/*!sc*/
.birIjn{max-height:100%;height:100%;display:-webkit-box;display:-webkit-flex;display:-ms-flexbox;display:flex;-webkit-flex-direction:column;-ms-flex-direction:column;flex-direction:column;}/*!sc*/
@media screen and (max-width:768px){.birIjn{display:none;}}/*!sc*/
@media screen and (min-width:768px){.birIjn{max-height:100vh;height:100vh;}}/*!sc*/
.hNNCwk{display:-webkit-box;display:-webkit-flex;display:-ms-flexbox;display:flex;-webkit-flex-direction:column;-ms-flex-direction:column;flex-direction:column;-webkit-align-items:center;-webkit-box-align:center;-ms-flex-align:center;align-items:center;padding-left:16px;padding-right:16px;padding-bottom:8px;padding-top:16px;}/*!sc*/
.jfIeyl{display:-webkit-box;display:-webkit-flex;display:-ms-flexbox;display:flex;width:100%;margin-bottom:16px;-webkit-align-items:center;-webkit-box-align:center;-ms-flex-align:center;align-items:center;}/*!sc*/
.XosP{display:-webkit-box;display:-webkit-flex;display:-ms-flexbox;display:flex;font-size:14px;}/*!sc*/
.gUkoLg{-webkit-box-pack:center;-webkit-justify-content:center;-ms-flex-pack:center;justify-content:center;}/*!sc*/
.hzSPyu{display:-webkit-box;display:-webkit-flex;display:-ms-flexbox;display:flex;pointer-events:none;}/*!sc*/
.kOkWgo{font-size:16px;margin-left:8px;}/*!sc*/
.lhbroM{margin-left:24px;margin-right:24px;display:-webkit-box;display:-webkit-flex;display:-ms-flexbox;display:flex;width:100%;}/*!sc*/
.khzwtX{-webkit-box-flex:1;-webkit-flex-grow:1;-ms-flex-positive:1;flex-grow:1;}/*!sc*/
.bZBlpz{display:-webkit-box;display:-webkit-flex;display:-ms-flexbox;display:flex;width:100%;}/*!sc*/
.bJjzmO{margin-right:4px;color:var(--fgColor-muted,var(--color-fg-muted,#848d97));}/*!sc*/
.ffLUq{font-size:14px;min-width:0;overflow:hidden;text-overflow:ellipsis;white-space:nowrap;}/*!sc*/
.eTeVqd{margin-left:8px;white-space:nowrap;}/*!sc*/
.eTeVqd:hover button:not(:hover){border-left-color:var(--button-default-borderColor-hover,var(--color-btn-hover-border));}/*!sc*/
.ftzGWg{margin-left:16px;margin-right:16px;margin-bottom:12px;}/*!sc*/
@media screen and (max-width:768px){.ftzGWg{display:none;}}/*!sc*/
.dItACB{margin-right:-6px;}/*!sc*/
.gjtfVk{-webkit-box-flex:1;-webkit-flex-grow:1;-ms-flex-positive:1;flex-grow:1;max-height:100% !important;overflow-y:auto;-webkit-scrollbar-gutter:stable;-moz-scrollbar-gutter:stable;-ms-scrollbar-gutter:stable;scrollbar-gutter:stable;}/*!sc*/
@media screen and (max-width:768px){.gjtfVk{display:none;}}/*!sc*/
.cOxzdh{padding-left:16px;padding-right:16px;padding-bottom:8px;}/*!sc*/
.bTBnTW{height:100%;position:relative;display:none;margin-left:0;}/*!sc*/
.fFMzrG{position:absolute;inset:0 -2px;cursor:col-resize;background-color:transparent;-webkit-transition-delay:0.1s;transition-delay:0.1s;}/*!sc*/
.fFMzrG:hover{background-color:var(--bgColor-neutral-muted,var(--color-neutral-muted,rgba(110,118,129,0.4)));}/*!sc*/
.iKqMNA{display:-webkit-box;display:-webkit-flex;display:-ms-flexbox;display:flex;-webkit-flex-direction:column;-ms-flex-direction:column;flex-direction:column;-webkit-order:2;-ms-flex-order:2;order:2;-webkit-flex-basis:0;-ms-flex-preferred-size:0;flex-basis:0;-webkit-box-flex:1;-webkit-flex-grow:1;-ms-flex-positive:1;flex-grow:1;-webkit-flex-shrink:1;-ms-flex-negative:1;flex-shrink:1;min-width:1px;margin-right:auto;}/*!sc*/
@media print{.iKqMNA{display:-webkit-box !important;display:-webkit-flex !important;display:-ms-flexbox !important;display:flex !important;}}/*!sc*/
.FxAyp{width:100%;max-width:100%;margin-left:auto;margin-right:auto;-webkit-box-flex:1;-webkit-flex-grow:1;-ms-flex-positive:1;flex-grow:1;padding:0;}/*!sc*/
.leYMvG{margin-left:auto;margin-right:auto;-webkit-flex-direction:column;-ms-flex-direction:column;flex-direction:column;padding-bottom:40px;max-width:100%;margin-top:0;}/*!sc*/
.KMPzq{display:inherit;}/*!sc*/
.hfKjHv{width:100%;}/*!sc*/
.gZWyZE{display:-webkit-box;display:-webkit-flex;display:-ms-flexbox;display:flex;gap:8px;-webkit-flex-direction:column;-ms-flex-direction:column;flex-direction:column;width:100%;}/*!sc*/
.dwYKDk{display:-webkit-box;display:-webkit-flex;display:-ms-flexbox;display:flex;-webkit-align-items:start;-webkit-box-align:start;-ms-flex-align:start;align-items:start;-webkit-box-pack:justify;-webkit-justify-content:space-between;-ms-flex-pack:justify;justify-content:space-between;gap:8px;}/*!sc*/
.iDtIiT{-webkit-align-self:center;-ms-flex-item-align:center;align-self:center;display:-webkit-box;display:-webkit-flex;display:-ms-flexbox;display:flex;padding-right:8px;min-width:0;}/*!sc*/
.cEytCf{display:-webkit-box;display:-webkit-flex;display:-ms-flexbox;display:flex;-webkit-flex-direction:row;-ms-flex-direction:row;flex-direction:row;font-size:16px;min-width:0;-webkit-flex-shrink:1;-ms-flex-negative:1;flex-shrink:1;-webkit-flex-wrap:wrap;-ms-flex-wrap:wrap;flex-wrap:wrap;max-width:100%;-webkit-align-items:center;-webkit-box-align:center;-ms-flex-align:center;align-items:center;}/*!sc*/
.fzFXnm{max-width:100%;}/*!sc*/
.iMnkmv{max-width:100%;list-style:none;display:inline-block;}/*!sc*/
.ghzDag{display:inline-block;max-width:100%;}/*!sc*/
.kHuKdh{font-weight:600;}/*!sc*/
.jGhzSQ{font-weight:600;display:inline-block;max-width:100%;font-size:16px;}/*!sc*/
.faNtbn{min-height:32px;display:-webkit-box;display:-webkit-flex;display:-ms-flexbox;display:flex;-webkit-align-items:start;-webkit-box-align:start;-ms-flex-align:start;align-items:start;}/*!sc*/
.dJxjrT{margin-left:16px;margin-right:16px;}/*!sc*/
.eFxKDQ{display:-webkit-box;display:-webkit-flex;display:-ms-flexbox;display:flex;-webkit-flex-direction:column;-ms-flex-direction:column;flex-direction:column;}/*!sc*/
.dzCJzi{display:-webkit-box;display:-webkit-flex;display:-ms-flexbox;display:flex;-webkit-flex-direction:row;-ms-flex-direction:row;flex-direction:row;-webkit-flex-wrap:wrap;-ms-flex-wrap:wrap;flex-wrap:wrap;-webkit-box-pack:justify;-webkit-justify-content:space-between;-ms-flex-pack:justify;justify-content:space-between;-webkit-align-items:center;-webkit-box-align:center;-ms-flex-align:center;align-items:center;gap:8px;min-width:273px;padding:8px;}/*!sc*/
@media screen and (min-width:544px){.dzCJzi{-webkit-flex-wrap:nowrap;-ms-flex-wrap:nowrap;flex-wrap:nowrap;}}/*!sc*/
.ldRxiI{display:-webkit-box;display:-webkit-flex;display:-ms-flexbox;display:flex;-webkit-flex-direction:row;-ms-flex-direction:row;flex-direction:row;}/*!sc*/
.fVkfyA{width:100%;height:-webkit-fit-content;height:-moz-fit-content;height:fit-content;min-width:0;margin-right:0;}/*!sc*/
.gNAmSV{height:40px;padding-left:4px;padding-bottom:16px;}/*!sc*/
.jNEwzY{-webkit-align-items:center;-webkit-box-align:center;-ms-flex-align:center;align-items:center;}/*!sc*/
.ifyOQK{font-size:12px;-webkit-flex:auto;-ms-flex:auto;flex:auto;padding-right:16px;color:var(--fgColor-muted,var(--color-fg-muted,#848d97));min-width:0;}/*!sc*/
.jdLMhu{top:0px;z-index:4;background:var(--bgColor-default,var(--color-canvas-default));position:-webkit-sticky;position:sticky;}/*!sc*/
.tOISc{display:-webkit-box;display:-webkit-flex;display:-ms-flexbox;display:flex;-webkit-flex-direction:column;-ms-flex-direction:column;flex-direction:column;width:100%;position:absolute;}/*!sc*/
.hqwSEx{display:none;min-width:0;padding-top:8px;padding-bottom:8px;}/*!sc*/
.lzKZY{margin-right:8px;margin-left:16px;text-overflow:ellipsis;overflow:hidden;display:-webkit-box;display:-webkit-flex;display:-ms-flexbox;display:flex;-webkit-flex-direction:row;-ms-flex-direction:row;flex-direction:row;-webkit-align-items:center;-webkit-box-align:center;-ms-flex-align:center;align-items:center;-webkit-box-pack:justify;-webkit-justify-content:space-between;-ms-flex-pack:justify;justify-content:space-between;width:100%;}/*!sc*/
.fHind{display:-webkit-box;display:-webkit-flex;display:-ms-flexbox;display:flex;-webkit-flex-direction:row;-ms-flex-direction:row;flex-direction:row;font-size:14px;min-width:0;-webkit-flex-shrink:1;-ms-flex-negative:1;flex-shrink:1;-webkit-flex-wrap:wrap;-ms-flex-wrap:wrap;flex-wrap:wrap;max-width:100%;-webkit-align-items:center;-webkit-box-align:center;-ms-flex-align:center;align-items:center;}/*!sc*/
.dnZoUW{font-weight:600;display:inline-block;max-width:100%;font-size:14px;}/*!sc*/
.gpHFJV{padding-left:8px;padding-top:8px;padding-bottom:8px;display:-webkit-box;display:-webkit-flex;display:-ms-flexbox;display:flex;-webkit-flex:1;-ms-flex:1;flex:1;-webkit-align-items:center;-webkit-box-align:center;-ms-flex-align:center;align-items:center;-webkit-box-pack:justify;-webkit-justify-content:space-between;-ms-flex-pack:justify;justify-content:space-between;background-color:var(--bgColor-muted,var(--color-canvas-subtle,#161b22));border:1px solid var(--borderColor-default,var(--color-border-default));border-radius:6px 6px 0px 0px;}/*!sc*/
.iNMjfP{display:-webkit-box;display:-webkit-flex;display:-ms-flexbox;display:flex;-webkit-align-items:center;-webkit-box-align:center;-ms-flex-align:center;align-items:center;gap:8px;min-width:0;}/*!sc*/
.fefCSX{display:block;position:relative;-webkit-box-flex:1;-webkit-flex-grow:1;-ms-flex-positive:1;flex-grow:1;margin-top:-1px;margin-bottom:-1px;--separator-color:transparent;}/*!sc*/
.fefCSX:not(:last-child){margin-right:1px;}/*!sc*/
.fefCSX:not(:last-child):after{background-color:var(--separator-color);content:"";position:absolute;right:-2px;top:8px;bottom:8px;width:1px;}/*!sc*/
.fefCSX:focus-within:has(:focus-visible){--separator-color:transparent;}/*!sc*/
.fefCSX:first-child{margin-left:-1px;}/*!sc*/
.fefCSX:last-child{margin-right:-1px;}/*!sc*/
.sulSy{display:block;position:relative;-webkit-box-flex:1;-webkit-flex-grow:1;-ms-flex-positive:1;flex-grow:1;margin-top:-1px;margin-bottom:-1px;--separator-color:var(--borderColor-default,var(--color-border-default,#30363d));}/*!sc*/
.sulSy:not(:last-child){margin-right:1px;}/*!sc*/
.sulSy:not(:last-child):after{background-color:var(--separator-color);content:"";position:absolute;right:-2px;top:8px;bottom:8px;width:1px;}/*!sc*/
.sulSy:focus-within:has(:focus-visible){--separator-color:transparent;}/*!sc*/
.sulSy:first-child{margin-left:-1px;}/*!sc*/
.sulSy:last-child{margin-right:-1px;}/*!sc*/
.kcLCKF{display:-webkit-box;display:-webkit-flex;display:-ms-flexbox;display:flex;-webkit-align-items:center;-webkit-box-align:center;-ms-flex-align:center;align-items:center;gap:8px;margin-right:8px;}/*!sc*/
.kVWtTz{gap:8px;}/*!sc*/
.hycJXc{border:1px solid;border-top:none;border-color:var(--borderColor-default,var(--color-border-default,#30363d));border-radius:0px 0px 6px 6px;min-width:273px;}/*!sc*/
.iWAocR{background-color:var(--bgColor-default,var(--color-canvas-default));border:0px;border-width:0;border-radius:0px 0px 6px 6px;padding:0;min-width:0;margin-top:46px;overflow:auto;}/*!sc*/
.cCoXib{position:fixed;top:0;right:0;height:100%;width:15px;-webkit-transition:-webkit-transform 0.3s;-webkit-transition:transform 0.3s;transition:transform 0.3s;z-index:1;}/*!sc*/
.cCoXib:hover{-webkit-transform:scaleX(1.5);-ms-transform:scaleX(1.5);transform:scaleX(1.5);}/*!sc*/
.fgsa-DI{display:-webkit-box;display:-webkit-flex;display:-ms-flexbox;display:flex;-webkit-flex-direction:column;-ms-flex-direction:column;flex-direction:column;-webkit-align-items:center;-webkit-box-align:center;-ms-flex-align:center;align-items:center;padding-top:16px;padding-bottom:16px;}/*!sc*/
.fTrdWs{display:-webkit-inline-box;display:-webkit-inline-flex;display:-ms-inline-flexbox;display:inline-flex;}/*!sc*/
data-styled.g1[id="Box-sc-g0xbh4-0"]{content:"hOfjFo,oDGAe,kowOcT,gISSDQ,bQRaNO,hPvFuC,fFSoPl,birIjn,hNNCwk,jfIeyl,XosP,gUkoLg,hzSPyu,kOkWgo,lhbroM,khzwtX,bZBlpz,bJjzmO,ffLUq,eTeVqd,ftzGWg,dItACB,gjtfVk,cOxzdh,bTBnTW,fFMzrG,iKqMNA,FxAyp,leYMvG,KMPzq,hfKjHv,gZWyZE,dwYKDk,iDtIiT,cEytCf,fzFXnm,iMnkmv,ghzDag,kHuKdh,jGhzSQ,faNtbn,dJxjrT,eFxKDQ,dzCJzi,ldRxiI,fVkfyA,gNAmSV,jNEwzY,ifyOQK,jdLMhu,tOISc,hqwSEx,lzKZY,fHind,dnZoUW,gpHFJV,iNMjfP,fefCSX,sulSy,kcLCKF,kVWtTz,hycJXc,iWAocR,cCoXib,fgsa-DI,fTrdWs,"}/*!sc*/
.dCOKUW{border-radius:6px;border:1px solid;border-color:transparent;font-family:inherit;font-weight:500;font-size:14px;cursor:pointer;-webkit-appearance:none;-moz-appearance:none;appearance:none;-webkit-user-select:none;-moz-user-select:none;-ms-user-select:none;user-select:none;-webkit-text-decoration:none;text-decoration:none;text-align:center;display:-webkit-box;display:-webkit-flex;display:-ms-flexbox;display:flex;-webkit-align-items:center;-webkit-box-align:center;-ms-flex-align:center;align-items:center;-webkit-box-pack:justify;-webkit-justify-content:space-between;-ms-flex-pack:justify;justify-content:space-between;height:32px;padding:0 12px;gap:8px;min-width:-webkit-max-content;min-width:-moz-max-content;min-width:max-content;-webkit-transition:80ms cubic-bezier(0.65,0,0.35,1);transition:80ms cubic-bezier(0.65,0,0.35,1);-webkit-transition-property:color,fill,background-color,border-color;transition-property:color,fill,background-color,border-color;color:var(--button-invisible-fgColor-rest,var(--button-default-fgColor-rest,var(--color-btn-text,#c9d1d9)));background-color:transparent;box-shadow:none;}/*!sc*/
.dCOKUW:focus:not(:disabled){box-shadow:none;outline:2px solid var(--fgColor-accent,var(--color-accent-fg,#2f81f7));outline-offset:-2px;}/*!sc*/
.dCOKUW:focus:not(:disabled):not(:focus-visible){outline:solid 1px transparent;}/*!sc*/
.dCOKUW:focus-visible:not(:disabled){box-shadow:none;outline:2px solid var(--fgColor-accent,var(--color-accent-fg,#2f81f7));outline-offset:-2px;}/*!sc*/
.dCOKUW[href]{display:-webkit-inline-box;display:-webkit-inline-flex;display:-ms-inline-flexbox;display:inline-flex;}/*!sc*/
.dCOKUW[href]:hover{-webkit-text-decoration:none;text-decoration:none;}/*!sc*/
.dCOKUW:hover{-webkit-transition-duration:80ms;transition-duration:80ms;}/*!sc*/
.dCOKUW:active{-webkit-transition:none;transition:none;}/*!sc*/
.dCOKUW[data-inactive]{cursor:auto;}/*!sc*/
.dCOKUW:disabled{cursor:not-allowed;box-shadow:none;color:var(--fgColor-disabled,var(--color-primer-fg-disabled,#484f58));background-color:var(--button-invisible-bgColor-disabled,transparent);}/*!sc*/
.dCOKUW:disabled [data-component=ButtonCounter],.dCOKUW:disabled [data-component="leadingVisual"],.dCOKUW:disabled [data-component="trailingAction"]{color:inherit;}/*!sc*/
@media (forced-colors:active){.dCOKUW:focus{outline:solid 1px transparent;}}/*!sc*/
.dCOKUW [data-component=ButtonCounter]{font-size:12px;}/*!sc*/
.dCOKUW[data-component=IconButton]{display:inline-grid;padding:unset;place-content:center;width:32px;min-width:unset;}/*!sc*/
.dCOKUW[data-size="small"]{padding:0 8px;height:28px;gap:4px;font-size:12px;}/*!sc*/
.dCOKUW[data-size="small"] [data-component="text"]{line-height:1.6666667;}/*!sc*/
.dCOKUW[data-size="small"] [data-component=ButtonCounter]{font-size:12px;}/*!sc*/
.dCOKUW[data-size="small"] [data-component="buttonContent"] > :not(:last-child){margin-right:4px;}/*!sc*/
.dCOKUW[data-size="small"][data-component=IconButton]{width:28px;padding:unset;}/*!sc*/
.dCOKUW[data-size="large"]{padding:0 16px;height:40px;gap:8px;}/*!sc*/
.dCOKUW[data-size="large"] [data-component="buttonContent"] > :not(:last-child){margin-right:8px;}/*!sc*/
.dCOKUW[data-size="large"][data-component=IconButton]{width:40px;padding:unset;}/*!sc*/
.dCOKUW[data-block="block"]{width:100%;}/*!sc*/
.dCOKUW[data-label-wrap="true"]{min-width:-webkit-fit-content;min-width:-moz-fit-content;min-width:fit-content;height:unset;min-height:var(--control-medium-size,2rem);}/*!sc*/
.dCOKUW[data-label-wrap="true"] [data-component="buttonContent"]{-webkit-flex:1 1 auto;-ms-flex:1 1 auto;flex:1 1 auto;-webkit-align-self:stretch;-ms-flex-item-align:stretch;align-self:stretch;padding-block:calc(var(--control-medium-paddingBlock,0.375rem) - 2px);}/*!sc*/
.dCOKUW[data-label-wrap="true"] [data-component="text"]{white-space:unset;word-break:break-word;}/*!sc*/
.dCOKUW[data-label-wrap="true"][data-size="small"]{height:unset;min-height:var(--control-small-size,1.75rem);}/*!sc*/
.dCOKUW[data-label-wrap="true"][data-size="small"] [data-component="buttonContent"]{padding-block:calc(var(--control-small-paddingBlock,0.25rem) - 2px);}/*!sc*/
.dCOKUW[data-label-wrap="true"][data-size="large"]{height:unset;min-height:var(--control-large-size,2.5rem);padding-inline:var(--control-large-paddingInline-spacious,1rem);}/*!sc*/
.dCOKUW[data-label-wrap="true"][data-size="large"] [data-component="buttonContent"]{padding-block:calc(var(--control-large-paddingBlock,0.625rem) - 2px);}/*!sc*/
.dCOKUW[data-inactive]:not([disabled]){background-color:var(--button-inactive-bgColor,var(--button-inactive-bgColor-rest,var(--color-btn-inactive-bg,#21262d)));border-color:var(--button-inactive-bgColor,var(--button-inactive-bgColor-rest,var(--color-btn-inactive-bg,#21262d)));color:var(--button-inactive-fgColor,var(--button-inactive-fgColor-rest,var(--color-btn-inactive-text,#8b949e)));}/*!sc*/
.dCOKUW[data-inactive]:not([disabled]):focus-visible{box-shadow:none;}/*!sc*/
.dCOKUW [data-component="leadingVisual"]{grid-area:leadingVisual;color:var(--button-invisible-iconColor-rest,var(--fgColor-muted,var(--color-fg-muted,#848d97)));}/*!sc*/
.dCOKUW [data-component="text"]{grid-area:text;line-height:1.4285714;white-space:nowrap;}/*!sc*/
.dCOKUW [data-component="trailingVisual"]{grid-area:trailingVisual;color:var(--button-invisible-iconColor-rest,var(--fgColor-muted,var(--color-fg-muted,#848d97)));}/*!sc*/
.dCOKUW [data-component="trailingAction"]{margin-right:-4px;color:var(--button-invisible-iconColor-rest,var(--fgColor-muted,var(--color-fg-muted,#848d97)));}/*!sc*/
.dCOKUW [data-component="buttonContent"]{-webkit-flex:1 0 auto;-ms-flex:1 0 auto;flex:1 0 auto;display:grid;grid-template-areas:"leadingVisual text trailingVisual";grid-template-columns:min-content minmax(0,auto) min-content;-webkit-align-items:center;-webkit-box-align:center;-ms-flex-align:center;align-items:center;-webkit-align-content:center;-ms-flex-line-pack:center;align-content:center;}/*!sc*/
.dCOKUW [data-component="buttonContent"] > :not(:last-child){margin-right:8px;}/*!sc*/
.dCOKUW [data-component="loadingSpinner"]{grid-area:text;margin-right:0px !important;place-self:center;color:var(--fgColor-muted,var(--color-fg-muted,#848d97));}/*!sc*/
.dCOKUW [data-component="loadingSpinner"] + [data-component="text"]{visibility:hidden;}/*!sc*/
.dCOKUW:hover:not([disabled]){background-color:var(--control-transparent-bgColor-hover,var(--color-action-list-item-default-hover-bg,rgba(177,186,196,0.12)));}/*!sc*/
.dCOKUW:active:not([disabled]){background-color:var(--control-transparent-bgColor-active,var(--color-action-list-item-default-active-bg,rgba(177,186,196,0.2)));}/*!sc*/
.dCOKUW[aria-expanded=true]{background-color:var(--control-transparent-bgColor-selected,var(--color-action-list-item-default-selected-bg,rgba(177,186,196,0.08)));}/*!sc*/
.dCOKUW[data-component="IconButton"][data-no-visuals]{color:var(--button-invisible-iconColor-rest,var(--fgColor-muted,var(--color-fg-muted,#848d97)));}/*!sc*/
.dCOKUW[data-no-visuals]{color:var(--button-invisible-fgColor-rest,var(--button-default-fgColor-rest,var(--color-btn-text,#c9d1d9)));}/*!sc*/
.dCOKUW:has([data-component="ButtonCounter"]){color:var(--button-invisible-fgColor-rest,var(--button-default-fgColor-rest,var(--color-btn-text,#c9d1d9)));}/*!sc*/
.dCOKUW:disabled[data-no-visuals]{color:var(--fgColor-disabled,var(--color-primer-fg-disabled,#484f58));}/*!sc*/
.dCOKUW:disabled[data-no-visuals] [data-component=ButtonCounter]{color:inherit;}/*!sc*/
.dCOKUW[data-size="medium"]{color:var(--fgColor-muted,var(--color-fg-muted,#848d97));padding-left:8px;padding-right:8px;display:none;}/*!sc*/
@media screen and (max-width:768px){.dCOKUW[data-size="medium"]{display:block;}}/*!sc*/
.hjmoJU{border-radius:6px;border:1px solid;border-color:transparent;font-family:inherit;font-weight:500;font-size:14px;cursor:pointer;-webkit-appearance:none;-moz-appearance:none;appearance:none;-webkit-user-select:none;-moz-user-select:none;-ms-user-select:none;user-select:none;-webkit-text-decoration:none;text-decoration:none;text-align:center;display:-webkit-box;display:-webkit-flex;display:-ms-flexbox;display:flex;-webkit-align-items:center;-webkit-box-align:center;-ms-flex-align:center;align-items:center;-webkit-box-pack:justify;-webkit-justify-content:space-between;-ms-flex-pack:justify;justify-content:space-between;height:32px;padding:0 12px;gap:8px;min-width:-webkit-max-content;min-width:-moz-max-content;min-width:max-content;-webkit-transition:80ms cubic-bezier(0.65,0,0.35,1);transition:80ms cubic-bezier(0.65,0,0.35,1);-webkit-transition-property:color,fill,background-color,border-color;transition-property:color,fill,background-color,border-color;color:var(--button-invisible-fgColor-rest,var(--button-default-fgColor-rest,var(--color-btn-text,#c9d1d9)));background-color:transparent;box-shadow:none;}/*!sc*/
.hjmoJU:focus:not(:disabled){box-shadow:none;outline:2px solid var(--fgColor-accent,var(--color-accent-fg,#2f81f7));outline-offset:-2px;}/*!sc*/
.hjmoJU:focus:not(:disabled):not(:focus-visible){outline:solid 1px transparent;}/*!sc*/
.hjmoJU:focus-visible:not(:disabled){box-shadow:none;outline:2px solid var(--fgColor-accent,var(--color-accent-fg,#2f81f7));outline-offset:-2px;}/*!sc*/
.hjmoJU[href]{display:-webkit-inline-box;display:-webkit-inline-flex;display:-ms-inline-flexbox;display:inline-flex;}/*!sc*/
.hjmoJU[href]:hover{-webkit-text-decoration:none;text-decoration:none;}/*!sc*/
.hjmoJU:hover{-webkit-transition-duration:80ms;transition-duration:80ms;}/*!sc*/
.hjmoJU:active{-webkit-transition:none;transition:none;}/*!sc*/
.hjmoJU[data-inactive]{cursor:auto;}/*!sc*/
.hjmoJU:disabled{cursor:not-allowed;box-shadow:none;color:var(--fgColor-disabled,var(--color-primer-fg-disabled,#484f58));background-color:var(--button-invisible-bgColor-disabled,transparent);}/*!sc*/
.hjmoJU:disabled [data-component=ButtonCounter],.hjmoJU:disabled [data-component="leadingVisual"],.hjmoJU:disabled [data-component="trailingAction"]{color:inherit;}/*!sc*/
@media (forced-colors:active){.hjmoJU:focus{outline:solid 1px transparent;}}/*!sc*/
.hjmoJU [data-component=ButtonCounter]{font-size:12px;}/*!sc*/
.hjmoJU[data-component=IconButton]{display:inline-grid;padding:unset;place-content:center;width:32px;min-width:unset;}/*!sc*/
.hjmoJU[data-size="small"]{padding:0 8px;height:28px;gap:4px;font-size:12px;}/*!sc*/
.hjmoJU[data-size="small"] [data-component="text"]{line-height:1.6666667;}/*!sc*/
.hjmoJU[data-size="small"] [data-component=ButtonCounter]{font-size:12px;}/*!sc*/
.hjmoJU[data-size="small"] [data-component="buttonContent"] > :not(:last-child){margin-right:4px;}/*!sc*/
.hjmoJU[data-size="small"][data-component=IconButton]{width:28px;padding:unset;}/*!sc*/
.hjmoJU[data-size="large"]{padding:0 16px;height:40px;gap:8px;}/*!sc*/
.hjmoJU[data-size="large"] [data-component="buttonContent"] > :not(:last-child){margin-right:8px;}/*!sc*/
.hjmoJU[data-size="large"][data-component=IconButton]{width:40px;padding:unset;}/*!sc*/
.hjmoJU[data-block="block"]{width:100%;}/*!sc*/
.hjmoJU[data-label-wrap="true"]{min-width:-webkit-fit-content;min-width:-moz-fit-content;min-width:fit-content;height:unset;min-height:var(--control-medium-size,2rem);}/*!sc*/
.hjmoJU[data-label-wrap="true"] [data-component="buttonContent"]{-webkit-flex:1 1 auto;-ms-flex:1 1 auto;flex:1 1 auto;-webkit-align-self:stretch;-ms-flex-item-align:stretch;align-self:stretch;padding-block:calc(var(--control-medium-paddingBlock,0.375rem) - 2px);}/*!sc*/
.hjmoJU[data-label-wrap="true"] [data-component="text"]{white-space:unset;word-break:break-word;}/*!sc*/
.hjmoJU[data-label-wrap="true"][data-size="small"]{height:unset;min-height:var(--control-small-size,1.75rem);}/*!sc*/
.hjmoJU[data-label-wrap="true"][data-size="small"] [data-component="buttonContent"]{padding-block:calc(var(--control-small-paddingBlock,0.25rem) - 2px);}/*!sc*/
.hjmoJU[data-label-wrap="true"][data-size="large"]{height:unset;min-height:var(--control-large-size,2.5rem);padding-inline:var(--control-large-paddingInline-spacious,1rem);}/*!sc*/
.hjmoJU[data-label-wrap="true"][data-size="large"] [data-component="buttonContent"]{padding-block:calc(var(--control-large-paddingBlock,0.625rem) - 2px);}/*!sc*/
.hjmoJU[data-inactive]:not([disabled]){background-color:var(--button-inactive-bgColor,var(--button-inactive-bgColor-rest,var(--color-btn-inactive-bg,#21262d)));border-color:var(--button-inactive-bgColor,var(--button-inactive-bgColor-rest,var(--color-btn-inactive-bg,#21262d)));color:var(--button-inactive-fgColor,var(--button-inactive-fgColor-rest,var(--color-btn-inactive-text,#8b949e)));}/*!sc*/
.hjmoJU[data-inactive]:not([disabled]):focus-visible{box-shadow:none;}/*!sc*/
.hjmoJU [data-component="leadingVisual"]{grid-area:leadingVisual;color:var(--button-invisible-iconColor-rest,var(--fgColor-muted,var(--color-fg-muted,#848d97)));}/*!sc*/
.hjmoJU [data-component="text"]{grid-area:text;line-height:1.4285714;white-space:nowrap;}/*!sc*/
.hjmoJU [data-component="trailingVisual"]{grid-area:trailingVisual;color:var(--button-invisible-iconColor-rest,var(--fgColor-muted,var(--color-fg-muted,#848d97)));}/*!sc*/
.hjmoJU [data-component="trailingAction"]{margin-right:-4px;color:var(--button-invisible-iconColor-rest,var(--fgColor-muted,var(--color-fg-muted,#848d97)));}/*!sc*/
.hjmoJU [data-component="buttonContent"]{-webkit-flex:1 0 auto;-ms-flex:1 0 auto;flex:1 0 auto;display:grid;grid-template-areas:"leadingVisual text trailingVisual";grid-template-columns:min-content minmax(0,auto) min-content;-webkit-align-items:center;-webkit-box-align:center;-ms-flex-align:center;align-items:center;-webkit-align-content:center;-ms-flex-line-pack:center;align-content:center;}/*!sc*/
.hjmoJU [data-component="buttonContent"] > :not(:last-child){margin-right:8px;}/*!sc*/
.hjmoJU [data-component="loadingSpinner"]{grid-area:text;margin-right:0px !important;place-self:center;color:var(--fgColor-muted,var(--color-fg-muted,#848d97));}/*!sc*/
.hjmoJU [data-component="loadingSpinner"] + [data-component="text"]{visibility:hidden;}/*!sc*/
.hjmoJU:hover:not([disabled]){background-color:var(--control-transparent-bgColor-hover,var(--color-action-list-item-default-hover-bg,rgba(177,186,196,0.12)));}/*!sc*/
.hjmoJU:active:not([disabled]){background-color:var(--control-transparent-bgColor-active,var(--color-action-list-item-default-active-bg,rgba(177,186,196,0.2)));}/*!sc*/
.hjmoJU[aria-expanded=true]{background-color:var(--control-transparent-bgColor-selected,var(--color-action-list-item-default-selected-bg,rgba(177,186,196,0.08)));}/*!sc*/
.hjmoJU[data-component="IconButton"][data-no-visuals]{color:var(--button-invisible-iconColor-rest,var(--fgColor-muted,var(--color-fg-muted,#848d97)));}/*!sc*/
.hjmoJU[data-no-visuals]{color:var(--button-invisible-fgColor-rest,var(--button-default-fgColor-rest,var(--color-btn-text,#c9d1d9)));}/*!sc*/
.hjmoJU:has([data-component="ButtonCounter"]){color:var(--button-invisible-fgColor-rest,var(--button-default-fgColor-rest,var(--color-btn-text,#c9d1d9)));}/*!sc*/
.hjmoJU:disabled[data-no-visuals]{color:var(--fgColor-disabled,var(--color-primer-fg-disabled,#484f58));}/*!sc*/
.hjmoJU:disabled[data-no-visuals] [data-component=ButtonCounter]{color:inherit;}/*!sc*/
.hjmoJU[data-size="medium"][data-no-visuals]{color:var(--fgColor-muted,var(--color-fg-muted,#848d97));height:32px;position:relative;}/*!sc*/
@media screen and (max-width:768px){.hjmoJU[data-size="medium"][data-no-visuals]{display:none;}}/*!sc*/
.fJiNYL{border-radius:6px;border:1px solid;border-color:var(--button-default-borderColor-rest,var(--button-default-borderColor-rest,var(--color-btn-border,rgba(240,246,252,0.1))));font-family:inherit;font-weight:500;font-size:14px;cursor:pointer;-webkit-appearance:none;-moz-appearance:none;appearance:none;-webkit-user-select:none;-moz-user-select:none;-ms-user-select:none;user-select:none;-webkit-text-decoration:none;text-decoration:none;text-align:center;display:-webkit-box;display:-webkit-flex;display:-ms-flexbox;display:flex;-webkit-align-items:center;-webkit-box-align:center;-ms-flex-align:center;align-items:center;-webkit-box-pack:justify;-webkit-justify-content:space-between;-ms-flex-pack:justify;justify-content:space-between;height:32px;padding:0 12px;gap:8px;min-width:-webkit-max-content;min-width:-moz-max-content;min-width:max-content;-webkit-transition:80ms cubic-bezier(0.65,0,0.35,1);transition:80ms cubic-bezier(0.65,0,0.35,1);-webkit-transition-property:color,fill,background-color,border-color;transition-property:color,fill,background-color,border-color;color:var(--button-default-fgColor-rest,var(--color-btn-text,#c9d1d9));background-color:var(--button-default-bgColor-rest,var(--color-btn-bg,#21262d));box-shadow:var(--button-default-shadow-resting,var(--color-btn-shadow,0 0 transparent)),var(--button-default-shadow-inset,var(--color-btn-inset-shadow,0 0 transparent));}/*!sc*/
.fJiNYL:focus:not(:disabled){box-shadow:none;outline:2px solid var(--fgColor-accent,var(--color-accent-fg,#2f81f7));outline-offset:-2px;}/*!sc*/
.fJiNYL:focus:not(:disabled):not(:focus-visible){outline:solid 1px transparent;}/*!sc*/
.fJiNYL:focus-visible:not(:disabled){box-shadow:none;outline:2px solid var(--fgColor-accent,var(--color-accent-fg,#2f81f7));outline-offset:-2px;}/*!sc*/
.fJiNYL[href]{display:-webkit-inline-box;display:-webkit-inline-flex;display:-ms-inline-flexbox;display:inline-flex;}/*!sc*/
.fJiNYL[href]:hover{-webkit-text-decoration:none;text-decoration:none;}/*!sc*/
.fJiNYL:hover{-webkit-transition-duration:80ms;transition-duration:80ms;}/*!sc*/
.fJiNYL:active{-webkit-transition:none;transition:none;}/*!sc*/
.fJiNYL[data-inactive]{cursor:auto;}/*!sc*/
.fJiNYL:disabled{cursor:not-allowed;box-shadow:none;color:var(--fgColor-disabled,var(--color-primer-fg-disabled,#484f58));border-color:var(--button-default-borderColor-disabled,var(--button-default-borderColor-rest,var(--color-btn-border,rgba(240,246,252,0.1))));background-color:var(--button-default-bgColor-disabled,var(--control-bgColor-disabled,var(--color-input-disabled-bg,rgba(110,118,129,0))));}/*!sc*/
.fJiNYL:disabled [data-component=ButtonCounter]{color:inherit;}/*!sc*/
@media (forced-colors:active){.fJiNYL:focus{outline:solid 1px transparent;}}/*!sc*/
.fJiNYL [data-component=ButtonCounter]{font-size:12px;background-color:var(--buttonCounter-default-bgColor-rest,var(--color-btn-counter-bg,#30363d));}/*!sc*/
.fJiNYL[data-component=IconButton]{display:inline-grid;padding:unset;place-content:center;width:32px;min-width:unset;}/*!sc*/
.fJiNYL[data-size="small"]{padding:0 8px;height:28px;gap:4px;font-size:12px;}/*!sc*/
.fJiNYL[data-size="small"] [data-component="text"]{line-height:1.6666667;}/*!sc*/
.fJiNYL[data-size="small"] [data-component=ButtonCounter]{font-size:12px;}/*!sc*/
.fJiNYL[data-size="small"] [data-component="buttonContent"] > :not(:last-child){margin-right:4px;}/*!sc*/
.fJiNYL[data-size="small"][data-component=IconButton]{width:28px;padding:unset;}/*!sc*/
.fJiNYL[data-size="large"]{padding:0 16px;height:40px;gap:8px;}/*!sc*/
.fJiNYL[data-size="large"] [data-component="buttonContent"] > :not(:last-child){margin-right:8px;}/*!sc*/
.fJiNYL[data-size="large"][data-component=IconButton]{width:40px;padding:unset;}/*!sc*/
.fJiNYL[data-block="block"]{width:100%;}/*!sc*/
.fJiNYL[data-label-wrap="true"]{min-width:-webkit-fit-content;min-width:-moz-fit-content;min-width:fit-content;height:unset;min-height:var(--control-medium-size,2rem);}/*!sc*/
.fJiNYL[data-label-wrap="true"] [data-component="buttonContent"]{-webkit-flex:1 1 auto;-ms-flex:1 1 auto;flex:1 1 auto;-webkit-align-self:stretch;-ms-flex-item-align:stretch;align-self:stretch;padding-block:calc(var(--control-medium-paddingBlock,0.375rem) - 2px);}/*!sc*/
.fJiNYL[data-label-wrap="true"] [data-component="text"]{white-space:unset;word-break:break-word;}/*!sc*/
.fJiNYL[data-label-wrap="true"][data-size="small"]{height:unset;min-height:var(--control-small-size,1.75rem);}/*!sc*/
.fJiNYL[data-label-wrap="true"][data-size="small"] [data-component="buttonContent"]{padding-block:calc(var(--control-small-paddingBlock,0.25rem) - 2px);}/*!sc*/
.fJiNYL[data-label-wrap="true"][data-size="large"]{height:unset;min-height:var(--control-large-size,2.5rem);padding-inline:var(--control-large-paddingInline-spacious,1rem);}/*!sc*/
.fJiNYL[data-label-wrap="true"][data-size="large"] [data-component="buttonContent"]{padding-block:calc(var(--control-large-paddingBlock,0.625rem) - 2px);}/*!sc*/
.fJiNYL[data-inactive]:not([disabled]){background-color:var(--button-inactive-bgColor,var(--button-inactive-bgColor-rest,var(--color-btn-inactive-bg,#21262d)));border-color:var(--button-inactive-bgColor,var(--button-inactive-bgColor-rest,var(--color-btn-inactive-bg,#21262d)));color:var(--button-inactive-fgColor,var(--button-inactive-fgColor-rest,var(--color-btn-inactive-text,#8b949e)));}/*!sc*/
.fJiNYL[data-inactive]:not([disabled]):focus-visible{box-shadow:none;}/*!sc*/
.fJiNYL [data-component="leadingVisual"]{grid-area:leadingVisual;}/*!sc*/
.fJiNYL [data-component="text"]{grid-area:text;line-height:1.4285714;white-space:nowrap;}/*!sc*/
.fJiNYL [data-component="trailingVisual"]{grid-area:trailingVisual;}/*!sc*/
.fJiNYL [data-component="trailingAction"]{margin-right:-4px;}/*!sc*/
.fJiNYL [data-component="buttonContent"]{-webkit-flex:1 0 auto;-ms-flex:1 0 auto;flex:1 0 auto;display:grid;grid-template-areas:"leadingVisual text trailingVisual";grid-template-columns:min-content minmax(0,auto) min-content;-webkit-align-items:center;-webkit-box-align:center;-ms-flex-align:center;align-items:center;-webkit-align-content:center;-ms-flex-line-pack:center;align-content:center;}/*!sc*/
.fJiNYL [data-component="buttonContent"] > :not(:last-child){margin-right:8px;}/*!sc*/
.fJiNYL [data-component="loadingSpinner"]{grid-area:text;margin-right:0px !important;place-self:center;color:var(--fgColor-muted,var(--color-fg-muted,#848d97));}/*!sc*/
.fJiNYL [data-component="loadingSpinner"] + [data-component="text"]{visibility:hidden;}/*!sc*/
.fJiNYL:hover:not([disabled]):not([data-inactive]){background-color:var(--button-default-bgColor-hover,var(--color-btn-hover-bg,#30363d));border-color:var(--button-default-borderColor-hover,var(--button-default-borderColor-hover,var(--color-btn-hover-border,#8b949e)));}/*!sc*/
.fJiNYL:active:not([disabled]):not([data-inactive]){background-color:var(--button-default-bgColor-active,var(--color-btn-active-bg,hsla(212,12%,18%,1)));border-color:var(--button-default-borderColor-active,var(--button-default-borderColor-active,var(--color-btn-active-border,#6e7681)));}/*!sc*/
.fJiNYL[aria-expanded=true]{background-color:var(--button-default-bgColor-active,var(--color-btn-active-bg,hsla(212,12%,18%,1)));border-color:var(--button-default-borderColor-active,var(--button-default-borderColor-active,var(--color-btn-active-border,#6e7681)));}/*!sc*/
.fJiNYL [data-component="leadingVisual"],.fJiNYL [data-component="trailingVisual"],.fJiNYL [data-component="trailingAction"]{color:var(--button-color,var(--fgColor-muted,var(--color-fg-muted,#848d97)));}/*!sc*/
.fJiNYL[data-component="IconButton"][data-no-visuals]:not(:disabled){color:var(--fgColor-muted,var(--color-fg-muted,#848d97));}/*!sc*/
.fJiNYL[data-size="medium"]{display:-webkit-box;display:-webkit-flex;display:-ms-flexbox;display:flex;min-width:0;}/*!sc*/
.fJiNYL[data-size="medium"] svg{color:var(--fgColor-muted,var(--color-fg-muted,#848d97));}/*!sc*/
.fJiNYL[data-size="medium"] > span{width:inherit;}/*!sc*/
.hfIjLs{border-radius:6px;border:1px solid;border-color:var(--button-default-borderColor-rest,var(--button-default-borderColor-rest,var(--color-btn-border,rgba(240,246,252,0.1))));font-family:inherit;font-weight:500;font-size:14px;cursor:pointer;-webkit-appearance:none;-moz-appearance:none;appearance:none;-webkit-user-select:none;-moz-user-select:none;-ms-user-select:none;user-select:none;-webkit-text-decoration:none;text-decoration:none;text-align:center;display:-webkit-box;display:-webkit-flex;display:-ms-flexbox;display:flex;-webkit-align-items:center;-webkit-box-align:center;-ms-flex-align:center;align-items:center;-webkit-box-pack:justify;-webkit-justify-content:space-between;-ms-flex-pack:justify;justify-content:space-between;height:32px;padding:0 12px;gap:8px;min-width:-webkit-max-content;min-width:-moz-max-content;min-width:max-content;-webkit-transition:80ms cubic-bezier(0.65,0,0.35,1);transition:80ms cubic-bezier(0.65,0,0.35,1);-webkit-transition-property:color,fill,background-color,border-color;transition-property:color,fill,background-color,border-color;color:var(--button-default-fgColor-rest,var(--color-btn-text,#c9d1d9));background-color:var(--button-default-bgColor-rest,var(--color-btn-bg,#21262d));box-shadow:var(--button-default-shadow-resting,var(--color-btn-shadow,0 0 transparent)),var(--button-default-shadow-inset,var(--color-btn-inset-shadow,0 0 transparent));}/*!sc*/
.hfIjLs:focus:not(:disabled){box-shadow:none;outline:2px solid var(--fgColor-accent,var(--color-accent-fg,#2f81f7));outline-offset:-2px;}/*!sc*/
.hfIjLs:focus:not(:disabled):not(:focus-visible){outline:solid 1px transparent;}/*!sc*/
.hfIjLs:focus-visible:not(:disabled){box-shadow:none;outline:2px solid var(--fgColor-accent,var(--color-accent-fg,#2f81f7));outline-offset:-2px;}/*!sc*/
.hfIjLs[href]{display:-webkit-inline-box;display:-webkit-inline-flex;display:-ms-inline-flexbox;display:inline-flex;}/*!sc*/
.hfIjLs[href]:hover{-webkit-text-decoration:none;text-decoration:none;}/*!sc*/
.hfIjLs:hover{-webkit-transition-duration:80ms;transition-duration:80ms;}/*!sc*/
.hfIjLs:active{-webkit-transition:none;transition:none;}/*!sc*/
.hfIjLs[data-inactive]{cursor:auto;}/*!sc*/
.hfIjLs:disabled{cursor:not-allowed;box-shadow:none;color:var(--fgColor-disabled,var(--color-primer-fg-disabled,#484f58));border-color:var(--button-default-borderColor-disabled,var(--button-default-borderColor-rest,var(--color-btn-border,rgba(240,246,252,0.1))));background-color:var(--button-default-bgColor-disabled,var(--control-bgColor-disabled,var(--color-input-disabled-bg,rgba(110,118,129,0))));}/*!sc*/
.hfIjLs:disabled [data-component=ButtonCounter]{color:inherit;}/*!sc*/
@media (forced-colors:active){.hfIjLs:focus{outline:solid 1px transparent;}}/*!sc*/
.hfIjLs [data-component=ButtonCounter]{font-size:12px;background-color:var(--buttonCounter-default-bgColor-rest,var(--color-btn-counter-bg,#30363d));}/*!sc*/
.hfIjLs[data-component=IconButton]{display:inline-grid;padding:unset;place-content:center;width:32px;min-width:unset;}/*!sc*/
.hfIjLs[data-size="small"]{padding:0 8px;height:28px;gap:4px;font-size:12px;}/*!sc*/
.hfIjLs[data-size="small"] [data-component="text"]{line-height:1.6666667;}/*!sc*/
.hfIjLs[data-size="small"] [data-component=ButtonCounter]{font-size:12px;}/*!sc*/
.hfIjLs[data-size="small"] [data-component="buttonContent"] > :not(:last-child){margin-right:4px;}/*!sc*/
.hfIjLs[data-size="small"][data-component=IconButton]{width:28px;padding:unset;}/*!sc*/
.hfIjLs[data-size="large"]{padding:0 16px;height:40px;gap:8px;}/*!sc*/
.hfIjLs[data-size="large"] [data-component="buttonContent"] > :not(:last-child){margin-right:8px;}/*!sc*/
.hfIjLs[data-size="large"][data-component=IconButton]{width:40px;padding:unset;}/*!sc*/
.hfIjLs[data-block="block"]{width:100%;}/*!sc*/
.hfIjLs[data-label-wrap="true"]{min-width:-webkit-fit-content;min-width:-moz-fit-content;min-width:fit-content;height:unset;min-height:var(--control-medium-size,2rem);}/*!sc*/
.hfIjLs[data-label-wrap="true"] [data-component="buttonContent"]{-webkit-flex:1 1 auto;-ms-flex:1 1 auto;flex:1 1 auto;-webkit-align-self:stretch;-ms-flex-item-align:stretch;align-self:stretch;padding-block:calc(var(--control-medium-paddingBlock,0.375rem) - 2px);}/*!sc*/
.hfIjLs[data-label-wrap="true"] [data-component="text"]{white-space:unset;word-break:break-word;}/*!sc*/
.hfIjLs[data-label-wrap="true"][data-size="small"]{height:unset;min-height:var(--control-small-size,1.75rem);}/*!sc*/
.hfIjLs[data-label-wrap="true"][data-size="small"] [data-component="buttonContent"]{padding-block:calc(var(--control-small-paddingBlock,0.25rem) - 2px);}/*!sc*/
.hfIjLs[data-label-wrap="true"][data-size="large"]{height:unset;min-height:var(--control-large-size,2.5rem);padding-inline:var(--control-large-paddingInline-spacious,1rem);}/*!sc*/
.hfIjLs[data-label-wrap="true"][data-size="large"] [data-component="buttonContent"]{padding-block:calc(var(--control-large-paddingBlock,0.625rem) - 2px);}/*!sc*/
.hfIjLs[data-inactive]:not([disabled]){background-color:var(--button-inactive-bgColor,var(--button-inactive-bgColor-rest,var(--color-btn-inactive-bg,#21262d)));border-color:var(--button-inactive-bgColor,var(--button-inactive-bgColor-rest,var(--color-btn-inactive-bg,#21262d)));color:var(--button-inactive-fgColor,var(--button-inactive-fgColor-rest,var(--color-btn-inactive-text,#8b949e)));}/*!sc*/
.hfIjLs[data-inactive]:not([disabled]):focus-visible{box-shadow:none;}/*!sc*/
.hfIjLs [data-component="leadingVisual"]{grid-area:leadingVisual;}/*!sc*/
.hfIjLs [data-component="text"]{grid-area:text;line-height:1.4285714;white-space:nowrap;}/*!sc*/
.hfIjLs [data-component="trailingVisual"]{grid-area:trailingVisual;}/*!sc*/
.hfIjLs [data-component="trailingAction"]{margin-right:-4px;}/*!sc*/
.hfIjLs [data-component="buttonContent"]{-webkit-flex:1 0 auto;-ms-flex:1 0 auto;flex:1 0 auto;display:grid;grid-template-areas:"leadingVisual text trailingVisual";grid-template-columns:min-content minmax(0,auto) min-content;-webkit-align-items:center;-webkit-box-align:center;-ms-flex-align:center;align-items:center;-webkit-align-content:center;-ms-flex-line-pack:center;align-content:center;}/*!sc*/
.hfIjLs [data-component="buttonContent"] > :not(:last-child){margin-right:8px;}/*!sc*/
.hfIjLs [data-component="loadingSpinner"]{grid-area:text;margin-right:0px !important;place-self:center;color:var(--fgColor-muted,var(--color-fg-muted,#848d97));}/*!sc*/
.hfIjLs [data-component="loadingSpinner"] + [data-component="text"]{visibility:hidden;}/*!sc*/
.hfIjLs:hover:not([disabled]):not([data-inactive]){background-color:var(--button-default-bgColor-hover,var(--color-btn-hover-bg,#30363d));border-color:var(--button-default-borderColor-hover,var(--button-default-borderColor-hover,var(--color-btn-hover-border,#8b949e)));}/*!sc*/
.hfIjLs:active:not([disabled]):not([data-inactive]){background-color:var(--button-default-bgColor-active,var(--color-btn-active-bg,hsla(212,12%,18%,1)));border-color:var(--button-default-borderColor-active,var(--button-default-borderColor-active,var(--color-btn-active-border,#6e7681)));}/*!sc*/
.hfIjLs[aria-expanded=true]{background-color:var(--button-default-bgColor-active,var(--color-btn-active-bg,hsla(212,12%,18%,1)));border-color:var(--button-default-borderColor-active,var(--button-default-borderColor-active,var(--color-btn-active-border,#6e7681)));}/*!sc*/
.hfIjLs [data-component="leadingVisual"],.hfIjLs [data-component="trailingVisual"],.hfIjLs [data-component="trailingAction"]{color:var(--button-color,var(--fgColor-muted,var(--color-fg-muted,#848d97)));}/*!sc*/
.hfIjLs[data-component="IconButton"][data-no-visuals]:not(:disabled){color:var(--fgColor-muted,var(--color-fg-muted,#848d97));}/*!sc*/
.hfIjLs[data-size="medium"][data-no-visuals]{color:var(--fgColor-muted,var(--color-fg-subtle,#6e7681));border-top-right-radius:0;border-bottom-right-radius:0;border-right:0;}/*!sc*/
.dRyOTG{border-radius:6px;border:1px solid;border-color:var(--button-default-borderColor-rest,var(--button-default-borderColor-rest,var(--color-btn-border,rgba(240,246,252,0.1))));font-family:inherit;font-weight:500;font-size:14px;cursor:pointer;-webkit-appearance:none;-moz-appearance:none;appearance:none;-webkit-user-select:none;-moz-user-select:none;-ms-user-select:none;user-select:none;-webkit-text-decoration:none;text-decoration:none;text-align:center;display:-webkit-box;display:-webkit-flex;display:-ms-flexbox;display:flex;-webkit-align-items:center;-webkit-box-align:center;-ms-flex-align:center;align-items:center;-webkit-box-pack:justify;-webkit-justify-content:space-between;-ms-flex-pack:justify;justify-content:space-between;height:32px;padding:0 12px;gap:8px;min-width:-webkit-max-content;min-width:-moz-max-content;min-width:max-content;-webkit-transition:80ms cubic-bezier(0.65,0,0.35,1);transition:80ms cubic-bezier(0.65,0,0.35,1);-webkit-transition-property:color,fill,background-color,border-color;transition-property:color,fill,background-color,border-color;color:var(--button-default-fgColor-rest,var(--color-btn-text,#c9d1d9));background-color:var(--button-default-bgColor-rest,var(--color-btn-bg,#21262d));box-shadow:var(--button-default-shadow-resting,var(--color-btn-shadow,0 0 transparent)),var(--button-default-shadow-inset,var(--color-btn-inset-shadow,0 0 transparent));}/*!sc*/
.dRyOTG:focus:not(:disabled){box-shadow:none;outline:2px solid var(--fgColor-accent,var(--color-accent-fg,#2f81f7));outline-offset:-2px;}/*!sc*/
.dRyOTG:focus:not(:disabled):not(:focus-visible){outline:solid 1px transparent;}/*!sc*/
.dRyOTG:focus-visible:not(:disabled){box-shadow:none;outline:2px solid var(--fgColor-accent,var(--color-accent-fg,#2f81f7));outline-offset:-2px;}/*!sc*/
.dRyOTG[href]{display:-webkit-inline-box;display:-webkit-inline-flex;display:-ms-inline-flexbox;display:inline-flex;}/*!sc*/
.dRyOTG[href]:hover{-webkit-text-decoration:none;text-decoration:none;}/*!sc*/
.dRyOTG:hover{-webkit-transition-duration:80ms;transition-duration:80ms;}/*!sc*/
.dRyOTG:active{-webkit-transition:none;transition:none;}/*!sc*/
.dRyOTG[data-inactive]{cursor:auto;}/*!sc*/
.dRyOTG:disabled{cursor:not-allowed;box-shadow:none;color:var(--fgColor-disabled,var(--color-primer-fg-disabled,#484f58));border-color:var(--button-default-borderColor-disabled,var(--button-default-borderColor-rest,var(--color-btn-border,rgba(240,246,252,0.1))));background-color:var(--button-default-bgColor-disabled,var(--control-bgColor-disabled,var(--color-input-disabled-bg,rgba(110,118,129,0))));}/*!sc*/
.dRyOTG:disabled [data-component=ButtonCounter]{color:inherit;}/*!sc*/
@media (forced-colors:active){.dRyOTG:focus{outline:solid 1px transparent;}}/*!sc*/
.dRyOTG [data-component=ButtonCounter]{font-size:12px;background-color:var(--buttonCounter-default-bgColor-rest,var(--color-btn-counter-bg,#30363d));}/*!sc*/
.dRyOTG[data-component=IconButton]{display:inline-grid;padding:unset;place-content:center;width:32px;min-width:unset;}/*!sc*/
.dRyOTG[data-size="small"]{padding:0 8px;height:28px;gap:4px;font-size:12px;}/*!sc*/
.dRyOTG[data-size="small"] [data-component="text"]{line-height:1.6666667;}/*!sc*/
.dRyOTG[data-size="small"] [data-component=ButtonCounter]{font-size:12px;}/*!sc*/
.dRyOTG[data-size="small"] [data-component="buttonContent"] > :not(:last-child){margin-right:4px;}/*!sc*/
.dRyOTG[data-size="small"][data-component=IconButton]{width:28px;padding:unset;}/*!sc*/
.dRyOTG[data-size="large"]{padding:0 16px;height:40px;gap:8px;}/*!sc*/
.dRyOTG[data-size="large"] [data-component="buttonContent"] > :not(:last-child){margin-right:8px;}/*!sc*/
.dRyOTG[data-size="large"][data-component=IconButton]{width:40px;padding:unset;}/*!sc*/
.dRyOTG[data-block="block"]{width:100%;}/*!sc*/
.dRyOTG[data-label-wrap="true"]{min-width:-webkit-fit-content;min-width:-moz-fit-content;min-width:fit-content;height:unset;min-height:var(--control-medium-size,2rem);}/*!sc*/
.dRyOTG[data-label-wrap="true"] [data-component="buttonContent"]{-webkit-flex:1 1 auto;-ms-flex:1 1 auto;flex:1 1 auto;-webkit-align-self:stretch;-ms-flex-item-align:stretch;align-self:stretch;padding-block:calc(var(--control-medium-paddingBlock,0.375rem) - 2px);}/*!sc*/
.dRyOTG[data-label-wrap="true"] [data-component="text"]{white-space:unset;word-break:break-word;}/*!sc*/
.dRyOTG[data-label-wrap="true"][data-size="small"]{height:unset;min-height:var(--control-small-size,1.75rem);}/*!sc*/
.dRyOTG[data-label-wrap="true"][data-size="small"] [data-component="buttonContent"]{padding-block:calc(var(--control-small-paddingBlock,0.25rem) - 2px);}/*!sc*/
.dRyOTG[data-label-wrap="true"][data-size="large"]{height:unset;min-height:var(--control-large-size,2.5rem);padding-inline:var(--control-large-paddingInline-spacious,1rem);}/*!sc*/
.dRyOTG[data-label-wrap="true"][data-size="large"] [data-component="buttonContent"]{padding-block:calc(var(--control-large-paddingBlock,0.625rem) - 2px);}/*!sc*/
.dRyOTG[data-inactive]:not([disabled]){background-color:var(--button-inactive-bgColor,var(--button-inactive-bgColor-rest,var(--color-btn-inactive-bg,#21262d)));border-color:var(--button-inactive-bgColor,var(--button-inactive-bgColor-rest,var(--color-btn-inactive-bg,#21262d)));color:var(--button-inactive-fgColor,var(--button-inactive-fgColor-rest,var(--color-btn-inactive-text,#8b949e)));}/*!sc*/
.dRyOTG[data-inactive]:not([disabled]):focus-visible{box-shadow:none;}/*!sc*/
.dRyOTG [data-component="leadingVisual"]{grid-area:leadingVisual;}/*!sc*/
.dRyOTG [data-component="text"]{grid-area:text;line-height:1.4285714;white-space:nowrap;}/*!sc*/
.dRyOTG [data-component="trailingVisual"]{grid-area:trailingVisual;}/*!sc*/
.dRyOTG [data-component="trailingAction"]{margin-right:-4px;}/*!sc*/
.dRyOTG [data-component="buttonContent"]{-webkit-flex:1 0 auto;-ms-flex:1 0 auto;flex:1 0 auto;display:grid;grid-template-areas:"leadingVisual text trailingVisual";grid-template-columns:min-content minmax(0,auto) min-content;-webkit-align-items:center;-webkit-box-align:center;-ms-flex-align:center;align-items:center;-webkit-align-content:center;-ms-flex-line-pack:center;align-content:center;}/*!sc*/
.dRyOTG [data-component="buttonContent"] > :not(:last-child){margin-right:8px;}/*!sc*/
.dRyOTG [data-component="loadingSpinner"]{grid-area:text;margin-right:0px !important;place-self:center;color:var(--fgColor-muted,var(--color-fg-muted,#848d97));}/*!sc*/
.dRyOTG [data-component="loadingSpinner"] + [data-component="text"]{visibility:hidden;}/*!sc*/
.dRyOTG:hover:not([disabled]):not([data-inactive]){background-color:var(--button-default-bgColor-hover,var(--color-btn-hover-bg,#30363d));border-color:var(--button-default-borderColor-hover,var(--button-default-borderColor-hover,var(--color-btn-hover-border,#8b949e)));}/*!sc*/
.dRyOTG:active:not([disabled]):not([data-inactive]){background-color:var(--button-default-bgColor-active,var(--color-btn-active-bg,hsla(212,12%,18%,1)));border-color:var(--button-default-borderColor-active,var(--button-default-borderColor-active,var(--color-btn-active-border,#6e7681)));}/*!sc*/
.dRyOTG[aria-expanded=true]{background-color:var(--button-default-bgColor-active,var(--color-btn-active-bg,hsla(212,12%,18%,1)));border-color:var(--button-default-borderColor-active,var(--button-default-borderColor-active,var(--color-btn-active-border,#6e7681)));}/*!sc*/
.dRyOTG [data-component="leadingVisual"],.dRyOTG [data-component="trailingVisual"],.dRyOTG [data-component="trailingAction"]{color:var(--button-color,var(--fgColor-muted,var(--color-fg-muted,#848d97)));}/*!sc*/
.dRyOTG[data-component="IconButton"][data-no-visuals]:not(:disabled){color:var(--fgColor-muted,var(--color-fg-muted,#848d97));}/*!sc*/
.dRyOTG[data-size="medium"][data-no-visuals]{color:var(--fgColor-muted,var(--color-fg-subtle,#6e7681));font-size:14px;font-weight:400;-webkit-flex-shrink:0;-ms-flex-negative:0;flex-shrink:0;border-top-left-radius:0;border-bottom-left-radius:0;}/*!sc*/
.hQsKGs{border-radius:6px;border:1px solid;border-color:transparent;font-family:inherit;font-weight:500;font-size:14px;cursor:pointer;-webkit-appearance:none;-moz-appearance:none;appearance:none;-webkit-user-select:none;-moz-user-select:none;-ms-user-select:none;user-select:none;-webkit-text-decoration:none;text-decoration:none;text-align:center;display:-webkit-box;display:-webkit-flex;display:-ms-flexbox;display:flex;-webkit-align-items:center;-webkit-box-align:center;-ms-flex-align:center;align-items:center;-webkit-box-pack:justify;-webkit-justify-content:space-between;-ms-flex-pack:justify;justify-content:space-between;height:32px;padding:0 12px;gap:8px;min-width:-webkit-max-content;min-width:-moz-max-content;min-width:max-content;-webkit-transition:80ms cubic-bezier(0.65,0,0.35,1);transition:80ms cubic-bezier(0.65,0,0.35,1);-webkit-transition-property:color,fill,background-color,border-color;transition-property:color,fill,background-color,border-color;color:var(--button-invisible-fgColor-rest,var(--button-default-fgColor-rest,var(--color-btn-text,#c9d1d9)));background-color:transparent;box-shadow:none;}/*!sc*/
.hQsKGs:focus:not(:disabled){box-shadow:none;outline:2px solid var(--fgColor-accent,var(--color-accent-fg,#2f81f7));outline-offset:-2px;}/*!sc*/
.hQsKGs:focus:not(:disabled):not(:focus-visible){outline:solid 1px transparent;}/*!sc*/
.hQsKGs:focus-visible:not(:disabled){box-shadow:none;outline:2px solid var(--fgColor-accent,var(--color-accent-fg,#2f81f7));outline-offset:-2px;}/*!sc*/
.hQsKGs[href]{display:-webkit-inline-box;display:-webkit-inline-flex;display:-ms-inline-flexbox;display:inline-flex;}/*!sc*/
.hQsKGs[href]:hover{-webkit-text-decoration:none;text-decoration:none;}/*!sc*/
.hQsKGs:hover{-webkit-transition-duration:80ms;transition-duration:80ms;}/*!sc*/
.hQsKGs:active{-webkit-transition:none;transition:none;}/*!sc*/
.hQsKGs[data-inactive]{cursor:auto;}/*!sc*/
.hQsKGs:disabled{cursor:not-allowed;box-shadow:none;color:var(--fgColor-disabled,var(--color-primer-fg-disabled,#484f58));background-color:var(--button-invisible-bgColor-disabled,transparent);}/*!sc*/
.hQsKGs:disabled [data-component=ButtonCounter],.hQsKGs:disabled [data-component="leadingVisual"],.hQsKGs:disabled [data-component="trailingAction"]{color:inherit;}/*!sc*/
@media (forced-colors:active){.hQsKGs:focus{outline:solid 1px transparent;}}/*!sc*/
.hQsKGs [data-component=ButtonCounter]{font-size:12px;}/*!sc*/
.hQsKGs[data-component=IconButton]{display:inline-grid;padding:unset;place-content:center;width:32px;min-width:unset;}/*!sc*/
.hQsKGs[data-size="small"]{padding:0 8px;height:28px;gap:4px;font-size:12px;}/*!sc*/
.hQsKGs[data-size="small"] [data-component="text"]{line-height:1.6666667;}/*!sc*/
.hQsKGs[data-size="small"] [data-component=ButtonCounter]{font-size:12px;}/*!sc*/
.hQsKGs[data-size="small"] [data-component="buttonContent"] > :not(:last-child){margin-right:4px;}/*!sc*/
.hQsKGs[data-size="small"][data-component=IconButton]{width:28px;padding:unset;}/*!sc*/
.hQsKGs[data-size="large"]{padding:0 16px;height:40px;gap:8px;}/*!sc*/
.hQsKGs[data-size="large"] [data-component="buttonContent"] > :not(:last-child){margin-right:8px;}/*!sc*/
.hQsKGs[data-size="large"][data-component=IconButton]{width:40px;padding:unset;}/*!sc*/
.hQsKGs[data-block="block"]{width:100%;}/*!sc*/
.hQsKGs[data-label-wrap="true"]{min-width:-webkit-fit-content;min-width:-moz-fit-content;min-width:fit-content;height:unset;min-height:var(--control-medium-size,2rem);}/*!sc*/
.hQsKGs[data-label-wrap="true"] [data-component="buttonContent"]{-webkit-flex:1 1 auto;-ms-flex:1 1 auto;flex:1 1 auto;-webkit-align-self:stretch;-ms-flex-item-align:stretch;align-self:stretch;padding-block:calc(var(--control-medium-paddingBlock,0.375rem) - 2px);}/*!sc*/
.hQsKGs[data-label-wrap="true"] [data-component="text"]{white-space:unset;word-break:break-word;}/*!sc*/
.hQsKGs[data-label-wrap="true"][data-size="small"]{height:unset;min-height:var(--control-small-size,1.75rem);}/*!sc*/
.hQsKGs[data-label-wrap="true"][data-size="small"] [data-component="buttonContent"]{padding-block:calc(var(--control-small-paddingBlock,0.25rem) - 2px);}/*!sc*/
.hQsKGs[data-label-wrap="true"][data-size="large"]{height:unset;min-height:var(--control-large-size,2.5rem);padding-inline:var(--control-large-paddingInline-spacious,1rem);}/*!sc*/
.hQsKGs[data-label-wrap="true"][data-size="large"] [data-component="buttonContent"]{padding-block:calc(var(--control-large-paddingBlock,0.625rem) - 2px);}/*!sc*/
.hQsKGs[data-inactive]:not([disabled]){background-color:var(--button-inactive-bgColor,var(--button-inactive-bgColor-rest,var(--color-btn-inactive-bg,#21262d)));border-color:var(--button-inactive-bgColor,var(--button-inactive-bgColor-rest,var(--color-btn-inactive-bg,#21262d)));color:var(--button-inactive-fgColor,var(--button-inactive-fgColor-rest,var(--color-btn-inactive-text,#8b949e)));}/*!sc*/
.hQsKGs[data-inactive]:not([disabled]):focus-visible{box-shadow:none;}/*!sc*/
.hQsKGs [data-component="leadingVisual"]{grid-area:leadingVisual;color:var(--button-invisible-iconColor-rest,var(--fgColor-muted,var(--color-fg-muted,#848d97)));}/*!sc*/
.hQsKGs [data-component="text"]{grid-area:text;line-height:1.4285714;white-space:nowrap;}/*!sc*/
.hQsKGs [data-component="trailingVisual"]{grid-area:trailingVisual;color:var(--button-invisible-iconColor-rest,var(--fgColor-muted,var(--color-fg-muted,#848d97)));}/*!sc*/
.hQsKGs [data-component="trailingAction"]{margin-right:-4px;color:var(--button-invisible-iconColor-rest,var(--fgColor-muted,var(--color-fg-muted,#848d97)));}/*!sc*/
.hQsKGs [data-component="buttonContent"]{-webkit-flex:1 0 auto;-ms-flex:1 0 auto;flex:1 0 auto;display:grid;grid-template-areas:"leadingVisual text trailingVisual";grid-template-columns:min-content minmax(0,auto) min-content;-webkit-align-items:center;-webkit-box-align:center;-ms-flex-align:center;align-items:center;-webkit-align-content:center;-ms-flex-line-pack:center;align-content:center;}/*!sc*/
.hQsKGs [data-component="buttonContent"] > :not(:last-child){margin-right:8px;}/*!sc*/
.hQsKGs [data-component="loadingSpinner"]{grid-area:text;margin-right:0px !important;place-self:center;color:var(--fgColor-muted,var(--color-fg-muted,#848d97));}/*!sc*/
.hQsKGs [data-component="loadingSpinner"] + [data-component="text"]{visibility:hidden;}/*!sc*/
.hQsKGs:hover:not([disabled]){background-color:var(--control-transparent-bgColor-hover,var(--color-action-list-item-default-hover-bg,rgba(177,186,196,0.12)));}/*!sc*/
.hQsKGs:active:not([disabled]){background-color:var(--control-transparent-bgColor-active,var(--color-action-list-item-default-active-bg,rgba(177,186,196,0.2)));}/*!sc*/
.hQsKGs[aria-expanded=true]{background-color:var(--control-transparent-bgColor-selected,var(--color-action-list-item-default-selected-bg,rgba(177,186,196,0.08)));}/*!sc*/
.hQsKGs[data-component="IconButton"][data-no-visuals]{color:var(--button-invisible-iconColor-rest,var(--fgColor-muted,var(--color-fg-muted,#848d97)));}/*!sc*/
.hQsKGs[data-no-visuals]{color:var(--button-invisible-fgColor-rest,var(--button-default-fgColor-rest,var(--color-btn-text,#c9d1d9)));}/*!sc*/
.hQsKGs:has([data-component="ButtonCounter"]){color:var(--button-invisible-fgColor-rest,var(--button-default-fgColor-rest,var(--color-btn-text,#c9d1d9)));}/*!sc*/
.hQsKGs:disabled[data-no-visuals]{color:var(--fgColor-disabled,var(--color-primer-fg-disabled,#484f58));}/*!sc*/
.hQsKGs:disabled[data-no-visuals] [data-component=ButtonCounter]{color:inherit;}/*!sc*/
.zypdo{border-radius:6px;border:1px solid;border-color:var(--button-default-borderColor-rest,var(--button-default-borderColor-rest,var(--color-btn-border,rgba(240,246,252,0.1))));font-family:inherit;font-weight:500;font-size:14px;cursor:pointer;-webkit-appearance:none;-moz-appearance:none;appearance:none;-webkit-user-select:none;-moz-user-select:none;-ms-user-select:none;user-select:none;-webkit-text-decoration:none;text-decoration:none;text-align:center;display:-webkit-box;display:-webkit-flex;display:-ms-flexbox;display:flex;-webkit-align-items:center;-webkit-box-align:center;-ms-flex-align:center;align-items:center;-webkit-box-pack:justify;-webkit-justify-content:space-between;-ms-flex-pack:justify;justify-content:space-between;height:32px;padding:0 12px;gap:8px;min-width:-webkit-max-content;min-width:-moz-max-content;min-width:max-content;-webkit-transition:80ms cubic-bezier(0.65,0,0.35,1);transition:80ms cubic-bezier(0.65,0,0.35,1);-webkit-transition-property:color,fill,background-color,border-color;transition-property:color,fill,background-color,border-color;color:var(--button-default-fgColor-rest,var(--color-btn-text,#c9d1d9));background-color:var(--button-default-bgColor-rest,var(--color-btn-bg,#21262d));box-shadow:var(--button-default-shadow-resting,var(--color-btn-shadow,0 0 transparent)),var(--button-default-shadow-inset,var(--color-btn-inset-shadow,0 0 transparent));}/*!sc*/
.zypdo:focus:not(:disabled){box-shadow:none;outline:2px solid var(--fgColor-accent,var(--color-accent-fg,#2f81f7));outline-offset:-2px;}/*!sc*/
.zypdo:focus:not(:disabled):not(:focus-visible){outline:solid 1px transparent;}/*!sc*/
.zypdo:focus-visible:not(:disabled){box-shadow:none;outline:2px solid var(--fgColor-accent,var(--color-accent-fg,#2f81f7));outline-offset:-2px;}/*!sc*/
.zypdo[href]{display:-webkit-inline-box;display:-webkit-inline-flex;display:-ms-inline-flexbox;display:inline-flex;}/*!sc*/
.zypdo[href]:hover{-webkit-text-decoration:none;text-decoration:none;}/*!sc*/
.zypdo:hover{-webkit-transition-duration:80ms;transition-duration:80ms;}/*!sc*/
.zypdo:active{-webkit-transition:none;transition:none;}/*!sc*/
.zypdo[data-inactive]{cursor:auto;}/*!sc*/
.zypdo:disabled{cursor:not-allowed;box-shadow:none;color:var(--fgColor-disabled,var(--color-primer-fg-disabled,#484f58));border-color:var(--button-default-borderColor-disabled,var(--button-default-borderColor-rest,var(--color-btn-border,rgba(240,246,252,0.1))));background-color:var(--button-default-bgColor-disabled,var(--control-bgColor-disabled,var(--color-input-disabled-bg,rgba(110,118,129,0))));}/*!sc*/
.zypdo:disabled [data-component=ButtonCounter]{color:inherit;}/*!sc*/
@media (forced-colors:active){.zypdo:focus{outline:solid 1px transparent;}}/*!sc*/
.zypdo [data-component=ButtonCounter]{font-size:12px;background-color:var(--buttonCounter-default-bgColor-rest,var(--color-btn-counter-bg,#30363d));}/*!sc*/
.zypdo[data-component=IconButton]{display:inline-grid;padding:unset;place-content:center;width:32px;min-width:unset;}/*!sc*/
.zypdo[data-size="small"]{padding:0 8px;height:28px;gap:4px;font-size:12px;}/*!sc*/
.zypdo[data-size="small"] [data-component="text"]{line-height:1.6666667;}/*!sc*/
.zypdo[data-size="small"] [data-component=ButtonCounter]{font-size:12px;}/*!sc*/
.zypdo[data-size="small"] [data-component="buttonContent"] > :not(:last-child){margin-right:4px;}/*!sc*/
.zypdo[data-size="small"][data-component=IconButton]{width:28px;padding:unset;}/*!sc*/
.zypdo[data-size="large"]{padding:0 16px;height:40px;gap:8px;}/*!sc*/
.zypdo[data-size="large"] [data-component="buttonContent"] > :not(:last-child){margin-right:8px;}/*!sc*/
.zypdo[data-size="large"][data-component=IconButton]{width:40px;padding:unset;}/*!sc*/
.zypdo[data-block="block"]{width:100%;}/*!sc*/
.zypdo[data-label-wrap="true"]{min-width:-webkit-fit-content;min-width:-moz-fit-content;min-width:fit-content;height:unset;min-height:var(--control-medium-size,2rem);}/*!sc*/
.zypdo[data-label-wrap="true"] [data-component="buttonContent"]{-webkit-flex:1 1 auto;-ms-flex:1 1 auto;flex:1 1 auto;-webkit-align-self:stretch;-ms-flex-item-align:stretch;align-self:stretch;padding-block:calc(var(--control-medium-paddingBlock,0.375rem) - 2px);}/*!sc*/
.zypdo[data-label-wrap="true"] [data-component="text"]{white-space:unset;word-break:break-word;}/*!sc*/
.zypdo[data-label-wrap="true"][data-size="small"]{height:unset;min-height:var(--control-small-size,1.75rem);}/*!sc*/
.zypdo[data-label-wrap="true"][data-size="small"] [data-component="buttonContent"]{padding-block:calc(var(--control-small-paddingBlock,0.25rem) - 2px);}/*!sc*/
.zypdo[data-label-wrap="true"][data-size="large"]{height:unset;min-height:var(--control-large-size,2.5rem);padding-inline:var(--control-large-paddingInline-spacious,1rem);}/*!sc*/
.zypdo[data-label-wrap="true"][data-size="large"] [data-component="buttonContent"]{padding-block:calc(var(--control-large-paddingBlock,0.625rem) - 2px);}/*!sc*/
.zypdo[data-inactive]:not([disabled]){background-color:var(--button-inactive-bgColor,var(--button-inactive-bgColor-rest,var(--color-btn-inactive-bg,#21262d)));border-color:var(--button-inactive-bgColor,var(--button-inactive-bgColor-rest,var(--color-btn-inactive-bg,#21262d)));color:var(--button-inactive-fgColor,var(--button-inactive-fgColor-rest,var(--color-btn-inactive-text,#8b949e)));}/*!sc*/
.zypdo[data-inactive]:not([disabled]):focus-visible{box-shadow:none;}/*!sc*/
.zypdo [data-component="leadingVisual"]{grid-area:leadingVisual;}/*!sc*/
.zypdo [data-component="text"]{grid-area:text;line-height:1.4285714;white-space:nowrap;}/*!sc*/
.zypdo [data-component="trailingVisual"]{grid-area:trailingVisual;}/*!sc*/
.zypdo [data-component="trailingAction"]{margin-right:-4px;}/*!sc*/
.zypdo [data-component="buttonContent"]{-webkit-flex:1 0 auto;-ms-flex:1 0 auto;flex:1 0 auto;display:grid;grid-template-areas:"leadingVisual text trailingVisual";grid-template-columns:min-content minmax(0,auto) min-content;-webkit-align-items:center;-webkit-box-align:center;-ms-flex-align:center;align-items:center;-webkit-align-content:center;-ms-flex-line-pack:center;align-content:center;}/*!sc*/
.zypdo [data-component="buttonContent"] > :not(:last-child){margin-right:8px;}/*!sc*/
.zypdo [data-component="loadingSpinner"]{grid-area:text;margin-right:0px !important;place-self:center;color:var(--fgColor-muted,var(--color-fg-muted,#848d97));}/*!sc*/
.zypdo [data-component="loadingSpinner"] + [data-component="text"]{visibility:hidden;}/*!sc*/
.zypdo:hover:not([disabled]):not([data-inactive]){background-color:var(--button-default-bgColor-hover,var(--color-btn-hover-bg,#30363d));border-color:var(--button-default-borderColor-hover,var(--button-default-borderColor-hover,var(--color-btn-hover-border,#8b949e)));}/*!sc*/
.zypdo:active:not([disabled]):not([data-inactive]){background-color:var(--button-default-bgColor-active,var(--color-btn-active-bg,hsla(212,12%,18%,1)));border-color:var(--button-default-borderColor-active,var(--button-default-borderColor-active,var(--color-btn-active-border,#6e7681)));}/*!sc*/
.zypdo[aria-expanded=true]{background-color:var(--button-default-bgColor-active,var(--color-btn-active-bg,hsla(212,12%,18%,1)));border-color:var(--button-default-borderColor-active,var(--button-default-borderColor-active,var(--color-btn-active-border,#6e7681)));}/*!sc*/
.zypdo [data-component="leadingVisual"],.zypdo [data-component="trailingVisual"],.zypdo [data-component="trailingAction"]{color:var(--button-color,var(--fgColor-muted,var(--color-fg-muted,#848d97)));}/*!sc*/
.zypdo[data-component="IconButton"][data-no-visuals]:not(:disabled){color:var(--fgColor-muted,var(--color-fg-muted,#848d97));}/*!sc*/
.zypdo[data-size="medium"][data-no-visuals]{border-top-left-radius:0;border-bottom-left-radius:0;display:none;}/*!sc*/
.fbXYTF{border-radius:6px;border:1px solid;border-color:var(--button-default-borderColor-rest,var(--button-default-borderColor-rest,var(--color-btn-border,rgba(240,246,252,0.1))));font-family:inherit;font-weight:500;font-size:14px;cursor:pointer;-webkit-appearance:none;-moz-appearance:none;appearance:none;-webkit-user-select:none;-moz-user-select:none;-ms-user-select:none;user-select:none;-webkit-text-decoration:none;text-decoration:none;text-align:center;display:-webkit-box;display:-webkit-flex;display:-ms-flexbox;display:flex;-webkit-align-items:center;-webkit-box-align:center;-ms-flex-align:center;align-items:center;-webkit-box-pack:justify;-webkit-justify-content:space-between;-ms-flex-pack:justify;justify-content:space-between;height:32px;padding:0 12px;gap:8px;min-width:-webkit-max-content;min-width:-moz-max-content;min-width:max-content;-webkit-transition:80ms cubic-bezier(0.65,0,0.35,1);transition:80ms cubic-bezier(0.65,0,0.35,1);-webkit-transition-property:color,fill,background-color,border-color;transition-property:color,fill,background-color,border-color;color:var(--button-default-fgColor-rest,var(--color-btn-text,#c9d1d9));background-color:var(--button-default-bgColor-rest,var(--color-btn-bg,#21262d));box-shadow:var(--button-default-shadow-resting,var(--color-btn-shadow,0 0 transparent)),var(--button-default-shadow-inset,var(--color-btn-inset-shadow,0 0 transparent));}/*!sc*/
.fbXYTF:focus:not(:disabled){box-shadow:none;outline:2px solid var(--fgColor-accent,var(--color-accent-fg,#2f81f7));outline-offset:-2px;}/*!sc*/
.fbXYTF:focus:not(:disabled):not(:focus-visible){outline:solid 1px transparent;}/*!sc*/
.fbXYTF:focus-visible:not(:disabled){box-shadow:none;outline:2px solid var(--fgColor-accent,var(--color-accent-fg,#2f81f7));outline-offset:-2px;}/*!sc*/
.fbXYTF[href]{display:-webkit-inline-box;display:-webkit-inline-flex;display:-ms-inline-flexbox;display:inline-flex;}/*!sc*/
.fbXYTF[href]:hover{-webkit-text-decoration:none;text-decoration:none;}/*!sc*/
.fbXYTF:hover{-webkit-transition-duration:80ms;transition-duration:80ms;}/*!sc*/
.fbXYTF:active{-webkit-transition:none;transition:none;}/*!sc*/
.fbXYTF[data-inactive]{cursor:auto;}/*!sc*/
.fbXYTF:disabled{cursor:not-allowed;box-shadow:none;color:var(--fgColor-disabled,var(--color-primer-fg-disabled,#484f58));border-color:var(--button-default-borderColor-disabled,var(--button-default-borderColor-rest,var(--color-btn-border,rgba(240,246,252,0.1))));background-color:var(--button-default-bgColor-disabled,var(--control-bgColor-disabled,var(--color-input-disabled-bg,rgba(110,118,129,0))));}/*!sc*/
.fbXYTF:disabled [data-component=ButtonCounter]{color:inherit;}/*!sc*/
@media (forced-colors:active){.fbXYTF:focus{outline:solid 1px transparent;}}/*!sc*/
.fbXYTF [data-component=ButtonCounter]{font-size:12px;background-color:var(--buttonCounter-default-bgColor-rest,var(--color-btn-counter-bg,#30363d));}/*!sc*/
.fbXYTF[data-component=IconButton]{display:inline-grid;padding:unset;place-content:center;width:32px;min-width:unset;}/*!sc*/
.fbXYTF[data-size="small"]{padding:0 8px;height:28px;gap:4px;font-size:12px;}/*!sc*/
.fbXYTF[data-size="small"] [data-component="text"]{line-height:1.6666667;}/*!sc*/
.fbXYTF[data-size="small"] [data-component=ButtonCounter]{font-size:12px;}/*!sc*/
.fbXYTF[data-size="small"] [data-component="buttonContent"] > :not(:last-child){margin-right:4px;}/*!sc*/
.fbXYTF[data-size="small"][data-component=IconButton]{width:28px;padding:unset;}/*!sc*/
.fbXYTF[data-size="large"]{padding:0 16px;height:40px;gap:8px;}/*!sc*/
.fbXYTF[data-size="large"] [data-component="buttonContent"] > :not(:last-child){margin-right:8px;}/*!sc*/
.fbXYTF[data-size="large"][data-component=IconButton]{width:40px;padding:unset;}/*!sc*/
.fbXYTF[data-block="block"]{width:100%;}/*!sc*/
.fbXYTF[data-label-wrap="true"]{min-width:-webkit-fit-content;min-width:-moz-fit-content;min-width:fit-content;height:unset;min-height:var(--control-medium-size,2rem);}/*!sc*/
.fbXYTF[data-label-wrap="true"] [data-component="buttonContent"]{-webkit-flex:1 1 auto;-ms-flex:1 1 auto;flex:1 1 auto;-webkit-align-self:stretch;-ms-flex-item-align:stretch;align-self:stretch;padding-block:calc(var(--control-medium-paddingBlock,0.375rem) - 2px);}/*!sc*/
.fbXYTF[data-label-wrap="true"] [data-component="text"]{white-space:unset;word-break:break-word;}/*!sc*/
.fbXYTF[data-label-wrap="true"][data-size="small"]{height:unset;min-height:var(--control-small-size,1.75rem);}/*!sc*/
.fbXYTF[data-label-wrap="true"][data-size="small"] [data-component="buttonContent"]{padding-block:calc(var(--control-small-paddingBlock,0.25rem) - 2px);}/*!sc*/
.fbXYTF[data-label-wrap="true"][data-size="large"]{height:unset;min-height:var(--control-large-size,2.5rem);padding-inline:var(--control-large-paddingInline-spacious,1rem);}/*!sc*/
.fbXYTF[data-label-wrap="true"][data-size="large"] [data-component="buttonContent"]{padding-block:calc(var(--control-large-paddingBlock,0.625rem) - 2px);}/*!sc*/
.fbXYTF[data-inactive]:not([disabled]){background-color:var(--button-inactive-bgColor,var(--button-inactive-bgColor-rest,var(--color-btn-inactive-bg,#21262d)));border-color:var(--button-inactive-bgColor,var(--button-inactive-bgColor-rest,var(--color-btn-inactive-bg,#21262d)));color:var(--button-inactive-fgColor,var(--button-inactive-fgColor-rest,var(--color-btn-inactive-text,#8b949e)));}/*!sc*/
.fbXYTF[data-inactive]:not([disabled]):focus-visible{box-shadow:none;}/*!sc*/
.fbXYTF [data-component="leadingVisual"]{grid-area:leadingVisual;}/*!sc*/
.fbXYTF [data-component="text"]{grid-area:text;line-height:1.4285714;white-space:nowrap;}/*!sc*/
.fbXYTF [data-component="trailingVisual"]{grid-area:trailingVisual;}/*!sc*/
.fbXYTF [data-component="trailingAction"]{margin-right:-4px;}/*!sc*/
.fbXYTF [data-component="buttonContent"]{-webkit-flex:1 0 auto;-ms-flex:1 0 auto;flex:1 0 auto;display:grid;grid-template-areas:"leadingVisual text trailingVisual";grid-template-columns:min-content minmax(0,auto) min-content;-webkit-align-items:center;-webkit-box-align:center;-ms-flex-align:center;align-items:center;-webkit-align-content:center;-ms-flex-line-pack:center;align-content:center;}/*!sc*/
.fbXYTF [data-component="buttonContent"] > :not(:last-child){margin-right:8px;}/*!sc*/
.fbXYTF [data-component="loadingSpinner"]{grid-area:text;margin-right:0px !important;place-self:center;color:var(--fgColor-muted,var(--color-fg-muted,#848d97));}/*!sc*/
.fbXYTF [data-component="loadingSpinner"] + [data-component="text"]{visibility:hidden;}/*!sc*/
.fbXYTF:hover:not([disabled]):not([data-inactive]){background-color:var(--button-default-bgColor-hover,var(--color-btn-hover-bg,#30363d));border-color:var(--button-default-borderColor-hover,var(--button-default-borderColor-hover,var(--color-btn-hover-border,#8b949e)));}/*!sc*/
.fbXYTF:active:not([disabled]):not([data-inactive]){background-color:var(--button-default-bgColor-active,var(--color-btn-active-bg,hsla(212,12%,18%,1)));border-color:var(--button-default-borderColor-active,var(--button-default-borderColor-active,var(--color-btn-active-border,#6e7681)));}/*!sc*/
.fbXYTF[aria-expanded=true]{background-color:var(--button-default-bgColor-active,var(--color-btn-active-bg,hsla(212,12%,18%,1)));border-color:var(--button-default-borderColor-active,var(--button-default-borderColor-active,var(--color-btn-active-border,#6e7681)));}/*!sc*/
.fbXYTF [data-component="leadingVisual"],.fbXYTF [data-component="trailingVisual"],.fbXYTF [data-component="trailingAction"]{color:var(--button-color,var(--fgColor-muted,var(--color-fg-muted,#848d97)));}/*!sc*/
.fbXYTF[data-component="IconButton"][data-no-visuals]:not(:disabled){color:var(--fgColor-muted,var(--color-fg-muted,#848d97));}/*!sc*/
.fbXYTF[data-size="medium"][data-no-visuals]{color:var(--fgColor-muted,var(--color-fg-muted,#848d97));}/*!sc*/
.gMSYuG{border-radius:6px;border:1px solid;border-color:transparent;font-family:inherit;font-weight:500;font-size:14px;cursor:pointer;-webkit-appearance:none;-moz-appearance:none;appearance:none;-webkit-user-select:none;-moz-user-select:none;-ms-user-select:none;user-select:none;-webkit-text-decoration:none;text-decoration:none;text-align:center;display:-webkit-box;display:-webkit-flex;display:-ms-flexbox;display:flex;-webkit-align-items:center;-webkit-box-align:center;-ms-flex-align:center;align-items:center;-webkit-box-pack:justify;-webkit-justify-content:space-between;-ms-flex-pack:justify;justify-content:space-between;height:32px;padding:0 12px;gap:8px;min-width:-webkit-max-content;min-width:-moz-max-content;min-width:max-content;-webkit-transition:80ms cubic-bezier(0.65,0,0.35,1);transition:80ms cubic-bezier(0.65,0,0.35,1);-webkit-transition-property:color,fill,background-color,border-color;transition-property:color,fill,background-color,border-color;color:var(--button-invisible-fgColor-rest,var(--button-default-fgColor-rest,var(--color-btn-text,#c9d1d9)));background-color:transparent;box-shadow:none;}/*!sc*/
.gMSYuG:focus:not(:disabled){box-shadow:none;outline:2px solid var(--fgColor-accent,var(--color-accent-fg,#2f81f7));outline-offset:-2px;}/*!sc*/
.gMSYuG:focus:not(:disabled):not(:focus-visible){outline:solid 1px transparent;}/*!sc*/
.gMSYuG:focus-visible:not(:disabled){box-shadow:none;outline:2px solid var(--fgColor-accent,var(--color-accent-fg,#2f81f7));outline-offset:-2px;}/*!sc*/
.gMSYuG[href]{display:-webkit-inline-box;display:-webkit-inline-flex;display:-ms-inline-flexbox;display:inline-flex;}/*!sc*/
.gMSYuG[href]:hover{-webkit-text-decoration:none;text-decoration:none;}/*!sc*/
.gMSYuG:hover{-webkit-transition-duration:80ms;transition-duration:80ms;}/*!sc*/
.gMSYuG:active{-webkit-transition:none;transition:none;}/*!sc*/
.gMSYuG[data-inactive]{cursor:auto;}/*!sc*/
.gMSYuG:disabled{cursor:not-allowed;box-shadow:none;color:var(--fgColor-disabled,var(--color-primer-fg-disabled,#484f58));background-color:var(--button-invisible-bgColor-disabled,transparent);}/*!sc*/
.gMSYuG:disabled [data-component=ButtonCounter],.gMSYuG:disabled [data-component="leadingVisual"],.gMSYuG:disabled [data-component="trailingAction"]{color:inherit;}/*!sc*/
@media (forced-colors:active){.gMSYuG:focus{outline:solid 1px transparent;}}/*!sc*/
.gMSYuG [data-component=ButtonCounter]{font-size:12px;}/*!sc*/
.gMSYuG[data-component=IconButton]{display:inline-grid;padding:unset;place-content:center;width:32px;min-width:unset;}/*!sc*/
.gMSYuG[data-size="small"]{padding:0 8px;height:28px;gap:4px;font-size:12px;color:var(--fgColor-default,var(--color-fg-default,#e6edf3));display:none;}/*!sc*/
.gMSYuG[data-size="small"] [data-component="text"]{line-height:1.6666667;}/*!sc*/
.gMSYuG[data-size="small"] [data-component=ButtonCounter]{font-size:12px;}/*!sc*/
.gMSYuG[data-size="small"] [data-component="buttonContent"] > :not(:last-child){margin-right:4px;}/*!sc*/
.gMSYuG[data-size="small"][data-component=IconButton]{width:28px;padding:unset;}/*!sc*/
@media screen and (min-width:544px){.gMSYuG[data-size="small"]{display:none;}}/*!sc*/
@media screen and (min-width:768px){.gMSYuG[data-size="small"]{display:none;}}/*!sc*/
@media screen and (min-width:1012px){.gMSYuG[data-size="small"]{display:none;}}/*!sc*/
@media screen and (min-width:1280px){.gMSYuG[data-size="small"]{display:block;}}/*!sc*/
.gMSYuG[data-size="large"]{padding:0 16px;height:40px;gap:8px;}/*!sc*/
.gMSYuG[data-size="large"] [data-component="buttonContent"] > :not(:last-child){margin-right:8px;}/*!sc*/
.gMSYuG[data-size="large"][data-component=IconButton]{width:40px;padding:unset;}/*!sc*/
.gMSYuG[data-block="block"]{width:100%;}/*!sc*/
.gMSYuG[data-label-wrap="true"]{min-width:-webkit-fit-content;min-width:-moz-fit-content;min-width:fit-content;height:unset;min-height:var(--control-medium-size,2rem);}/*!sc*/
.gMSYuG[data-label-wrap="true"] [data-component="buttonContent"]{-webkit-flex:1 1 auto;-ms-flex:1 1 auto;flex:1 1 auto;-webkit-align-self:stretch;-ms-flex-item-align:stretch;align-self:stretch;padding-block:calc(var(--control-medium-paddingBlock,0.375rem) - 2px);}/*!sc*/
.gMSYuG[data-label-wrap="true"] [data-component="text"]{white-space:unset;word-break:break-word;}/*!sc*/
.gMSYuG[data-label-wrap="true"][data-size="small"]{height:unset;min-height:var(--control-small-size,1.75rem);}/*!sc*/
.gMSYuG[data-label-wrap="true"][data-size="small"] [data-component="buttonContent"]{padding-block:calc(var(--control-small-paddingBlock,0.25rem) - 2px);}/*!sc*/
.gMSYuG[data-label-wrap="true"][data-size="large"]{height:unset;min-height:var(--control-large-size,2.5rem);padding-inline:var(--control-large-paddingInline-spacious,1rem);}/*!sc*/
.gMSYuG[data-label-wrap="true"][data-size="large"] [data-component="buttonContent"]{padding-block:calc(var(--control-large-paddingBlock,0.625rem) - 2px);}/*!sc*/
.gMSYuG[data-inactive]:not([disabled]){background-color:var(--button-inactive-bgColor,var(--button-inactive-bgColor-rest,var(--color-btn-inactive-bg,#21262d)));border-color:var(--button-inactive-bgColor,var(--button-inactive-bgColor-rest,var(--color-btn-inactive-bg,#21262d)));color:var(--button-inactive-fgColor,var(--button-inactive-fgColor-rest,var(--color-btn-inactive-text,#8b949e)));}/*!sc*/
.gMSYuG[data-inactive]:not([disabled]):focus-visible{box-shadow:none;}/*!sc*/
.gMSYuG [data-component="leadingVisual"]{grid-area:leadingVisual;color:var(--button-invisible-iconColor-rest,var(--fgColor-muted,var(--color-fg-muted,#848d97)));}/*!sc*/
.gMSYuG [data-component="text"]{grid-area:text;line-height:1.4285714;white-space:nowrap;}/*!sc*/
.gMSYuG [data-component="trailingVisual"]{grid-area:trailingVisual;color:var(--button-invisible-iconColor-rest,var(--fgColor-muted,var(--color-fg-muted,#848d97)));}/*!sc*/
.gMSYuG [data-component="trailingAction"]{margin-right:-4px;color:var(--button-invisible-iconColor-rest,var(--fgColor-muted,var(--color-fg-muted,#848d97)));}/*!sc*/
.gMSYuG [data-component="buttonContent"]{-webkit-flex:1 0 auto;-ms-flex:1 0 auto;flex:1 0 auto;display:grid;grid-template-areas:"leadingVisual text trailingVisual";grid-template-columns:min-content minmax(0,auto) min-content;-webkit-align-items:center;-webkit-box-align:center;-ms-flex-align:center;align-items:center;-webkit-align-content:center;-ms-flex-line-pack:center;align-content:center;}/*!sc*/
.gMSYuG [data-component="buttonContent"] > :not(:last-child){margin-right:8px;}/*!sc*/
.gMSYuG [data-component="loadingSpinner"]{grid-area:text;margin-right:0px !important;place-self:center;color:var(--fgColor-muted,var(--color-fg-muted,#848d97));}/*!sc*/
.gMSYuG [data-component="loadingSpinner"] + [data-component="text"]{visibility:hidden;}/*!sc*/
.gMSYuG:hover:not([disabled]){background-color:var(--control-transparent-bgColor-hover,var(--color-action-list-item-default-hover-bg,rgba(177,186,196,0.12)));}/*!sc*/
.gMSYuG:active:not([disabled]){background-color:var(--control-transparent-bgColor-active,var(--color-action-list-item-default-active-bg,rgba(177,186,196,0.2)));}/*!sc*/
.gMSYuG[aria-expanded=true]{background-color:var(--control-transparent-bgColor-selected,var(--color-action-list-item-default-selected-bg,rgba(177,186,196,0.08)));}/*!sc*/
.gMSYuG[data-component="IconButton"][data-no-visuals]{color:var(--button-invisible-iconColor-rest,var(--fgColor-muted,var(--color-fg-muted,#848d97)));}/*!sc*/
.gMSYuG[data-no-visuals]{color:var(--button-invisible-fgColor-rest,var(--button-default-fgColor-rest,var(--color-btn-text,#c9d1d9)));}/*!sc*/
.gMSYuG:has([data-component="ButtonCounter"]){color:var(--button-invisible-fgColor-rest,var(--button-default-fgColor-rest,var(--color-btn-text,#c9d1d9)));}/*!sc*/
.gMSYuG:disabled[data-no-visuals]{color:var(--fgColor-disabled,var(--color-primer-fg-disabled,#484f58));}/*!sc*/
.gMSYuG:disabled[data-no-visuals] [data-component=ButtonCounter]{color:inherit;}/*!sc*/
.kLEyiE{border-radius:6px;border:1px solid;border-color:transparent;font-family:inherit;font-weight:500;font-size:14px;cursor:pointer;-webkit-appearance:none;-moz-appearance:none;appearance:none;-webkit-user-select:none;-moz-user-select:none;-ms-user-select:none;user-select:none;-webkit-text-decoration:none;text-decoration:none;text-align:center;display:-webkit-box;display:-webkit-flex;display:-ms-flexbox;display:flex;-webkit-align-items:center;-webkit-box-align:center;-ms-flex-align:center;align-items:center;-webkit-box-pack:justify;-webkit-justify-content:space-between;-ms-flex-pack:justify;justify-content:space-between;height:32px;padding:0 12px;gap:8px;min-width:-webkit-max-content;min-width:-moz-max-content;min-width:max-content;-webkit-transition:80ms cubic-bezier(0.65,0,0.35,1);transition:80ms cubic-bezier(0.65,0,0.35,1);-webkit-transition-property:color,fill,background-color,border-color;transition-property:color,fill,background-color,border-color;color:var(--button-invisible-fgColor-rest,var(--button-default-fgColor-rest,var(--color-btn-text,#c9d1d9)));background-color:transparent;box-shadow:none;}/*!sc*/
.kLEyiE:focus:not(:disabled){box-shadow:none;outline:2px solid var(--fgColor-accent,var(--color-accent-fg,#2f81f7));outline-offset:-2px;}/*!sc*/
.kLEyiE:focus:not(:disabled):not(:focus-visible){outline:solid 1px transparent;}/*!sc*/
.kLEyiE:focus-visible:not(:disabled){box-shadow:none;outline:2px solid var(--fgColor-accent,var(--color-accent-fg,#2f81f7));outline-offset:-2px;}/*!sc*/
.kLEyiE[href]{display:-webkit-inline-box;display:-webkit-inline-flex;display:-ms-inline-flexbox;display:inline-flex;}/*!sc*/
.kLEyiE[href]:hover{-webkit-text-decoration:none;text-decoration:none;}/*!sc*/
.kLEyiE:hover{-webkit-transition-duration:80ms;transition-duration:80ms;}/*!sc*/
.kLEyiE:active{-webkit-transition:none;transition:none;}/*!sc*/
.kLEyiE[data-inactive]{cursor:auto;}/*!sc*/
.kLEyiE:disabled{cursor:not-allowed;box-shadow:none;color:var(--fgColor-disabled,var(--color-primer-fg-disabled,#484f58));background-color:var(--button-invisible-bgColor-disabled,transparent);}/*!sc*/
.kLEyiE:disabled [data-component=ButtonCounter],.kLEyiE:disabled [data-component="leadingVisual"],.kLEyiE:disabled [data-component="trailingAction"]{color:inherit;}/*!sc*/
@media (forced-colors:active){.kLEyiE:focus{outline:solid 1px transparent;}}/*!sc*/
.kLEyiE [data-component=ButtonCounter]{font-size:12px;}/*!sc*/
.kLEyiE[data-component=IconButton]{display:inline-grid;padding:unset;place-content:center;width:32px;min-width:unset;}/*!sc*/
.kLEyiE[data-size="small"]{padding:0 8px;height:28px;gap:4px;font-size:12px;color:var(--fgColor-default,var(--color-fg-default,#e6edf3));margin-left:8px;}/*!sc*/
.kLEyiE[data-size="small"] [data-component="text"]{line-height:1.6666667;}/*!sc*/
.kLEyiE[data-size="small"] [data-component=ButtonCounter]{font-size:12px;}/*!sc*/
.kLEyiE[data-size="small"] [data-component="buttonContent"] > :not(:last-child){margin-right:4px;}/*!sc*/
.kLEyiE[data-size="small"][data-component=IconButton]{width:28px;padding:unset;}/*!sc*/
.kLEyiE[data-size="large"]{padding:0 16px;height:40px;gap:8px;}/*!sc*/
.kLEyiE[data-size="large"] [data-component="buttonContent"] > :not(:last-child){margin-right:8px;}/*!sc*/
.kLEyiE[data-size="large"][data-component=IconButton]{width:40px;padding:unset;}/*!sc*/
.kLEyiE[data-block="block"]{width:100%;}/*!sc*/
.kLEyiE[data-label-wrap="true"]{min-width:-webkit-fit-content;min-width:-moz-fit-content;min-width:fit-content;height:unset;min-height:var(--control-medium-size,2rem);}/*!sc*/
.kLEyiE[data-label-wrap="true"] [data-component="buttonContent"]{-webkit-flex:1 1 auto;-ms-flex:1 1 auto;flex:1 1 auto;-webkit-align-self:stretch;-ms-flex-item-align:stretch;align-self:stretch;padding-block:calc(var(--control-medium-paddingBlock,0.375rem) - 2px);}/*!sc*/
.kLEyiE[data-label-wrap="true"] [data-component="text"]{white-space:unset;word-break:break-word;}/*!sc*/
.kLEyiE[data-label-wrap="true"][data-size="small"]{height:unset;min-height:var(--control-small-size,1.75rem);}/*!sc*/
.kLEyiE[data-label-wrap="true"][data-size="small"] [data-component="buttonContent"]{padding-block:calc(var(--control-small-paddingBlock,0.25rem) - 2px);}/*!sc*/
.kLEyiE[data-label-wrap="true"][data-size="large"]{height:unset;min-height:var(--control-large-size,2.5rem);padding-inline:var(--control-large-paddingInline-spacious,1rem);}/*!sc*/
.kLEyiE[data-label-wrap="true"][data-size="large"] [data-component="buttonContent"]{padding-block:calc(var(--control-large-paddingBlock,0.625rem) - 2px);}/*!sc*/
.kLEyiE[data-inactive]:not([disabled]){background-color:var(--button-inactive-bgColor,var(--button-inactive-bgColor-rest,var(--color-btn-inactive-bg,#21262d)));border-color:var(--button-inactive-bgColor,var(--button-inactive-bgColor-rest,var(--color-btn-inactive-bg,#21262d)));color:var(--button-inactive-fgColor,var(--button-inactive-fgColor-rest,var(--color-btn-inactive-text,#8b949e)));}/*!sc*/
.kLEyiE[data-inactive]:not([disabled]):focus-visible{box-shadow:none;}/*!sc*/
.kLEyiE [data-component="leadingVisual"]{grid-area:leadingVisual;color:var(--button-invisible-iconColor-rest,var(--fgColor-muted,var(--color-fg-muted,#848d97)));}/*!sc*/
.kLEyiE [data-component="text"]{grid-area:text;line-height:1.4285714;white-space:nowrap;}/*!sc*/
.kLEyiE [data-component="trailingVisual"]{grid-area:trailingVisual;color:var(--button-invisible-iconColor-rest,var(--fgColor-muted,var(--color-fg-muted,#848d97)));}/*!sc*/
.kLEyiE [data-component="trailingAction"]{margin-right:-4px;color:var(--button-invisible-iconColor-rest,var(--fgColor-muted,var(--color-fg-muted,#848d97)));}/*!sc*/
.kLEyiE [data-component="buttonContent"]{-webkit-flex:1 0 auto;-ms-flex:1 0 auto;flex:1 0 auto;display:grid;grid-template-areas:"leadingVisual text trailingVisual";grid-template-columns:min-content minmax(0,auto) min-content;-webkit-align-items:center;-webkit-box-align:center;-ms-flex-align:center;align-items:center;-webkit-align-content:center;-ms-flex-line-pack:center;align-content:center;}/*!sc*/
.kLEyiE [data-component="buttonContent"] > :not(:last-child){margin-right:8px;}/*!sc*/
.kLEyiE [data-component="loadingSpinner"]{grid-area:text;margin-right:0px !important;place-self:center;color:var(--fgColor-muted,var(--color-fg-muted,#848d97));}/*!sc*/
.kLEyiE [data-component="loadingSpinner"] + [data-component="text"]{visibility:hidden;}/*!sc*/
.kLEyiE:hover:not([disabled]){background-color:var(--control-transparent-bgColor-hover,var(--color-action-list-item-default-hover-bg,rgba(177,186,196,0.12)));}/*!sc*/
.kLEyiE:active:not([disabled]){background-color:var(--control-transparent-bgColor-active,var(--color-action-list-item-default-active-bg,rgba(177,186,196,0.2)));}/*!sc*/
.kLEyiE[aria-expanded=true]{background-color:var(--control-transparent-bgColor-selected,var(--color-action-list-item-default-selected-bg,rgba(177,186,196,0.08)));}/*!sc*/
.kLEyiE[data-component="IconButton"][data-no-visuals]{color:var(--button-invisible-iconColor-rest,var(--fgColor-muted,var(--color-fg-muted,#848d97)));}/*!sc*/
.kLEyiE[data-no-visuals]{color:var(--button-invisible-fgColor-rest,var(--button-default-fgColor-rest,var(--color-btn-text,#c9d1d9)));}/*!sc*/
.kLEyiE:has([data-component="ButtonCounter"]){color:var(--button-invisible-fgColor-rest,var(--button-default-fgColor-rest,var(--color-btn-text,#c9d1d9)));}/*!sc*/
.kLEyiE:disabled[data-no-visuals]{color:var(--fgColor-disabled,var(--color-primer-fg-disabled,#484f58));}/*!sc*/
.kLEyiE:disabled[data-no-visuals] [data-component=ButtonCounter]{color:inherit;}/*!sc*/
.fnqFQe{border-radius:6px;border:1px solid;border-color:var(--button-default-borderColor-rest,var(--button-default-borderColor-rest,var(--color-btn-border,rgba(240,246,252,0.1))));font-family:inherit;font-weight:500;font-size:14px;cursor:pointer;-webkit-appearance:none;-moz-appearance:none;appearance:none;-webkit-user-select:none;-moz-user-select:none;-ms-user-select:none;user-select:none;-webkit-text-decoration:none;text-decoration:none;text-align:center;display:-webkit-box;display:-webkit-flex;display:-ms-flexbox;display:flex;-webkit-align-items:center;-webkit-box-align:center;-ms-flex-align:center;align-items:center;-webkit-box-pack:justify;-webkit-justify-content:space-between;-ms-flex-pack:justify;justify-content:space-between;height:32px;padding:0 12px;gap:8px;min-width:-webkit-max-content;min-width:-moz-max-content;min-width:max-content;-webkit-transition:80ms cubic-bezier(0.65,0,0.35,1);transition:80ms cubic-bezier(0.65,0,0.35,1);-webkit-transition-property:color,fill,background-color,border-color;transition-property:color,fill,background-color,border-color;color:var(--button-default-fgColor-rest,var(--color-btn-text,#c9d1d9));background-color:var(--button-default-bgColor-rest,var(--color-btn-bg,#21262d));box-shadow:var(--button-default-shadow-resting,var(--color-btn-shadow,0 0 transparent)),var(--button-default-shadow-inset,var(--color-btn-inset-shadow,0 0 transparent));padding-left:8px;padding-right:8px;}/*!sc*/
.fnqFQe:focus:not(:disabled){box-shadow:none;outline:2px solid var(--fgColor-accent,var(--color-accent-fg,#2f81f7));outline-offset:-2px;}/*!sc*/
.fnqFQe:focus:not(:disabled):not(:focus-visible){outline:solid 1px transparent;}/*!sc*/
.fnqFQe:focus-visible:not(:disabled){box-shadow:none;outline:2px solid var(--fgColor-accent,var(--color-accent-fg,#2f81f7));outline-offset:-2px;}/*!sc*/
.fnqFQe[href]{display:-webkit-inline-box;display:-webkit-inline-flex;display:-ms-inline-flexbox;display:inline-flex;}/*!sc*/
.fnqFQe[href]:hover{-webkit-text-decoration:none;text-decoration:none;}/*!sc*/
.fnqFQe:hover{-webkit-transition-duration:80ms;transition-duration:80ms;}/*!sc*/
.fnqFQe:active{-webkit-transition:none;transition:none;}/*!sc*/
.fnqFQe[data-inactive]{cursor:auto;}/*!sc*/
.fnqFQe:disabled{cursor:not-allowed;box-shadow:none;color:var(--fgColor-disabled,var(--color-primer-fg-disabled,#484f58));border-color:var(--button-default-borderColor-disabled,var(--button-default-borderColor-rest,var(--color-btn-border,rgba(240,246,252,0.1))));background-color:var(--button-default-bgColor-disabled,var(--control-bgColor-disabled,var(--color-input-disabled-bg,rgba(110,118,129,0))));}/*!sc*/
.fnqFQe:disabled [data-component=ButtonCounter]{color:inherit;}/*!sc*/
@media (forced-colors:active){.fnqFQe:focus{outline:solid 1px transparent;}}/*!sc*/
.fnqFQe [data-component=ButtonCounter]{font-size:12px;background-color:var(--buttonCounter-default-bgColor-rest,var(--color-btn-counter-bg,#30363d));}/*!sc*/
.fnqFQe[data-component=IconButton]{display:inline-grid;padding:unset;place-content:center;width:32px;min-width:unset;}/*!sc*/
.fnqFQe[data-size="small"]{padding:0 8px;height:28px;gap:4px;font-size:12px;}/*!sc*/
.fnqFQe[data-size="small"] [data-component="text"]{line-height:1.6666667;}/*!sc*/
.fnqFQe[data-size="small"] [data-component=ButtonCounter]{font-size:12px;}/*!sc*/
.fnqFQe[data-size="small"] [data-component="buttonContent"] > :not(:last-child){margin-right:4px;}/*!sc*/
.fnqFQe[data-size="small"][data-component=IconButton]{width:28px;padding:unset;}/*!sc*/
.fnqFQe[data-size="large"]{padding:0 16px;height:40px;gap:8px;}/*!sc*/
.fnqFQe[data-size="large"] [data-component="buttonContent"] > :not(:last-child){margin-right:8px;}/*!sc*/
.fnqFQe[data-size="large"][data-component=IconButton]{width:40px;padding:unset;}/*!sc*/
.fnqFQe[data-block="block"]{width:100%;}/*!sc*/
.fnqFQe[data-label-wrap="true"]{min-width:-webkit-fit-content;min-width:-moz-fit-content;min-width:fit-content;height:unset;min-height:var(--control-medium-size,2rem);}/*!sc*/
.fnqFQe[data-label-wrap="true"] [data-component="buttonContent"]{-webkit-flex:1 1 auto;-ms-flex:1 1 auto;flex:1 1 auto;-webkit-align-self:stretch;-ms-flex-item-align:stretch;align-self:stretch;padding-block:calc(var(--control-medium-paddingBlock,0.375rem) - 2px);}/*!sc*/
.fnqFQe[data-label-wrap="true"] [data-component="text"]{white-space:unset;word-break:break-word;}/*!sc*/
.fnqFQe[data-label-wrap="true"][data-size="small"]{height:unset;min-height:var(--control-small-size,1.75rem);}/*!sc*/
.fnqFQe[data-label-wrap="true"][data-size="small"] [data-component="buttonContent"]{padding-block:calc(var(--control-small-paddingBlock,0.25rem) - 2px);}/*!sc*/
.fnqFQe[data-label-wrap="true"][data-size="large"]{height:unset;min-height:var(--control-large-size,2.5rem);padding-inline:var(--control-large-paddingInline-spacious,1rem);}/*!sc*/
.fnqFQe[data-label-wrap="true"][data-size="large"] [data-component="buttonContent"]{padding-block:calc(var(--control-large-paddingBlock,0.625rem) - 2px);}/*!sc*/
.fnqFQe[data-inactive]:not([disabled]){background-color:var(--button-inactive-bgColor,var(--button-inactive-bgColor-rest,var(--color-btn-inactive-bg,#21262d)));border-color:var(--button-inactive-bgColor,var(--button-inactive-bgColor-rest,var(--color-btn-inactive-bg,#21262d)));color:var(--button-inactive-fgColor,var(--button-inactive-fgColor-rest,var(--color-btn-inactive-text,#8b949e)));}/*!sc*/
.fnqFQe[data-inactive]:not([disabled]):focus-visible{box-shadow:none;}/*!sc*/
.fnqFQe [data-component="leadingVisual"]{grid-area:leadingVisual;}/*!sc*/
.fnqFQe [data-component="text"]{grid-area:text;line-height:1.4285714;white-space:nowrap;}/*!sc*/
.fnqFQe [data-component="trailingVisual"]{grid-area:trailingVisual;}/*!sc*/
.fnqFQe [data-component="trailingAction"]{margin-right:-4px;}/*!sc*/
.fnqFQe [data-component="buttonContent"]{-webkit-flex:1 0 auto;-ms-flex:1 0 auto;flex:1 0 auto;display:grid;grid-template-areas:"leadingVisual text trailingVisual";grid-template-columns:min-content minmax(0,auto) min-content;-webkit-align-items:center;-webkit-box-align:center;-ms-flex-align:center;align-items:center;-webkit-align-content:center;-ms-flex-line-pack:center;align-content:center;}/*!sc*/
.fnqFQe [data-component="buttonContent"] > :not(:last-child){margin-right:8px;}/*!sc*/
.fnqFQe [data-component="loadingSpinner"]{grid-area:text;margin-right:0px !important;place-self:center;color:var(--fgColor-muted,var(--color-fg-muted,#848d97));}/*!sc*/
.fnqFQe [data-component="loadingSpinner"] + [data-component="text"]{visibility:hidden;}/*!sc*/
.fnqFQe:hover:not([disabled]):not([data-inactive]){background-color:var(--button-default-bgColor-hover,var(--color-btn-hover-bg,#30363d));border-color:var(--button-default-borderColor-hover,var(--button-default-borderColor-hover,var(--color-btn-hover-border,#8b949e)));}/*!sc*/
.fnqFQe:active:not([disabled]):not([data-inactive]){background-color:var(--button-default-bgColor-active,var(--color-btn-active-bg,hsla(212,12%,18%,1)));border-color:var(--button-default-borderColor-active,var(--button-default-borderColor-active,var(--color-btn-active-border,#6e7681)));}/*!sc*/
.fnqFQe[aria-expanded=true]{background-color:var(--button-default-bgColor-active,var(--color-btn-active-bg,hsla(212,12%,18%,1)));border-color:var(--button-default-borderColor-active,var(--button-default-borderColor-active,var(--color-btn-active-border,#6e7681)));}/*!sc*/
.fnqFQe [data-component="leadingVisual"],.fnqFQe [data-component="trailingVisual"],.fnqFQe [data-component="trailingAction"]{color:var(--button-color,var(--fgColor-muted,var(--color-fg-muted,#848d97)));}/*!sc*/
.fnqFQe[data-component="IconButton"][data-no-visuals]:not(:disabled){color:var(--fgColor-muted,var(--color-fg-muted,#848d97));}/*!sc*/
.fnqFQe linkButtonSx:hover:not([disabled]){-webkit-text-decoration:none;text-decoration:none;}/*!sc*/
.fnqFQe linkButtonSx:focus:not([disabled]){-webkit-text-decoration:none;text-decoration:none;}/*!sc*/
.fnqFQe linkButtonSx:active:not([disabled]){-webkit-text-decoration:none;text-decoration:none;}/*!sc*/
.cDbgyb{border-radius:6px;border:1px solid;border-color:var(--button-default-borderColor-rest,var(--button-default-borderColor-rest,var(--color-btn-border,rgba(240,246,252,0.1))));font-family:inherit;font-weight:500;font-size:14px;cursor:pointer;-webkit-appearance:none;-moz-appearance:none;appearance:none;-webkit-user-select:none;-moz-user-select:none;-ms-user-select:none;user-select:none;-webkit-text-decoration:none;text-decoration:none;text-align:center;display:-webkit-box;display:-webkit-flex;display:-ms-flexbox;display:flex;-webkit-align-items:center;-webkit-box-align:center;-ms-flex-align:center;align-items:center;-webkit-box-pack:justify;-webkit-justify-content:space-between;-ms-flex-pack:justify;justify-content:space-between;height:32px;padding:0 12px;gap:8px;min-width:-webkit-max-content;min-width:-moz-max-content;min-width:max-content;-webkit-transition:80ms cubic-bezier(0.65,0,0.35,1);transition:80ms cubic-bezier(0.65,0,0.35,1);-webkit-transition-property:color,fill,background-color,border-color;transition-property:color,fill,background-color,border-color;color:var(--button-default-fgColor-rest,var(--color-btn-text,#c9d1d9));background-color:var(--button-default-bgColor-rest,var(--color-btn-bg,#21262d));box-shadow:var(--button-default-shadow-resting,var(--color-btn-shadow,0 0 transparent)),var(--button-default-shadow-inset,var(--color-btn-inset-shadow,0 0 transparent));}/*!sc*/
.cDbgyb:focus:not(:disabled){box-shadow:none;outline:2px solid var(--fgColor-accent,var(--color-accent-fg,#2f81f7));outline-offset:-2px;}/*!sc*/
.cDbgyb:focus:not(:disabled):not(:focus-visible){outline:solid 1px transparent;}/*!sc*/
.cDbgyb:focus-visible:not(:disabled){box-shadow:none;outline:2px solid var(--fgColor-accent,var(--color-accent-fg,#2f81f7));outline-offset:-2px;}/*!sc*/
.cDbgyb[href]{display:-webkit-inline-box;display:-webkit-inline-flex;display:-ms-inline-flexbox;display:inline-flex;}/*!sc*/
.cDbgyb[href]:hover{-webkit-text-decoration:none;text-decoration:none;}/*!sc*/
.cDbgyb:hover{-webkit-transition-duration:80ms;transition-duration:80ms;}/*!sc*/
.cDbgyb:active{-webkit-transition:none;transition:none;}/*!sc*/
.cDbgyb[data-inactive]{cursor:auto;}/*!sc*/
.cDbgyb:disabled{cursor:not-allowed;box-shadow:none;color:var(--fgColor-disabled,var(--color-primer-fg-disabled,#484f58));border-color:var(--button-default-borderColor-disabled,var(--button-default-borderColor-rest,var(--color-btn-border,rgba(240,246,252,0.1))));background-color:var(--button-default-bgColor-disabled,var(--control-bgColor-disabled,var(--color-input-disabled-bg,rgba(110,118,129,0))));}/*!sc*/
.cDbgyb:disabled [data-component=ButtonCounter]{color:inherit;}/*!sc*/
@media (forced-colors:active){.cDbgyb:focus{outline:solid 1px transparent;}}/*!sc*/
.cDbgyb [data-component=ButtonCounter]{font-size:12px;background-color:var(--buttonCounter-default-bgColor-rest,var(--color-btn-counter-bg,#30363d));}/*!sc*/
.cDbgyb[data-component=IconButton]{display:inline-grid;padding:unset;place-content:center;width:32px;min-width:unset;}/*!sc*/
.cDbgyb[data-size="small"]{padding:0 8px;height:28px;gap:4px;font-size:12px;}/*!sc*/
.cDbgyb[data-size="small"] [data-component="text"]{line-height:1.6666667;}/*!sc*/
.cDbgyb[data-size="small"] [data-component=ButtonCounter]{font-size:12px;}/*!sc*/
.cDbgyb[data-size="small"] [data-component="buttonContent"] > :not(:last-child){margin-right:4px;}/*!sc*/
.cDbgyb[data-size="small"][data-component=IconButton]{width:28px;padding:unset;}/*!sc*/
.cDbgyb[data-size="large"]{padding:0 16px;height:40px;gap:8px;}/*!sc*/
.cDbgyb[data-size="large"] [data-component="buttonContent"] > :not(:last-child){margin-right:8px;}/*!sc*/
.cDbgyb[data-size="large"][data-component=IconButton]{width:40px;padding:unset;}/*!sc*/
.cDbgyb[data-block="block"]{width:100%;}/*!sc*/
.cDbgyb[data-label-wrap="true"]{min-width:-webkit-fit-content;min-width:-moz-fit-content;min-width:fit-content;height:unset;min-height:var(--control-medium-size,2rem);}/*!sc*/
.cDbgyb[data-label-wrap="true"] [data-component="buttonContent"]{-webkit-flex:1 1 auto;-ms-flex:1 1 auto;flex:1 1 auto;-webkit-align-self:stretch;-ms-flex-item-align:stretch;align-self:stretch;padding-block:calc(var(--control-medium-paddingBlock,0.375rem) - 2px);}/*!sc*/
.cDbgyb[data-label-wrap="true"] [data-component="text"]{white-space:unset;word-break:break-word;}/*!sc*/
.cDbgyb[data-label-wrap="true"][data-size="small"]{height:unset;min-height:var(--control-small-size,1.75rem);}/*!sc*/
.cDbgyb[data-label-wrap="true"][data-size="small"] [data-component="buttonContent"]{padding-block:calc(var(--control-small-paddingBlock,0.25rem) - 2px);}/*!sc*/
.cDbgyb[data-label-wrap="true"][data-size="large"]{height:unset;min-height:var(--control-large-size,2.5rem);padding-inline:var(--control-large-paddingInline-spacious,1rem);}/*!sc*/
.cDbgyb[data-label-wrap="true"][data-size="large"] [data-component="buttonContent"]{padding-block:calc(var(--control-large-paddingBlock,0.625rem) - 2px);}/*!sc*/
.cDbgyb[data-inactive]:not([disabled]){background-color:var(--button-inactive-bgColor,var(--button-inactive-bgColor-rest,var(--color-btn-inactive-bg,#21262d)));border-color:var(--button-inactive-bgColor,var(--button-inactive-bgColor-rest,var(--color-btn-inactive-bg,#21262d)));color:var(--button-inactive-fgColor,var(--button-inactive-fgColor-rest,var(--color-btn-inactive-text,#8b949e)));}/*!sc*/
.cDbgyb[data-inactive]:not([disabled]):focus-visible{box-shadow:none;}/*!sc*/
.cDbgyb [data-component="leadingVisual"]{grid-area:leadingVisual;}/*!sc*/
.cDbgyb [data-component="text"]{grid-area:text;line-height:1.4285714;white-space:nowrap;}/*!sc*/
.cDbgyb [data-component="trailingVisual"]{grid-area:trailingVisual;}/*!sc*/
.cDbgyb [data-component="trailingAction"]{margin-right:-4px;}/*!sc*/
.cDbgyb [data-component="buttonContent"]{-webkit-flex:1 0 auto;-ms-flex:1 0 auto;flex:1 0 auto;display:grid;grid-template-areas:"leadingVisual text trailingVisual";grid-template-columns:min-content minmax(0,auto) min-content;-webkit-align-items:center;-webkit-box-align:center;-ms-flex-align:center;align-items:center;-webkit-align-content:center;-ms-flex-line-pack:center;align-content:center;}/*!sc*/
.cDbgyb [data-component="buttonContent"] > :not(:last-child){margin-right:8px;}/*!sc*/
.cDbgyb [data-component="loadingSpinner"]{grid-area:text;margin-right:0px !important;place-self:center;color:var(--fgColor-muted,var(--color-fg-muted,#848d97));}/*!sc*/
.cDbgyb [data-component="loadingSpinner"] + [data-component="text"]{visibility:hidden;}/*!sc*/
.cDbgyb:hover:not([disabled]):not([data-inactive]){background-color:var(--button-default-bgColor-hover,var(--color-btn-hover-bg,#30363d));border-color:var(--button-default-borderColor-hover,var(--button-default-borderColor-hover,var(--color-btn-hover-border,#8b949e)));}/*!sc*/
.cDbgyb:active:not([disabled]):not([data-inactive]){background-color:var(--button-default-bgColor-active,var(--color-btn-active-bg,hsla(212,12%,18%,1)));border-color:var(--button-default-borderColor-active,var(--button-default-borderColor-active,var(--color-btn-active-border,#6e7681)));}/*!sc*/
.cDbgyb[aria-expanded=true]{background-color:var(--button-default-bgColor-active,var(--color-btn-active-bg,hsla(212,12%,18%,1)));border-color:var(--button-default-borderColor-active,var(--button-default-borderColor-active,var(--color-btn-active-border,#6e7681)));}/*!sc*/
.cDbgyb [data-component="leadingVisual"],.cDbgyb [data-component="trailingVisual"],.cDbgyb [data-component="trailingAction"]{color:var(--button-color,var(--fgColor-muted,var(--color-fg-muted,#848d97)));}/*!sc*/
.cDbgyb[data-component="IconButton"][data-no-visuals]:not(:disabled){color:var(--fgColor-muted,var(--color-fg-muted,#848d97));}/*!sc*/
.jBaPmj{border-radius:6px;border:1px solid;border-color:var(--button-default-borderColor-rest,var(--button-default-borderColor-rest,var(--color-btn-border,rgba(240,246,252,0.1))));font-family:inherit;font-weight:500;font-size:14px;cursor:pointer;-webkit-appearance:none;-moz-appearance:none;appearance:none;-webkit-user-select:none;-moz-user-select:none;-ms-user-select:none;user-select:none;-webkit-text-decoration:none;text-decoration:none;text-align:center;display:-webkit-box;display:-webkit-flex;display:-ms-flexbox;display:flex;-webkit-align-items:center;-webkit-box-align:center;-ms-flex-align:center;align-items:center;-webkit-box-pack:justify;-webkit-justify-content:space-between;-ms-flex-pack:justify;justify-content:space-between;height:32px;padding:0 12px;gap:8px;min-width:-webkit-max-content;min-width:-moz-max-content;min-width:max-content;-webkit-transition:80ms cubic-bezier(0.65,0,0.35,1);transition:80ms cubic-bezier(0.65,0,0.35,1);-webkit-transition-property:color,fill,background-color,border-color;transition-property:color,fill,background-color,border-color;color:var(--button-default-fgColor-rest,var(--color-btn-text,#c9d1d9));background-color:var(--button-default-bgColor-rest,var(--color-btn-bg,#21262d));box-shadow:var(--button-default-shadow-resting,var(--color-btn-shadow,0 0 transparent)),var(--button-default-shadow-inset,var(--color-btn-inset-shadow,0 0 transparent));}/*!sc*/
.jBaPmj:focus:not(:disabled){box-shadow:none;outline:2px solid var(--fgColor-accent,var(--color-accent-fg,#2f81f7));outline-offset:-2px;}/*!sc*/
.jBaPmj:focus:not(:disabled):not(:focus-visible){outline:solid 1px transparent;}/*!sc*/
.jBaPmj:focus-visible:not(:disabled){box-shadow:none;outline:2px solid var(--fgColor-accent,var(--color-accent-fg,#2f81f7));outline-offset:-2px;}/*!sc*/
.jBaPmj[href]{display:-webkit-inline-box;display:-webkit-inline-flex;display:-ms-inline-flexbox;display:inline-flex;}/*!sc*/
.jBaPmj[href]:hover{-webkit-text-decoration:none;text-decoration:none;}/*!sc*/
.jBaPmj:hover{-webkit-transition-duration:80ms;transition-duration:80ms;}/*!sc*/
.jBaPmj:active{-webkit-transition:none;transition:none;}/*!sc*/
.jBaPmj[data-inactive]{cursor:auto;}/*!sc*/
.jBaPmj:disabled{cursor:not-allowed;box-shadow:none;color:var(--fgColor-disabled,var(--color-primer-fg-disabled,#484f58));border-color:var(--button-default-borderColor-disabled,var(--button-default-borderColor-rest,var(--color-btn-border,rgba(240,246,252,0.1))));background-color:var(--button-default-bgColor-disabled,var(--control-bgColor-disabled,var(--color-input-disabled-bg,rgba(110,118,129,0))));}/*!sc*/
.jBaPmj:disabled [data-component=ButtonCounter]{color:inherit;}/*!sc*/
@media (forced-colors:active){.jBaPmj:focus{outline:solid 1px transparent;}}/*!sc*/
.jBaPmj [data-component=ButtonCounter]{font-size:12px;background-color:var(--buttonCounter-default-bgColor-rest,var(--color-btn-counter-bg,#30363d));}/*!sc*/
.jBaPmj[data-component=IconButton]{display:inline-grid;padding:unset;place-content:center;width:32px;min-width:unset;}/*!sc*/
.jBaPmj[data-size="small"]{padding:0 8px;height:28px;gap:4px;font-size:12px;}/*!sc*/
.jBaPmj[data-size="small"] [data-component="text"]{line-height:1.6666667;}/*!sc*/
.jBaPmj[data-size="small"] [data-component=ButtonCounter]{font-size:12px;}/*!sc*/
.jBaPmj[data-size="small"] [data-component="buttonContent"] > :not(:last-child){margin-right:4px;}/*!sc*/
.jBaPmj[data-size="small"][data-component=IconButton]{width:28px;padding:unset;}/*!sc*/
.jBaPmj[data-size="large"]{padding:0 16px;height:40px;gap:8px;}/*!sc*/
.jBaPmj[data-size="large"] [data-component="buttonContent"] > :not(:last-child){margin-right:8px;}/*!sc*/
.jBaPmj[data-size="large"][data-component=IconButton]{width:40px;padding:unset;}/*!sc*/
.jBaPmj[data-block="block"]{width:100%;}/*!sc*/
.jBaPmj[data-label-wrap="true"]{min-width:-webkit-fit-content;min-width:-moz-fit-content;min-width:fit-content;height:unset;min-height:var(--control-medium-size,2rem);}/*!sc*/
.jBaPmj[data-label-wrap="true"] [data-component="buttonContent"]{-webkit-flex:1 1 auto;-ms-flex:1 1 auto;flex:1 1 auto;-webkit-align-self:stretch;-ms-flex-item-align:stretch;align-self:stretch;padding-block:calc(var(--control-medium-paddingBlock,0.375rem) - 2px);}/*!sc*/
.jBaPmj[data-label-wrap="true"] [data-component="text"]{white-space:unset;word-break:break-word;}/*!sc*/
.jBaPmj[data-label-wrap="true"][data-size="small"]{height:unset;min-height:var(--control-small-size,1.75rem);}/*!sc*/
.jBaPmj[data-label-wrap="true"][data-size="small"] [data-component="buttonContent"]{padding-block:calc(var(--control-small-paddingBlock,0.25rem) - 2px);}/*!sc*/
.jBaPmj[data-label-wrap="true"][data-size="large"]{height:unset;min-height:var(--control-large-size,2.5rem);padding-inline:var(--control-large-paddingInline-spacious,1rem);}/*!sc*/
.jBaPmj[data-label-wrap="true"][data-size="large"] [data-component="buttonContent"]{padding-block:calc(var(--control-large-paddingBlock,0.625rem) - 2px);}/*!sc*/
.jBaPmj[data-inactive]:not([disabled]){background-color:var(--button-inactive-bgColor,var(--button-inactive-bgColor-rest,var(--color-btn-inactive-bg,#21262d)));border-color:var(--button-inactive-bgColor,var(--button-inactive-bgColor-rest,var(--color-btn-inactive-bg,#21262d)));color:var(--button-inactive-fgColor,var(--button-inactive-fgColor-rest,var(--color-btn-inactive-text,#8b949e)));}/*!sc*/
.jBaPmj[data-inactive]:not([disabled]):focus-visible{box-shadow:none;}/*!sc*/
.jBaPmj [data-component="leadingVisual"]{grid-area:leadingVisual;}/*!sc*/
.jBaPmj [data-component="text"]{grid-area:text;line-height:1.4285714;white-space:nowrap;}/*!sc*/
.jBaPmj [data-component="trailingVisual"]{grid-area:trailingVisual;}/*!sc*/
.jBaPmj [data-component="trailingAction"]{margin-right:-4px;}/*!sc*/
.jBaPmj [data-component="buttonContent"]{-webkit-flex:1 0 auto;-ms-flex:1 0 auto;flex:1 0 auto;display:grid;grid-template-areas:"leadingVisual text trailingVisual";grid-template-columns:min-content minmax(0,auto) min-content;-webkit-align-items:center;-webkit-box-align:center;-ms-flex-align:center;align-items:center;-webkit-align-content:center;-ms-flex-line-pack:center;align-content:center;}/*!sc*/
.jBaPmj [data-component="buttonContent"] > :not(:last-child){margin-right:8px;}/*!sc*/
.jBaPmj [data-component="loadingSpinner"]{grid-area:text;margin-right:0px !important;place-self:center;color:var(--fgColor-muted,var(--color-fg-muted,#848d97));}/*!sc*/
.jBaPmj [data-component="loadingSpinner"] + [data-component="text"]{visibility:hidden;}/*!sc*/
.jBaPmj:hover:not([disabled]):not([data-inactive]){background-color:var(--button-default-bgColor-hover,var(--color-btn-hover-bg,#30363d));border-color:var(--button-default-borderColor-hover,var(--button-default-borderColor-hover,var(--color-btn-hover-border,#8b949e)));}/*!sc*/
.jBaPmj:active:not([disabled]):not([data-inactive]){background-color:var(--button-default-bgColor-active,var(--color-btn-active-bg,hsla(212,12%,18%,1)));border-color:var(--button-default-borderColor-active,var(--button-default-borderColor-active,var(--color-btn-active-border,#6e7681)));}/*!sc*/
.jBaPmj[aria-expanded=true]{background-color:var(--button-default-bgColor-active,var(--color-btn-active-bg,hsla(212,12%,18%,1)));border-color:var(--button-default-borderColor-active,var(--button-default-borderColor-active,var(--color-btn-active-border,#6e7681)));}/*!sc*/
.jBaPmj [data-component="leadingVisual"],.jBaPmj [data-component="trailingVisual"],.jBaPmj [data-component="trailingAction"]{color:var(--button-color,var(--fgColor-muted,var(--color-fg-muted,#848d97)));}/*!sc*/
.jBaPmj[data-component="IconButton"][data-no-visuals]:not(:disabled){color:var(--fgColor-muted,var(--color-fg-muted,#848d97));}/*!sc*/
.jBaPmj[data-size="small"][data-no-visuals]{border-top-left-radius:0;border-bottom-left-radius:0;}/*!sc*/
.XlAvl{border-radius:6px;border:1px solid;border-color:var(--button-default-borderColor-rest,var(--button-default-borderColor-rest,var(--color-btn-border,rgba(240,246,252,0.1))));font-family:inherit;font-weight:500;font-size:14px;cursor:pointer;-webkit-appearance:none;-moz-appearance:none;appearance:none;-webkit-user-select:none;-moz-user-select:none;-ms-user-select:none;user-select:none;-webkit-text-decoration:none;text-decoration:none;text-align:center;display:-webkit-box;display:-webkit-flex;display:-ms-flexbox;display:flex;-webkit-align-items:center;-webkit-box-align:center;-ms-flex-align:center;align-items:center;-webkit-box-pack:justify;-webkit-justify-content:space-between;-ms-flex-pack:justify;justify-content:space-between;height:32px;padding:0 12px;gap:8px;min-width:-webkit-max-content;min-width:-moz-max-content;min-width:max-content;-webkit-transition:80ms cubic-bezier(0.65,0,0.35,1);transition:80ms cubic-bezier(0.65,0,0.35,1);-webkit-transition-property:color,fill,background-color,border-color;transition-property:color,fill,background-color,border-color;color:var(--button-default-fgColor-rest,var(--color-btn-text,#c9d1d9));background-color:var(--button-default-bgColor-rest,var(--color-btn-bg,#21262d));box-shadow:var(--button-default-shadow-resting,var(--color-btn-shadow,0 0 transparent)),var(--button-default-shadow-inset,var(--color-btn-inset-shadow,0 0 transparent));}/*!sc*/
.XlAvl:focus:not(:disabled){box-shadow:none;outline:2px solid var(--fgColor-accent,var(--color-accent-fg,#2f81f7));outline-offset:-2px;}/*!sc*/
.XlAvl:focus:not(:disabled):not(:focus-visible){outline:solid 1px transparent;}/*!sc*/
.XlAvl:focus-visible:not(:disabled){box-shadow:none;outline:2px solid var(--fgColor-accent,var(--color-accent-fg,#2f81f7));outline-offset:-2px;}/*!sc*/
.XlAvl[href]{display:-webkit-inline-box;display:-webkit-inline-flex;display:-ms-inline-flexbox;display:inline-flex;}/*!sc*/
.XlAvl[href]:hover{-webkit-text-decoration:none;text-decoration:none;}/*!sc*/
.XlAvl:hover{-webkit-transition-duration:80ms;transition-duration:80ms;}/*!sc*/
.XlAvl:active{-webkit-transition:none;transition:none;}/*!sc*/
.XlAvl[data-inactive]{cursor:auto;}/*!sc*/
.XlAvl:disabled{cursor:not-allowed;box-shadow:none;color:var(--fgColor-disabled,var(--color-primer-fg-disabled,#484f58));border-color:var(--button-default-borderColor-disabled,var(--button-default-borderColor-rest,var(--color-btn-border,rgba(240,246,252,0.1))));background-color:var(--button-default-bgColor-disabled,var(--control-bgColor-disabled,var(--color-input-disabled-bg,rgba(110,118,129,0))));}/*!sc*/
.XlAvl:disabled [data-component=ButtonCounter]{color:inherit;}/*!sc*/
@media (forced-colors:active){.XlAvl:focus{outline:solid 1px transparent;}}/*!sc*/
.XlAvl [data-component=ButtonCounter]{font-size:12px;background-color:var(--buttonCounter-default-bgColor-rest,var(--color-btn-counter-bg,#30363d));}/*!sc*/
.XlAvl[data-component=IconButton]{display:inline-grid;padding:unset;place-content:center;width:32px;min-width:unset;}/*!sc*/
.XlAvl[data-size="small"]{padding:0 8px;height:28px;gap:4px;font-size:12px;}/*!sc*/
.XlAvl[data-size="small"] [data-component="text"]{line-height:1.6666667;}/*!sc*/
.XlAvl[data-size="small"] [data-component=ButtonCounter]{font-size:12px;}/*!sc*/
.XlAvl[data-size="small"] [data-component="buttonContent"] > :not(:last-child){margin-right:4px;}/*!sc*/
.XlAvl[data-size="small"][data-component=IconButton]{width:28px;padding:unset;}/*!sc*/
.XlAvl[data-size="large"]{padding:0 16px;height:40px;gap:8px;}/*!sc*/
.XlAvl[data-size="large"] [data-component="buttonContent"] > :not(:last-child){margin-right:8px;}/*!sc*/
.XlAvl[data-size="large"][data-component=IconButton]{width:40px;padding:unset;}/*!sc*/
.XlAvl[data-block="block"]{width:100%;}/*!sc*/
.XlAvl[data-label-wrap="true"]{min-width:-webkit-fit-content;min-width:-moz-fit-content;min-width:fit-content;height:unset;min-height:var(--control-medium-size,2rem);}/*!sc*/
.XlAvl[data-label-wrap="true"] [data-component="buttonContent"]{-webkit-flex:1 1 auto;-ms-flex:1 1 auto;flex:1 1 auto;-webkit-align-self:stretch;-ms-flex-item-align:stretch;align-self:stretch;padding-block:calc(var(--control-medium-paddingBlock,0.375rem) - 2px);}/*!sc*/
.XlAvl[data-label-wrap="true"] [data-component="text"]{white-space:unset;word-break:break-word;}/*!sc*/
.XlAvl[data-label-wrap="true"][data-size="small"]{height:unset;min-height:var(--control-small-size,1.75rem);}/*!sc*/
.XlAvl[data-label-wrap="true"][data-size="small"] [data-component="buttonContent"]{padding-block:calc(var(--control-small-paddingBlock,0.25rem) - 2px);}/*!sc*/
.XlAvl[data-label-wrap="true"][data-size="large"]{height:unset;min-height:var(--control-large-size,2.5rem);padding-inline:var(--control-large-paddingInline-spacious,1rem);}/*!sc*/
.XlAvl[data-label-wrap="true"][data-size="large"] [data-component="buttonContent"]{padding-block:calc(var(--control-large-paddingBlock,0.625rem) - 2px);}/*!sc*/
.XlAvl[data-inactive]:not([disabled]){background-color:var(--button-inactive-bgColor,var(--button-inactive-bgColor-rest,var(--color-btn-inactive-bg,#21262d)));border-color:var(--button-inactive-bgColor,var(--button-inactive-bgColor-rest,var(--color-btn-inactive-bg,#21262d)));color:var(--button-inactive-fgColor,var(--button-inactive-fgColor-rest,var(--color-btn-inactive-text,#8b949e)));}/*!sc*/
.XlAvl[data-inactive]:not([disabled]):focus-visible{box-shadow:none;}/*!sc*/
.XlAvl [data-component="leadingVisual"]{grid-area:leadingVisual;}/*!sc*/
.XlAvl [data-component="text"]{grid-area:text;line-height:1.4285714;white-space:nowrap;}/*!sc*/
.XlAvl [data-component="trailingVisual"]{grid-area:trailingVisual;}/*!sc*/
.XlAvl [data-component="trailingAction"]{margin-right:-4px;}/*!sc*/
.XlAvl [data-component="buttonContent"]{-webkit-flex:1 0 auto;-ms-flex:1 0 auto;flex:1 0 auto;display:grid;grid-template-areas:"leadingVisual text trailingVisual";grid-template-columns:min-content minmax(0,auto) min-content;-webkit-align-items:center;-webkit-box-align:center;-ms-flex-align:center;align-items:center;-webkit-align-content:center;-ms-flex-line-pack:center;align-content:center;}/*!sc*/
.XlAvl [data-component="buttonContent"] > :not(:last-child){margin-right:8px;}/*!sc*/
.XlAvl [data-component="loadingSpinner"]{grid-area:text;margin-right:0px !important;place-self:center;color:var(--fgColor-muted,var(--color-fg-muted,#848d97));}/*!sc*/
.XlAvl [data-component="loadingSpinner"] + [data-component="text"]{visibility:hidden;}/*!sc*/
.XlAvl:hover:not([disabled]):not([data-inactive]){background-color:var(--button-default-bgColor-hover,var(--color-btn-hover-bg,#30363d));border-color:var(--button-default-borderColor-hover,var(--button-default-borderColor-hover,var(--color-btn-hover-border,#8b949e)));}/*!sc*/
.XlAvl:active:not([disabled]):not([data-inactive]){background-color:var(--button-default-bgColor-active,var(--color-btn-active-bg,hsla(212,12%,18%,1)));border-color:var(--button-default-borderColor-active,var(--button-default-borderColor-active,var(--color-btn-active-border,#6e7681)));}/*!sc*/
.XlAvl[aria-expanded=true]{background-color:var(--button-default-bgColor-active,var(--color-btn-active-bg,hsla(212,12%,18%,1)));border-color:var(--button-default-borderColor-active,var(--button-default-borderColor-active,var(--color-btn-active-border,#6e7681)));}/*!sc*/
.XlAvl [data-component="leadingVisual"],.XlAvl [data-component="trailingVisual"],.XlAvl [data-component="trailingAction"]{color:var(--button-color,var(--fgColor-muted,var(--color-fg-muted,#848d97)));}/*!sc*/
.XlAvl[data-component="IconButton"][data-no-visuals]:not(:disabled){color:var(--fgColor-muted,var(--color-fg-muted,#848d97));}/*!sc*/
.XlAvl[data-size="small"][data-no-visuals]{border-top-right-radius:0;border-bottom-right-radius:0;border-right-width:0;}/*!sc*/
.XlAvl[data-size="small"][data-no-visuals]:hover:not([disabled]){-webkit-text-decoration:none;text-decoration:none;}/*!sc*/
.XlAvl[data-size="small"][data-no-visuals]:focus:not([disabled]){-webkit-text-decoration:none;text-decoration:none;}/*!sc*/
.XlAvl[data-size="small"][data-no-visuals]:active:not([disabled]){-webkit-text-decoration:none;text-decoration:none;}/*!sc*/
.evernE{border-radius:6px;border:1px solid;border-color:transparent;font-family:inherit;font-weight:500;font-size:14px;cursor:pointer;-webkit-appearance:none;-moz-appearance:none;appearance:none;-webkit-user-select:none;-moz-user-select:none;-ms-user-select:none;user-select:none;-webkit-text-decoration:none;text-decoration:none;text-align:center;display:-webkit-box;display:-webkit-flex;display:-ms-flexbox;display:flex;-webkit-align-items:center;-webkit-box-align:center;-ms-flex-align:center;align-items:center;-webkit-box-pack:justify;-webkit-justify-content:space-between;-ms-flex-pack:justify;justify-content:space-between;height:32px;padding:0 12px;gap:8px;min-width:-webkit-max-content;min-width:-moz-max-content;min-width:max-content;-webkit-transition:80ms cubic-bezier(0.65,0,0.35,1);transition:80ms cubic-bezier(0.65,0,0.35,1);-webkit-transition-property:color,fill,background-color,border-color;transition-property:color,fill,background-color,border-color;color:var(--button-invisible-fgColor-rest,var(--button-default-fgColor-rest,var(--color-btn-text,#c9d1d9)));background-color:transparent;box-shadow:none;}/*!sc*/
.evernE:focus:not(:disabled){box-shadow:none;outline:2px solid var(--fgColor-accent,var(--color-accent-fg,#2f81f7));outline-offset:-2px;}/*!sc*/
.evernE:focus:not(:disabled):not(:focus-visible){outline:solid 1px transparent;}/*!sc*/
.evernE:focus-visible:not(:disabled){box-shadow:none;outline:2px solid var(--fgColor-accent,var(--color-accent-fg,#2f81f7));outline-offset:-2px;}/*!sc*/
.evernE[href]{display:-webkit-inline-box;display:-webkit-inline-flex;display:-ms-inline-flexbox;display:inline-flex;}/*!sc*/
.evernE[href]:hover{-webkit-text-decoration:none;text-decoration:none;}/*!sc*/
.evernE:hover{-webkit-transition-duration:80ms;transition-duration:80ms;}/*!sc*/
.evernE:active{-webkit-transition:none;transition:none;}/*!sc*/
.evernE[data-inactive]{cursor:auto;}/*!sc*/
.evernE:disabled{cursor:not-allowed;box-shadow:none;color:var(--fgColor-disabled,var(--color-primer-fg-disabled,#484f58));background-color:var(--button-invisible-bgColor-disabled,transparent);}/*!sc*/
.evernE:disabled [data-component=ButtonCounter],.evernE:disabled [data-component="leadingVisual"],.evernE:disabled [data-component="trailingAction"]{color:inherit;}/*!sc*/
@media (forced-colors:active){.evernE:focus{outline:solid 1px transparent;}}/*!sc*/
.evernE [data-component=ButtonCounter]{font-size:12px;}/*!sc*/
.evernE[data-component=IconButton]{display:inline-grid;padding:unset;place-content:center;width:32px;min-width:unset;}/*!sc*/
.evernE[data-size="small"]{padding:0 8px;height:28px;gap:4px;font-size:12px;}/*!sc*/
.evernE[data-size="small"] [data-component="text"]{line-height:1.6666667;}/*!sc*/
.evernE[data-size="small"] [data-component=ButtonCounter]{font-size:12px;}/*!sc*/
.evernE[data-size="small"] [data-component="buttonContent"] > :not(:last-child){margin-right:4px;}/*!sc*/
.evernE[data-size="small"][data-component=IconButton]{width:28px;padding:unset;}/*!sc*/
.evernE[data-size="large"]{padding:0 16px;height:40px;gap:8px;}/*!sc*/
.evernE[data-size="large"] [data-component="buttonContent"] > :not(:last-child){margin-right:8px;}/*!sc*/
.evernE[data-size="large"][data-component=IconButton]{width:40px;padding:unset;}/*!sc*/
.evernE[data-block="block"]{width:100%;}/*!sc*/
.evernE[data-label-wrap="true"]{min-width:-webkit-fit-content;min-width:-moz-fit-content;min-width:fit-content;height:unset;min-height:var(--control-medium-size,2rem);}/*!sc*/
.evernE[data-label-wrap="true"] [data-component="buttonContent"]{-webkit-flex:1 1 auto;-ms-flex:1 1 auto;flex:1 1 auto;-webkit-align-self:stretch;-ms-flex-item-align:stretch;align-self:stretch;padding-block:calc(var(--control-medium-paddingBlock,0.375rem) - 2px);}/*!sc*/
.evernE[data-label-wrap="true"] [data-component="text"]{white-space:unset;word-break:break-word;}/*!sc*/
.evernE[data-label-wrap="true"][data-size="small"]{height:unset;min-height:var(--control-small-size,1.75rem);}/*!sc*/
.evernE[data-label-wrap="true"][data-size="small"] [data-component="buttonContent"]{padding-block:calc(var(--control-small-paddingBlock,0.25rem) - 2px);}/*!sc*/
.evernE[data-label-wrap="true"][data-size="large"]{height:unset;min-height:var(--control-large-size,2.5rem);padding-inline:var(--control-large-paddingInline-spacious,1rem);}/*!sc*/
.evernE[data-label-wrap="true"][data-size="large"] [data-component="buttonContent"]{padding-block:calc(var(--control-large-paddingBlock,0.625rem) - 2px);}/*!sc*/
.evernE[data-inactive]:not([disabled]){background-color:var(--button-inactive-bgColor,var(--button-inactive-bgColor-rest,var(--color-btn-inactive-bg,#21262d)));border-color:var(--button-inactive-bgColor,var(--button-inactive-bgColor-rest,var(--color-btn-inactive-bg,#21262d)));color:var(--button-inactive-fgColor,var(--button-inactive-fgColor-rest,var(--color-btn-inactive-text,#8b949e)));}/*!sc*/
.evernE[data-inactive]:not([disabled]):focus-visible{box-shadow:none;}/*!sc*/
.evernE [data-component="leadingVisual"]{grid-area:leadingVisual;color:var(--button-invisible-iconColor-rest,var(--fgColor-muted,var(--color-fg-muted,#848d97)));}/*!sc*/
.evernE [data-component="text"]{grid-area:text;line-height:1.4285714;white-space:nowrap;}/*!sc*/
.evernE [data-component="trailingVisual"]{grid-area:trailingVisual;color:var(--button-invisible-iconColor-rest,var(--fgColor-muted,var(--color-fg-muted,#848d97)));}/*!sc*/
.evernE [data-component="trailingAction"]{margin-right:-4px;color:var(--button-invisible-iconColor-rest,var(--fgColor-muted,var(--color-fg-muted,#848d97)));}/*!sc*/
.evernE [data-component="buttonContent"]{-webkit-flex:1 0 auto;-ms-flex:1 0 auto;flex:1 0 auto;display:grid;grid-template-areas:"leadingVisual text trailingVisual";grid-template-columns:min-content minmax(0,auto) min-content;-webkit-align-items:center;-webkit-box-align:center;-ms-flex-align:center;align-items:center;-webkit-align-content:center;-ms-flex-line-pack:center;align-content:center;}/*!sc*/
.evernE [data-component="buttonContent"] > :not(:last-child){margin-right:8px;}/*!sc*/
.evernE [data-component="loadingSpinner"]{grid-area:text;margin-right:0px !important;place-self:center;color:var(--fgColor-muted,var(--color-fg-muted,#848d97));}/*!sc*/
.evernE [data-component="loadingSpinner"] + [data-component="text"]{visibility:hidden;}/*!sc*/
.evernE:hover:not([disabled]){background-color:var(--control-transparent-bgColor-hover,var(--color-action-list-item-default-hover-bg,rgba(177,186,196,0.12)));}/*!sc*/
.evernE:active:not([disabled]){background-color:var(--control-transparent-bgColor-active,var(--color-action-list-item-default-active-bg,rgba(177,186,196,0.2)));}/*!sc*/
.evernE[aria-expanded=true]{background-color:var(--control-transparent-bgColor-selected,var(--color-action-list-item-default-selected-bg,rgba(177,186,196,0.08)));}/*!sc*/
.evernE[data-component="IconButton"][data-no-visuals]{color:var(--button-invisible-iconColor-rest,var(--fgColor-muted,var(--color-fg-muted,#848d97)));}/*!sc*/
.evernE[data-no-visuals]{color:var(--button-invisible-fgColor-rest,var(--button-default-fgColor-rest,var(--color-btn-text,#c9d1d9)));}/*!sc*/
.evernE:has([data-component="ButtonCounter"]){color:var(--button-invisible-fgColor-rest,var(--button-default-fgColor-rest,var(--color-btn-text,#c9d1d9)));}/*!sc*/
.evernE:disabled[data-no-visuals]{color:var(--fgColor-disabled,var(--color-primer-fg-disabled,#484f58));}/*!sc*/
.evernE:disabled[data-no-visuals] [data-component=ButtonCounter]{color:inherit;}/*!sc*/
.evernE[data-size="small"][data-no-visuals]{color:var(--fgColor-muted,var(--color-fg-muted,#848d97));}/*!sc*/
data-styled.g3[id="types__StyledButton-sc-ws60qy-0"]{content:"dCOKUW,hjmoJU,fJiNYL,hfIjLs,dRyOTG,hQsKGs,zypdo,fbXYTF,gMSYuG,kLEyiE,fnqFQe,cDbgyb,jBaPmj,XlAvl,evernE,"}/*!sc*/
.dAqEza{-webkit-animation:rotate-keyframes 1s linear infinite;animation:rotate-keyframes 1s linear infinite;}/*!sc*/
@-webkit-keyframes rotate-keyframes{100%{-webkit-transform:rotate(360deg);-ms-transform:rotate(360deg);transform:rotate(360deg);}}/*!sc*/
@keyframes rotate-keyframes{100%{-webkit-transform:rotate(360deg);-ms-transform:rotate(360deg);transform:rotate(360deg);}}/*!sc*/
data-styled.g5[id="Spinner__StyledSpinner-sc-1knt686-0"]{content:"dAqEza,"}/*!sc*/
.brGdpi{position:absolute;width:1px;height:1px;padding:0;margin:-1px;overflow:hidden;-webkit-clip:rect(0,0,0,0);clip:rect(0,0,0,0);white-space:nowrap;border-width:0;}/*!sc*/
data-styled.g6[id="_VisuallyHidden__VisuallyHidden-sc-11jhm7a-0"]{content:"brGdpi,"}/*!sc*/
.fiSvBN{position:relative;display:inline-block;}/*!sc*/
.fiSvBN::after{position:absolute;z-index:1000000;display:none;padding:0.5em 0.75em;font:normal normal 11px/1.5 -apple-system,BlinkMacSystemFont,"Segoe UI","Noto Sans",Helvetica,Arial,sans-serif,"Apple Color Emoji","Segoe UI Emoji";-webkit-font-smoothing:subpixel-antialiased;color:var(--tooltip-fgColor,var(--fgColor-onEmphasis,var(--color-fg-on-emphasis,#ffffff)));text-align:center;-webkit-text-decoration:none;text-decoration:none;text-shadow:none;text-transform:none;-webkit-letter-spacing:normal;-moz-letter-spacing:normal;-ms-letter-spacing:normal;letter-spacing:normal;word-wrap:break-word;white-space:pre;pointer-events:none;content:attr(aria-label);background:var(--tooltip-bgColor,var(--bgColor-emphasis,var(--color-neutral-emphasis-plus,#6e7681)));border-radius:6px;opacity:0;}/*!sc*/
@-webkit-keyframes tooltip-appear{from{opacity:0;}to{opacity:1;}}/*!sc*/
@keyframes tooltip-appear{from{opacity:0;}to{opacity:1;}}/*!sc*/
.fiSvBN:hover::after,.fiSvBN:active::after,.fiSvBN:focus::after,.fiSvBN:focus-within::after{display:inline-block;-webkit-text-decoration:none;text-decoration:none;-webkit-animation-name:tooltip-appear;animation-name:tooltip-appear;-webkit-animation-duration:0.1s;animation-duration:0.1s;-webkit-animation-fill-mode:forwards;animation-fill-mode:forwards;-webkit-animation-timing-function:ease-in;animation-timing-function:ease-in;-webkit-animation-delay:0s;animation-delay:0s;}/*!sc*/
.fiSvBN.tooltipped-no-delay:hover::after,.fiSvBN.tooltipped-no-delay:active::after,.fiSvBN.tooltipped-no-delay:focus::after,.fiSvBN.tooltipped-no-delay:focus-within::after{-webkit-animation-delay:0s;animation-delay:0s;}/*!sc*/
.fiSvBN.tooltipped-multiline:hover::after,.fiSvBN.tooltipped-multiline:active::after,.fiSvBN.tooltipped-multiline:focus::after,.fiSvBN.tooltipped-multiline:focus-within::after{display:table-cell;}/*!sc*/
.fiSvBN.tooltipped-s::after,.fiSvBN.tooltipped-se::after,.fiSvBN.tooltipped-sw::after{top:100%;right:50%;margin-top:6px;}/*!sc*/
.fiSvBN.tooltipped-se::after{right:auto;left:50%;margin-left:-16px;}/*!sc*/
.fiSvBN.tooltipped-sw::after{margin-right:-16px;}/*!sc*/
.fiSvBN.tooltipped-n::after,.fiSvBN.tooltipped-ne::after,.fiSvBN.tooltipped-nw::after{right:50%;bottom:100%;margin-bottom:6px;}/*!sc*/
.fiSvBN.tooltipped-ne::after{right:auto;left:50%;margin-left:-16px;}/*!sc*/
.fiSvBN.tooltipped-nw::after{margin-right:-16px;}/*!sc*/
.fiSvBN.tooltipped-s::after,.fiSvBN.tooltipped-n::after{-webkit-transform:translateX(50%);-ms-transform:translateX(50%);transform:translateX(50%);}/*!sc*/
.fiSvBN.tooltipped-w::after{right:100%;bottom:50%;margin-right:6px;-webkit-transform:translateY(50%);-ms-transform:translateY(50%);transform:translateY(50%);}/*!sc*/
.fiSvBN.tooltipped-e::after{bottom:50%;left:100%;margin-left:6px;-webkit-transform:translateY(50%);-ms-transform:translateY(50%);transform:translateY(50%);}/*!sc*/
.fiSvBN.tooltipped-multiline::after{width:-webkit-max-content;width:-moz-max-content;width:max-content;max-width:250px;word-wrap:break-word;white-space:pre-line;border-collapse:separate;}/*!sc*/
.fiSvBN.tooltipped-multiline.tooltipped-s::after,.fiSvBN.tooltipped-multiline.tooltipped-n::after{right:auto;left:50%;-webkit-transform:translateX(-50%);-ms-transform:translateX(-50%);transform:translateX(-50%);}/*!sc*/
.fiSvBN.tooltipped-multiline.tooltipped-w::after,.fiSvBN.tooltipped-multiline.tooltipped-e::after{right:100%;}/*!sc*/
.fiSvBN.tooltipped-align-right-2::after{right:0;margin-right:0;}/*!sc*/
.fiSvBN.tooltipped-align-left-2::after{left:0;margin-left:0;}/*!sc*/
data-styled.g11[id="Tooltip__TooltipBase-sc-17tf59c-0"]{content:"fiSvBN,"}/*!sc*/
.eAtkQz{display:inline-block;overflow:hidden;text-overflow:ellipsis;vertical-align:top;white-space:nowrap;max-width:125px;max-width:100%;}/*!sc*/
data-styled.g14[id="Truncate__StyledTruncate-sc-23o1d2-0"]{content:"eAtkQz,"}/*!sc*/
.fgiTUz{font-size:14px;line-height:20px;color:var(--fgColor-default,var(--color-fg-default,#e6edf3));vertical-align:middle;background-color:var(--bgColor-default,var(--color-canvas-default,#0d1117));border:1px solid var(--control-borderColor-rest,var(--borderColor-default,var(--color-border-default,#30363d)));border-radius:6px;outline:none;box-shadow:var(--shadow-inset,var(--color-primer-shadow-inset,0 0 transparent));display:-webkit-inline-box;display:-webkit-inline-flex;display:-ms-inline-flexbox;display:inline-flex;-webkit-align-items:stretch;-webkit-box-align:stretch;-ms-flex-align:stretch;align-items:stretch;min-height:32px;overflow:hidden;display:-webkit-box;display:-webkit-flex;display:-ms-flexbox;display:flex;min-width:160px;}/*!sc*/
.fgiTUz input,.fgiTUz textarea{cursor:text;}/*!sc*/
.fgiTUz select{cursor:pointer;}/*!sc*/
.fgiTUz input::-webkit-input-placeholder,.fgiTUz textarea::-webkit-input-placeholder,.fgiTUz select::-webkit-input-placeholder{color:var(---control-fgColor-placeholder,var(--fgColor-muted,var(--color-fg-muted,#848d97)));}/*!sc*/
.fgiTUz input::-moz-placeholder,.fgiTUz textarea::-moz-placeholder,.fgiTUz select::-moz-placeholder{color:var(---control-fgColor-placeholder,var(--fgColor-muted,var(--color-fg-muted,#848d97)));}/*!sc*/
.fgiTUz input:-ms-input-placeholder,.fgiTUz textarea:-ms-input-placeholder,.fgiTUz select:-ms-input-placeholder{color:var(---control-fgColor-placeholder,var(--fgColor-muted,var(--color-fg-muted,#848d97)));}/*!sc*/
.fgiTUz input::placeholder,.fgiTUz textarea::placeholder,.fgiTUz select::placeholder{color:var(---control-fgColor-placeholder,var(--fgColor-muted,var(--color-fg-muted,#848d97)));}/*!sc*/
.fgiTUz:focus-within{border-color:var(--fgColor-accent,var(--color-accent-fg,#2f81f7));outline:2px solid var(--fgColor-accent,var(--color-accent-fg,#2f81f7));outline-offset:-1px;}/*!sc*/
.fgiTUz > textarea{padding:12px;}/*!sc*/
@media (min-width:768px){.fgiTUz{font-size:14px;}}/*!sc*/
data-styled.g17[id="TextInputWrapper__TextInputBaseWrapper-sc-1mqhpbi-0"]{content:"fgiTUz,"}/*!sc*/
.klSCQM{background-repeat:no-repeat;background-position:right 8px center;padding-left:12px;padding-right:12px;display:-webkit-box;display:-webkit-flex;display:-ms-flexbox;display:flex;min-width:160px;}/*!sc*/
.klSCQM > :not(:last-child){margin-right:8px;}/*!sc*/
.klSCQM .TextInput-icon,.klSCQM .TextInput-action{-webkit-align-self:center;-ms-flex-item-align:center;align-self:center;color:var(--fgColor-muted,var(--color-fg-muted,#848d97));-webkit-flex-shrink:0;-ms-flex-negative:0;flex-shrink:0;}/*!sc*/
.klSCQM > input,.klSCQM > select{padding-left:0;padding-right:0;}/*!sc*/
data-styled.g18[id="TextInputWrapper-sc-1mqhpbi-1"]{content:"klSCQM,"}/*!sc*/
.kbCLEG{border:0;font-size:inherit;font-family:inherit;background-color:transparent;-webkit-appearance:none;color:inherit;width:100%;}/*!sc*/
.kbCLEG:focus{outline:0;}/*!sc*/
data-styled.g19[id="UnstyledTextInput-sc-14ypya-0"]{content:"kbCLEG,"}/*!sc*/
.eMMFM{min-width:0;}/*!sc*/
.eMMFM:where([data-size='small']){font-size:var(--text-body-size-small,0.75rem);line-height:var(--text-body-lineHeight-small,1.6666);}/*!sc*/
.eMMFM:where([data-size='medium']){font-size:var(--text-body-size-medium,0.875rem);line-height:var(--text-body-lineHeight-medium,1.4285);}/*!sc*/
.eMMFM:where([data-size='large']){font-size:var(--text-body-size-large,1rem);line-height:var(--text-body-lineHeight-large,1.5);}/*!sc*/
.eMMFM:where([data-weight='light']){font-weight:var(--base-text-weight-light,300);}/*!sc*/
.eMMFM:where([data-weight='normal']){font-weight:var(--base-text-weight-normal,400);}/*!sc*/
.eMMFM:where([data-weight='medium']){font-weight:var(--base-text-weight-medium,500);}/*!sc*/
.eMMFM:where([data-weight='semibold']){font-weight:var(--base-text-weight-semibold,600);}/*!sc*/
.iHQnrN{padding-left:4px;padding-right:4px;font-weight:400;color:var(--fgColor-muted,var(--color-fg-muted,#848d97));font-size:16px;}/*!sc*/
.iHQnrN:where([data-size='small']){font-size:var(--text-body-size-small,0.75rem);line-height:var(--text-body-lineHeight-small,1.6666);}/*!sc*/
.iHQnrN:where([data-size='medium']){font-size:var(--text-body-size-medium,0.875rem);line-height:var(--text-body-lineHeight-medium,1.4285);}/*!sc*/
.iHQnrN:where([data-size='large']){font-size:var(--text-body-size-large,1rem);line-height:var(--text-body-lineHeight-large,1.5);}/*!sc*/
.iHQnrN:where([data-weight='light']){font-weight:var(--base-text-weight-light,300);}/*!sc*/
.iHQnrN:where([data-weight='normal']){font-weight:var(--base-text-weight-normal,400);}/*!sc*/
.iHQnrN:where([data-weight='medium']){font-weight:var(--base-text-weight-medium,500);}/*!sc*/
.iHQnrN:where([data-weight='semibold']){font-weight:var(--base-text-weight-semibold,600);}/*!sc*/
.wcuBT{padding-left:4px;padding-right:4px;font-weight:400;color:var(--fgColor-muted,var(--color-fg-muted,#848d97));font-size:14px;}/*!sc*/
.wcuBT:where([data-size='small']){font-size:var(--text-body-size-small,0.75rem);line-height:var(--text-body-lineHeight-small,1.6666);}/*!sc*/
.wcuBT:where([data-size='medium']){font-size:var(--text-body-size-medium,0.875rem);line-height:var(--text-body-lineHeight-medium,1.4285);}/*!sc*/
.wcuBT:where([data-size='large']){font-size:var(--text-body-size-large,1rem);line-height:var(--text-body-lineHeight-large,1.5);}/*!sc*/
.wcuBT:where([data-weight='light']){font-weight:var(--base-text-weight-light,300);}/*!sc*/
.wcuBT:where([data-weight='normal']){font-weight:var(--base-text-weight-normal,400);}/*!sc*/
.wcuBT:where([data-weight='medium']){font-weight:var(--base-text-weight-medium,500);}/*!sc*/
.wcuBT:where([data-weight='semibold']){font-weight:var(--base-text-weight-semibold,600);}/*!sc*/
data-styled.g24[id="Text__StyledText-sc-17v1xeu-0"]{content:"eMMFM,iHQnrN,wcuBT,"}/*!sc*/
body[data-page-layout-dragging="true"]{cursor:col-resize;}/*!sc*/
body[data-page-layout-dragging="true"] *{-webkit-user-select:none;-moz-user-select:none;-ms-user-select:none;user-select:none;}/*!sc*/
data-styled.g29[id="sc-global-gbKrvU1"]{content:"sc-global-gbKrvU1,"}/*!sc*/
.jGvHJc{list-style:none;padding:0;margin:0;}/*!sc*/
.jGvHJc .PRIVATE_TreeView-item{outline:none;}/*!sc*/
.jGvHJc .PRIVATE_TreeView-item:focus-visible > div,.jGvHJc .PRIVATE_TreeView-item.focus-visible > div{box-shadow:inset 0 0 0 2px var(--fgColor-accent,var(--color-accent-fg,#2f81f7));}/*!sc*/
@media (forced-colors:active){.jGvHJc .PRIVATE_TreeView-item:focus-visible > div,.jGvHJc .PRIVATE_TreeView-item.focus-visible > div{outline:2px solid HighlightText;outline-offset:-2;}}/*!sc*/
.jGvHJc .PRIVATE_TreeView-item[data-has-leading-action]{--has-leading-action:1;}/*!sc*/
.jGvHJc .PRIVATE_TreeView-item-container{--level:1;--toggle-width:1rem;--min-item-height:2rem;position:relative;display:grid;--leading-action-width:calc(var(--has-leading-action,0) * 1.5rem);--spacer-width:calc(calc(var(--level) - 1) * (var(--toggle-width) / 2));grid-template-columns:var(--spacer-width) var(--leading-action-width) var(--toggle-width) 1fr;grid-template-areas:'spacer leadingAction toggle content';width:100%;font-size:14px;color:var(--fgColor-default,var(--color-fg-default,#e6edf3));border-radius:6px;cursor:pointer;}/*!sc*/
.jGvHJc .PRIVATE_TreeView-item-container:hover{background-color:var(--control-transparent-bgColor-hover,var(--color-action-list-item-default-hover-bg,rgba(177,186,196,0.12)));}/*!sc*/
@media (forced-colors:active){.jGvHJc .PRIVATE_TreeView-item-container:hover{outline:2px solid transparent;outline-offset:-2px;}}/*!sc*/
@media (pointer:coarse){.jGvHJc .PRIVATE_TreeView-item-container{--toggle-width:1.5rem;--min-item-height:2.75rem;}}/*!sc*/
.jGvHJc .PRIVATE_TreeView-item-container:has(.PRIVATE_TreeView-item-skeleton):hover{background-color:transparent;cursor:default;}/*!sc*/
@media (forced-colors:active){.jGvHJc .PRIVATE_TreeView-item-container:has(.PRIVATE_TreeView-item-skeleton):hover{outline:none;}}/*!sc*/
.jGvHJc[data-omit-spacer='true'] .PRIVATE_TreeView-item-container{grid-template-columns:0 0 0 1fr;}/*!sc*/
.jGvHJc .PRIVATE_TreeView-item[aria-current='true'] > .PRIVATE_TreeView-item-container{background-color:var(--control-transparent-bgColor-selected,var(--color-action-list-item-default-selected-bg,rgba(177,186,196,0.08)));}/*!sc*/
.jGvHJc .PRIVATE_TreeView-item[aria-current='true'] > .PRIVATE_TreeView-item-container::after{content:'';position:absolute;top:calc(50% - 0.75rem);left:-8px;width:0.25rem;height:1.5rem;background-color:var(--fgColor-accent,var(--color-accent-fg,#2f81f7));border-radius:6px;}/*!sc*/
@media (forced-colors:active){.jGvHJc .PRIVATE_TreeView-item[aria-current='true'] > .PRIVATE_TreeView-item-container::after{background-color:HighlightText;}}/*!sc*/
.jGvHJc .PRIVATE_TreeView-item-toggle{grid-area:toggle;display:-webkit-box;display:-webkit-flex;display:-ms-flexbox;display:flex;-webkit-box-pack:center;-webkit-justify-content:center;-ms-flex-pack:center;justify-content:center;-webkit-align-items:flex-start;-webkit-box-align:flex-start;-ms-flex-align:flex-start;align-items:flex-start;padding-top:calc(var(--min-item-height) / 2 - 12px / 2);height:100%;color:var(--fgColor-muted,var(--color-fg-muted,#848d97));}/*!sc*/
.jGvHJc .PRIVATE_TreeView-item-toggle--hover:hover{background-color:var(--control-transparent-bgColor-hover,var(--color-tree-view-item-chevron-hover-bg,rgba(177,186,196,0.12)));}/*!sc*/
.jGvHJc .PRIVATE_TreeView-item-toggle--end{border-top-left-radius:6px;border-bottom-left-radius:6px;}/*!sc*/
.jGvHJc .PRIVATE_TreeView-item-content{grid-area:content;display:-webkit-box;display:-webkit-flex;display:-ms-flexbox;display:flex;height:100%;padding:0 8px;gap:8px;line-height:var(--custom-line-height,var(--text-body-lineHeight-medium,1.4285));padding-top:calc((var(--min-item-height) - var(--custom-line-height,1.3rem)) / 2);padding-bottom:calc((var(--min-item-height) - var(--custom-line-height,1.3rem)) / 2);}/*!sc*/
.jGvHJc .PRIVATE_TreeView-item-content-text{-webkit-flex:1 1 auto;-ms-flex:1 1 auto;flex:1 1 auto;width:0;overflow:hidden;white-space:nowrap;text-overflow:ellipsis;}/*!sc*/
.jGvHJc .PRIVATE_TreeView-item-visual{display:-webkit-box;display:-webkit-flex;display:-ms-flexbox;display:flex;-webkit-align-items:center;-webkit-box-align:center;-ms-flex-align:center;align-items:center;color:var(--fgColor-muted,var(--color-fg-muted,#848d97));height:var(--custom-line-height,1.3rem);}/*!sc*/
.jGvHJc .PRIVATE_TreeView-item-leading-action{display:-webkit-box;display:-webkit-flex;display:-ms-flexbox;display:flex;color:var(--fgColor-muted,var(--color-fg-muted,#848d97));grid-area:leadingAction;}/*!sc*/
.jGvHJc .PRIVATE_TreeView-item-level-line{width:100%;height:100%;border-right:1px solid;border-color:var(--borderColor-muted,var(--color-border-subtle,rgba(240,246,252,0.1)));}/*!sc*/
@media (hover:hover){.jGvHJc .PRIVATE_TreeView-item-level-line{border-color:transparent;}.jGvHJc:hover .PRIVATE_TreeView-item-level-line,.jGvHJc:focus-within .PRIVATE_TreeView-item-level-line{border-color:var(--borderColor-muted,var(--color-border-subtle,rgba(240,246,252,0.1)));}}/*!sc*/
.jGvHJc .PRIVATE_TreeView-directory-icon{display:grid;color:var(--treeViewItem-leadingVisual-bgColor-rest,var(--color-tree-view-item-directory-fill,#848d97));}/*!sc*/
.jGvHJc .PRIVATE_VisuallyHidden{position:absolute;width:1px;height:1px;padding:0;margin:-1px;overflow:hidden;-webkit-clip:rect(0,0,0,0);clip:rect(0,0,0,0);white-space:nowrap;border-width:0;}/*!sc*/
data-styled.g45[id="TreeView__UlBox-sc-4ex6b6-0"]{content:"jGvHJc,"}/*!sc*/
.kiEfKw{display:-webkit-inline-box;display:-webkit-inline-flex;display:-ms-inline-flexbox;display:inline-flex;vertical-align:middle;isolation:isolate;}/*!sc*/
.kiEfKw.kiEfKw > *:not([data-loading-wrapper]){margin-inline-end:-1px;position:relative;border-radius:0;}/*!sc*/
.kiEfKw.kiEfKw > *:not([data-loading-wrapper]):first-child{border-top-left-radius:6px;border-bottom-left-radius:6px;}/*!sc*/
.kiEfKw.kiEfKw > *:not([data-loading-wrapper]):last-child{border-top-right-radius:6px;border-bottom-right-radius:6px;}/*!sc*/
.kiEfKw.kiEfKw > *:not([data-loading-wrapper]):focus,.kiEfKw.kiEfKw > *:not([data-loading-wrapper]):active,.kiEfKw.kiEfKw > *:not([data-loading-wrapper]):hover{z-index:1;}/*!sc*/
.kiEfKw [data-loading-wrapper]:first-child button,.kiEfKw [data-loading-wrapper]:first-child a{border-top-left-radius:6px;border-bottom-left-radius:6px;}/*!sc*/
.kiEfKw [data-loading-wrapper]:last-child button,.kiEfKw [data-loading-wrapper]:last-child a{border-top-right-radius:6px;border-bottom-right-radius:6px;}/*!sc*/
.kiEfKw [data-loading-wrapper] > *{margin-inline-end:-1px;position:relative;border-radius:0;}/*!sc*/
.kiEfKw [data-loading-wrapper] > *:focus,.kiEfKw [data-loading-wrapper] > *:active,.kiEfKw [data-loading-wrapper] > *:hover{z-index:1;}/*!sc*/
data-styled.g50[id="ButtonGroup-sc-1gxhls1-0"]{content:"kiEfKw,"}/*!sc*/
.Skzpj{--segmented-control-button-inner-padding:12px;--segmented-control-button-bg-inset:4px;--segmented-control-outer-radius:6px;background-color:transparent;border-color:transparent;border-radius:var(--segmented-control-outer-radius);border-width:0;color:currentColor;cursor:pointer;font-family:inherit;font-size:inherit;font-weight:600;padding:0;height:100%;width:100%;}/*!sc*/
.Skzpj .segmentedControl-content{-webkit-align-items:center;-webkit-box-align:center;-ms-flex-align:center;align-items:center;background-color:var(--controlKnob-bgColor-rest,var(--color-segmented-control-button-bg,#0d1117));border-color:var(--controlKnob-borderColor-rest,var(--color-segmented-control-button-selected-border,#6e7681));border-style:solid;border-width:1px;border-radius:var(--segmented-control-outer-radius);display:-webkit-box;display:-webkit-flex;display:-ms-flexbox;display:flex;height:100%;-webkit-box-pack:center;-webkit-justify-content:center;-ms-flex-pack:center;justify-content:center;padding-left:var(--segmented-control-button-inner-padding);padding-right:var(--segmented-control-button-inner-padding);}/*!sc*/
.Skzpj svg{fill:var(--fgColor-muted,var(--color-fg-muted,#848d97));}/*!sc*/
.Skzpj:focus:focus-visible:not(:last-child):after{width:0;}/*!sc*/
.Skzpj .segmentedControl-text:after{content:"Preview";display:block;font-weight:600;height:0;overflow:hidden;pointer-events:none;-webkit-user-select:none;-moz-user-select:none;-ms-user-select:none;user-select:none;visibility:hidden;}/*!sc*/
@media (pointer:coarse){.Skzpj:before{content:"";position:absolute;left:0;right:0;-webkit-transform:translateY(-50%);-ms-transform:translateY(-50%);transform:translateY(-50%);top:50%;min-height:44px;}}/*!sc*/
.bsUzxL{--segmented-control-button-inner-padding:12px;--segmented-control-button-bg-inset:4px;--segmented-control-outer-radius:6px;background-color:transparent;border-color:transparent;border-radius:var(--segmented-control-outer-radius);border-width:0;color:currentColor;cursor:pointer;font-family:inherit;font-size:inherit;font-weight:400;padding:var(--segmented-control-button-bg-inset);height:100%;width:100%;}/*!sc*/
.bsUzxL .segmentedControl-content{-webkit-align-items:center;-webkit-box-align:center;-ms-flex-align:center;align-items:center;background-color:transparent;border-color:transparent;border-style:solid;border-width:1px;border-radius:calc(var(--segmented-control-outer-radius) - var(--segmented-control-button-bg-inset) / 2);display:-webkit-box;display:-webkit-flex;display:-ms-flexbox;display:flex;height:100%;-webkit-box-pack:center;-webkit-justify-content:center;-ms-flex-pack:center;justify-content:center;padding-left:calc(var(--segmented-control-button-inner-padding) - var(--segmented-control-button-bg-inset));padding-right:calc(var(--segmented-control-button-inner-padding) - var(--segmented-control-button-bg-inset));}/*!sc*/
.bsUzxL svg{fill:var(--fgColor-muted,var(--color-fg-muted,#848d97));}/*!sc*/
.bsUzxL:hover .segmentedControl-content{background-color:var(--controlTrack-bgColor-hover,var(--color-segmented-control-button-hover-bg,#30363d));}/*!sc*/
.bsUzxL:active .segmentedControl-content{background-color:var(--controlTrack-bgColor-active,var(--color-segmented-control-button-active-bg,#21262d));}/*!sc*/
.bsUzxL:focus:focus-visible:not(:last-child):after{width:0;}/*!sc*/
.bsUzxL .segmentedControl-text:after{content:"Code";display:block;font-weight:600;height:0;overflow:hidden;pointer-events:none;-webkit-user-select:none;-moz-user-select:none;-ms-user-select:none;user-select:none;visibility:hidden;}/*!sc*/
@media (pointer:coarse){.bsUzxL:before{content:"";position:absolute;left:0;right:0;-webkit-transform:translateY(-50%);-ms-transform:translateY(-50%);transform:translateY(-50%);top:50%;min-height:44px;}}/*!sc*/
.eIUwEt{--segmented-control-button-inner-padding:12px;--segmented-control-button-bg-inset:4px;--segmented-control-outer-radius:6px;background-color:transparent;border-color:transparent;border-radius:var(--segmented-control-outer-radius);border-width:0;color:currentColor;cursor:pointer;font-family:inherit;font-size:inherit;font-weight:400;padding:var(--segmented-control-button-bg-inset);height:100%;width:100%;}/*!sc*/
.eIUwEt .segmentedControl-content{-webkit-align-items:center;-webkit-box-align:center;-ms-flex-align:center;align-items:center;background-color:transparent;border-color:transparent;border-style:solid;border-width:1px;border-radius:calc(var(--segmented-control-outer-radius) - var(--segmented-control-button-bg-inset) / 2);display:-webkit-box;display:-webkit-flex;display:-ms-flexbox;display:flex;height:100%;-webkit-box-pack:center;-webkit-justify-content:center;-ms-flex-pack:center;justify-content:center;padding-left:calc(var(--segmented-control-button-inner-padding) - var(--segmented-control-button-bg-inset));padding-right:calc(var(--segmented-control-button-inner-padding) - var(--segmented-control-button-bg-inset));}/*!sc*/
.eIUwEt svg{fill:var(--fgColor-muted,var(--color-fg-muted,#848d97));}/*!sc*/
.eIUwEt:hover .segmentedControl-content{background-color:var(--controlTrack-bgColor-hover,var(--color-segmented-control-button-hover-bg,#30363d));}/*!sc*/
.eIUwEt:active .segmentedControl-content{background-color:var(--controlTrack-bgColor-active,var(--color-segmented-control-button-active-bg,#21262d));}/*!sc*/
.eIUwEt:focus:focus-visible:not(:last-child):after{width:0;}/*!sc*/
.eIUwEt .segmentedControl-text:after{content:"Blame";display:block;font-weight:600;height:0;overflow:hidden;pointer-events:none;-webkit-user-select:none;-moz-user-select:none;-ms-user-select:none;user-select:none;visibility:hidden;}/*!sc*/
@media (pointer:coarse){.eIUwEt:before{content:"";position:absolute;left:0;right:0;-webkit-transform:translateY(-50%);-ms-transform:translateY(-50%);transform:translateY(-50%);top:50%;min-height:44px;}}/*!sc*/
data-styled.g61[id="SegmentedControlButton__SegmentedControlButtonStyled-sc-8lkgxl-0"]{content:"Skzpj,bsUzxL,eIUwEt,"}/*!sc*/
.eYPFoP{background-color:var(--controlTrack-bgColor-rest,var(--color-segmented-control-bg,rgba(110,118,129,0.1)));border-radius:6px;border:1px solid;border-color:var(--controlTrack-borderColor-rest,transparent);display:-webkit-inline-box;display:-webkit-inline-flex;display:-ms-inline-flexbox;display:inline-flex;font-size:14px;height:28px;margin:0;padding:0;}/*!sc*/
data-styled.g63[id="SegmentedControl__SegmentedControlList-sc-1rzig82-0"]{content:"eYPFoP,"}/*!sc*/
</style><meta data-hydrostats="publish"/> <!-- --> <!-- --> <button hidden="" data-testid="header-permalink-button" data-hotkey-scope="read-only-cursor-text-area"></button><button hidden=""></button><div><div style="--sticky-pane-height:100vh" class="Box-sc-g0xbh4-0 hOfjFo"><div class="Box-sc-g0xbh4-0 oDGAe"><div class="Box-sc-g0xbh4-0 kowOcT"><div tabindex="0" class="Box-sc-g0xbh4-0 gISSDQ"><div class="Box-sc-g0xbh4-0 bQRaNO"><div class="Box-sc-g0xbh4-0 hPvFuC"></div><div style="--pane-width:320px" class="Box-sc-g0xbh4-0 fFSoPl"><div class="react-tree-pane-contents"><div id="repos-file-tree" class="Box-sc-g0xbh4-0 birIjn"><div class="Box-sc-g0xbh4-0 hNNCwk"><div class="Box-sc-g0xbh4-0 jfIeyl"><h2 class="Box-sc-g0xbh4-0 XosP prc-Heading-Heading-6CmGO"><button style="--button-color:fg.muted" type="button" aria-label="Expand file tree" data-testid="expand-file-tree-button-mobile" class="types__StyledButton-sc-ws60qy-0 dCOKUW" data-loading="false" data-size="medium" aria-describedby=":Rl6mplab:-loading-announcement"><span data-component="buttonContent" class="Box-sc-g0xbh4-0 gUkoLg"><span data-component="leadingVisual" class="Box-sc-g0xbh4-0 hzSPyu"><svg aria-hidden="true" focusable="false" class="octicon octicon-arrow-left" viewBox="0 0 16 16" width="16" height="16" fill="currentColor" style="display:inline-block;user-select:none;vertical-align:text-bottom;overflow:visible"><path d="M7.78 12.53a.75.75 0 0 1-1.06 0L2.47 8.28a.75.75 0 0 1 0-1.06l4.25-4.25a.751.751 0 0 1 1.042.018.751.751 0 0 1 .018 1.042L4.81 7h7.44a.75.75 0 0 1 0 1.5H4.81l2.97 2.97a.75.75 0 0 1 0 1.06Z"></path></svg></span><span data-component="text">Files</span></span></button><span role="tooltip" aria-label="Collapse file tree" id="expand-button-file-tree-button" class="Tooltip__TooltipBase-sc-17tf59c-0 fiSvBN tooltipped-se"><button data-component="IconButton" type="button" data-testid="collapse-file-tree-button" aria-expanded="true" aria-controls="repos-file-tree" class="types__StyledButton-sc-ws60qy-0 hjmoJU prc-Button-IconButton-szpyj" data-loading="false" data-no-visuals="true" data-size="medium" aria-describedby=":R356mplab:-loading-announcement" aria-labelledby="expand-button-file-tree-button"><svg aria-hidden="true" focusable="false" class="octicon octicon-sidebar-expand" viewBox="0 0 16 16" width="16" height="16" fill="currentColor" style="display:inline-block;user-select:none;vertical-align:text-bottom;overflow:visible"><path d="m4.177 7.823 2.396-2.396A.25.25 0 0 1 7 5.604v4.792a.25.25 0 0 1-.427.177L4.177 8.177a.25.25 0 0 1 0-.354Z"></path><path d="M0 1.75C0 .784.784 0 1.75 0h12.5C15.216 0 16 .784 16 1.75v12.5A1.75 1.75 0 0 1 14.25 16H1.75A1.75 1.75 0 0 1 0 14.25Zm1.75-.25a.25.25 0 0 0-.25.25v12.5c0 .138.112.25.25.25H9.5v-13Zm12.5 13a.25.25 0 0 0 .25-.25V1.75a.25.25 0 0 0-.25-.25H11v13Z"></path></svg></button></span><button hidden="" data-testid="" data-hotkey-scope="read-only-cursor-text-area"></button></h2><h2 class="Box-sc-g0xbh4-0 kOkWgo prc-Heading-Heading-6CmGO">Files</h2></div><div class="Box-sc-g0xbh4-0 lhbroM"><div class="Box-sc-g0xbh4-0 khzwtX"><button type="button" aria-haspopup="true" aria-expanded="false" tabindex="0" aria-label="master branch" data-testid="anchor-button" class="types__StyledButton-sc-ws60qy-0 fJiNYL react-repos-tree-pane-ref-selector width-full ref-selector-class" data-loading="false" data-size="medium" aria-describedby="branch-picker-repos-header-ref-selector-loading-announcement" id="branch-picker-repos-header-ref-selector"><span data-component="buttonContent" class="Box-sc-g0xbh4-0 gUkoLg"><span data-component="text"><div class="Box-sc-g0xbh4-0 bZBlpz"><div class="Box-sc-g0xbh4-0 bJjzmO"><svg aria-hidden="true" focusable="false" class="octicon octicon-git-branch" viewBox="0 0 16 16" width="16" height="16" fill="currentColor" style="display:inline-block;user-select:none;vertical-align:text-bottom;overflow:visible"><path d="M9.5 3.25a2.25 2.25 0 1 1 3 2.122V6A2.5 2.5 0 0 1 10 8.5H6a1 1 0 0 0-1 1v1.128a2.251 2.251 0 1 1-1.5 0V5.372a2.25 2.25 0 1 1 1.5 0v1.836A2.493 2.493 0 0 1 6 7h4a1 1 0 0 0 1-1v-.628A2.25 2.25 0 0 1 9.5 3.25Zm-6 0a.75.75 0 1 0 1.5 0 .75.75 0 0 0-1.5 0Zm8.25-.75a.75.75 0 1 0 0 1.5.75.75 0 0 0 0-1.5ZM4.25 12a.75.75 0 1 0 0 1.5.75.75 0 0 0 0-1.5Z"></path></svg></div><div class="Box-sc-g0xbh4-0 ffLUq ref-selector-button-text-container"><span class="Text__StyledText-sc-17v1xeu-0 eMMFM"> <!-- -->master</span></div></div></span><span data-component="trailingVisual" class="Box-sc-g0xbh4-0 hzSPyu"><svg aria-hidden="true" focusable="false" class="octicon octicon-triangle-down" viewBox="0 0 16 16" width="16" height="16" fill="currentColor" style="display:inline-block;user-select:none;vertical-align:text-bottom;overflow:visible"><path d="m4.427 7.427 3.396 3.396a.25.25 0 0 0 .354 0l3.396-3.396A.25.25 0 0 0 11.396 7H4.604a.25.25 0 0 0-.177.427Z"></path></svg></span></span></button><button hidden="" data-hotkey-scope="read-only-cursor-text-area"></button></div><div class="Box-sc-g0xbh4-0 eTeVqd"><span role="tooltip" aria-label="Add file" id=":Rq6mplab:" class="Tooltip__TooltipBase-sc-17tf59c-0 fiSvBN tooltipped-s"><a sx="[object Object]" data-component="IconButton" type="button" aria-label="Add file" class="types__StyledButton-sc-ws60qy-0 hfIjLs prc-Button-IconButton-szpyj" data-loading="false" data-no-visuals="true" data-size="medium" aria-describedby=":R2q6mplab:-loading-announcement" href="/joseluisalmendral/Ejercicios_Dia1_Hackio/new/master"><svg aria-hidden="true" focusable="false" class="octicon octicon-plus" viewBox="0 0 16 16" width="16" height="16" fill="currentColor" style="display:inline-block;user-select:none;vertical-align:text-bottom;overflow:visible"><path d="M7.75 2a.75.75 0 0 1 .75.75V7h4.25a.75.75 0 0 1 0 1.5H8.5v4.25a.75.75 0 0 1-1.5 0V8.5H2.75a.75.75 0 0 1 0-1.5H7V2.75A.75.75 0 0 1 7.75 2Z"></path></svg></a></span><button data-component="IconButton" type="button" aria-label="Search this repository" class="types__StyledButton-sc-ws60qy-0 dRyOTG prc-Button-IconButton-szpyj" data-loading="false" data-no-visuals="true" data-size="medium" aria-describedby=":R3a6mplab:-loading-announcement"><svg aria-hidden="true" focusable="false" class="octicon octicon-search" viewBox="0 0 16 16" width="16" height="16" fill="currentColor" style="display:inline-block;user-select:none;vertical-align:text-bottom;overflow:visible"><path d="M10.68 11.74a6 6 0 0 1-7.922-8.982 6 6 0 0 1 8.982 7.922l3.04 3.04a.749.749 0 0 1-.326 1.275.749.749 0 0 1-.734-.215ZM11.5 7a4.499 4.499 0 1 0-8.997 0A4.499 4.499 0 0 0 11.5 7Z"></path></svg></button><button hidden="" data-testid="" data-hotkey-scope="read-only-cursor-text-area"></button></div></div></div><div class="Box-sc-g0xbh4-0 ftzGWg"><span class="TextInputWrapper__TextInputBaseWrapper-sc-1mqhpbi-0 TextInputWrapper-sc-1mqhpbi-1 fgiTUz klSCQM TextInput-wrapper" aria-busy="false"><span class="TextInput-icon"><svg aria-hidden="true" focusable="false" class="octicon octicon-search" viewBox="0 0 16 16" width="16" height="16" fill="currentColor" style="display:inline-block;user-select:none;vertical-align:text-bottom;overflow:visible"><path d="M10.68 11.74a6 6 0 0 1-7.922-8.982 6 6 0 0 1 8.982 7.922l3.04 3.04a.749.749 0 0 1-.326 1.275.749.749 0 0 1-.734-.215ZM11.5 7a4.499 4.499 0 1 0-8.997 0A4.499 4.499 0 0 0 11.5 7Z"></path></svg></span><input type="text" aria-label="Go to file" role="combobox" aria-controls="file-results-list" aria-expanded="false" aria-haspopup="dialog" autoCorrect="off" spellcheck="false" placeholder="Go to file" data-component="input" class="UnstyledTextInput-sc-14ypya-0 kbCLEG" value=""/><span class="TextInput-icon"><div class="Box-sc-g0xbh4-0 dItACB"><kbd>t</kbd></div></span></span></div><button hidden="" data-testid="" data-hotkey-scope="read-only-cursor-text-area"></button><button hidden=""></button><div class="Box-sc-g0xbh4-0 gjtfVk"><div class="react-tree-show-tree-items"><div data-testid="repos-file-tree-container" class="Box-sc-g0xbh4-0 cOxzdh"><nav aria-label="File Tree Navigation"><span role="status" aria-live="polite" aria-atomic="true" class="_VisuallyHidden__VisuallyHidden-sc-11jhm7a-0 brGdpi"></span><ul role="tree" aria-label="Files" class="TreeView__UlBox-sc-4ex6b6-0 jGvHJc"><li class="PRIVATE_TreeView-item" tabindex="0" id="README.md-item" role="treeitem" aria-labelledby=":R39implab:" aria-describedby=":R39implabH1: :R39implabH2:" aria-level="1" aria-selected="false"><div class="PRIVATE_TreeView-item-container" style="--level:1;content-visibility:auto;contain-intrinsic-size:auto 2rem"><div style="grid-area:spacer;display:flex"><div style="width:100%;display:flex"></div></div><div id=":R39implab:" class="PRIVATE_TreeView-item-content"><div class="PRIVATE_VisuallyHidden" aria-hidden="true" id=":R39implabH1:"></div><div class="PRIVATE_TreeView-item-visual" aria-hidden="true"><svg aria-hidden="true" focusable="false" class="octicon octicon-file" viewBox="0 0 16 16" width="16" height="16" fill="currentColor" style="display:inline-block;user-select:none;vertical-align:text-bottom;overflow:visible"><path d="M2 1.75C2 .784 2.784 0 3.75 0h6.586c.464 0 .909.184 1.237.513l2.914 2.914c.329.328.513.773.513 1.237v9.586A1.75 1.75 0 0 1 13.25 16h-9.5A1.75 1.75 0 0 1 2 14.25Zm1.75-.25a.25.25 0 0 0-.25.25v12.5c0 .138.112.25.25.25h9.5a.25.25 0 0 0 .25-.25V6h-2.75A1.75 1.75 0 0 1 9 4.25V1.5Zm6.75.062V4.25c0 .138.112.25.25.25h2.688l-.011-.013-2.914-2.914-.013-.011Z"></path></svg></div><span class="PRIVATE_TreeView-item-content-text"><span>README.md</span></span></div></div></li><li class="PRIVATE_TreeView-item" tabindex="0" id="conversion_numeros_palabras.ipynb-item" role="treeitem" aria-labelledby=":R59implab:" aria-describedby=":R59implabH1: :R59implabH2:" aria-level="1" aria-selected="false"><div class="PRIVATE_TreeView-item-container" style="--level:1;content-visibility:auto;contain-intrinsic-size:auto 2rem"><div style="grid-area:spacer;display:flex"><div style="width:100%;display:flex"></div></div><div id=":R59implab:" class="PRIVATE_TreeView-item-content"><div class="PRIVATE_VisuallyHidden" aria-hidden="true" id=":R59implabH1:"></div><div class="PRIVATE_TreeView-item-visual" aria-hidden="true"><svg aria-hidden="true" focusable="false" class="octicon octicon-file" viewBox="0 0 16 16" width="16" height="16" fill="currentColor" style="display:inline-block;user-select:none;vertical-align:text-bottom;overflow:visible"><path d="M2 1.75C2 .784 2.784 0 3.75 0h6.586c.464 0 .909.184 1.237.513l2.914 2.914c.329.328.513.773.513 1.237v9.586A1.75 1.75 0 0 1 13.25 16h-9.5A1.75 1.75 0 0 1 2 14.25Zm1.75-.25a.25.25 0 0 0-.25.25v12.5c0 .138.112.25.25.25h9.5a.25.25 0 0 0 .25-.25V6h-2.75A1.75 1.75 0 0 1 9 4.25V1.5Zm6.75.062V4.25c0 .138.112.25.25.25h2.688l-.011-.013-2.914-2.914-.013-.011Z"></path></svg></div><span class="PRIVATE_TreeView-item-content-text"><span>conversion_numeros_palabras.ipynb</span></span></div></div></li><li class="PRIVATE_TreeView-item" tabindex="0" id="ejercicio2.ipynb-item" role="treeitem" aria-labelledby=":R79implab:" aria-describedby=":R79implabH1: :R79implabH2:" aria-level="1" aria-selected="false"><div class="PRIVATE_TreeView-item-container" style="--level:1;content-visibility:auto;contain-intrinsic-size:auto 2rem"><div style="grid-area:spacer;display:flex"><div style="width:100%;display:flex"></div></div><div id=":R79implab:" class="PRIVATE_TreeView-item-content"><div class="PRIVATE_VisuallyHidden" aria-hidden="true" id=":R79implabH1:"></div><div class="PRIVATE_TreeView-item-visual" aria-hidden="true"><svg aria-hidden="true" focusable="false" class="octicon octicon-file" viewBox="0 0 16 16" width="16" height="16" fill="currentColor" style="display:inline-block;user-select:none;vertical-align:text-bottom;overflow:visible"><path d="M2 1.75C2 .784 2.784 0 3.75 0h6.586c.464 0 .909.184 1.237.513l2.914 2.914c.329.328.513.773.513 1.237v9.586A1.75 1.75 0 0 1 13.25 16h-9.5A1.75 1.75 0 0 1 2 14.25Zm1.75-.25a.25.25 0 0 0-.25.25v12.5c0 .138.112.25.25.25h9.5a.25.25 0 0 0 .25-.25V6h-2.75A1.75 1.75 0 0 1 9 4.25V1.5Zm6.75.062V4.25c0 .138.112.25.25.25h2.688l-.011-.013-2.914-2.914-.013-.011Z"></path></svg></div><span class="PRIVATE_TreeView-item-content-text"><span>ejercicio2.ipynb</span></span></div></div></li><li class="PRIVATE_TreeView-item" tabindex="0" id="ejercicio3.ipynb-item" role="treeitem" aria-labelledby=":R99implab:" aria-describedby=":R99implabH1: :R99implabH2:" aria-level="1" aria-selected="false"><div class="PRIVATE_TreeView-item-container" style="--level:1;content-visibility:auto;contain-intrinsic-size:auto 2rem"><div style="grid-area:spacer;display:flex"><div style="width:100%;display:flex"></div></div><div id=":R99implab:" class="PRIVATE_TreeView-item-content"><div class="PRIVATE_VisuallyHidden" aria-hidden="true" id=":R99implabH1:"></div><div class="PRIVATE_TreeView-item-visual" aria-hidden="true"><svg aria-hidden="true" focusable="false" class="octicon octicon-file" viewBox="0 0 16 16" width="16" height="16" fill="currentColor" style="display:inline-block;user-select:none;vertical-align:text-bottom;overflow:visible"><path d="M2 1.75C2 .784 2.784 0 3.75 0h6.586c.464 0 .909.184 1.237.513l2.914 2.914c.329.328.513.773.513 1.237v9.586A1.75 1.75 0 0 1 13.25 16h-9.5A1.75 1.75 0 0 1 2 14.25Zm1.75-.25a.25.25 0 0 0-.25.25v12.5c0 .138.112.25.25.25h9.5a.25.25 0 0 0 .25-.25V6h-2.75A1.75 1.75 0 0 1 9 4.25V1.5Zm6.75.062V4.25c0 .138.112.25.25.25h2.688l-.011-.013-2.914-2.914-.013-.011Z"></path></svg></div><span class="PRIVATE_TreeView-item-content-text"><span>ejercicio3.ipynb</span></span></div></div></li><li class="PRIVATE_TreeView-item" tabindex="0" id="llenar_mochila.ipynb-item" role="treeitem" aria-labelledby=":Rb9implab:" aria-describedby=":Rb9implabH1: :Rb9implabH2:" aria-level="1" aria-selected="false"><div class="PRIVATE_TreeView-item-container" style="--level:1;content-visibility:auto;contain-intrinsic-size:auto 2rem"><div style="grid-area:spacer;display:flex"><div style="width:100%;display:flex"></div></div><div id=":Rb9implab:" class="PRIVATE_TreeView-item-content"><div class="PRIVATE_VisuallyHidden" aria-hidden="true" id=":Rb9implabH1:"></div><div class="PRIVATE_TreeView-item-visual" aria-hidden="true"><svg aria-hidden="true" focusable="false" class="octicon octicon-file" viewBox="0 0 16 16" width="16" height="16" fill="currentColor" style="display:inline-block;user-select:none;vertical-align:text-bottom;overflow:visible"><path d="M2 1.75C2 .784 2.784 0 3.75 0h6.586c.464 0 .909.184 1.237.513l2.914 2.914c.329.328.513.773.513 1.237v9.586A1.75 1.75 0 0 1 13.25 16h-9.5A1.75 1.75 0 0 1 2 14.25Zm1.75-.25a.25.25 0 0 0-.25.25v12.5c0 .138.112.25.25.25h9.5a.25.25 0 0 0 .25-.25V6h-2.75A1.75 1.75 0 0 1 9 4.25V1.5Zm6.75.062V4.25c0 .138.112.25.25.25h2.688l-.011-.013-2.914-2.914-.013-.011Z"></path></svg></div><span class="PRIVATE_TreeView-item-content-text"><span>llenar_mochila.ipynb</span></span></div></div></li><li class="PRIVATE_TreeView-item" tabindex="0" id="n_romanos.ipynb-item" role="treeitem" aria-labelledby=":Rd9implab:" aria-describedby=":Rd9implabH1: :Rd9implabH2:" aria-level="1" aria-selected="false"><div class="PRIVATE_TreeView-item-container" style="--level:1;content-visibility:auto;contain-intrinsic-size:auto 2rem"><div style="grid-area:spacer;display:flex"><div style="width:100%;display:flex"></div></div><div id=":Rd9implab:" class="PRIVATE_TreeView-item-content"><div class="PRIVATE_VisuallyHidden" aria-hidden="true" id=":Rd9implabH1:"></div><div class="PRIVATE_TreeView-item-visual" aria-hidden="true"><svg aria-hidden="true" focusable="false" class="octicon octicon-file" viewBox="0 0 16 16" width="16" height="16" fill="currentColor" style="display:inline-block;user-select:none;vertical-align:text-bottom;overflow:visible"><path d="M2 1.75C2 .784 2.784 0 3.75 0h6.586c.464 0 .909.184 1.237.513l2.914 2.914c.329.328.513.773.513 1.237v9.586A1.75 1.75 0 0 1 13.25 16h-9.5A1.75 1.75 0 0 1 2 14.25Zm1.75-.25a.25.25 0 0 0-.25.25v12.5c0 .138.112.25.25.25h9.5a.25.25 0 0 0 .25-.25V6h-2.75A1.75 1.75 0 0 1 9 4.25V1.5Zm6.75.062V4.25c0 .138.112.25.25.25h2.688l-.011-.013-2.914-2.914-.013-.011Z"></path></svg></div><span class="PRIVATE_TreeView-item-content-text"><span>n_romanos.ipynb</span></span></div></div></li><li class="PRIVATE_TreeView-item" tabindex="0" id="numero_falta.ipynb-item" role="treeitem" aria-labelledby=":Rf9implab:" aria-describedby=":Rf9implabH1: :Rf9implabH2:" aria-level="1" aria-current="true" aria-selected="false"><div class="PRIVATE_TreeView-item-container" style="--level:1"><div style="grid-area:spacer;display:flex"><div style="width:100%;display:flex"></div></div><div id=":Rf9implab:" class="PRIVATE_TreeView-item-content"><div class="PRIVATE_VisuallyHidden" aria-hidden="true" id=":Rf9implabH1:"></div><div class="PRIVATE_TreeView-item-visual" aria-hidden="true"><svg aria-hidden="true" focusable="false" class="octicon octicon-file" viewBox="0 0 16 16" width="16" height="16" fill="currentColor" style="display:inline-block;user-select:none;vertical-align:text-bottom;overflow:visible"><path d="M2 1.75C2 .784 2.784 0 3.75 0h6.586c.464 0 .909.184 1.237.513l2.914 2.914c.329.328.513.773.513 1.237v9.586A1.75 1.75 0 0 1 13.25 16h-9.5A1.75 1.75 0 0 1 2 14.25Zm1.75-.25a.25.25 0 0 0-.25.25v12.5c0 .138.112.25.25.25h9.5a.25.25 0 0 0 .25-.25V6h-2.75A1.75 1.75 0 0 1 9 4.25V1.5Zm6.75.062V4.25c0 .138.112.25.25.25h2.688l-.011-.013-2.914-2.914-.013-.011Z"></path></svg></div><span class="PRIVATE_TreeView-item-content-text"><span>numero_falta.ipynb</span></span></div></div></li><li class="PRIVATE_TreeView-item" tabindex="0" id="sublista.ipynb-item" role="treeitem" aria-labelledby=":Rh9implab:" aria-describedby=":Rh9implabH1: :Rh9implabH2:" aria-level="1" aria-selected="false"><div class="PRIVATE_TreeView-item-container" style="--level:1;content-visibility:auto;contain-intrinsic-size:auto 2rem"><div style="grid-area:spacer;display:flex"><div style="width:100%;display:flex"></div></div><div id=":Rh9implab:" class="PRIVATE_TreeView-item-content"><div class="PRIVATE_VisuallyHidden" aria-hidden="true" id=":Rh9implabH1:"></div><div class="PRIVATE_TreeView-item-visual" aria-hidden="true"><svg aria-hidden="true" focusable="false" class="octicon octicon-file" viewBox="0 0 16 16" width="16" height="16" fill="currentColor" style="display:inline-block;user-select:none;vertical-align:text-bottom;overflow:visible"><path d="M2 1.75C2 .784 2.784 0 3.75 0h6.586c.464 0 .909.184 1.237.513l2.914 2.914c.329.328.513.773.513 1.237v9.586A1.75 1.75 0 0 1 13.25 16h-9.5A1.75 1.75 0 0 1 2 14.25Zm1.75-.25a.25.25 0 0 0-.25.25v12.5c0 .138.112.25.25.25h9.5a.25.25 0 0 0 .25-.25V6h-2.75A1.75 1.75 0 0 1 9 4.25V1.5Zm6.75.062V4.25c0 .138.112.25.25.25h2.688l-.011-.013-2.914-2.914-.013-.011Z"></path></svg></div><span class="PRIVATE_TreeView-item-content-text"><span>sublista.ipynb</span></span></div></div></li></ul></nav></div></div></div></div></div></div><div class="Box-sc-g0xbh4-0 bTBnTW"><div role="slider" aria-label="Draggable pane splitter" aria-valuemin="0" aria-valuemax="0" aria-valuenow="0" aria-valuetext="Pane width 0 pixels" tabindex="0" class="Box-sc-g0xbh4-0 fFMzrG"></div></div></div></div><div class="Box-sc-g0xbh4-0 iKqMNA"><div class="Box-sc-g0xbh4-0"></div><div class="Box-sc-g0xbh4-0 FxAyp"><div data-selector="repos-split-pane-content" tabindex="0" class="Box-sc-g0xbh4-0 leYMvG"><div class="Box-sc-g0xbh4-0 KMPzq"><div class="Box-sc-g0xbh4-0 hfKjHv container"><div class="px-3 pt-3 pb-0" id="StickyHeader"><div class="Box-sc-g0xbh4-0 gZWyZE"><div class="Box-sc-g0xbh4-0 dwYKDk"><div class="Box-sc-g0xbh4-0 iDtIiT"><div class="Box-sc-g0xbh4-0 cEytCf"><nav data-testid="breadcrumbs" aria-labelledby="repos-header-breadcrumb--wide-heading" id="repos-header-breadcrumb--wide" class="Box-sc-g0xbh4-0 fzFXnm"><h2 class="sr-only prc-Heading-Heading-6CmGO" data-testid="screen-reader-heading" id="repos-header-breadcrumb--wide-heading">Breadcrumbs</h2><ol class="Box-sc-g0xbh4-0 iMnkmv"><li class="Box-sc-g0xbh4-0 ghzDag"><a class="Box-sc-g0xbh4-0 kHuKdh prc-Link-Link-85e08" sx="[object Object]" data-testid="breadcrumbs-repo-link" href="/joseluisalmendral/Ejercicios_Dia1_Hackio/tree/master">Ejercicios_Dia1_Hackio</a></li></ol></nav><div data-testid="breadcrumbs-filename" class="Box-sc-g0xbh4-0 ghzDag"><span class="Text__StyledText-sc-17v1xeu-0 iHQnrN" aria-hidden="true">/</span><h1 class="Box-sc-g0xbh4-0 jGhzSQ prc-Heading-Heading-6CmGO" tabindex="-1" id="file-name-id-wide">numero_falta.ipynb</h1></div><div aria-describedby=":Rdd9lab:"><button data-component="IconButton" type="button" aria-label="Copy path" tabindex="0" class="types__StyledButton-sc-ws60qy-0 hQsKGs prc-Button-IconButton-szpyj" data-loading="false" data-no-visuals="true" data-size="small" aria-describedby=":R1td9lab:-loading-announcement"><svg aria-hidden="true" focusable="false" class="octicon octicon-copy" viewBox="0 0 16 16" width="16" height="16" fill="currentColor" style="display:inline-block;user-select:none;vertical-align:text-bottom;overflow:visible"><path d="M0 6.75C0 5.784.784 5 1.75 5h1.5a.75.75 0 0 1 0 1.5h-1.5a.25.25 0 0 0-.25.25v7.5c0 .138.112.25.25.25h7.5a.25.25 0 0 0 .25-.25v-1.5a.75.75 0 0 1 1.5 0v1.5A1.75 1.75 0 0 1 9.25 16h-7.5A1.75 1.75 0 0 1 0 14.25Z"></path><path d="M5 1.75C5 .784 5.784 0 6.75 0h7.5C15.216 0 16 .784 16 1.75v7.5A1.75 1.75 0 0 1 14.25 11h-7.5A1.75 1.75 0 0 1 5 9.25Zm1.75-.25a.25.25 0 0 0-.25.25v7.5c0 .138.112.25.25.25h7.5a.25.25 0 0 0 .25-.25v-7.5a.25.25 0 0 0-.25-.25Z"></path></svg></button></div></div></div><div class="react-code-view-header-element--wide"><div class="Box-sc-g0xbh4-0 faNtbn"><div class="d-flex gap-2"> <button type="button" class="types__StyledButton-sc-ws60qy-0 zypdo" data-loading="false" data-no-visuals="true" data-size="medium" aria-describedby=":R2l6d9lab:-loading-announcement"><span data-component="buttonContent" class="Box-sc-g0xbh4-0 gUkoLg"><span data-component="text">Blame</span></span></button><button hidden="" data-testid="" data-hotkey-scope="read-only-cursor-text-area"></button><button data-component="IconButton" type="button" aria-label="More file actions" title="More file actions" data-testid="more-file-actions-button-nav-menu-wide" aria-haspopup="true" aria-expanded="false" tabindex="0" class="types__StyledButton-sc-ws60qy-0 fbXYTF js-blob-dropdown-click prc-Button-IconButton-szpyj" data-loading="false" data-no-visuals="true" data-size="medium" aria-describedby=":R156d9lab:-loading-announcement" id=":R156d9lab:"><svg aria-hidden="true" focusable="false" class="octicon octicon-kebab-horizontal" viewBox="0 0 16 16" width="16" height="16" fill="currentColor" style="display:inline-block;user-select:none;vertical-align:text-bottom;overflow:visible"><path d="M8 9a1.5 1.5 0 1 0 0-3 1.5 1.5 0 0 0 0 3ZM1.5 9a1.5 1.5 0 1 0 0-3 1.5 1.5 0 0 0 0 3Zm13 0a1.5 1.5 0 1 0 0-3 1.5 1.5 0 0 0 0 3Z"></path></svg></button> </div></div></div><div class="react-code-view-header-element--narrow"><div class="Box-sc-g0xbh4-0 faNtbn"><div class="d-flex gap-2"> <button type="button" class="types__StyledButton-sc-ws60qy-0 zypdo" data-loading="false" data-no-visuals="true" data-size="medium" aria-describedby=":R2l7d9lab:-loading-announcement"><span data-component="buttonContent" class="Box-sc-g0xbh4-0 gUkoLg"><span data-component="text">Blame</span></span></button><button hidden="" data-testid="" data-hotkey-scope="read-only-cursor-text-area"></button><button data-component="IconButton" type="button" aria-label="More file actions" title="More file actions" data-testid="more-file-actions-button-nav-menu-narrow" aria-haspopup="true" aria-expanded="false" tabindex="0" class="types__StyledButton-sc-ws60qy-0 fbXYTF js-blob-dropdown-click prc-Button-IconButton-szpyj" data-loading="false" data-no-visuals="true" data-size="medium" aria-describedby=":R157d9lab:-loading-announcement" id=":R157d9lab:"><svg aria-hidden="true" focusable="false" class="octicon octicon-kebab-horizontal" viewBox="0 0 16 16" width="16" height="16" fill="currentColor" style="display:inline-block;user-select:none;vertical-align:text-bottom;overflow:visible"><path d="M8 9a1.5 1.5 0 1 0 0-3 1.5 1.5 0 0 0 0 3ZM1.5 9a1.5 1.5 0 1 0 0-3 1.5 1.5 0 0 0 0 3Zm13 0a1.5 1.5 0 1 0 0-3 1.5 1.5 0 0 0 0 3Z"></path></svg></button> </div></div></div></div></div></div></div></div><div class="Box-sc-g0xbh4-0 dJxjrT react-code-view-bottom-padding"> <div class="Box-sc-g0xbh4-0 eFxKDQ"></div> <!-- --> <!-- --> </div><div class="Box-sc-g0xbh4-0 dJxjrT"> <!-- --> <!-- --> <div class="d-flex flex-column border rounded-2 mb-3 pl-1"><div class="Box-sc-g0xbh4-0 dzCJzi"><h2 class="sr-only prc-Heading-Heading-6CmGO" data-testid="screen-reader-heading">Latest commit</h2><div style="width:120px" class="Skeleton Skeleton--text" data-testid="loading"> </div><div class="d-flex flex-shrink-0 gap-2"><div data-testid="latest-commit-details" class="d-none d-sm-flex flex-items-center"></div><div class="d-flex gap-2"><h2 class="sr-only prc-Heading-Heading-6CmGO" data-testid="screen-reader-heading">History</h2><a href="/joseluisalmendral/Ejercicios_Dia1_Hackio/commits/master/numero_falta.ipynb" class="types__StyledButton-sc-ws60qy-0 hQsKGs d-none d-lg-flex LinkButton-module__code-view-link-button--xvCGA flex-items-center fgColor-default" data-loading="false" data-size="small" aria-describedby=":R5dlal9lab:-loading-announcement"><span data-component="buttonContent" class="Box-sc-g0xbh4-0 gUkoLg"><span data-component="leadingVisual" class="Box-sc-g0xbh4-0 hzSPyu"><svg aria-hidden="true" focusable="false" class="octicon octicon-history" viewBox="0 0 16 16" width="16" height="16" fill="currentColor" style="display:inline-block;user-select:none;vertical-align:text-bottom;overflow:visible"><path d="m.427 1.927 1.215 1.215a8.002 8.002 0 1 1-1.6 5.685.75.75 0 1 1 1.493-.154 6.5 6.5 0 1 0 1.18-4.458l1.358 1.358A.25.25 0 0 1 3.896 6H.25A.25.25 0 0 1 0 5.75V2.104a.25.25 0 0 1 .427-.177ZM7.75 4a.75.75 0 0 1 .75.75v2.992l2.028.812a.75.75 0 0 1-.557 1.392l-2.5-1A.751.751 0 0 1 7 8.25v-3.5A.75.75 0 0 1 7.75 4Z"></path></svg></span><span data-component="text"><span class="fgColor-default">History</span></span></span></a><div class="d-sm-none"></div><div class="d-flex d-lg-none"><span role="tooltip" aria-label="History" id="history-icon-button-tooltip" class="Tooltip__TooltipBase-sc-17tf59c-0 fiSvBN tooltipped-n"><a href="/joseluisalmendral/Ejercicios_Dia1_Hackio/commits/master/numero_falta.ipynb" class="types__StyledButton-sc-ws60qy-0 hQsKGs LinkButton-module__code-view-link-button--xvCGA flex-items-center fgColor-default" data-loading="false" data-size="small" aria-describedby=":Rpdlal9lab:-loading-announcement history-icon-button-tooltip"><span data-component="buttonContent" class="Box-sc-g0xbh4-0 gUkoLg"><span data-component="leadingVisual" class="Box-sc-g0xbh4-0 hzSPyu"><svg aria-hidden="true" focusable="false" class="octicon octicon-history" viewBox="0 0 16 16" width="16" height="16" fill="currentColor" style="display:inline-block;user-select:none;vertical-align:text-bottom;overflow:visible"><path d="m.427 1.927 1.215 1.215a8.002 8.002 0 1 1-1.6 5.685.75.75 0 1 1 1.493-.154 6.5 6.5 0 1 0 1.18-4.458l1.358 1.358A.25.25 0 0 1 3.896 6H.25A.25.25 0 0 1 0 5.75V2.104a.25.25 0 0 1 .427-.177ZM7.75 4a.75.75 0 0 1 .75.75v2.992l2.028.812a.75.75 0 0 1-.557 1.392l-2.5-1A.751.751 0 0 1 7 8.25v-3.5A.75.75 0 0 1 7.75 4Z"></path></svg></span></span></a></span></div></div></div></div></div><div class="Box-sc-g0xbh4-0 ldRxiI"><div class="Box-sc-g0xbh4-0 fVkfyA container"><div class="Box-sc-g0xbh4-0 gNAmSV react-code-size-details-banner"><div class="Box-sc-g0xbh4-0 jNEwzY react-code-size-details-banner"><div class="Box-sc-g0xbh4-0 ifyOQK text-mono"><div title="104 KB" data-testid="blob-size" class="Truncate__StyledTruncate-sc-23o1d2-0 eAtkQz"><span>74 lines (74 loc) · 104 KB</span></div></div></div><div class="react-code-size-details-banner"><button style="--button-color:fg.default" type="button" aria-haspopup="true" aria-expanded="false" tabindex="0" data-testid="copilot-popover-button" class="types__StyledButton-sc-ws60qy-0 gMSYuG" data-loading="false" data-size="small" aria-describedby=":R15tal9lab:-loading-announcement" id=":R15tal9lab:"><span data-component="buttonContent" class="Box-sc-g0xbh4-0 gUkoLg"><span data-component="leadingVisual" class="Box-sc-g0xbh4-0 hzSPyu"><svg aria-hidden="true" focusable="false" class="octicon octicon-copilot" viewBox="0 0 16 16" width="16" height="16" fill="currentColor" style="display:inline-block;user-select:none;vertical-align:text-bottom;overflow:visible"><path d="M7.998 15.035c-4.562 0-7.873-2.914-7.998-3.749V9.338c.085-.628.677-1.686 1.588-2.065.013-.07.024-.143.036-.218.029-.183.06-.384.126-.612-.201-.508-.254-1.084-.254-1.656 0-.87.128-1.769.693-2.484.579-.733 1.494-1.124 2.724-1.261 1.206-.134 2.262.034 2.944.765.05.053.096.108.139.165.044-.057.094-.112.143-.165.682-.731 1.738-.899 2.944-.765 1.23.137 2.145.528 2.724 1.261.566.715.693 1.614.693 2.484 0 .572-.053 1.148-.254 1.656.066.228.098.429.126.612.012.076.024.148.037.218.924.385 1.522 1.471 1.591 2.095v1.872c0 .766-3.351 3.795-8.002 3.795Zm0-1.485c2.28 0 4.584-1.11 5.002-1.433V7.862l-.023-.116c-.49.21-1.075.291-1.727.291-1.146 0-2.059-.327-2.71-.991A3.222 3.222 0 0 1 8 6.303a3.24 3.24 0 0 1-.544.743c-.65.664-1.563.991-2.71.991-.652 0-1.236-.081-1.727-.291l-.023.116v4.255c.419.323 2.722 1.433 5.002 1.433ZM6.762 2.83c-.193-.206-.637-.413-1.682-.297-1.019.113-1.479.404-1.713.7-.247.312-.369.789-.369 1.554 0 .793.129 1.171.308 1.371.162.181.519.379 1.442.379.853 0 1.339-.235 1.638-.54.315-.322.527-.827.617-1.553.117-.935-.037-1.395-.241-1.614Zm4.155-.297c-1.044-.116-1.488.091-1.681.297-.204.219-.359.679-.242 1.614.091.726.303 1.231.618 1.553.299.305.784.54 1.638.54.922 0 1.28-.198 1.442-.379.179-.2.308-.578.308-1.371 0-.765-.123-1.242-.37-1.554-.233-.296-.693-.587-1.713-.7Z"></path><path d="M6.25 9.037a.75.75 0 0 1 .75.75v1.501a.75.75 0 0 1-1.5 0V9.787a.75.75 0 0 1 .75-.75Zm4.25.75v1.501a.75.75 0 0 1-1.5 0V9.787a.75.75 0 0 1 1.5 0Z"></path></svg></span><span data-component="text">Code 55% faster with GitHub Copilot</span></span></button></div></div><div class="Box-sc-g0xbh4-0 jdLMhu react-blob-view-header-sticky" id="repos-sticky-header"><div class="Box-sc-g0xbh4-0 tOISc"><div class="react-blob-sticky-header"><div class="Box-sc-g0xbh4-0 hqwSEx"><div class="Box-sc-g0xbh4-0 lzKZY"><div class="Box-sc-g0xbh4-0 fHind"><nav data-testid="breadcrumbs" aria-labelledby="sticky-breadcrumb-heading" id="sticky-breadcrumb" class="Box-sc-g0xbh4-0 fzFXnm"><h2 class="sr-only prc-Heading-Heading-6CmGO" data-testid="screen-reader-heading" id="sticky-breadcrumb-heading">Breadcrumbs</h2><ol class="Box-sc-g0xbh4-0 iMnkmv"><li class="Box-sc-g0xbh4-0 ghzDag"><a class="Box-sc-g0xbh4-0 kHuKdh prc-Link-Link-85e08" sx="[object Object]" data-testid="breadcrumbs-repo-link" href="/joseluisalmendral/Ejercicios_Dia1_Hackio/tree/master">Ejercicios_Dia1_Hackio</a></li></ol></nav><div data-testid="breadcrumbs-filename" class="Box-sc-g0xbh4-0 ghzDag"><span class="Text__StyledText-sc-17v1xeu-0 wcuBT" aria-hidden="true">/</span><h1 class="Box-sc-g0xbh4-0 dnZoUW prc-Heading-Heading-6CmGO" tabindex="-1" id="sticky-file-name-id">numero_falta.ipynb</h1></div></div><button style="--button-color:fg.default" type="button" class="types__StyledButton-sc-ws60qy-0 kLEyiE" data-loading="false" data-size="small" aria-describedby=":Riptal9lab:-loading-announcement"><span data-component="buttonContent" class="Box-sc-g0xbh4-0 gUkoLg"><span data-component="leadingVisual" class="Box-sc-g0xbh4-0 hzSPyu"><svg aria-hidden="true" focusable="false" class="octicon octicon-arrow-up" viewBox="0 0 16 16" width="16" height="16" fill="currentColor" style="display:inline-block;user-select:none;vertical-align:text-bottom;overflow:visible"><path d="M3.47 7.78a.75.75 0 0 1 0-1.06l4.25-4.25a.75.75 0 0 1 1.06 0l4.25 4.25a.751.751 0 0 1-.018 1.042.751.751 0 0 1-1.042.018L9 4.81v7.44a.75.75 0 0 1-1.5 0V4.81L4.53 7.78a.75.75 0 0 1-1.06 0Z"></path></svg></span><span data-component="text">Top</span></span></button></div></div></div><div class="Box-sc-g0xbh4-0 gpHFJV"><h2 class="sr-only prc-Heading-Heading-6CmGO" data-testid="screen-reader-heading">File metadata and controls</h2><div class="Box-sc-g0xbh4-0 iNMjfP"><ul aria-label="File view" class="SegmentedControl__SegmentedControlList-sc-1rzig82-0 eYPFoP"><li class="Box-sc-g0xbh4-0 fefCSX"><button aria-current="true" type="button" class="SegmentedControlButton__SegmentedControlButtonStyled-sc-8lkgxl-0 Skzpj"><span class="segmentedControl-content"><div class="Box-sc-g0xbh4-0 segmentedControl-text">Preview</div></span></button></li><li class="Box-sc-g0xbh4-0 sulSy"><button aria-current="false" type="button" class="SegmentedControlButton__SegmentedControlButtonStyled-sc-8lkgxl-0 bsUzxL"><span class="segmentedControl-content"><div class="Box-sc-g0xbh4-0 segmentedControl-text">Code</div></span></button></li><li class="Box-sc-g0xbh4-0 sulSy"><button aria-current="false" type="button" class="SegmentedControlButton__SegmentedControlButtonStyled-sc-8lkgxl-0 eIUwEt"><span class="segmentedControl-content"><div class="Box-sc-g0xbh4-0 segmentedControl-text">Blame</div></span></button></li></ul><button hidden="" data-testid="" data-hotkey-scope="read-only-cursor-text-area"></button><button hidden="" data-testid="" data-hotkey-scope="read-only-cursor-text-area"></button><button hidden="" data-testid="" data-hotkey-scope="read-only-cursor-text-area"></button><div class="Box-sc-g0xbh4-0 jNEwzY react-code-size-details-in-header"><div class="Box-sc-g0xbh4-0 ifyOQK text-mono"><div title="104 KB" data-testid="blob-size" class="Truncate__StyledTruncate-sc-23o1d2-0 eAtkQz"><span>74 lines (74 loc) · 104 KB</span></div></div></div><div class="react-code-size-details-in-header"><button style="--button-color:fg.default" type="button" aria-haspopup="true" aria-expanded="false" tabindex="0" data-testid="copilot-popover-button" class="types__StyledButton-sc-ws60qy-0 gMSYuG" data-loading="false" data-size="small" aria-describedby=":R3kptal9lab:-loading-announcement" id=":R3kptal9lab:"><span data-component="buttonContent" class="Box-sc-g0xbh4-0 gUkoLg"><span data-component="leadingVisual" class="Box-sc-g0xbh4-0 hzSPyu"><svg aria-hidden="true" focusable="false" class="octicon octicon-copilot" viewBox="0 0 16 16" width="16" height="16" fill="currentColor" style="display:inline-block;user-select:none;vertical-align:text-bottom;overflow:visible"><path d="M7.998 15.035c-4.562 0-7.873-2.914-7.998-3.749V9.338c.085-.628.677-1.686 1.588-2.065.013-.07.024-.143.036-.218.029-.183.06-.384.126-.612-.201-.508-.254-1.084-.254-1.656 0-.87.128-1.769.693-2.484.579-.733 1.494-1.124 2.724-1.261 1.206-.134 2.262.034 2.944.765.05.053.096.108.139.165.044-.057.094-.112.143-.165.682-.731 1.738-.899 2.944-.765 1.23.137 2.145.528 2.724 1.261.566.715.693 1.614.693 2.484 0 .572-.053 1.148-.254 1.656.066.228.098.429.126.612.012.076.024.148.037.218.924.385 1.522 1.471 1.591 2.095v1.872c0 .766-3.351 3.795-8.002 3.795Zm0-1.485c2.28 0 4.584-1.11 5.002-1.433V7.862l-.023-.116c-.49.21-1.075.291-1.727.291-1.146 0-2.059-.327-2.71-.991A3.222 3.222 0 0 1 8 6.303a3.24 3.24 0 0 1-.544.743c-.65.664-1.563.991-2.71.991-.652 0-1.236-.081-1.727-.291l-.023.116v4.255c.419.323 2.722 1.433 5.002 1.433ZM6.762 2.83c-.193-.206-.637-.413-1.682-.297-1.019.113-1.479.404-1.713.7-.247.312-.369.789-.369 1.554 0 .793.129 1.171.308 1.371.162.181.519.379 1.442.379.853 0 1.339-.235 1.638-.54.315-.322.527-.827.617-1.553.117-.935-.037-1.395-.241-1.614Zm4.155-.297c-1.044-.116-1.488.091-1.681.297-.204.219-.359.679-.242 1.614.091.726.303 1.231.618 1.553.299.305.784.54 1.638.54.922 0 1.28-.198 1.442-.379.179-.2.308-.578.308-1.371 0-.765-.123-1.242-.37-1.554-.233-.296-.693-.587-1.713-.7Z"></path><path d="M6.25 9.037a.75.75 0 0 1 .75.75v1.501a.75.75 0 0 1-1.5 0V9.787a.75.75 0 0 1 .75-.75Zm4.25.75v1.501a.75.75 0 0 1-1.5 0V9.787a.75.75 0 0 1 1.5 0Z"></path></svg></span><span data-component="text">Code 55% faster with GitHub Copilot</span></span></button></div></div><div class="Box-sc-g0xbh4-0 kcLCKF"><div class="Box-sc-g0xbh4-0 kVWtTz react-blob-header-edit-and-raw-actions"><div class="ButtonGroup-sc-1gxhls1-0 kiEfKw"><a href="https://github.com/joseluisalmendral/Ejercicios_Dia1_Hackio/raw/refs/heads/master/numero_falta.ipynb" data-testid="raw-button" class="types__StyledButton-sc-ws60qy-0 fnqFQe" data-loading="false" data-no-visuals="true" data-size="small" aria-describedby=":R5csptal9lab:-loading-announcement"><span data-component="buttonContent" class="Box-sc-g0xbh4-0 gUkoLg"><span data-component="text">Raw</span></span></a><button data-component="IconButton" type="button" aria-label="Copy raw content" data-testid="copy-raw-button" class="types__StyledButton-sc-ws60qy-0 cDbgyb prc-Button-IconButton-szpyj" data-loading="false" data-no-visuals="true" data-size="small" aria-describedby=":Rpcsptal9lab:-loading-announcement"><svg aria-hidden="true" focusable="false" class="octicon octicon-copy" viewBox="0 0 16 16" width="16" height="16" fill="currentColor" style="display:inline-block;user-select:none;vertical-align:text-bottom;overflow:visible"><path d="M0 6.75C0 5.784.784 5 1.75 5h1.5a.75.75 0 0 1 0 1.5h-1.5a.25.25 0 0 0-.25.25v7.5c0 .138.112.25.25.25h7.5a.25.25 0 0 0 .25-.25v-1.5a.75.75 0 0 1 1.5 0v1.5A1.75 1.75 0 0 1 9.25 16h-7.5A1.75 1.75 0 0 1 0 14.25Z"></path><path d="M5 1.75C5 .784 5.784 0 6.75 0h7.5C15.216 0 16 .784 16 1.75v7.5A1.75 1.75 0 0 1 14.25 11h-7.5A1.75 1.75 0 0 1 5 9.25Zm1.75-.25a.25.25 0 0 0-.25.25v7.5c0 .138.112.25.25.25h7.5a.25.25 0 0 0 .25-.25v-7.5a.25.25 0 0 0-.25-.25Z"></path></svg></button><span role="tooltip" aria-label="Download raw file" id=":Rdcsptal9lab:" class="Tooltip__TooltipBase-sc-17tf59c-0 fiSvBN tooltipped-n"><button data-component="IconButton" type="button" aria-label="Download raw content" data-testid="download-raw-button" class="types__StyledButton-sc-ws60qy-0 jBaPmj prc-Button-IconButton-szpyj" data-loading="false" data-no-visuals="true" data-size="small" aria-describedby=":Rtcsptal9lab:-loading-announcement"><svg aria-hidden="true" focusable="false" class="octicon octicon-download" viewBox="0 0 16 16" width="16" height="16" fill="currentColor" style="display:inline-block;user-select:none;vertical-align:text-bottom;overflow:visible"><path d="M2.75 14A1.75 1.75 0 0 1 1 12.25v-2.5a.75.75 0 0 1 1.5 0v2.5c0 .138.112.25.25.25h10.5a.25.25 0 0 0 .25-.25v-2.5a.75.75 0 0 1 1.5 0v2.5A1.75 1.75 0 0 1 13.25 14Z"></path><path d="M7.25 7.689V2a.75.75 0 0 1 1.5 0v5.689l1.97-1.969a.749.749 0 1 1 1.06 1.06l-3.25 3.25a.749.749 0 0 1-1.06 0L4.22 6.78a.749.749 0 1 1 1.06-1.06l1.97 1.969Z"></path></svg></button></span></div><button hidden="" data-testid="raw-button-shortcut" data-hotkey-scope="read-only-cursor-text-area"></button><button hidden="" data-testid="copy-raw-button-shortcut" data-hotkey-scope="read-only-cursor-text-area"></button><button hidden="" data-testid="download-raw-button-shortcut" data-hotkey-scope="read-only-cursor-text-area"></button><a class="js-github-dev-shortcut d-none prc-Link-Link-85e08" href="https://github.dev/"></a><button hidden="" data-testid="" data-hotkey-scope="read-only-cursor-text-area"></button><a class="js-github-dev-new-tab-shortcut d-none prc-Link-Link-85e08" href="https://github.dev/" target="_blank"></a><button hidden="" data-testid="" data-hotkey-scope="read-only-cursor-text-area"></button><div class="ButtonGroup-sc-1gxhls1-0 kiEfKw"><span role="tooltip" aria-label="Fork this repository and edit the file" id=":R6ksptal9lab:" class="Tooltip__TooltipBase-sc-17tf59c-0 fiSvBN tooltipped-nw"><a sx="[object Object]" data-component="IconButton" type="button" aria-label="Edit file" data-testid="edit-button" class="types__StyledButton-sc-ws60qy-0 XlAvl prc-Button-IconButton-szpyj" data-loading="false" data-no-visuals="true" data-size="small" aria-describedby=":Rmksptal9lab:-loading-announcement" href="/joseluisalmendral/Ejercicios_Dia1_Hackio/edit/master/numero_falta.ipynb"><svg aria-hidden="true" focusable="false" class="octicon octicon-pencil" viewBox="0 0 16 16" width="16" height="16" fill="currentColor" style="display:inline-block;user-select:none;vertical-align:text-bottom;overflow:visible"><path d="M11.013 1.427a1.75 1.75 0 0 1 2.474 0l1.086 1.086a1.75 1.75 0 0 1 0 2.474l-8.61 8.61c-.21.21-.47.364-.756.445l-3.251.93a.75.75 0 0 1-.927-.928l.929-3.25c.081-.286.235-.547.445-.758l8.61-8.61Zm.176 4.823L9.75 4.81l-6.286 6.287a.253.253 0 0 0-.064.108l-.558 1.953 1.953-.558a.253.253 0 0 0 .108-.064Zm1.238-3.763a.25.25 0 0 0-.354 0L10.811 3.75l1.439 1.44 1.263-1.263a.25.25 0 0 0 0-.354Z"></path></svg></a></span><button data-component="IconButton" type="button" aria-label="More edit options" data-testid="more-edit-button" aria-haspopup="true" aria-expanded="false" tabindex="0" class="types__StyledButton-sc-ws60qy-0 cDbgyb prc-Button-IconButton-szpyj" data-loading="false" data-no-visuals="true" data-size="small" aria-describedby=":Raksptal9lab:-loading-announcement" id=":Raksptal9lab:"><svg aria-hidden="true" focusable="false" class="octicon octicon-triangle-down" viewBox="0 0 16 16" width="16" height="16" fill="currentColor" style="display:inline-block;user-select:none;vertical-align:text-bottom;overflow:visible"><path d="m4.427 7.427 3.396 3.396a.25.25 0 0 0 .354 0l3.396-3.396A.25.25 0 0 0 11.396 7H4.604a.25.25 0 0 0-.177.427Z"></path></svg></button></div><button hidden="" data-testid="" data-hotkey="e,Shift+E" data-hotkey-scope="read-only-cursor-text-area"></button></div><div class="react-blob-header-edit-and-raw-actions-combined"><button data-component="IconButton" type="button" aria-label="Edit and raw actions" title="More file actions" data-testid="more-file-actions-button" aria-haspopup="true" aria-expanded="false" tabindex="0" class="types__StyledButton-sc-ws60qy-0 evernE js-blob-dropdown-click prc-Button-IconButton-szpyj" data-loading="false" data-no-visuals="true" data-size="small" aria-describedby=":Rnsptal9lab:-loading-announcement" id=":Rnsptal9lab:"><svg aria-hidden="true" focusable="false" class="octicon octicon-kebab-horizontal" viewBox="0 0 16 16" width="16" height="16" fill="currentColor" style="display:inline-block;user-select:none;vertical-align:text-bottom;overflow:visible"><path d="M8 9a1.5 1.5 0 1 0 0-3 1.5 1.5 0 0 0 0 3ZM1.5 9a1.5 1.5 0 1 0 0-3 1.5 1.5 0 0 0 0 3Zm13 0a1.5 1.5 0 1 0 0-3 1.5 1.5 0 0 0 0 3Z"></path></svg></button></div></div></div></div><div></div></div><div class="Box-sc-g0xbh4-0 hycJXc"><section aria-labelledby="file-name-id-wide file-name-id-mobile" class="Box-sc-g0xbh4-0 iWAocR"><!--$!--><template></template><div class="Box-sc-g0xbh4-0 fgsa-DI"><span class="Box-sc-g0xbh4-0 fTrdWs"><svg height="32px" width="32px" viewBox="0 0 16 16" fill="none" aria-hidden="true" aria-label="Loading" class="Spinner__StyledSpinner-sc-1knt686-0 dAqEza"><circle cx="8" cy="8" r="7" stroke="currentColor" stroke-opacity="0.25" stroke-width="2" vector-effect="non-scaling-stroke"></circle><path d="M15 8a7.002 7.002 0 00-7-7" stroke="currentColor" stroke-width="2" stroke-linecap="round" vector-effect="non-scaling-stroke"></path></svg></span></div><!--/$--></section></div></div></div> <!-- --> <!-- --> </div></div></div><div class="Box-sc-g0xbh4-0"></div></div></div></div></div><div id="find-result-marks-container" class="Box-sc-g0xbh4-0 cCoXib"></div><button hidden="" data-testid="" data-hotkey-scope="read-only-cursor-text-area"></button><button hidden=""></button></div> <!-- --> <!-- --> <script type="application/json" id="__PRIMER_DATA_:R0:__">{"resolvedServerColorMode":"night"}</script></div>
</react-app>
</turbo-frame>



  </div>

</turbo-frame>

    </main>
  </div>

  </div>

          <footer class="footer pt-8 pb-6 f6 color-fg-muted p-responsive" role="contentinfo" >
  <h2 class='sr-only'>Footer</h2>

  


  <div class="d-flex flex-justify-center flex-items-center flex-column-reverse flex-lg-row flex-wrap flex-lg-nowrap">
    <div class="d-flex flex-items-center flex-shrink-0 mx-2">
      <a aria-label="Homepage" title="GitHub" class="footer-octicon mr-2" href="https://github.com">
        <svg aria-hidden="true" height="24" viewBox="0 0 24 24" version="1.1" width="24" data-view-component="true" class="octicon octicon-mark-github">
    <path d="M12.5.75C6.146.75 1 5.896 1 12.25c0 5.089 3.292 9.387 7.863 10.91.575.101.79-.244.79-.546 0-.273-.014-1.178-.014-2.142-2.889.532-3.636-.704-3.866-1.35-.13-.331-.69-1.352-1.18-1.625-.402-.216-.977-.748-.014-.762.906-.014 1.553.834 1.769 1.179 1.035 1.74 2.688 1.25 3.349.948.1-.747.402-1.25.733-1.538-2.559-.287-5.232-1.279-5.232-5.678 0-1.25.445-2.285 1.178-3.09-.115-.288-.517-1.467.115-3.048 0 0 .963-.302 3.163 1.179.92-.259 1.897-.388 2.875-.388.977 0 1.955.13 2.875.388 2.2-1.495 3.162-1.179 3.162-1.179.633 1.581.23 2.76.115 3.048.733.805 1.179 1.825 1.179 3.09 0 4.413-2.688 5.39-5.247 5.678.417.36.776 1.05.776 2.128 0 1.538-.014 2.774-.014 3.162 0 .302.216.662.79.547C20.709 21.637 24 17.324 24 12.25 24 5.896 18.854.75 12.5.75Z"></path>
</svg>
</a>
      <span>
        &copy; 2024 GitHub,&nbsp;Inc.
      </span>
    </div>

    <nav aria-label="Footer">
      <h3 class="sr-only" id="sr-footer-heading">Footer navigation</h3>

      <ul class="list-style-none d-flex flex-justify-center flex-wrap mb-2 mb-lg-0" aria-labelledby="sr-footer-heading">

          <li class="mx-2">
            <a data-analytics-event="{&quot;category&quot;:&quot;Footer&quot;,&quot;action&quot;:&quot;go to Terms&quot;,&quot;label&quot;:&quot;text:terms&quot;}" href="https://docs.github.com/site-policy/github-terms/github-terms-of-service" data-view-component="true" class="Link--secondary Link">Terms</a>
          </li>

          <li class="mx-2">
            <a data-analytics-event="{&quot;category&quot;:&quot;Footer&quot;,&quot;action&quot;:&quot;go to privacy&quot;,&quot;label&quot;:&quot;text:privacy&quot;}" href="https://docs.github.com/site-policy/privacy-policies/github-privacy-statement" data-view-component="true" class="Link--secondary Link">Privacy</a>
          </li>

          <li class="mx-2">
            <a data-analytics-event="{&quot;category&quot;:&quot;Footer&quot;,&quot;action&quot;:&quot;go to security&quot;,&quot;label&quot;:&quot;text:security&quot;}" href="https://github.com/security" data-view-component="true" class="Link--secondary Link">Security</a>
          </li>

          <li class="mx-2">
            <a data-analytics-event="{&quot;category&quot;:&quot;Footer&quot;,&quot;action&quot;:&quot;go to status&quot;,&quot;label&quot;:&quot;text:status&quot;}" href="https://www.githubstatus.com/" data-view-component="true" class="Link--secondary Link">Status</a>
          </li>

          <li class="mx-2">
            <a data-analytics-event="{&quot;category&quot;:&quot;Footer&quot;,&quot;action&quot;:&quot;go to docs&quot;,&quot;label&quot;:&quot;text:docs&quot;}" href="https://docs.github.com/" data-view-component="true" class="Link--secondary Link">Docs</a>
          </li>

          <li class="mx-2">
            <a data-analytics-event="{&quot;category&quot;:&quot;Footer&quot;,&quot;action&quot;:&quot;go to contact&quot;,&quot;label&quot;:&quot;text:contact&quot;}" href="https://support.github.com?tags=dotcom-footer" data-view-component="true" class="Link--secondary Link">Contact</a>
          </li>

          <li class="mr-3" >
  <cookie-consent-link>
    <button
      type="button"
      class="Link--secondary underline-on-hover border-0 p-0 color-bg-transparent"
      data-action="click:cookie-consent-link#showConsentManagement"
      data-analytics-event="{&quot;location&quot;:&quot;footer&quot;,&quot;action&quot;:&quot;cookies&quot;,&quot;context&quot;:&quot;subfooter&quot;,&quot;tag&quot;:&quot;link&quot;,&quot;label&quot;:&quot;cookies_link_subfooter_footer&quot;}"
    >
      Manage cookies
    </button>
  </cookie-consent-link>
</li>

<li class="mr-3">
  <cookie-consent-link>
    <button
      type="button"
      class="Link--secondary underline-on-hover border-0 p-0 color-bg-transparent"
      data-action="click:cookie-consent-link#showConsentManagement"
      data-analytics-event="{&quot;location&quot;:&quot;footer&quot;,&quot;action&quot;:&quot;dont_share_info&quot;,&quot;context&quot;:&quot;subfooter&quot;,&quot;tag&quot;:&quot;link&quot;,&quot;label&quot;:&quot;dont_share_info_link_subfooter_footer&quot;}"
    >
      Do not share my personal information
    </button>
  </cookie-consent-link>
</li>

      </ul>
    </nav>
  </div>
</footer>




    <ghcc-consent id="ghcc" class="position-fixed bottom-0 left-0" style="z-index: 999999" data-initial-cookie-consent-allowed="" data-cookie-consent-required="true"></ghcc-consent>


  <div id="ajax-error-message" class="ajax-error-message flash flash-error" hidden>
    <svg aria-hidden="true" height="16" viewBox="0 0 16 16" version="1.1" width="16" data-view-component="true" class="octicon octicon-alert">
    <path d="M6.457 1.047c.659-1.234 2.427-1.234 3.086 0l6.082 11.378A1.75 1.75 0 0 1 14.082 15H1.918a1.75 1.75 0 0 1-1.543-2.575Zm1.763.707a.25.25 0 0 0-.44 0L1.698 13.132a.25.25 0 0 0 .22.368h12.164a.25.25 0 0 0 .22-.368Zm.53 3.996v2.5a.75.75 0 0 1-1.5 0v-2.5a.75.75 0 0 1 1.5 0ZM9 11a1 1 0 1 1-2 0 1 1 0 0 1 2 0Z"></path>
</svg>
    <button type="button" class="flash-close js-ajax-error-dismiss" aria-label="Dismiss error">
      <svg aria-hidden="true" height="16" viewBox="0 0 16 16" version="1.1" width="16" data-view-component="true" class="octicon octicon-x">
    <path d="M3.72 3.72a.75.75 0 0 1 1.06 0L8 6.94l3.22-3.22a.749.749 0 0 1 1.275.326.749.749 0 0 1-.215.734L9.06 8l3.22 3.22a.749.749 0 0 1-.326 1.275.749.749 0 0 1-.734-.215L8 9.06l-3.22 3.22a.751.751 0 0 1-1.042-.018.751.751 0 0 1-.018-1.042L6.94 8 3.72 4.78a.75.75 0 0 1 0-1.06Z"></path>
</svg>
    </button>
    You can’t perform that action at this time.
  </div>

    <template id="site-details-dialog">
  <details class="details-reset details-overlay details-overlay-dark lh-default color-fg-default hx_rsm" open>
    <summary role="button" aria-label="Close dialog"></summary>
    <details-dialog class="Box Box--overlay d-flex flex-column anim-fade-in fast hx_rsm-dialog hx_rsm-modal">
      <button class="Box-btn-octicon m-0 btn-octicon position-absolute right-0 top-0" type="button" aria-label="Close dialog" data-close-dialog>
        <svg aria-hidden="true" height="16" viewBox="0 0 16 16" version="1.1" width="16" data-view-component="true" class="octicon octicon-x">
    <path d="M3.72 3.72a.75.75 0 0 1 1.06 0L8 6.94l3.22-3.22a.749.749 0 0 1 1.275.326.749.749 0 0 1-.215.734L9.06 8l3.22 3.22a.749.749 0 0 1-.326 1.275.749.749 0 0 1-.734-.215L8 9.06l-3.22 3.22a.751.751 0 0 1-1.042-.018.751.751 0 0 1-.018-1.042L6.94 8 3.72 4.78a.75.75 0 0 1 0-1.06Z"></path>
</svg>
      </button>
      <div class="octocat-spinner my-6 js-details-dialog-spinner"></div>
    </details-dialog>
  </details>
</template>

    <div class="Popover js-hovercard-content position-absolute" style="display: none; outline: none;">
  <div class="Popover-message Popover-message--bottom-left Popover-message--large Box color-shadow-large" style="width:360px;">
  </div>
</div>

    <template id="snippet-clipboard-copy-button">
  <div class="zeroclipboard-container position-absolute right-0 top-0">
    <clipboard-copy aria-label="Copy" class="ClipboardButton btn js-clipboard-copy m-2 p-0" data-copy-feedback="Copied!" data-tooltip-direction="w">
      <svg aria-hidden="true" height="16" viewBox="0 0 16 16" version="1.1" width="16" data-view-component="true" class="octicon octicon-copy js-clipboard-copy-icon m-2">
    <path d="M0 6.75C0 5.784.784 5 1.75 5h1.5a.75.75 0 0 1 0 1.5h-1.5a.25.25 0 0 0-.25.25v7.5c0 .138.112.25.25.25h7.5a.25.25 0 0 0 .25-.25v-1.5a.75.75 0 0 1 1.5 0v1.5A1.75 1.75 0 0 1 9.25 16h-7.5A1.75 1.75 0 0 1 0 14.25Z"></path><path d="M5 1.75C5 .784 5.784 0 6.75 0h7.5C15.216 0 16 .784 16 1.75v7.5A1.75 1.75 0 0 1 14.25 11h-7.5A1.75 1.75 0 0 1 5 9.25Zm1.75-.25a.25.25 0 0 0-.25.25v7.5c0 .138.112.25.25.25h7.5a.25.25 0 0 0 .25-.25v-7.5a.25.25 0 0 0-.25-.25Z"></path>
</svg>
      <svg aria-hidden="true" height="16" viewBox="0 0 16 16" version="1.1" width="16" data-view-component="true" class="octicon octicon-check js-clipboard-check-icon color-fg-success d-none m-2">
    <path d="M13.78 4.22a.75.75 0 0 1 0 1.06l-7.25 7.25a.75.75 0 0 1-1.06 0L2.22 9.28a.751.751 0 0 1 .018-1.042.751.751 0 0 1 1.042-.018L6 10.94l6.72-6.72a.75.75 0 0 1 1.06 0Z"></path>
</svg>
    </clipboard-copy>
  </div>
</template>
<template id="snippet-clipboard-copy-button-unpositioned">
  <div class="zeroclipboard-container">
    <clipboard-copy aria-label="Copy" class="ClipboardButton btn btn-invisible js-clipboard-copy m-2 p-0 d-flex flex-justify-center flex-items-center" data-copy-feedback="Copied!" data-tooltip-direction="w">
      <svg aria-hidden="true" height="16" viewBox="0 0 16 16" version="1.1" width="16" data-view-component="true" class="octicon octicon-copy js-clipboard-copy-icon">
    <path d="M0 6.75C0 5.784.784 5 1.75 5h1.5a.75.75 0 0 1 0 1.5h-1.5a.25.25 0 0 0-.25.25v7.5c0 .138.112.25.25.25h7.5a.25.25 0 0 0 .25-.25v-1.5a.75.75 0 0 1 1.5 0v1.5A1.75 1.75 0 0 1 9.25 16h-7.5A1.75 1.75 0 0 1 0 14.25Z"></path><path d="M5 1.75C5 .784 5.784 0 6.75 0h7.5C15.216 0 16 .784 16 1.75v7.5A1.75 1.75 0 0 1 14.25 11h-7.5A1.75 1.75 0 0 1 5 9.25Zm1.75-.25a.25.25 0 0 0-.25.25v7.5c0 .138.112.25.25.25h7.5a.25.25 0 0 0 .25-.25v-7.5a.25.25 0 0 0-.25-.25Z"></path>
</svg>
      <svg aria-hidden="true" height="16" viewBox="0 0 16 16" version="1.1" width="16" data-view-component="true" class="octicon octicon-check js-clipboard-check-icon color-fg-success d-none">
    <path d="M13.78 4.22a.75.75 0 0 1 0 1.06l-7.25 7.25a.75.75 0 0 1-1.06 0L2.22 9.28a.751.751 0 0 1 .018-1.042.751.751 0 0 1 1.042-.018L6 10.94l6.72-6.72a.75.75 0 0 1 1.06 0Z"></path>
</svg>
    </clipboard-copy>
  </div>
</template>


    <style>
      .user-mention[href$="/davfranco1"] {
        color: var(--color-user-mention-fg);
        background-color: var(--bgColor-attention-muted, var(--color-attention-subtle));
        border-radius: 2px;
        margin-left: -2px;
        margin-right: -2px;
        padding: 0 2px;
      }
    </style>


    </div>

    <div id="js-global-screen-reader-notice" class="sr-only mt-n1" aria-live="polite" aria-atomic="true" ></div>
    <div id="js-global-screen-reader-notice-assertive" class="sr-only mt-n1" aria-live="assertive" aria-atomic="true"></div>
  </body>
</html>

